{
 "cells": [
  {
   "cell_type": "code",
   "execution_count": null,
   "id": "6ae13d17",
   "metadata": {},
   "outputs": [],
   "source": [
    "import scanpy as sc\n",
    "import matplotlib.pyplot as plt\n",
    "import pandas as pd\n",
    "import seaborn as sns\n",
    "import numpy as np\n",
    "import os, scipy\n",
    "import warnings\n",
    "warnings.filterwarnings(\"ignore\")\n",
    "import matplotlib.pyplot as pyplot\n",
    "from pynndescent import PyNNDescentTransformer\n",
    "from sklearn.pipeline import make_pipeline\n",
    "from sklearn.neighbors import KNeighborsClassifier\n",
    "pd.set_option('display.max_columns', 500)\n",
    "# R interface\n",
    "from rpy2.robjects import pandas2ri\n",
    "from rpy2.robjects import r\n",
    "import rpy2.rinterface_lib.callbacks\n",
    "import anndata2ri\n",
    "import rpy2.robjects.numpy2ri\n",
    "#import numpy2ri\n",
    "import anndata\n",
    "pandas2ri.activate()\n",
    "anndata2ri.activate()\n",
    "rpy2.robjects.numpy2ri.activate()\n",
    "import scanpy.external as sce\n",
    "\n",
    "%load_ext rpy2.ipython"
   ]
  },
  {
   "cell_type": "markdown",
   "id": "f10ad62a",
   "metadata": {},
   "source": [
    "# Herb et al., 2023 all fetal cells processing"
   ]
  },
  {
   "cell_type": "code",
   "execution_count": null,
   "id": "fe1380ae",
   "metadata": {},
   "outputs": [],
   "source": [
    "%%R -o adata_fetal -o umap_emb_fetal -o adata_neurons -o umap_emb_neurons\n",
    "library(Seurat)\n",
    "\n",
    "sobj_fetal <- readRDS('/home/bns631/datadir/Herb_neurons/KaZhouAll.rds')\n",
    "DefaultAssay(sobj_fetal) <- \"RNA\"\n",
    "adata_fetal = as.SingleCellExperiment(sobj_fetal)\n",
    "umap_emb_fetal = Embeddings(object = sobj_fetal, reduction = \"umap\")\n",
    "\n",
    "sobj_neurons <- readRDS('/home/bns631/datadir/Herb_neurons/Data/EdKaZhouHypoNeurons.rds')\n",
    "DefaultAssay(sobj_neurons) <- \"RNA\"\n",
    "adata_neurons = as.SingleCellExperiment(sobj_neurons) \n",
    "umap_emb_neurons = Embeddings(object = sobj_neurons, reduction = \"umap\")"
   ]
  },
  {
   "cell_type": "code",
   "execution_count": null,
   "id": "970bc63a",
   "metadata": {},
   "outputs": [],
   "source": [
    "adata_fetal.obsm['umap'] = umap_emb_fetal\n",
    "adata_fetal.obs = adata_fetal.obs[['Timepoint','sample','Timepoint_Study','ident','Study']]\n",
    "adata_fetal.obs = adata_fetal.obs.rename(columns={'sample':'batch_key'})\n",
    "adata_fetal.obs['Stage'] = 'Fetal'\n",
    "\n",
    "adata_fetal.obs['Cell_types'] = adata_fetal.obs['ident']\n",
    "adata_fetal.obs['Cell_types'] = adata_fetal.obs['Cell_types'].cat.add_categories(adata_neurons.obs.loc[list(set(adata_fetal.obs_names) & set(adata_neurons.obs_names)), 'AdultFetal_ExtrapolatedNuclei'].unique())\n",
    "\n",
    "adata_fetal.obs.loc[list(set(adata_fetal.obs_names) & set(adata_neurons.obs_names)), 'Cell_types'] = adata_neurons[list(set(adata_fetal.obs_names) & set(adata_neurons.obs_names))].obs.AdultFetal_ExtrapolatedNuclei\n",
    "\n",
    "\n",
    "adata_fetal.obs['Cell_types'] = adata_fetal.obs['Cell_types'].replace({'Unassigned':'Unclassified neurons'})\n",
    "\n",
    "#del adata_fetal.layers"
   ]
  },
  {
   "cell_type": "code",
   "execution_count": null,
   "id": "023c895b",
   "metadata": {},
   "outputs": [],
   "source": [
    "adata_fetal.obs"
   ]
  },
  {
   "cell_type": "code",
   "execution_count": null,
   "id": "3a5dfba8",
   "metadata": {},
   "outputs": [],
   "source": [
    "with plt.rc_context({ \"figure.dpi\": 300}): \n",
    "    sc.pl.umap(adata_fetal, color=['ident'], legend_fontsize=5)"
   ]
  },
  {
   "cell_type": "code",
   "execution_count": null,
   "id": "13ec8b7d",
   "metadata": {},
   "outputs": [],
   "source": [
    "with plt.rc_context({ \"figure.dpi\": 300}): \n",
    "    sc.pl.umap(adata_fetal, color=['Cell_types'], legend_fontsize=5)"
   ]
  },
  {
   "cell_type": "code",
   "execution_count": null,
   "id": "99ba3269",
   "metadata": {
    "collapsed": true,
    "jupyter": {
     "outputs_hidden": true
    },
    "tags": []
   },
   "outputs": [],
   "source": [
    "from scipy.stats import median_abs_deviation\n",
    "\n",
    "def is_outlier(adata, metric: str, nmads: int):\n",
    "        M = adata.obs[metric]\n",
    "        outlier = (M < np.median(M) - nmads * median_abs_deviation(M)) | (\n",
    "            np.median(M) + nmads * median_abs_deviation(M) < M)\n",
    "        return outlier\n",
    "\n",
    "adata_dict_unfiltered ,adata_dict_filtered = {}, {}\n",
    "\n",
    "for batch in adata_fetal.obs.batch_key.unique():\n",
    "    \n",
    "    print(batch)\n",
    "    \n",
    "    adata_temp = adata_fetal[adata_fetal.obs.batch_key.isin([batch])].copy()\n",
    "    \n",
    "    # mitochondrial genes\n",
    "    adata_temp.var[\"mt\"] = adata_temp.var_names.str.startswith(\"MT-\")\n",
    "    # ribosomal genes\n",
    "    adata_temp.var[\"ribo\"] = adata_temp.var_names.str.startswith((\"RPS\", \"RPL\"))\n",
    "    \n",
    "    sc.pp.calculate_qc_metrics(adata_temp, qc_vars=[\"mt\", \"ribo\"], inplace=True, percent_top=[20], log1p=True)\n",
    "    \n",
    "    adata_temp.obs[\"outlier\"] = (is_outlier(adata_temp, \"log1p_total_counts\", 3) | is_outlier(adata_temp, \"log1p_n_genes_by_counts\", 3))\n",
    "       \n",
    "    adata_temp.obs[\"mt_outlier\"] = is_outlier(adata_temp, \"pct_counts_mt\", 3.5) | (adata_temp.obs[\"pct_counts_mt\"] > 8)\n",
    "    \n",
    "    adata_temp.obs['pass_qc'] = (~adata_temp.obs.outlier) & (~adata_temp.obs.mt_outlier)\n",
    "    adata_dict_unfiltered[batch] = adata_temp.copy()\n",
    "    \n",
    "    print(f\"Total number of cells: {adata_temp.n_obs}\")\n",
    "    adata_temp = adata_temp[(~adata_temp.obs.outlier) & (~adata_temp.obs.mt_outlier)].copy()\n",
    "    print(f\"Number of cells after filtering of low quality cells: {adata_temp.n_obs}\")\n",
    "    print('______________________________________________________________________')\n",
    "                                 \n",
    "    # Remove rare genes\n",
    "    sc.pp.filter_genes(adata_temp, min_cells=3)    \n",
    "\n",
    "    # Remove mito and ribo genes\n",
    "    ribo = adata_temp.var_names.str.startswith(('RPL', \"RPS\"))\n",
    "    mito = adata_temp.var_names.str.startswith('MT-')\n",
    "    remove = np.add(mito, ribo)\n",
    "    #keep = np.invert(ribo)\n",
    "    \n",
    "    keep = np.invert(remove)\n",
    "    adata_temp = adata_temp[:,np.array(keep)]\n",
    "    \n",
    "    \n",
    "    adata_dict_filtered[batch] = adata_temp.copy()"
   ]
  },
  {
   "cell_type": "code",
   "execution_count": null,
   "id": "dca3ea98",
   "metadata": {},
   "outputs": [],
   "source": [
    "adata_dict_unfiltered.keys()"
   ]
  },
  {
   "cell_type": "code",
   "execution_count": null,
   "id": "16637ecb",
   "metadata": {},
   "outputs": [],
   "source": [
    "# Check the results before and after filtering\n",
    "batch = 'GW15_P'\n",
    "with plt.rc_context({ \"figure.dpi\": 300}):\n",
    "    # Compute qc metrix\n",
    "    adata_dict_unfiltered[batch].var['mt'] = adata_dict_unfiltered[batch].var_names.str.startswith('MT-')  # annotate the group of mitochondrial genes as 'mt'\n",
    "    sc.pp.calculate_qc_metrics(adata_dict_unfiltered[batch], qc_vars=['mt'], percent_top=None, log1p=False, inplace=True)\n",
    "    fig, (ax0, ax1, ax2, ax3, ax4, ax5) = plt.subplots(1, 6,  figsize=(20,4), gridspec_kw={'wspace':0.5})\n",
    "    ax0_dict = sc.pl.violin(adata_dict_unfiltered[batch],[\"pct_counts_mt\"], jitter=0.5, show=False, ax=ax0, stripplot=False)\n",
    "    ax1_dict = sc.pl.violin(adata_dict_unfiltered[batch],['n_genes_by_counts'], jitter=0.5, show=False, ax = ax1, stripplot=False) \n",
    "    ax2_dict = sc.pl.violin(adata_dict_unfiltered[batch],['total_counts'], jitter=0.5, show=False, ax = ax2, stripplot=False)\n",
    "    ax3_dict = sns.histplot(adata_dict_unfiltered[batch].obs[\"n_genes_by_counts\"],  ax = ax3)\n",
    "    ax4_dict = sns.histplot(adata_dict_unfiltered[batch].obs[\"total_counts\"], ax = ax4)\n",
    "    ax5_dict = sc.pl.scatter(adata_dict_unfiltered[batch], x='total_counts', y='n_genes_by_counts', show=False, ax=ax5)    \n",
    "    plt.show()\n",
    "    plt.clf()\n",
    "\n",
    "    # Compute qc metrix\n",
    "    adata_dict_filtered[batch].var['mt'] = adata_dict_filtered[batch].var_names.str.startswith('MT-')  # annotate the group of mitochondrial genes as 'mt'\n",
    "    sc.pp.calculate_qc_metrics(adata_dict_filtered[batch], qc_vars=['mt'], percent_top=None, log1p=False, inplace=True)\n",
    "    fig, (ax0, ax1, ax2, ax3, ax4, ax5) = plt.subplots(1, 6,  figsize=(20,4), gridspec_kw={'wspace':0.5})\n",
    "    ax0_dict = sc.pl.violin(adata_dict_filtered[batch],[\"pct_counts_mt\"], jitter=0.5, show=False, ax=ax0, stripplot=False)\n",
    "    ax1_dict = sc.pl.violin(adata_dict_filtered[batch],['n_genes_by_counts'], jitter=0.5, show=False, ax = ax1, stripplot=False) \n",
    "    ax2_dict = sc.pl.violin(adata_dict_filtered[batch],['total_counts'], jitter=0.5, show=False, ax = ax2, stripplot=False)\n",
    "    ax3_dict = sns.histplot(adata_dict_filtered[batch].obs[\"n_genes_by_counts\"],  ax = ax3)\n",
    "    ax4_dict = sns.histplot(adata_dict_filtered[batch].obs[\"total_counts\"], ax = ax4)\n",
    "    ax5_dict = sc.pl.scatter(adata_dict_filtered[batch], x='total_counts', y='n_genes_by_counts', show=False, ax=ax5)\n",
    "    plt.show()\n",
    "    plt.clf()\n",
    "\n",
    "adata_dict_unfiltered[batch].obs.pass_qc = adata_dict_unfiltered[batch].obs.pass_qc.astype(str)\n",
    "\n",
    "with plt.rc_context({ \"figure.dpi\": 250}): \n",
    "    sc.pl.umap(adata_dict_unfiltered[batch], color='pass_qc')"
   ]
  },
  {
   "cell_type": "code",
   "execution_count": null,
   "id": "40ce2131",
   "metadata": {},
   "outputs": [],
   "source": [
    "# filter adata.var and adata.obs, and concatenate the objects and save to later use\n",
    "result_dict = {}\n",
    "\n",
    "for batch, adata_temp in adata_dict_filtered.items():\n",
    "    adata_temp.obs = adata_temp.obs[['Timepoint', 'batch_key', 'Timepoint_Study', 'Cell_types', 'Study', 'Stage','ident']]\n",
    "    del adata_temp.var\n",
    "    result_dict[batch] = adata_temp.copy()\n",
    "    \n",
    "adata_fetal = list(result_dict.values())[0].concatenate(list(result_dict.values())[1:], batch_key=None, join='outer')\n",
    "\n"
   ]
  },
  {
   "cell_type": "markdown",
   "id": "93bec7db",
   "metadata": {},
   "source": [
    "# Hypomap processing"
   ]
  },
  {
   "cell_type": "code",
   "execution_count": null,
   "id": "441920cc",
   "metadata": {},
   "outputs": [],
   "source": [
    "adata_adult = sc.read('/datasets/renew_kirkeby/erno/human_HYPOMAP.h5ad')\n",
    "adata_adult.X = adata_adult.raw.to_adata().X.copy()"
   ]
  },
  {
   "cell_type": "code",
   "execution_count": null,
   "id": "d399c845",
   "metadata": {},
   "outputs": [],
   "source": [
    "adata_adult.obs = adata_adult.obs[['Dataset','sex','age_years','celltype_annotation','C0_named','C1_named','C2_named','C3_named','C4_named','region', 'Sample_ID']]\n",
    "adata_adult.obs = adata_adult.obs.rename(columns={'Dataset':'Study','Sample_ID':'batch_key'})\n",
    "adata_adult.obs['Stage'] = 'Adult'\n",
    "adata_adult.obsm['umap'] = adata_adult.obsm['X_umap']\n",
    "del adata_adult.var\n",
    "del adata_adult.obsm['X_umap']\n",
    "del adata_adult.obsm['X_scvi']\n",
    "adata_adult.obs['Timepoint'] = 'years' + adata_adult.obs['age_years'].astype(str)\n",
    "\n",
    "\n"
   ]
  },
  {
   "cell_type": "code",
   "execution_count": null,
   "id": "11884f1e",
   "metadata": {},
   "outputs": [],
   "source": [
    "adata_adult.obs['Cell_types'] = adata_adult.obs['C1_named'].map({'C1-4 Oligo-Mature':'Oligo-Mature','C1-1 Astrocytes':'Astrocytes','C1-5 Pre-1':'Neurons','C1-10 Mid-2':'Neurons','C1-6 Mid-1':'Neurons',\n",
    "'C1-11 Post-2':'Neurons','C1-8 Post-1':'Neurons','C1-9 Mid-3':'Neurons','C1-7 Pre-2':'Neurons','C1-3 Oligo-Precursor':'Oligo-Precursor','C1-13 Immune':'Immune','C1-12 Vascular':'Vascular','C1-2 Ependymal':'Ependymal'})\n",
    "\n",
    "adata_adult.obs['Cell_types'] = adata_adult.obs.apply(lambda row: row['region'] if row['Cell_types'] == 'Neurons' else row['Cell_types'], axis=1)\n",
    "adata_adult.obs['Cell_types'] = adata_adult.obs['Cell_types'].replace({'NA':'Unclassified neurons', 'Thalamaus':'Thalamus'})\n",
    "\n",
    "\n",
    "with plt.rc_context({ \"figure.dpi\": 300}): \n",
    "    sc.pl.umap(adata_adult, color=['C1_named','Cell_types'], legend_loc='on data', legend_fontsize=5)"
   ]
  },
  {
   "cell_type": "code",
   "execution_count": null,
   "id": "9934a4cf",
   "metadata": {
    "collapsed": true,
    "jupyter": {
     "outputs_hidden": true
    },
    "tags": []
   },
   "outputs": [],
   "source": [
    "from scipy.stats import median_abs_deviation\n",
    "\n",
    "def is_outlier(adata, metric: str, nmads: int):\n",
    "        M = adata.obs[metric]\n",
    "        outlier = (M < np.median(M) - nmads * median_abs_deviation(M)) | (\n",
    "            np.median(M) + nmads * median_abs_deviation(M) < M)\n",
    "        return outlier\n",
    "\n",
    "adata_dict_unfiltered ,adata_dict_filtered = {}, {}\n",
    "\n",
    "for batch in adata_adult.obs.batch_key.unique():\n",
    "    \n",
    "    print(batch)\n",
    "    \n",
    "    adata_temp = adata_adult[adata_adult.obs.batch_key.isin([batch])].copy()\n",
    "    \n",
    "    \n",
    "    # mitochondrial genes\n",
    "    adata_temp.var[\"mt\"] = adata_temp.var_names.str.startswith(\"MT-\")\n",
    "    # ribosomal genes\n",
    "    adata_temp.var[\"ribo\"] = adata_temp.var_names.str.startswith((\"RPS\", \"RPL\"))\n",
    "    \n",
    "    sc.pp.calculate_qc_metrics(adata_temp, qc_vars=[\"mt\", \"ribo\"], inplace=True, percent_top=[20], log1p=True)\n",
    "    \n",
    "    adata_temp.obs[\"outlier\"] = (is_outlier(adata_temp, \"log1p_total_counts\", 3) | is_outlier(adata_temp, \"log1p_n_genes_by_counts\", 3))\n",
    "       \n",
    "    adata_temp.obs[\"mt_outlier\"] = is_outlier(adata_temp, \"pct_counts_mt\", 3.5) | (adata_temp.obs[\"pct_counts_mt\"] > 8)\n",
    "    \n",
    "    adata_temp.obs['pass_qc'] = (~adata_temp.obs.outlier) & (~adata_temp.obs.mt_outlier)\n",
    "    adata_dict_unfiltered[batch] = adata_temp.copy()\n",
    "    \n",
    "    print(f\"Total number of cells: {adata_temp.n_obs}\")\n",
    "    adata_temp = adata_temp[(~adata_temp.obs.outlier) & (~adata_temp.obs.mt_outlier)].copy()\n",
    "    print(f\"Number of cells after filtering of low quality cells: {adata_temp.n_obs}\")\n",
    "    print('______________________________________________________________________')\n",
    "                                 \n",
    "    # Remove rare genes\n",
    "    sc.pp.filter_genes(adata_temp, min_cells=3)    \n",
    "\n",
    "    # Remove mito and ribo genes\n",
    "    ribo = adata_temp.var_names.str.startswith(('RPL', \"RPS\"))\n",
    "    mito = adata_temp.var_names.str.startswith('MT-')\n",
    "    remove = np.add(mito, ribo)\n",
    "    #keep = np.invert(ribo)\n",
    "    \n",
    "    keep = np.invert(remove)\n",
    "    adata_temp = adata_temp[:,np.array(keep)]\n",
    "    \n",
    "    adata_dict_filtered[batch] = adata_temp.copy()"
   ]
  },
  {
   "cell_type": "code",
   "execution_count": null,
   "id": "5e7f4dea",
   "metadata": {},
   "outputs": [],
   "source": [
    "# Check the results before and after filtering\n",
    "#batch = 'znZv1_S10'\n",
    "batch = 'znZv1_1AS3CB'\n",
    "\n",
    "with plt.rc_context({ \"figure.dpi\": 300}):\n",
    "    # Compute qc metrix\n",
    "    adata_dict_unfiltered[batch].var['mt'] = adata_dict_unfiltered[batch].var_names.str.startswith('MT-')  # annotate the group of mitochondrial genes as 'mt'\n",
    "    sc.pp.calculate_qc_metrics(adata_dict_unfiltered[batch], qc_vars=['mt'], percent_top=None, log1p=False, inplace=True)\n",
    "    fig, (ax0, ax1, ax2, ax3, ax4, ax5) = plt.subplots(1, 6,  figsize=(20,4), gridspec_kw={'wspace':0.5})\n",
    "    ax0_dict = sc.pl.violin(adata_dict_unfiltered[batch],[\"pct_counts_mt\"], jitter=0.5, show=False, ax=ax0, stripplot=False)\n",
    "    ax1_dict = sc.pl.violin(adata_dict_unfiltered[batch],['n_genes_by_counts'], jitter=0.5, show=False, ax = ax1, stripplot=False) \n",
    "    ax2_dict = sc.pl.violin(adata_dict_unfiltered[batch],['total_counts'], jitter=0.5, show=False, ax = ax2, stripplot=False)\n",
    "    ax3_dict = sns.histplot(adata_dict_unfiltered[batch].obs[\"n_genes_by_counts\"],  ax = ax3)\n",
    "    ax4_dict = sns.histplot(adata_dict_unfiltered[batch].obs[\"total_counts\"], ax = ax4)\n",
    "    ax5_dict = sc.pl.scatter(adata_dict_unfiltered[batch], x='total_counts', y='n_genes_by_counts', show=False, ax=ax5)    \n",
    "    plt.show()\n",
    "    plt.clf()\n",
    "\n",
    "    # Compute qc metrix\n",
    "    adata_dict_filtered[batch].var['mt'] = adata_dict_filtered[batch].var_names.str.startswith('MT-')  # annotate the group of mitochondrial genes as 'mt'\n",
    "    sc.pp.calculate_qc_metrics(adata_dict_filtered[batch], qc_vars=['mt'], percent_top=None, log1p=False, inplace=True)\n",
    "    fig, (ax0, ax1, ax2, ax3, ax4, ax5) = plt.subplots(1, 6,  figsize=(20,4), gridspec_kw={'wspace':0.5})\n",
    "    ax0_dict = sc.pl.violin(adata_dict_filtered[batch],[\"pct_counts_mt\"], jitter=0.5, show=False, ax=ax0, stripplot=False)\n",
    "    ax1_dict = sc.pl.violin(adata_dict_filtered[batch],['n_genes_by_counts'], jitter=0.5, show=False, ax = ax1, stripplot=False) \n",
    "    ax2_dict = sc.pl.violin(adata_dict_filtered[batch],['total_counts'], jitter=0.5, show=False, ax = ax2, stripplot=False)\n",
    "    ax3_dict = sns.histplot(adata_dict_filtered[batch].obs[\"n_genes_by_counts\"],  ax = ax3)\n",
    "    ax4_dict = sns.histplot(adata_dict_filtered[batch].obs[\"total_counts\"], ax = ax4)\n",
    "    ax5_dict = sc.pl.scatter(adata_dict_filtered[batch], x='total_counts', y='n_genes_by_counts', show=False, ax=ax5)\n",
    "    plt.show()\n",
    "    plt.clf()\n",
    "\n",
    "adata_dict_unfiltered[batch].obs.pass_qc = adata_dict_unfiltered[batch].obs.pass_qc.astype(str)\n",
    "\n",
    "with plt.rc_context({ \"figure.dpi\": 250}): \n",
    "    sc.pl.umap(adata_dict_unfiltered[batch], color='pass_qc')"
   ]
  },
  {
   "cell_type": "code",
   "execution_count": null,
   "id": "d8493b87",
   "metadata": {},
   "outputs": [],
   "source": [
    "# filter adata.var and adata.obs, and concatenate the objects and save to later use\n",
    "result_dict = {}\n",
    "\n",
    "for batch, adata_temp in adata_dict_filtered.items():\n",
    "    adata_temp.obs = adata_temp.obs[['Study', 'sex', 'age_years', 'celltype_annotation', 'C0_named', 'C1_named', 'C2_named', 'C3_named', 'C4_named', 'region', 'batch_key','Stage', 'Timepoint', 'Cell_types']]\n",
    "    del adata_temp.var\n",
    "    result_dict[batch] = adata_temp.copy()\n",
    "    \n",
    "adata_adult = list(result_dict.values())[0].concatenate(list(result_dict.values())[1:], batch_key=None, join='outer')\n"
   ]
  },
  {
   "cell_type": "markdown",
   "id": "f237276d",
   "metadata": {},
   "source": [
    "# Merge datasets"
   ]
  },
  {
   "cell_type": "code",
   "execution_count": null,
   "id": "9392b9db",
   "metadata": {},
   "outputs": [],
   "source": [
    "adata_merged = adata_fetal.concatenate(adata_adult, batch_key=None, join='inner')\n",
    "adata_merged.write('Data/fetal_adult_hypo_ref.h5ad')"
   ]
  },
  {
   "cell_type": "code",
   "execution_count": null,
   "id": "e59852ee",
   "metadata": {},
   "outputs": [],
   "source": [
    "adata_merged"
   ]
  },
  {
   "cell_type": "markdown",
   "id": "2c7f3a4d-2a1b-4c1d-8afd-76e4945be3e9",
   "metadata": {},
   "source": [
    "# Label transfer"
   ]
  },
  {
   "cell_type": "code",
   "execution_count": null,
   "id": "1042326b-ebe0-4fbd-b03d-19614e3482fa",
   "metadata": {},
   "outputs": [],
   "source": [
    "adata_merged = sc.read('Data/fetal_adult_hypo_ref.h5ad')\n",
    "\n",
    "adata_herb = sc.read('/datasets/renew_kirkeby/erno/herb_neurons.h5ad')\n",
    "adata_herb.obs_names = [item.replace(\":\", \"_\") for item in adata_herb.obs_names]\n"
   ]
  },
  {
   "cell_type": "code",
   "execution_count": null,
   "id": "3aeb02a2-fd5f-49ab-9c42-4c6172416306",
   "metadata": {},
   "outputs": [],
   "source": [
    "adata_merged.obs_names = [item.rsplit('-', 2)[0] for item in adata_merged.obs_names]\n",
    "adata_merged = adata_merged[list(set(adata_herb.obs_names) & set(adata_merged.obs_names)),:].copy()\n",
    "adata_herb = adata_herb[adata_merged.obs_names].copy()"
   ]
  },
  {
   "cell_type": "code",
   "execution_count": null,
   "id": "73ccc9aa-10fe-43c8-986f-5f2435d96acd",
   "metadata": {},
   "outputs": [],
   "source": [
    "adata_herb.obs['adult_nuclei'] = adata_merged.obs['region']\n",
    "adata_herb.obs['adult_subtype'] = adata_merged.obs['C4_named']\n",
    "adata_herb.obs['adult_cell_type'] = adata_merged.obs['celltype_annotation']\n",
    "adata_herb.obs['fetal_cell_type'] = adata_merged.obs['ident']\n",
    "adata_herb.obs['Cell_types'] = adata_merged.obs['Cell_types']\n",
    "adata_herb.obs['Stage'] = adata_merged.obs['Stage']\n",
    "adata_herb.obs['batch_key'] = adata_merged.obs['batch_key']\n",
    "\n",
    "\n",
    "\n",
    "adata_herb.obs['adult_nuclei']=adata_herb.obs['adult_nuclei'].replace({'Thalamaus':'Thalamus','NA':'Unassigned'})\n",
    "\n",
    "adata_herb.obs['fetal_nuclei'] = None\n",
    "adata_herb.obs.loc[adata_merged.obs['Stage'] == 'Fetal', 'fetal_nuclei'] = adata_herb.obs['Cell_types']\n",
    "\n",
    "adata_herb = adata_herb[~adata_herb.obs.adult_nuclei.isin(['Fx/OT/ac','ME','Vascular'])].copy()\n",
    "\n",
    "adata_herb.layers['counts'] = adata_herb.X.copy()\n",
    "\n",
    "adata_herb.obs.loc[adata_herb.obs[\"batch_key\"] == \"GW18_P\", \"batch_key\"] = 'GW18_Lane1'\n",
    "adata_herb.obs['batch_key'] = adata_herb.obs['batch_key'].cat.remove_unused_categories()\n",
    "\n",
    "adata_herb"
   ]
  },
  {
   "cell_type": "code",
   "execution_count": null,
   "id": "044bddcc-5fd9-4184-aa17-93a76839959b",
   "metadata": {},
   "outputs": [],
   "source": [
    "\n",
    "result_list = []\n",
    "\n",
    "cell_metadata = adata_herb.obs.columns.tolist()\n",
    "\n",
    "for stage in adata_herb.obs.FetalAdult.unique():\n",
    "    adata_stage = adata_herb[adata_herb.obs.FetalAdult.isin([stage])].copy()\n",
    "    \n",
    "    adata_dict_filtered = {}\n",
    "\n",
    "    for batch in adata_stage.obs.batch_key.unique():\n",
    "\n",
    "        print(batch)\n",
    "\n",
    "        adata_temp = adata_stage[adata_stage.obs.batch_key.isin([batch])].copy()\n",
    "\n",
    "        # Remove rare genes\n",
    "        sc.pp.filter_genes(adata_temp, min_cells=3)    \n",
    "\n",
    "        # Remove mito and ribo genes\n",
    "        ribo = adata_temp.var_names.str.startswith(('RPL', \"RPS\"))\n",
    "        mito = adata_temp.var_names.str.startswith('MT-')\n",
    "        remove = np.add(mito, ribo)\n",
    "        #keep = np.invert(ribo)\n",
    "\n",
    "        keep = np.invert(remove)\n",
    "        adata_temp = adata_temp[:,np.array(keep)]\n",
    "\n",
    "        adata_dict_filtered[batch] = adata_temp.copy()\n",
    "\n",
    "    result_dict = {}\n",
    "\n",
    "    for batch, adata_temp in adata_dict_filtered.items():\n",
    "        adata_temp.obs = adata_temp.obs[cell_metadata]\n",
    "        del adata_temp.var\n",
    "        result_dict[batch] = adata_temp.copy()\n",
    "\n",
    "\n",
    "    result_list.append(list(result_dict.values())[0].concatenate(list(result_dict.values())[1:], batch_key=None, join='outer'))\n"
   ]
  },
  {
   "cell_type": "code",
   "execution_count": null,
   "id": "70931327-f088-4710-b0e1-2e93b4b9db9f",
   "metadata": {},
   "outputs": [],
   "source": [
    "adata_herb = result_list[0].concatenate(result_list[1], batch_key=None, join='inner')\n",
    "adata_herb"
   ]
  },
  {
   "cell_type": "code",
   "execution_count": null,
   "id": "8e97a7f0-3f81-4622-9855-6c7335ee7b2c",
   "metadata": {},
   "outputs": [],
   "source": [
    "with plt.rc_context({ \"figure.dpi\": 300}): \n",
    "    sc.pl.umap(adata_herb, color=['adult_nuclei','AdultFetal_ExtrapolatedNuclei','fetal_nuclei' ,'Stage'], palette='tab20', wspace=0.4, size=10,ncols=2,title=['hypomap_adult_nuclei', 'herb_adult_nuclei','herb_fetal_nuclei' ,'Stage'])"
   ]
  },
  {
   "cell_type": "code",
   "execution_count": null,
   "id": "58fcec88-ee6b-4851-91a6-91e570dd2e26",
   "metadata": {
    "tags": []
   },
   "outputs": [],
   "source": [
    "%%R -i adata_herb \n",
    "\n",
    "Csparse_validate = \"CsparseMatrix_validate\"\n",
    "library(Seurat)\n",
    "library(dplyr)\n",
    "\n",
    "sobj <- as.Seurat(adata_herb, counts = \"counts\", data = NULL)\n",
    "\n",
    "sobj_list <- SplitObject(sobj, split.by = 'batch_key')\n",
    "\n",
    "sobj_list <- lapply(X = sobj_list, FUN = function(x) {\n",
    "    x <- NormalizeData(x)\n",
    "    x <- FindVariableFeatures(x, selection.method = \"vst\", nfeatures = 2000)\n",
    "})\n",
    "\n",
    "features <- SelectIntegrationFeatures(object.list = sobj_list, nfeatures=2000)\n",
    "\n",
    "sobj_list <- lapply(X = sobj_list, FUN = function(x) {\n",
    "    x <- ScaleData(x, features = features, verbose = FALSE)\n",
    "    x <- RunPCA(x, features = features, verbose = FALSE)\n",
    "  })"
   ]
  },
  {
   "cell_type": "code",
   "execution_count": null,
   "id": "e9432d1d-4de9-4ac6-8374-b5572d9070ef",
   "metadata": {
    "tags": []
   },
   "outputs": [],
   "source": [
    "%%R -o adata_integrated -o umap_emb -o pca_emb -o hvg_list\n",
    "\n",
    "anchors <- FindIntegrationAnchors(object.list = sobj_list, anchor.features = features, reduction = \"rpca\")\n",
    "sobj <- IntegrateData(anchorset = anchors, k.weight = 60) \n",
    "\n",
    "DefaultAssay(sobj) <- \"integrated\"\n",
    "sobj <- ScaleData(sobj) %>% RunPCA(.)\n",
    "sobj <- RunUMAP(sobj, dims = 1:40)\n",
    "sobj <- FindNeighbors(sobj, dims = 1:40)\n",
    "\n",
    "pca_emb = Embeddings(object = sobj, reduction = \"pca\")\n",
    "hvg_list = rownames(sobj)\n",
    "\n",
    "DefaultAssay(sobj) <- \"originalexp\"\n",
    "\n",
    "umap_emb = Embeddings(object = sobj, reduction = \"umap\")\n",
    "adata_integrated = as.SingleCellExperiment(sobj) \n",
    "\n",
    "saveRDS(sobj,'Data/herb_integration_seurat_filtered.rds')"
   ]
  },
  {
   "cell_type": "code",
   "execution_count": null,
   "id": "69766523-4832-416f-91d7-e6f3da2910a8",
   "metadata": {},
   "outputs": [],
   "source": [
    "%%R -o adata_integrated -o umap_emb -o pca_emb -o hvg_list\n",
    "\n",
    "library(Seurat)\n",
    "sobj = readRDS('Data/herb_integration_seurat_filtered.rds')\n",
    "\n",
    "sobj=UpdateSeuratObject(sobj)\n",
    "\n",
    "DefaultAssay(sobj) <- \"integrated\"\n",
    "hvg_list = rownames(sobj)\n",
    "\n",
    "DefaultAssay(sobj) <- \"originalexp\"\n",
    "umap_emb = Embeddings(object = sobj, reduction = \"umap\")\n",
    "pca_emb = Embeddings(object = sobj, reduction = \"pca\")\n",
    "adata_integrated = as.SingleCellExperiment(sobj) "
   ]
  },
  {
   "cell_type": "code",
   "execution_count": null,
   "id": "96fb2b61-83e8-4799-81ff-a54ff45a1b31",
   "metadata": {},
   "outputs": [],
   "source": [
    "adata_integrated.obsm['X_pca'] = pca_emb\n",
    "adata_integrated.obsm['X_umap'] = umap_emb\n",
    "\n",
    "ref_idx = adata_integrated.obs[\"Stage\"] == \"Adult\"\n",
    "train_X = adata_integrated[ref_idx].obsm[\"X_pca\"]\n",
    "train_Y = adata_integrated[ref_idx].obs['adult_nuclei'].to_numpy()\n",
    "\n",
    "knn = KNeighborsClassifier(n_neighbors=40)\n",
    "knn.fit(train_X, train_Y)\n",
    "\n",
    "# Predict probabilities for fetal cells\n",
    "knn_probs = knn.predict_proba(adata_integrated[adata_integrated.obs[\"Stage\"] == \"Fetal\"].obsm[\"X_pca\"])\n",
    "\n",
    "# Get the predicted labels and maximum probabilities\n",
    "knn_pred = knn.classes_[np.argmax(knn_probs, axis=1)]\n",
    "max_probs = np.max(knn_probs, axis=1)\n",
    "\n",
    "# Assign \"unassigned\" for cells with max_probs below the threshold\n",
    "adata_integrated.obs.loc[adata_integrated.obs[\"Stage\"] == \"Fetal\", \"predicted_nuclei\"] = np.where(max_probs >= 0.5, knn_pred, \"Unassigned\")\n",
    "\n",
    "adata_integrated.obs.loc[adata_integrated.obs[\"fetal_nuclei\"] == \"Fetal\", \"predicted_nuclei\"] = 'Fetal neuron'\n",
    "\n",
    "adata_integrated.obs.loc[adata_integrated.obs[\"Stage\"] == \"Adult\", \"predicted_nuclei\"] = adata_integrated[adata_integrated.obs.Stage == 'Adult'].obs.adult_nuclei.copy()\n",
    "\n",
    "adata_integrated[adata_integrated.obs.Stage.isin(['Fetal'])].obs.predicted_nuclei.value_counts()"
   ]
  },
  {
   "cell_type": "code",
   "execution_count": null,
   "id": "ffd0ac3d-d2c9-4914-a504-29444c110a2b",
   "metadata": {},
   "outputs": [],
   "source": [
    "with plt.rc_context({\"figure.dpi\": 250}):\n",
    "    sc.pl.umap( adata_integrated,frameon=False, color=['Stage','adult_nuclei','predicted_nuclei'], size=8,wspace=0.3)"
   ]
  },
  {
   "cell_type": "code",
   "execution_count": null,
   "id": "110f46b4-2c51-4305-9ae8-cbfd9eed91d9",
   "metadata": {},
   "outputs": [],
   "source": [
    "categories = adata_integrated.obs.predicted_nuclei.cat.categories\n",
    "\n",
    "fig, axes = plt.subplots(5, 4, figsize= (20,20), sharex=True, sharey=True)\n",
    "\n",
    "axes = axes.flatten()\n",
    "for i, nuclei in enumerate(categories):\n",
    "    with plt.rc_context({\"figure.dpi\": 250}):\n",
    "        sc.pl.umap( adata_integrated,frameon=False,ax=axes[i], size=8,color=None, show=False)\n",
    "        sc.pl.umap(adata_integrated[adata_integrated.obs.predicted_nuclei.isin([nuclei])],color=[\"Stage\"],ax=axes[i],  size=8,title=f'{nuclei} label transfer',show=False)\n",
    "\n",
    "for ax in axes[len(categories):]:\n",
    "    ax.axis(\"off\")\n",
    "\n",
    "fig.tight_layout()\n",
    "plt.show()"
   ]
  },
  {
   "cell_type": "code",
   "execution_count": null,
   "id": "69b6d7e3-f92c-458b-89cb-08ceaaed99fd",
   "metadata": {},
   "outputs": [],
   "source": [
    "adata_fetal = adata_integrated[adata_integrated.obs.Stage == 'Fetal'].copy()\n",
    "adata_fetal.layers['counts'] = adata_fetal.X.copy()\n",
    "adata_fetal"
   ]
  },
  {
   "cell_type": "code",
   "execution_count": null,
   "id": "f24309e9-26a7-4f31-93b1-812e68066195",
   "metadata": {
    "collapsed": true,
    "jupyter": {
     "outputs_hidden": true
    },
    "tags": []
   },
   "outputs": [],
   "source": [
    "%%R -i adata_fetal \n",
    "\n",
    "Csparse_validate = \"CsparseMatrix_validate\"\n",
    "library(Seurat)\n",
    "library(dplyr)\n",
    "\n",
    "sobj <- as.Seurat(adata_fetal, counts = \"counts\", data = NULL)\n",
    "\n",
    "sobj_list <- SplitObject(sobj, split.by = 'batch_key')\n",
    "\n",
    "sobj_list <- lapply(X = sobj_list, FUN = function(x) {\n",
    "    x <- NormalizeData(x)\n",
    "    x <- FindVariableFeatures(x, selection.method = \"vst\", nfeatures = 2000)\n",
    "})\n",
    "\n",
    "features <- SelectIntegrationFeatures(object.list = sobj_list, nfeatures=2000)\n",
    "\n",
    "sobj_list <- lapply(X = sobj_list, FUN = function(x) {\n",
    "    x <- ScaleData(x, features = features, verbose = FALSE)\n",
    "    x <- RunPCA(x, features = features, verbose = FALSE)\n",
    "  })"
   ]
  },
  {
   "cell_type": "code",
   "execution_count": null,
   "id": "927fdf67-aef9-4ee3-9411-70e721394ca4",
   "metadata": {
    "collapsed": true,
    "jupyter": {
     "outputs_hidden": true
    },
    "tags": []
   },
   "outputs": [],
   "source": [
    "%%R -o adata_fetal_integrated -o umap_emb -o pca_emb -o hvg_list\n",
    "\n",
    "anchors <- FindIntegrationAnchors(object.list = sobj_list, anchor.features = features, reduction = \"rpca\")\n",
    "sobj <- IntegrateData(anchorset = anchors, k.weight = 60) \n",
    "\n",
    "DefaultAssay(sobj) <- \"integrated\"\n",
    "sobj <- ScaleData(sobj) %>% RunPCA(.)\n",
    "sobj <- RunUMAP(sobj, dims = 1:40)\n",
    "sobj <- FindNeighbors(sobj, dims = 1:40)\n",
    "\n",
    "sobj <- FindClusters(sobj,resolution=1.6)\n",
    "sobj <- FindClusters(sobj,resolution=1.8)\n",
    "sobj <- FindClusters(sobj,resolution=1.9)\n",
    "sobj <- FindClusters(sobj,resolution=2)\n",
    "sobj <- FindClusters(sobj,resolution=2.1)\n",
    "sobj <- FindClusters(sobj,resolution=2.2)\n",
    "\n",
    "\n",
    "\n",
    "\n",
    "pca_emb = Embeddings(object = sobj, reduction = \"pca\")\n",
    "hvg_list = rownames(sobj)\n",
    "\n",
    "DefaultAssay(sobj) <- \"originalexp\"\n",
    "\n",
    "umap_emb = Embeddings(object = sobj, reduction = \"umap\")\n",
    "adata_fetal_integrated = as.SingleCellExperiment(sobj) \n",
    "\n",
    "saveRDS(sobj,'Data/herb_fetal_integration_seurat_filtered.rds')"
   ]
  },
  {
   "cell_type": "code",
   "execution_count": null,
   "id": "704c264f-fc6c-4749-b96d-6f60a15e2224",
   "metadata": {
    "tags": []
   },
   "outputs": [],
   "source": [
    "%%R -o adata_fetal_integrated -o umap_emb -o pca_emb\n",
    "\n",
    "library(Seurat)\n",
    "sobj = readRDS('Data/herb_fetal_integration_seurat_filtered.rds')\n",
    "\n",
    "sobj=UpdateSeuratObject(sobj)\n",
    "\n",
    "\n",
    "DefaultAssay(sobj) <- \"originalexp\"\n",
    "pca_emb = Embeddings(object = sobj, reduction = \"pca\")\n",
    "umap_emb = Embeddings(object = sobj, reduction = \"umap\")\n",
    "adata_fetal_integrated = as.SingleCellExperiment(sobj) "
   ]
  },
  {
   "cell_type": "code",
   "execution_count": null,
   "id": "d4f9431f-ae5e-477d-aa47-6c485e450e55",
   "metadata": {},
   "outputs": [],
   "source": [
    "adata_fetal_integrated.obsm['X_umap'] = umap_emb\n",
    "adata_fetal_integrated.obsm['X_pca'] = pca_emb\n"
   ]
  },
  {
   "cell_type": "code",
   "execution_count": null,
   "id": "908e9255-6b5e-473b-be9d-e22631e3a6d8",
   "metadata": {},
   "outputs": [],
   "source": [
    "adata17 = adata_fetal_integrated[adata_fetal_integrated.obs['integrated_snn_res.1.9'] == '17'].copy()\n",
    "sc.pp.neighbors(adata17)\n",
    "sc.tl.leiden(adata17, resolution = 0.1)\n",
    "\n",
    "adata7 = adata_fetal_integrated[adata_fetal_integrated.obs['integrated_snn_res.1.9'] == '7'].copy()\n",
    "sc.pp.neighbors(adata7)\n",
    "sc.tl.leiden(adata7, resolution = 0.3)\n",
    "\n"
   ]
  },
  {
   "cell_type": "code",
   "execution_count": null,
   "id": "9cc631bf-8ae6-4aa8-9313-80fa06d089d7",
   "metadata": {},
   "outputs": [],
   "source": [
    "adata_fetal_integrated.obs['assigned_nuclei'] = adata_fetal_integrated.obs['predicted_nuclei']\n",
    "\n",
    "# Assign ARC cells\n",
    "arc_indices_1 = adata_fetal_integrated.obs[adata_fetal_integrated.obs['integrated_snn_res.1.9'].isin(['20', '37', '18'])].index\n",
    "arc_indices_2 = adata17.obs[adata17.obs['leiden'].isin(['0'])].index\n",
    "arc_indices_3 = adata7.obs[adata7.obs['leiden'].isin(['0','2'])].index\n",
    "\n",
    "arc_indices = set().union(*[arc_indices_1, arc_indices_2, arc_indices_3])\n",
    "adata_fetal_integrated.obs.loc[(adata_fetal_integrated.obs.index.isin(arc_indices)), \"assigned_nuclei\"] = \"ARC\"\n",
    "\n",
    "# DMH\n",
    "dmh_indices = adata_fetal_integrated.obs[adata_fetal_integrated.obs['integrated_snn_res.1.9'].isin(['28'])].index\n",
    "adata_fetal_integrated.obs.loc[(adata_fetal_integrated.obs.index.isin(dmh_indices)), \"assigned_nuclei\"] = \"DMH\"\n",
    "\n",
    "# LH\n",
    "lh_indices = adata_fetal_integrated.obs[adata_fetal_integrated.obs['integrated_snn_res.1.9'].isin(['25','13'])].index\n",
    "adata_fetal_integrated.obs.loc[(adata_fetal_integrated.obs.index.isin(lh_indices)), \"assigned_nuclei\"] = \"LH\"\n",
    "# Assign predicted LH cells outside cluster 25 and 13 to unassigned\n",
    "non_lh_indices = adata_fetal_integrated.obs[(adata_fetal_integrated.obs['predicted_nuclei'] == \"LH\") & (~adata_fetal_integrated.obs.index.isin(lh_indices))].index\n",
    "adata_fetal_integrated.obs.loc[non_lh_indices, \"assigned_nuclei\"] = \"Unassigned\"\n",
    "\n",
    "# MAM\n",
    "mam_indices = adata_fetal_integrated.obs[adata_fetal_integrated.obs['integrated_snn_res.1.9'].isin(['27','34','9','38','33'])].index\n",
    "adata_fetal_integrated.obs.loc[(adata_fetal_integrated.obs.index.isin(mam_indices)), \"assigned_nuclei\"] = \"MAM\"\n",
    "\n",
    "# Perivent\n",
    "perivent_indices = adata_fetal_integrated.obs[adata_fetal_integrated.obs['integrated_snn_res.1.9'].isin(['31'])].index\n",
    "adata_fetal_integrated.obs.loc[(adata_fetal_integrated.obs.index.isin(perivent_indices)), \"assigned_nuclei\"] = \"Perivent\"\n",
    "\n",
    "# PVN\n",
    "pvn_indices = adata_fetal_integrated.obs[adata_fetal_integrated.obs['integrated_snn_res.1.9'].isin(['11'])].index\n",
    "adata_fetal_integrated.obs.loc[(adata_fetal_integrated.obs.index.isin(pvn_indices)), \"assigned_nuclei\"] = \"PVN\"\n",
    "\n",
    "# TMN\n",
    "tmn_indices = adata_fetal_integrated.obs[adata_fetal_integrated.obs['integrated_snn_res.1.9'].isin(['23','19'])].index\n",
    "adata_fetal_integrated.obs.loc[(adata_fetal_integrated.obs.index.isin(tmn_indices)), \"assigned_nuclei\"] = \"TMN\"\n",
    "\n",
    "# Thalamus\n",
    "thalamus_indices = adata_fetal_integrated.obs[adata_fetal_integrated.obs['integrated_snn_res.1.9'].isin(['29'])].index\n",
    "adata_fetal_integrated.obs.loc[(adata_fetal_integrated.obs.index.isin(thalamus_indices)), \"assigned_nuclei\"] = \"Thalamus\"\n",
    "non_thalamus_indices = adata_fetal_integrated.obs[(adata_fetal_integrated.obs['predicted_nuclei'] == \"Thalamus\") & (~adata_fetal_integrated.obs.index.isin(thalamus_indices))].index\n",
    "adata_fetal_integrated.obs.loc[non_thalamus_indices, \"assigned_nuclei\"] = \"Unassigned\"\n",
    "\n",
    "# VMH\n",
    "vmh_indices = adata_fetal_integrated.obs[adata_fetal_integrated.obs['integrated_snn_res.1.9'].isin(['10'])].index\n",
    "adata_fetal_integrated.obs.loc[(adata_fetal_integrated.obs.index.isin(vmh_indices)), \"assigned_nuclei\"] = \"VMH\"\n",
    "\n"
   ]
  },
  {
   "cell_type": "code",
   "execution_count": null,
   "id": "3c62f621-bcc5-4fc5-8884-4344043270ee",
   "metadata": {},
   "outputs": [],
   "source": [
    "#nuclei = 'DMH'\n",
    "\n",
    "fig, axes = plt.subplots(1, 2, figsize=(15, 5), dpi=250)  # Adjust the figsize as needed\n",
    "sc.pl.umap(adata_fetal_integrated,frameon=False,\n",
    "    color=['predicted_nuclei'],layer='logcounts',cmap='jet',size=8, ax=axes[0],show=False)\n",
    "\n",
    "sc.pl.umap(adata_fetal_integrated,frameon=False,color=['assigned_nuclei'], size=8, ncols=3,ax=axes[1],  show=False, groups=['ARC', 'DMH', 'Fetal neuron', 'LH', 'LPOA', 'LTN', 'MAM', 'MPOA', 'POA',\n",
    "       'PVN', 'Perivent', 'SCN', 'SON', 'TMN', 'Thalamus', 'VMH','Vent'],na_color='White', na_in_legend=False)\n",
    "plt.tight_layout()\n",
    "plt.show() "
   ]
  },
  {
   "cell_type": "code",
   "execution_count": null,
   "id": "50e40c90-10a8-4d47-9689-dcc973e8d4d1",
   "metadata": {},
   "outputs": [],
   "source": [
    "nuclei = 'LH'\n",
    "\n",
    "fig, axes = plt.subplots(1, 2, figsize=(10, 5), dpi=250)  # Adjust the figsize as needed\n",
    "\n",
    "sc.pl.umap(adata_fetal_integrated,frameon=False, color=['predicted_nuclei'],layer='logcounts',cmap='jet',size=8, ax=axes[0],show=False , groups=nuclei)\n",
    "\n",
    "sc.pl.umap(adata_fetal_integrated,frameon=False, color=['assigned_nuclei'],layer='logcounts',cmap='jet',size=8, ax=axes[1],show=False , groups=nuclei)\n",
    "\n",
    "\n",
    "plt.tight_layout()\n",
    "plt.show() \n",
    "\n",
    "#adata_fetal_integrated[adata_fetal_integrated.obs.assigned_nuclei == nuclei].obs.predicted_nuclei.value_counts()"
   ]
  },
  {
   "cell_type": "markdown",
   "id": "b6d27048-cdf1-45f2-9dc2-64daee54f151",
   "metadata": {},
   "source": [
    "# Merged assigned annotations with integrated data"
   ]
  },
  {
   "cell_type": "code",
   "execution_count": null,
   "id": "badda173-4cd5-4d87-bc34-f9fd963efcdc",
   "metadata": {},
   "outputs": [],
   "source": [
    "adata_integrated.obs['assigned_nuclei'] = adata_integrated.obs.adult_nuclei.astype(str)\n",
    "adata_integrated.obs.loc[adata_integrated.obs_names.isin(adata_fetal_integrated.obs_names), \"assigned_nuclei\"] = adata_fetal_integrated.obs.assigned_nuclei\n",
    "adata_integrated.obsm['X_umap'] = umap_emb"
   ]
  },
  {
   "cell_type": "code",
   "execution_count": null,
   "id": "9c10337c-1b77-43a2-8e16-c266b822985b",
   "metadata": {},
   "outputs": [],
   "source": [
    "fig, axes = plt.subplots(1, 2, figsize=(15, 5), dpi=250)  # Adjust the figsize as needed\n",
    "sc.pl.umap(adata_integrated[adata_integrated.obs.Stage == 'Fetal'],frameon=False, groups=['ARC', 'DMH', 'Fetal neuron', 'LH', 'LPOA', 'LTN', 'MAM', 'MPOA', 'POA',\n",
    "       'PVN', 'Perivent', 'SCN', 'SON', 'TMN', 'Thalamus', 'VMH','Vent'], color=['assigned_nuclei'],layer='logcounts',cmap='jet',size=8, ax=axes[0],show=False, title='Fetal - Assigned nuclei')\n",
    "\n",
    "sc.pl.umap(adata_integrated[adata_integrated.obs.Stage == 'Adult'],frameon=False,color=['assigned_nuclei'], size=8, ncols=3,ax=axes[1],  show=False, groups=['ARC', 'DMH', 'Fetal neuron', 'LH', 'LPOA', 'LTN', 'MAM', 'MPOA', 'POA',\n",
    "       'PVN', 'Perivent', 'SCN', 'SON', 'TMN', 'Thalamus', 'VMH','Vent'],na_color='White', na_in_legend=False, title='Adult - Assigned nuclei')\n",
    "plt.tight_layout()\n",
    "plt.show() "
   ]
  },
  {
   "cell_type": "code",
   "execution_count": null,
   "id": "39de438c-ce1f-4a8d-a8d2-1bc8846172bb",
   "metadata": {},
   "outputs": [],
   "source": [
    "with plt.rc_context({\"figure.dpi\": 250}):\n",
    "    \n",
    "    sc.pl.umap(adata_integrated,frameon=False, color=['assigned_nuclei','Stage'],layer='logcounts',cmap='jet',size=8, wspace=0.4, groups=['ARC', 'DMH', 'Fetal neuron', 'LH', 'LPOA', 'LTN', 'MAM', 'MPOA', 'POA',\n",
    "       'PVN', 'Perivent', 'SCN', 'SON', 'TMN', 'Thalamus', 'VMH','Vent', 'Adult','Fetal'])"
   ]
  },
  {
   "cell_type": "code",
   "execution_count": null,
   "id": "77a70e3c-bd1b-4a64-bf90-c3f21c833b05",
   "metadata": {},
   "outputs": [],
   "source": [
    "nuclei = 'ARC'\n",
    "\n",
    "fig, axes = plt.subplots(1, 2, figsize=(10, 5), dpi=250)  # Adjust the figsize as needed\n",
    "\n",
    "sc.pl.umap(adata_integrated[adata_integrated.obs.Stage=='Fetal'],frameon=False, color=['assigned_nuclei'],layer='logcounts',cmap='jet',size=8, ax=axes[0],show=False , groups=nuclei, title='Fetal')\n",
    "\n",
    "sc.pl.umap(adata_integrated[adata_integrated.obs.Stage=='Adult'],frameon=False, color=['assigned_nuclei'],layer='logcounts',cmap='jet',size=8, ax=axes[1],show=False , groups=nuclei, title='Adult')\n",
    "\n",
    "\n",
    "plt.tight_layout()\n",
    "plt.show() \n"
   ]
  },
  {
   "cell_type": "markdown",
   "id": "a146fe93-aae2-4fa9-8561-1c2046ac8590",
   "metadata": {},
   "source": [
    "# Merge annotations with the preprocessed data"
   ]
  },
  {
   "cell_type": "code",
   "execution_count": null,
   "id": "fe5891ea-88a0-4f30-b184-158b89dd2eba",
   "metadata": {},
   "outputs": [],
   "source": [
    "adata_merged = sc.read('Data/fetal_adult_hypo_ref.h5ad')\n"
   ]
  },
  {
   "cell_type": "code",
   "execution_count": null,
   "id": "0b51e237-d094-454a-9f66-d7d452f4dcd3",
   "metadata": {
    "tags": []
   },
   "outputs": [],
   "source": [
    "# Ensure similar naming pattern of cells\n",
    "adata_fetal_integrated.obs_names = [item.rsplit(\"-\", 2)[0] for item in adata_fetal_integrated.obs_names]\n",
    "adata_merged_temp = adata_merged.copy()\n",
    "adata_merged_temp.obs_names = [item.rsplit(\"-\", 2)[0] for item in adata_merged_temp.obs_names]\n",
    "\n",
    "# Move the annotations using a temp adata \n",
    "adata_merged_temp.obs.Cell_types = adata_merged_temp.obs.Cell_types.astype(str)\n",
    "adata_merged_temp.obs.loc[adata_merged_temp.obs_names.isin(adata_fetal_integrated.obs_names), \"Cell_types\"] = adata_fetal_integrated.obs.assigned_nuclei.astype(str)\n",
    "\n",
    "adata_merged.obs['Cell_types_orig'] =  adata_merged.obs['Cell_types'].values.copy()\n",
    "adata_merged.obs['Cell_types'] = adata_merged_temp.obs['Cell_types'].values.copy()"
   ]
  },
  {
   "cell_type": "code",
   "execution_count": null,
   "id": "da1b946f-14b4-4007-8f82-0bfe9e8bcbf3",
   "metadata": {},
   "outputs": [],
   "source": [
    "adata_merged.write('Data/fetal_adult_hypo_ref_annotations.h5ad')"
   ]
  },
  {
   "cell_type": "code",
   "execution_count": null,
   "id": "0c63bb0b",
   "metadata": {},
   "outputs": [],
   "source": []
  }
 ],
 "metadata": {
  "kernelspec": {
   "display_name": "Python [conda env:.conda-PYenv]",
   "language": "python",
   "name": "conda-env-.conda-PYenv-py"
  },
  "language_info": {
   "codemirror_mode": {
    "name": "ipython",
    "version": 3
   },
   "file_extension": ".py",
   "mimetype": "text/x-python",
   "name": "python",
   "nbconvert_exporter": "python",
   "pygments_lexer": "ipython3",
   "version": "3.9.19"
  }
 },
 "nbformat": 4,
 "nbformat_minor": 5
}
