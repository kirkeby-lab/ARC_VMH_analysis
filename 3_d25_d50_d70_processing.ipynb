{
 "cells": [
  {
   "cell_type": "code",
   "execution_count": null,
   "id": "21e881d0",
   "metadata": {},
   "outputs": [],
   "source": [
    "import scanpy as sc\n",
    "import matplotlib.pyplot as plt\n",
    "import pandas as pd\n",
    "import seaborn as sns\n",
    "import numpy as np\n",
    "import os, scipy\n",
    "import anndata\n",
    "from typing import Dict, Optional\n",
    "import tables\n",
    "import scipy.sparse as sp\n",
    "import scvelo as scv\n",
    "import scanpy.external as sce\n",
    "%matplotlib inline\n",
    "from matplotlib import pyplot as plt\n",
    "import warnings\n",
    "warnings.filterwarnings(\"ignore\")\n",
    "\n",
    "# R interface\n",
    "from rpy2.robjects import pandas2ri\n",
    "from rpy2.robjects import r\n",
    "import rpy2.rinterface_lib.callbacks\n",
    "import anndata2ri\n",
    "import rpy2.robjects.numpy2ri\n",
    "#import numpy2ri\n",
    "\n",
    "pandas2ri.activate()\n",
    "anndata2ri.activate()\n",
    "rpy2.robjects.numpy2ri.activate()\n",
    "\n",
    "%load_ext rpy2.ipython"
   ]
  },
  {
   "cell_type": "markdown",
   "id": "f36e9d83",
   "metadata": {},
   "source": [
    "# Read CellBender output"
   ]
  },
  {
   "cell_type": "code",
   "execution_count": null,
   "id": "a924a59d",
   "metadata": {},
   "outputs": [],
   "source": [
    "def dict_from_h5(file: str) -> Dict[str, np.ndarray]:\n",
    "    \"\"\"Read in everything from an h5 file and put into a dictionary.\n",
    "\n",
    "    Args:\n",
    "        file: The h5 file\n",
    "\n",
    "    Returns:\n",
    "        Dictionary containing all the information from the h5 file\n",
    "    \"\"\"\n",
    "    d = {}\n",
    "    with tables.open_file(file) as f:\n",
    "        # read in everything\n",
    "        for array in f.walk_nodes(\"/\", \"Array\"):\n",
    "            d[array.name] = array.read()\n",
    "    return d\n",
    "\n",
    "def _fill_adata_slots_automatically(adata, d):\n",
    "    \"\"\"Add other information to the adata object in the appropriate slot.\"\"\"\n",
    "\n",
    "    # TODO: what about \"features_analyzed_inds\"?  If not all features are analyzed, does this work?\n",
    "\n",
    "    for key, value in d.items():\n",
    "        try:\n",
    "            if value is None:\n",
    "                continue\n",
    "            value = np.asarray(value)\n",
    "            if len(value.shape) == 0:\n",
    "                adata.uns[key] = value\n",
    "            elif value.shape[0] == adata.shape[0]:\n",
    "                if (len(value.shape) < 2) or (value.shape[1] < 2):\n",
    "                    adata.obs[key] = value\n",
    "                else:\n",
    "                    adata.obsm[key] = value\n",
    "            elif value.shape[0] == adata.shape[1]:\n",
    "                if value.dtype.name.startswith('bytes'):\n",
    "                    adata.var[key] = value.astype(str)\n",
    "                else:\n",
    "                    adata.var[key] = value\n",
    "            else:\n",
    "                adata.uns[key] = value\n",
    "        except Exception:\n",
    "            print('Unable to load data into AnnData: ', key, value, type(value))\n",
    "\n",
    "def anndata_from_h5(file: str,\n",
    "                    analyzed_barcodes_only: bool = True) -> anndata.AnnData:\n",
    "    \"\"\"Load an output h5 file into an AnnData object for downstream work.\n",
    "\n",
    "    Args:\n",
    "        file: The h5 file\n",
    "        analyzed_barcodes_only: False to load all barcodes, so that the size of\n",
    "            the AnnData object will match the size of the input raw count matrix.\n",
    "            True to load a limited set of barcodes: only those analyzed by the\n",
    "            algorithm. This allows relevant latent variables to be loaded\n",
    "            properly into adata.obs and adata.obsm, rather than adata.uns.\n",
    "\n",
    "    Returns:\n",
    "        anndata.AnnData: The anndata object, populated with inferred latent variables\n",
    "            and metadata.\n",
    "\n",
    "    \"\"\"\n",
    "\n",
    "    d = dict_from_h5(file)\n",
    "    X = sp.csc_matrix((d.pop('data'), d.pop('indices'), d.pop('indptr')),\n",
    "                      shape=d.pop('shape')).transpose().tocsr()\n",
    "\n",
    "    # check and see if we have barcode index annotations, and if the file is filtered\n",
    "    barcode_key = [k for k in d.keys() if (('barcode' in k) and ('ind' in k))]\n",
    "    if len(barcode_key) > 0:\n",
    "        max_barcode_ind = d[barcode_key[0]].max()\n",
    "        filtered_file = (max_barcode_ind >= X.shape[0])\n",
    "    else:\n",
    "        filtered_file = True\n",
    "\n",
    "    if analyzed_barcodes_only:\n",
    "        if filtered_file:\n",
    "            # filtered file being read, so we don't need to subset\n",
    "            print('Assuming we are loading a \"filtered\" file that contains only cells.')\n",
    "            pass\n",
    "        elif 'barcode_indices_for_latents' in d.keys():\n",
    "            X = X[d['barcode_indices_for_latents'], :]\n",
    "            d['barcodes'] = d['barcodes'][d['barcode_indices_for_latents']]\n",
    "        elif 'barcodes_analyzed_inds' in d.keys():\n",
    "            X = X[d['barcodes_analyzed_inds'], :]\n",
    "            d['barcodes'] = d['barcodes'][d['barcodes_analyzed_inds']]\n",
    "        else:\n",
    "            print('Warning: analyzed_barcodes_only=True, but the key '\n",
    "                  '\"barcodes_analyzed_inds\" or \"barcode_indices_for_latents\" '\n",
    "                  'is missing from the h5 file. '\n",
    "                  'Will output all barcodes, and proceed as if '\n",
    "                  'analyzed_barcodes_only=False')\n",
    "\n",
    "    # Construct the anndata object.\n",
    "    adata = anndata.AnnData(X=X,\n",
    "                            obs={'barcode': d.pop('barcodes').astype(str)},\n",
    "                            var={'gene_name': (d.pop('gene_names') if 'gene_names' in d.keys()\n",
    "                                               else d.pop('name')).astype(str)},\n",
    "                            dtype=X.dtype)\n",
    "    adata.obs.set_index('barcode', inplace=True)\n",
    "    adata.var.set_index('gene_name', inplace=True)\n",
    "\n",
    "    # For CellRanger v2 legacy format, \"gene_ids\" was called \"genes\"... rename this\n",
    "    if 'genes' in d.keys():\n",
    "        d['id'] = d.pop('genes')\n",
    "\n",
    "    # For purely aesthetic purposes, rename \"id\" to \"gene_id\"\n",
    "    if 'id' in d.keys():\n",
    "        d['gene_id'] = d.pop('id')\n",
    "\n",
    "    # If genomes are empty, try to guess them based on gene_id\n",
    "    if 'genome' in d.keys():\n",
    "        if np.array([s.decode() == '' for s in d['genome']]).all():\n",
    "            if '_' in d['gene_id'][0].decode():\n",
    "                print('Genome field blank, so attempting to guess genomes based on gene_id prefixes')\n",
    "                d['genome'] = np.array([s.decode().split('_')[0] for s in d['gene_id']], dtype=str)\n",
    "\n",
    "    # Add other information to the anndata object in the appropriate slot.\n",
    "    _fill_adata_slots_automatically(adata, d)\n",
    "\n",
    "    # Add a special additional field to .var if it exists.\n",
    "    if 'features_analyzed_inds' in adata.uns.keys():\n",
    "        adata.var['cellbender_analyzed'] = [True if (i in adata.uns['features_analyzed_inds'])\n",
    "                                            else False for i in range(adata.shape[1])]\n",
    "    elif 'features_analyzed_inds' in adata.var.keys():\n",
    "        adata.var['cellbender_analyzed'] = [True if (i in adata.var['features_analyzed_inds'].values)\n",
    "                                            else False for i in range(adata.shape[1])]\n",
    "\n",
    "    if analyzed_barcodes_only:\n",
    "        for col in adata.obs.columns[adata.obs.columns.str.startswith('barcodes_analyzed')\n",
    "                                     | adata.obs.columns.str.startswith('barcode_indices')]:\n",
    "            try:\n",
    "                del adata.obs[col]\n",
    "            except Exception:\n",
    "                pass\n",
    "    else:\n",
    "        # Add a special additional field to .obs if all barcodes are included.\n",
    "        if 'barcodes_analyzed_inds' in adata.uns.keys():\n",
    "            adata.obs['cellbender_analyzed'] = [True if (i in adata.uns['barcodes_analyzed_inds'])\n",
    "                                                else False for i in range(adata.shape[0])]\n",
    "        elif 'barcodes_analyzed_inds' in adata.obs.keys():\n",
    "            adata.obs['cellbender_analyzed'] = [True if (i in adata.obs['barcodes_analyzed_inds'].values)\n",
    "                                                else False for i in range(adata.shape[0])]\n",
    "            \n",
    "    adata.obs.index.name = None\n",
    "    adata.var.index.name = None\n",
    "    adata.X = adata.X.astype(np.float64)\n",
    "    del adata.uns\n",
    "    del adata.obsm\n",
    "    adata.layers['counts'] = adata.X\n",
    "    adata.var_names_make_unique()\n",
    "\n",
    "\n",
    "    return adata"
   ]
  },
  {
   "cell_type": "code",
   "execution_count": null,
   "id": "71d71fe4",
   "metadata": {},
   "outputs": [],
   "source": [
    "d1_adata = anndata_from_h5('CellBender_filtering/Output/D1/d1_cellbender_output_file.h5')\n",
    "e1_adata = anndata_from_h5('CellBender_filtering/Output/E1/e1_cellbender_output_file.h5')\n",
    "f1_adata = anndata_from_h5('CellBender_filtering/Output/F1/f1_cellbender_output_file.h5')\n",
    "g1_adata = anndata_from_h5('CellBender_filtering/Output/G1/g1_cellbender_output_file.h5')\n",
    "h1_adata = anndata_from_h5('CellBender_filtering/Output/H1/h1_cellbender_output_file.h5')\n",
    "c2_adata = anndata_from_h5('CellBender_filtering/Output/C2/c2_cellbender_output_file.h5')\n",
    "d2_adata = anndata_from_h5('CellBender_filtering/Output/D2/d2_cellbender_output_file.h5')\n",
    "e2_adata = anndata_from_h5('CellBender_filtering/Output/E2/e2_cellbender_output_file.h5')\n",
    "f2_adata = anndata_from_h5('CellBender_filtering/Output/F2/f2_cellbender_output_file.h5')\n",
    "g2_adata = anndata_from_h5('CellBender_filtering/Output/G2/g2_cellbender_output_file.h5')\n",
    "h2_adata = anndata_from_h5('CellBender_filtering/Output/H2/h2_cellbender_output_file.h5')\n",
    "\n",
    "a6_adata = anndata_from_h5('Cell_bender_filtering/Output/A6/a6_cellbender_output_file.h5')\n",
    "a7_adata = anndata_from_h5('Cell_bender_filtering/Output/A7/a7_cellbender_output_file.h5')\n",
    "a9_adata = anndata_from_h5('Cell_bender_filtering/Output/A9/a9_cellbender_output_file.h5')\n",
    "a11_adata = anndata_from_h5('Cell_bender_filtering/Output/A11/a11_cellbender_output_file.h5')\n",
    "b5_adata = anndata_from_h5('Cell_bender_filtering/Output/B5/b5_cellbender_output_file.h5')\n",
    "b6_adata = anndata_from_h5('Cell_bender_filtering/Output/B6/b6_cellbender_output_file.h5')\n",
    "b7_adata = anndata_from_h5('Cell_bender_filtering/Output/B7/b7_cellbender_output_file.h5')\n",
    "b8_adata = anndata_from_h5('Cell_bender_filtering/Output/B8/b8_cellbender_output_file.h5')\n",
    "b10_adata = anndata_from_h5('Cell_bender_filtering/Output/B10/b10_cellbender_output_file.h5')\n",
    "\n",
    "\n",
    "d1_adata_var_meta = d1_adata.var\n",
    "e1_adata_var_meta = e1_adata.var\n",
    "f1_adata_var_meta = f1_adata.var\n",
    "g1_adata_var_meta = g1_adata.var\n",
    "h1_adata_var_meta = h1_adata.var\n",
    "c2_adata_var_meta = c2_adata.var\n",
    "d2_adata_var_meta = d2_adata.var\n",
    "e2_adata_var_meta = e2_adata.var\n",
    "f2_adata_var_meta = f2_adata.var\n",
    "g2_adata_var_meta = g2_adata.var\n",
    "h2_adata_var_meta = h2_adata.var\n",
    "\n",
    "a6_adata_var_meta = a6_adata.var\n",
    "a7_adata_var_meta = a7_adata.var\n",
    "a9_adata_var_meta = a9_adata.var\n",
    "a11_adata_var_meta = a11_adata.var\n",
    "b5_adata_var_meta = b5_adata.var\n",
    "b6_adata_var_meta = b6_adata.var\n",
    "b7_adata_var_meta = b7_adata.var\n",
    "b8_adata_var_meta = b8_adata.var\n",
    "b10_adata_var_meta = b10_adata.var"
   ]
  },
  {
   "cell_type": "markdown",
   "id": "75625f99",
   "metadata": {},
   "source": [
    "# Sample assignment (HTO calling)"
   ]
  },
  {
   "cell_type": "code",
   "execution_count": null,
   "id": "fd8f02b4",
   "metadata": {},
   "outputs": [],
   "source": [
    "%%R\n",
    "library(dplyr)\n",
    "library(assertthat)\n",
    "library(ggplot2)\n",
    "library(mclust)\n",
    "library(diptest)\n",
    "library(intrinsicDimension)\n",
    "\n",
    "HTODemux.mcl <- function(object, assay = \"HTO\", q_l = 1, q_h = 0.005, seed = 42){\n",
    "  # A function to find the threshold for each hastag, the P, and singlet, doublets and negative.\n",
    "  # The input is the HTO data matrix (normalized across cells).\n",
    "  \n",
    "  assay <- assay %||% DefaultAssay(object = object)\n",
    "  data <- GetAssayData(object = object, assay = assay, slot = 'data')\n",
    "  hto.cutoff.metadata = data.frame(cut_off = future.apply::future_apply(data,1,function(x) select_hash_cutoff_mcl(x, q_l = q_l, q_h = q_h), future.seed = T))\n",
    "  hto.cutoff.metadata$Multi_modal = apply(data,1,function(x) is_multimodal(x))\n",
    "  hto_mcl.p = t(apply(data,1,function(x) hash_mcl_p(x, seed = seed, q_l = q_l, q_h = q_h)))\n",
    "  discrete <- data\n",
    "  discrete[discrete > 0] <- 0\n",
    "  for (iter in rownames(x = data)) {\n",
    "    values <- data[iter, ]\n",
    "    cutoff <- hto.cutoff.metadata[iter,'cut_off']\n",
    "    discrete[iter, names(x = which(x = values > cutoff))] <- 1\n",
    "  }\n",
    "  classification.metadata <- HTO_classifcation(discrete, hto_mcl.p, assay)\n",
    "  object <- AddMetaData(object = object, metadata = classification.metadata)\n",
    "  Idents(object) <- paste(assay, \"calledFeatures\", sep = '_')\n",
    "  doublets <- rownames(x = object[[]])[which(object[[paste(assay, 'globalClass', sep = \"_\")]] == \"Doublet\")]\n",
    "  Idents(object = object, cells = doublets) <- \"Doublet\"\n",
    "  Idents(object) = factor(Idents(object), levels = c('Doublet', 'Negative', rownames(object@assays$HTO)))\n",
    "  object$sampleID <- Idents(object = object)\n",
    "  return(object)\n",
    "}\n",
    "\n",
    "is_multimodal <- function(x, p.cutoff = 1e-2) {\n",
    "  # Test if the expression distribution violates unimodal distribution.\n",
    "  p = diptest::dip.test(x)$p.value\n",
    "  return(p < p.cutoff)\n",
    "}\n",
    "\n",
    "select_hash_cutoff_mcl <- function(x, q_l = 1, q_h = 0.01, seed = 42) {\n",
    "  # Model HTO data as a mixture of two Gaussian distributions (for normalized [across cells] data)\n",
    "  # And select HTO cutoff based on mclust (Model based clustering).\n",
    "  assertthat::assert_that(class(x) == \"numeric\")\n",
    "  assertthat::is.number(seed)\n",
    "  assertthat::assert_that(length(seed) == 1)\n",
    "  set.seed(seed)\n",
    "  km <- mclust::Mclust(data = x, G = 2, verbose = F)\n",
    "  cl <- km$classification\n",
    "  cl_center = km$parameters$mean\n",
    "  high_cl <- which(cl_center == max(cl_center))\n",
    "  low_cl <- which(cl_center != max(cl_center))\n",
    "  # q_l and q_h are the quantiles for negative and postive cluster, respectively. \n",
    "  cutoff <- max(quantile(x[cl == low_cl], q_l), quantile(x[cl == high_cl], q_h))\n",
    "  # The higher the cut off, the less false positive (the more false negative).\n",
    "  return(cutoff)\n",
    "}\n",
    "\n",
    "hash_mcl_p <- function(x, seed = 3030, q_l = 1, q_h = 0.001) {\n",
    "  assertthat::assert_that(class(x) == \"numeric\")\n",
    "  assertthat::is.number(seed)\n",
    "  assertthat::assert_that(length(seed) == 1)\n",
    "  set.seed(seed)\n",
    "  km <- mclust::Mclust(data = x, G = 2, verbose = F)\n",
    "  cl <- km$classification\n",
    "  cl_center = km$parameters$mean\n",
    "  high_cl <- which(cl_center == max(cl_center))\n",
    "  low_cl <- which(cl_center != max(cl_center))\n",
    "  p.high_cl <- km$z[,high_cl]\n",
    "  # Correct assignment error from Mclust\n",
    "  p.high_cl[which(x < max(quantile(cl_center[low_cl], q_l), quantile(cl_center[low_cl], q_h)))] = 0\n",
    "  names(p.high_cl) = names(x)\n",
    "  return(p.high_cl)\n",
    "}\n",
    "\n",
    "HTO_classifcation = function(discrete, hto_mcl.p, assay){\n",
    "  # Based on HTODemux (Seurat)\n",
    "  npositive <- colSums(x = discrete)\n",
    "  classification.global <- npositive\n",
    "  classification.global[npositive == 0] <- \"Negative\"\n",
    "  classification.global[npositive == 1] <- \"Singlet\"\n",
    "  classification.global[npositive > 1] <- \"Doublet\"\n",
    "  donor.id = rownames(x = discrete)\n",
    "  hash.max <- apply(X = hto_mcl.p, MARGIN = 2, FUN = max) # This returns the probability of the most likely HashID (based on the Hashtag distribution among cells)\n",
    "  hash.maxID <- as.character(donor.id[apply(X = hto_mcl.p, MARGIN = 2, FUN = which.max)])\n",
    "  hash.second <- apply(X = hto_mcl.p, MARGIN = 2, FUN = function(x) sort(x,decreasing = T)[2])\n",
    "  hash.secondID <- as.character(donor.id[apply(X = hto_mcl.p, MARGIN = 2, FUN = function(x) order(x,decreasing = T)[2])])\n",
    "  hash.margin <- hash.max - hash.second\n",
    "  doublet_id <- sapply(X = 1:length(x = hash.maxID), FUN = function(x) {\n",
    "    return(paste(sort(x = c(hash.maxID[x], hash.secondID[x])), \n",
    "                 collapse = \"_\"))\n",
    "  })\n",
    "  classification <- classification.global\n",
    "  classification[classification.global == \"Negative\"] <- \"Negative\"\n",
    "  classification[classification.global == \"Singlet\"] <- hash.maxID[which(x = classification.global == \"Singlet\")]\n",
    "  classification[classification.global == \"Doublet\"] <- doublet_id[which(x = classification.global == \"Doublet\")]\n",
    "  classification.metadata <- data.frame(hash.maxID, hash.secondID, hash.margin, classification, classification.global)\n",
    "  colnames(x = classification.metadata) <- paste(assay, c(\"primaryID\", \"secondaryID\", \"margin\", \"calledFeatures\", \"globalClass\"), sep = \"_\")\n",
    "  return(classification.metadata)\n",
    "}\n",
    "\n",
    "        \n",
    "                                               \n",
    "my.cols <- c('Doublet' = '#E56786','Negative' = '#0000FF','Singlet' = '#7E9D00',\n",
    "             'Called' = '#C1E24D','Uncalled' = '#FFB2FF', 'intra-doublet' = '#FFA500',\n",
    "             'Highlight' = '#de3163','Lowlight' = '#f4b8c9','Greyneric' = '#878686')\n",
    "\n",
    "base.size = 10\n",
    "plotting.font <- 'Helvetica'\n",
    "\n",
    "exponent_format <- function() {\n",
    "  function(x) {\n",
    "    parse(text = gsub(\"e\\\\+?\", \" %*% 10^\", scales::scientific_format()(x)))\n",
    "  }\n",
    "}\n",
    "\n",
    "make_plot_htoThresh <- function(hto.sample.calling.metadata, hto.cutoff.metadata, index) {\n",
    "  \n",
    "  hto.cutoff.metadata[['hto']] <- hto.cutoff.metadata[['hto_name']]\n",
    "  \n",
    "  p <- ggplot(hto.sample.calling.metadata, aes(x = expression, fill = above_cutoff)) +\n",
    "    geom_histogram(bins = 100) +\n",
    "    facet_wrap(~sample_id, scales = 'free',ncol = 3) +\n",
    "    xlab('Expression (CLR-norm)') +\n",
    "    ylab('UMI counts (HTO)') +\n",
    "    scale_y_log10(labels = exponent_format()) +\n",
    "    scale_fill_manual(name = '',\n",
    "                      labels = c('HTO negative','HTO positive'),\n",
    "                      values = c(my.cols[['Uncalled']],my.cols[['Called']]),\n",
    "                      guide = guide_legend(override.aes = list(fill = c(my.cols[['Uncalled']],my.cols[['Called']])))) +\n",
    "    ggtitle(index) +\n",
    "    theme_minimal(base_size = base.size) +\n",
    "    theme(text = element_text(family = plotting.font), legend.position = 'bottom')\n",
    "  \n",
    "  p <- patchwork::wrap_plots(p)\n",
    "  return(p)\n",
    "}\n",
    "                                               \n"
   ]
  },
  {
   "cell_type": "code",
   "execution_count": null,
   "id": "73485712",
   "metadata": {
    "scrolled": true
   },
   "outputs": [],
   "source": [
    "%%R -i d1_adata -i e1_adata -i f1_adata -i g1_adata -i h1_adata -i c2_adata -i d2_adata -i e2_adata -i f2_adata -i g2_adata -i h2_adata -i a6_adata -i a7_adata -i a9_adata -i a11_adata -i b5_adata -i b6_adata -i b7_adata -i b8_adata -i b10_adata -o d1_adata -o e1_adata -o f1_adata -o g1_adata -o h1_adata -o c2_adata -o d2_adata -o e2_adata -o f2_adata -o g2_adata -o h2_adata -o a6_adata -o a7_adata -o a9_adata -o a11_adata -o b5_adata -o b6_adata -o b7_adata -o b8_adata -o b10_adata\n",
    "Csparse_validate = \"CsparseMatrix_validate\"\n",
    "library(Seurat)\n",
    "library(Matrix)\n",
    "library(scater)\n",
    "library(scran)\n",
    "library(scDblFinder)\n",
    "library(PCAtools)\n",
    "plot_list = list()\n",
    "\n",
    "# HTO calling function\n",
    "\n",
    "hto_calling = function(hto_matrix_dir, data_df, adata_list){\n",
    "    sce_list <- list() # Store the output\n",
    "    sobj_list = list()\n",
    "\n",
    "    print('##########################################')\n",
    "    for(index in rownames(data_df)){\n",
    "\n",
    "        barcode.path <- paste0(paste0(hto_matrix_dir, data_df[index,][,'hto_reaction_dir']), \"barcodes.tsv.gz\")\n",
    "        features.path <- paste0(paste0(hto_matrix_dir, data_df[index,][,'hto_reaction_dir']), \"features.tsv.gz\")\n",
    "        matrix.path <- paste0(paste0(hto_matrix_dir, data_df[index,][,'hto_reaction_dir']), \"matrix.mtx.gz\")\n",
    "        hto_matrix <- readMM(file = matrix.path)\n",
    "        feature.names = read.delim(features.path, header = FALSE, stringsAsFactors = FALSE)\n",
    "        barcode.names = read.delim(barcode.path, header = FALSE, stringsAsFactors = FALSE)\n",
    "        colnames(hto_matrix) = barcode.names$V1\n",
    "        rownames(hto_matrix) = feature.names$V1\n",
    "\n",
    "        # Removing the unmapped feature from the HTO matrix\n",
    "        hto_matrix <- hto_matrix[!(rownames(hto_matrix) %in% 'unmapped'),]\n",
    "\n",
    "        sobj <- as.Seurat(adata_list[[data_df[index,][,'adata_index']]], counts='counts', data=NULL)\n",
    "\n",
    "        # Ensure similar naming pattern between the colnames in hto and transcriptome matrix\n",
    "        colnames(hto_matrix) <- paste(colnames(hto_matrix), \"-1\", sep=\"\")\n",
    "\n",
    "        # Select cell barcodes detected by both RNA and HTO \n",
    "        joint_barcodes <- intersect(colnames(sobj), colnames(hto_matrix))\n",
    "\n",
    "        # Subset RNA and HTO counts by joint cell barcodes\n",
    "        sobj = subset(sobj, cells=joint_barcodes)\n",
    "        hto_matrix <- hto_matrix[, joint_barcodes]\n",
    "\n",
    "        # Add HTO data as a new assay independent from RNA\n",
    "        sobj[[\"HTO\"]] <- CreateAssayObject(counts = hto_matrix)\n",
    "\n",
    "        # Normalize HTO data, here we use centered log-ratio (CLR) transformation\n",
    "        sobj <- NormalizeData(sobj, assay = \"HTO\", normalization.method = \"CLR\", margin=2)\n",
    "\n",
    "        q_l <- 1\n",
    "        q_h <- 0.001\n",
    "\n",
    "        sobj <- HTODemux.mcl(sobj, q_l = q_l, q_h = q_h)   \n",
    "\n",
    "        # Plotting\n",
    "        tmp.assay <- DefaultAssay(object = sobj)\n",
    "        tmp.data <- GetAssayData(object = sobj, assay = 'HTO', slot = 'data')\n",
    "        hto.data.wide = data.frame(t(tmp.data))\n",
    "        colnames(hto.data.wide) <- gsub(\"[.]\", \"-\", colnames(hto.data.wide), perl = T)\n",
    "        hto.data.long = data.table::melt(data.table::setDT(hto.data.wide,keep.rownames = T), id.vars = 'rn', value.name = 'expression',variable.name = 'sample_id')\n",
    "        hto.data.long[, sample_id := as.character(sample_id)]\n",
    "\n",
    "        hto_mcl.cutoff = data.table::data.table(cut_off = future.apply::future_apply(tmp.data,1,function(x) select_hash_cutoff_mcl(x, q_l = q_l, q_h = q_h), future.seed = T), hto_name = colnames(hto.data.wide)[-1], key = \"hto_name\")\n",
    "        hto.data.long[, above_cutoff := expression > hto_mcl.cutoff[sample_id, cut_off]]\n",
    "\n",
    "        hto.sample.calling.metadata <- hto.data.long\n",
    "        hto.cutoff.metadata <- hto_mcl.cutoff\n",
    "\n",
    "        p.hto.barcode.calling <- make_plot_htoThresh(hto.sample.calling.metadata,hto.cutoff.metadata, index)\n",
    "        plot_list[[ index ]] = p.hto.barcode.calling\n",
    "\n",
    "        sobj_list[[ index ]] = sobj\n",
    "        sce = as.SingleCellExperiment(sobj)       \n",
    "        sce_list[[ index ]] <- sce  \n",
    "                                                                                \n",
    "    }\n",
    "    return(c('sce' = sce_list, 'sobj' = sobj_list, 'plots' = plot_list))                                                                       \n",
    "    \n",
    "}\n",
    "\n",
    "# D25_50 sequencing                                                                                  \n",
    "hto_matrix_dir = \"D25_50_70_arc/Cite_seq_count/\"\n",
    "# Store the rna and hto matrix file paths to df\n",
    "data_df <- data.frame (\n",
    "  row.names = c(\"D1\", \"E1\", \"F1\", \"G1\", \"H1\", \"C2\", \"D2\", \"E2\",\"F2\",\"G2\",\"H2\"),\n",
    "  hto_reaction_dir = c('Output/D1/umi_count/','Output/E1/umi_count/','Output/F1/umi_count/',\n",
    "                       'Output/G1/umi_count/','Output/H1/umi_count/','Output/C2/umi_count/',\n",
    "                       'Output/D2/umi_count/','Output/E2/umi_count/','Output/F2/umi_count/',\n",
    "                       'Output/G2/umi_count/','Output/H2/umi_count/'),\n",
    "  adata_index = c(1,2,3,4,5,6,7,8,9,10,11))\n",
    "\n",
    "adata_list = list(d1_adata, e1_adata, f1_adata, g1_adata, h1_adata, c2_adata, d2_adata, e2_adata, f2_adata, g2_adata, h2_adata) # Input adata list\n",
    "\n",
    "output = hto_calling(hto_matrix_dir, data_df, adata_list)\n",
    "sce_list = output[c('sce.D1','sce.E1','sce.F1','sce.G1','sce.H1','sce.C2','sce.D2','sce.E2','sce.F2','sce.G2','sce.H2')]   \n",
    "sobj_list_d25_d50_d70 = output[c('sobj.D1','sobj.E1','sobj.F1','sobj.G1','sobj.H1','sobj.C2','sobj.D2','sobj.E2','sobj.F2','sobj.G2','sobj.H2')] \n",
    "plot_list_d25_d50_d70 = output[c('plots.D1','plots.E1','plots.F1','plots.G1','plots.H1','plots.C2','plots.D2','plots.E2','plots.F2','plots.G2','plots.H2')]\n",
    "           \n",
    "                                                                                     \n",
    "                                                                                     \n",
    "d1_adata = sce_list[['sce.D1']]\n",
    "e1_adata = sce_list[['sce.E1']]\n",
    "f1_adata = sce_list[['sce.F1']]\n",
    "g1_adata = sce_list[['sce.G1']]\n",
    "h1_adata = sce_list[['sce.H1']]\n",
    "c2_adata = sce_list[['sce.C2']]\n",
    "d2_adata = sce_list[['sce.D2']]\n",
    "e2_adata = sce_list[['sce.E2']]\n",
    "f2_adata = sce_list[['sce.F2']]\n",
    "g2_adata = sce_list[['sce.G2']]\n",
    "h2_adata = sce_list[['sce.H2']]\n",
    "print('_____________________________')\n",
    "                                                                                     \n",
    "                                                                                     \n",
    "# D70 sequencing                                                                                     \n",
    "hto_matrix_dir = \"Cite_seq_count_d70/\"\n",
    "# Store the rna and hto matrix file paths to df\n",
    "data_df <- data.frame (\n",
    "  row.names = c(\"A6\", \"A7\", \"A9\", \"A11\", \"B5\", \"B6\", \"B7\", \"B8\",\"B10\"),\n",
    "  hto_reaction_dir = c('Output/A6/umi_count/','Output/A7/umi_count/','Output/A9/umi_count/',\n",
    "                       'Output/A11/umi_count/','Output/B5/umi_count/','Output/B6/umi_count/',\n",
    "                       'Output/B7/umi_count/','Output/B8/umi_count/','Output/B10/umi_count/'),\n",
    "                          adata_index = c(1,2,3,4,5,6,7,8,9))\n",
    "\n",
    "\n",
    "adata_list = list(a6_adata, a7_adata, a9_adata, a11_adata, b5_adata, b6_adata, b7_adata, b8_adata, b10_adata) # Input adata list\n",
    "\n",
    "output = hto_calling(hto_matrix_dir, data_df, adata_list)\n",
    "sce_list = output[c('sce.A6','sce.A7','sce.A9','sce.A11','sce.B5','sce.B6','sce.B7','sce.B8','sce.B10')]   \n",
    "sobj_list_d70 = output[c('sobj.A6','sobj.A7','sobj.A9','sobj.A11','sobj.B5','sobj.B6','sobj.B7','sobj.B8','sobj.B10')] \n",
    "plot_list_d70 = output[c('plots.A6','plots.A7','plots.A9','plots.A11','plots.B5','plots.B6','plots.B7','plots.B8','plots.B10')]\n",
    "             \n",
    "                                                                                     \n",
    "a6_adata = sce_list[['sce.A6']]\n",
    "a7_adata = sce_list[['sce.A7']]\n",
    "a9_adata = sce_list[['sce.A9']]\n",
    "a11_adata = sce_list[['sce.A11']]\n",
    "b5_adata = sce_list[['sce.B5']]\n",
    "b6_adata = sce_list[['sce.B6']]\n",
    "b7_adata = sce_list[['sce.B7']]\n",
    "b8_adata = sce_list[['sce.B8']]\n",
    "b10_adata = sce_list[['sce.B10']]\n",
    "print('_____________________________')\n",
    "                                                                                     \n",
    "\n",
    "knee_plots = c(plot_list_d25_d50_d70,plot_list_d70)\n"
   ]
  },
  {
   "cell_type": "markdown",
   "id": "25ed37e3",
   "metadata": {},
   "source": [
    "# Explore intra-sample doublets"
   ]
  },
  {
   "cell_type": "code",
   "execution_count": null,
   "id": "c8207df2",
   "metadata": {
    "collapsed": true,
    "jupyter": {
     "outputs_hidden": true
    },
    "tags": []
   },
   "outputs": [],
   "source": [
    "%%R\n",
    "library(Rtsne)\n",
    "\n",
    "process_seur <- function(seur, n.pca.dims = 50, assay = 'originalexp', verbose = F) {\n",
    "  cat('#\\t..\\tprocessing ',assay,'-assay..\\n', sep = '')\n",
    "  suppressWarnings({\n",
    "    if (assay == 'originalexp') {\n",
    "      cat('#\\t..\\t\\trunning sctransform..\\n')\n",
    "      seur <- SCTransform(seur, assay = 'originalexp', method = 'qpoisson', verbose = verbose)\n",
    "      cat('#\\t..\\t\\trunning PCA..\\n')\n",
    "      seur <- RunPCA(seur, assay = 'SCT', verbose = verbose)\n",
    "      cat('#\\t..\\t\\testimating global dims..\\n')\n",
    "      dims <- round(\n",
    "        as.numeric(\n",
    "          maxLikGlobalDimEst(\n",
    "            data = seur@reductions[['pca']][, 1:n.pca.dims],\n",
    "            k = 20)))\n",
    "      cat('#\\t..\\t\\t\\tdims:\\t',dims,'\\n')\n",
    "      cat('#\\t..\\t\\trunning tSNE..\\n')\n",
    "      seur <- RunTSNE(seur, assay = 'SCT', dims = seq(dims), verbose = verbose, check_duplicates = FALSE)\n",
    "      cat('#\\t..\\t\\trunning UMAP..\\n')\n",
    "      seur <- RunUMAP(seur, assay = 'SCT', dims = seq(dims), verbose = verbose)\n",
    "      cat('#\\t..\\t\\trunning FindNeighbors..\\n')\n",
    "      seur <- FindNeighbors(seur, assay = 'SCT', dims = seq(dims), verbose = verbose)\n",
    "      cat('#\\t..\\t\\trunning FindClusters..\\n')\n",
    "      seur <- FindClusters(seur, assay = 'SCT', verbose = verbose)\n",
    "    }\n",
    "    if (assay == 'HTO') {\n",
    "      cat('#\\t..\\t\\trunning PCA..\\n')\n",
    "      seur <- ScaleData(seur,\n",
    "                        assay = 'HTO',\n",
    "                        features = rownames(seur[['HTO']]@counts),\n",
    "                        verbose = verbose)\n",
    "      seur <- RunPCA(seur,\n",
    "                     assay = 'HTO',\n",
    "                     features = rownames(seur[['HTO']]@counts),\n",
    "                     reduction.name = 'hto.pca',\n",
    "                     reduction.key = 'htoPC_',\n",
    "                     approx=FALSE,\n",
    "                     verbose = verbose)\n",
    "      \n",
    "      cat('#\\t..\\t\\trunning tSNE..\\n')\n",
    "      seur <- RunTSNE(seur,\n",
    "                      distance.matrix = as.matrix(dist(t(GetAssayData(object = seur, assay = 'HTO')))),\n",
    "                      reduction.name = 'hto.tsne',\n",
    "                      reduction.key = 'htotSNE_',\n",
    "                      verbose = verbose,\n",
    "                      check_duplicates = FALSE)\n",
    "      \n",
    "      cat('#\\t..\\t\\trunning UMAP..\\n')\n",
    "      seur <- RunUMAP(seur,\n",
    "                      reduction = \"hto.pca\",\n",
    "                      dims = seq(rownames(seur@assays$HTO)),\n",
    "                      reduction.name = 'hto.umap',\n",
    "                      reduction.key = 'htoUMAP_',\n",
    "                      metric='correlation',\n",
    "                      verbose = verbose)\n",
    "    }\n",
    "  })\n",
    "  return(seur)\n",
    "}\n",
    "\n",
    "make_plot_htotsne <- function(meta.data) {\n",
    "    tmp.color.palette <- c(my.cols[['Doublet']],\n",
    "                           my.cols[['Negative']],\n",
    "                           my.cols[['Singlet']],\n",
    "                           my.cols[['intra-doublet']])\n",
    "\n",
    "    p <- ggplot(meta.data) +\n",
    "      geom_point(aes(x = HTO_tsne1, y = HTO_tsne2, col = HTO_globalClass, alpha = .25)) +\n",
    "      scale_color_manual(values = tmp.color.palette) +\n",
    "      labs(x = 'tSNE 1', y = 'tSNE 2', color = 'HTO classification') +\n",
    "      theme_minimal(base_size = base.size) +\n",
    "      guides(alpha = 'none') +\n",
    "      theme(text = element_text(family = plotting.font), legend.position = 'bottom') \n",
    "    \n",
    "\n",
    "    p <- patchwork::wrap_plots(p)\n",
    "    return(p)\n",
    "}\n",
    "\n",
    "dub_cutoff <- function(x) {\n",
    "  \n",
    "  # calculate number of neighbors at each proportion that are doublets\n",
    "  data.frame(\"proportion\" = x$RNA_doubletNeighborProportion) %>% \n",
    "    group_by(proportion) %>% \n",
    "    summarize(n_cells = n()) %>% \n",
    "    mutate(pct_cells = n_cells / sum(n_cells)) -> data \n",
    "  \n",
    "  \n",
    "  # find point at which we gain very few doublets as proportion increases \n",
    "  cut <- data$proportion[PCAtools::findElbowPoint(variance = sort(data$n_cells, decreasing = T)) + 1]\n",
    "  vec <- if_else(x$RNA_doubletNeighborProportion <= cut, F, T)\n",
    "  \n",
    "  data[['cut']] <- cut\n",
    "  \n",
    "  \n",
    "  return(vec)\n",
    "  \n",
    "}\n",
    "\n",
    "doublet_plot_list = list()\n",
    "\n",
    "\n",
    "\n",
    "sobj_list = c(sobj_list_d25_d50_d70,sobj_list_d70)\n",
    "for (name in names(sobj_list)) {\n",
    "    print(name)\n",
    "\n",
    "    sobj_temp = sobj_list[[name]]\n",
    "    \n",
    "    sobj_temp <- subset(x = sobj_temp,subset=nCount_originalexp > 0)\n",
    "\n",
    "    # identify intra-hash doublets                                                                             \n",
    "    sobj_temp <- process_seur(sobj_temp,assay = 'HTO')\n",
    "\n",
    "    sce.full <- as.SingleCellExperiment(sobj_temp)\n",
    "    sce.full <- logNormCounts(sce.full)\n",
    "    dec.hash <- modelGeneVar(sce.full)\n",
    "\n",
    "    top.hash <- getTopHVGs(dec.hash, n = 1000)\n",
    "    sce.full <- runPCA(sce.full, subset_row = top.hash, ncomponents = 20)\n",
    "    sce.full[['HTO_doubletBool']] <- if_else(sce.full[['sampleID']] == 'Doublet', true = T, false = F)\n",
    "                                                                                 \n",
    "\n",
    "    # Recovering the intra-sample doublets:\n",
    "    cat('#\\t..\\trecovering intra-sample doublets..\\n')\n",
    "    hashed.doublets <- scDblFinder::recoverDoublets(sce.full,\n",
    "                                                  use.dimred = 'PCA',\n",
    "                                                  doublets = sce.full[['HTO_doubletBool']],\n",
    "                                                  samples = table(sce.full[['sampleID']]))\n",
    "\n",
    "    sce.full[['RNA_doubletNeighborProportion']] <- hashed.doublets[['proportion']]\n",
    "    sce.full[['RNA_recoveredDoubletBool']] <- hashed.doublets[['predicted']]\n",
    "\n",
    "    cat('#\\t..\\trecovering doublet neighbors..\\n')\n",
    "    sce.full[['RNA_doubletNeighborBool']] <- dub_cutoff(sce.full)\n",
    "\n",
    "    sobj_temp[['HTO_doubletBool']] <- sce.full[['HTO_doubletBool']]\n",
    "    sobj_temp[['RNA_recoveredDoubletBool']] <- sce.full[['RNA_recoveredDoubletBool']]\n",
    "    sobj_temp[['RNA_doubletNeighborBool']] <- sce.full[['RNA_doubletNeighborBool']]\n",
    "    sobj_temp[['RNA_doubletNeighborProportion']] <- sce.full[['RNA_doubletNeighborProportion']]\n",
    "                                                                                 \n",
    "    sobj_temp[['HTO_globalClass']][sobj_temp[['RNA_recoveredDoubletBool']] == T] <- 'intra-doublet'  \n",
    "    #sobj[['sampleID']][sobj[['RNA_recoveredDoubletBool']] == T] <- 'intra-doublet'                                                                              \n",
    "                                                                                 \n",
    "    \n",
    "    sobj_temp <- process_seur(sobj_temp, assay = 'originalexp')\n",
    "\n",
    "    sobj_temp[['SCT_tsne1']] <- sobj_temp@reductions$tsne@cell.embeddings[,1]\n",
    "    sobj_temp[['SCT_tsne2']] <- sobj_temp@reductions$tsne@cell.embeddings[,2]\n",
    "    sobj_temp[['SCT_umap1']] <- sobj_temp@reductions$umap@cell.embeddings[,1]\n",
    "    sobj_temp[['SCT_umap2']] <- sobj_temp@reductions$umap@cell.embeddings[,2]\n",
    "\n",
    "\n",
    "    sobj_temp[['HTO_tsne1']] <- sobj_temp@reductions$hto.tsne@cell.embeddings[,1]\n",
    "    sobj_temp[['HTO_tsne2']] <- sobj_temp@reductions$hto.tsne@cell.embeddings[,2]\n",
    "    sobj_temp[['HTO_umap1']] <- sobj_temp@reductions$hto.umap@cell.embeddings[,1]\n",
    "    sobj_temp[['HTO_umap2']] <- sobj_temp@reductions$hto.umap@cell.embeddings[,2]\n",
    "\n",
    "    seurat_unfiltered_metadata <- sobj_temp[[c('reactionID','sampleID','nCount_RNA','nFeature_RNA','nCount_HTO','nFeature_HTO','nCount_spliced','nFeature_spliced','nCount_unspliced','nFeature_unspliced','nCount_SCT','nFeature_SCT','HTO_primaryID','HTO_secondaryID','HTO_margin','HTO_calledFeatures','HTO_globalClass','HTO_doubletBool','RNA_recoveredDoubletBool','RNA_doubletNeighborBool','RNA_doubletNeighborProportion','seurat_clusters','SCT_tsne1','SCT_tsne2','SCT_umap1','SCT_umap2','HTO_tsne1','HTO_tsne2','HTO_umap1','HTO_umap2')]]   \n",
    "    \n",
    "    doublet_plot_list[[ name ]] = seurat_unfiltered_metadata\n",
    "    #sobj@meta.data <- sobj[[c('reactionID','sampleID','nCount_RNA','nFeature_RNA','nCount_HTO','nFeature_HTO','nCount_spliced','nFeature_spliced','nCount_unspliced','nFeature_unspliced','nCount_SCT','nFeature_SCT','HTO_primaryID','HTO_secondaryID','HTO_margin','HTO_calledFeatures','HTO_globalClass','HTO_doubletBool','RNA_recoveredDoubletBool','RNA_doubletNeighborBool','RNA_doubletNeighborProportion','seurat_clusters')]]\n",
    "    }\n",
    "\n",
    "\n",
    "    "
   ]
  },
  {
   "cell_type": "markdown",
   "id": "1778a7b3-6dbf-47a6-be74-db546f8ecd0c",
   "metadata": {},
   "source": [
    "# Visualize HTO calling results"
   ]
  },
  {
   "cell_type": "code",
   "execution_count": null,
   "id": "36f35ec3",
   "metadata": {},
   "outputs": [],
   "source": [
    "%%R \n",
    "names(doublet_plot_list)\n"
   ]
  },
  {
   "cell_type": "code",
   "execution_count": null,
   "id": "7e1b7f0d",
   "metadata": {},
   "outputs": [],
   "source": [
    "%%R\n",
    "sample = 'D1' #Specify the sample to be plotted\n",
    "\n",
    "\n",
    "print(dim(sobj_list[[paste0('sobj.',sample)]]))\n",
    "print(table(sobj_list[[paste0('sobj.',sample)]]$HTO_globalClass))\n",
    "print(table(sobj_list[[paste0('sobj.',sample)]]$sampleID))"
   ]
  },
  {
   "cell_type": "code",
   "execution_count": null,
   "id": "3a8385ae",
   "metadata": {},
   "outputs": [],
   "source": [
    "%%R\n",
    "sobj = sobj_list[[paste0('sobj.',sample)]]\n",
    "Idents(sobj) <- \"HTO_globalClass\"\n",
    "VlnPlot(sobj, features = \"nCount_originalexp\", pt.size = 0, log = TRUE)"
   ]
  },
  {
   "cell_type": "code",
   "execution_count": null,
   "id": "079c6aed",
   "metadata": {},
   "outputs": [],
   "source": [
    "%%R\n",
    "print(knee_plots[[paste0('plots.',sample)]])"
   ]
  },
  {
   "cell_type": "code",
   "execution_count": null,
   "id": "14cef49e",
   "metadata": {},
   "outputs": [],
   "source": [
    "%%R\n",
    "print(paste0('Number of intra-doublets : ',table(doublet_plot_list[[paste0('sobj.',sample)]][['HTO_globalClass']])[['intra-doublet']]))\n",
    "make_plot_htotsne(doublet_plot_list[[paste0('sobj.',sample)]])"
   ]
  },
  {
   "cell_type": "markdown",
   "id": "069c3182-a703-4ef4-a1f8-7ee6ff40c799",
   "metadata": {},
   "source": [
    "# QC and filtering"
   ]
  },
  {
   "cell_type": "code",
   "execution_count": null,
   "id": "e169b37b",
   "metadata": {},
   "outputs": [],
   "source": [
    "d1_adata = d1_adata[~d1_adata.obs['sampleID'].isin([\"Doublet\", \"Negative\"])]\n",
    "e1_adata = e1_adata[~e1_adata.obs['sampleID'].isin([\"Doublet\", \"Negative\"])]\n",
    "f1_adata = f1_adata[~f1_adata.obs['sampleID'].isin([\"Doublet\", \"Negative\"])]\n",
    "g1_adata = g1_adata[~g1_adata.obs['sampleID'].isin([\"Doublet\", \"Negative\"])]\n",
    "h1_adata = h1_adata[~h1_adata.obs['sampleID'].isin([\"Doublet\", \"Negative\"])]\n",
    "c2_adata = c2_adata[~c2_adata.obs['sampleID'].isin([\"Doublet\", \"Negative\"])]\n",
    "d2_adata = d2_adata[~d2_adata.obs['sampleID'].isin([\"Doublet\", \"Negative\"])]\n",
    "e2_adata = e2_adata[~e2_adata.obs['sampleID'].isin([\"Doublet\", \"Negative\"])]\n",
    "f2_adata = f2_adata[~f2_adata.obs['sampleID'].isin([\"Doublet\", \"Negative\"])]\n",
    "g2_adata = g2_adata[~g2_adata.obs['sampleID'].isin([\"Doublet\", \"Negative\"])]\n",
    "h2_adata = h2_adata[~h2_adata.obs['sampleID'].isin([\"Doublet\", \"Negative\"])]\n",
    "\n",
    "a6_adata = a6_adata[~a6_adata.obs['sampleID'].isin([\"Doublet\", \"Negative\"])]\n",
    "a7_adata = a7_adata[~a7_adata.obs['sampleID'].isin([\"Doublet\", \"Negative\"])]\n",
    "a9_adata = a9_adata[~a9_adata.obs['sampleID'].isin([\"Doublet\", \"Negative\"])]\n",
    "a11_adata = a11_adata[~a11_adata.obs['sampleID'].isin([\"Doublet\", \"Negative\"])]\n",
    "b5_adata = b5_adata[~b5_adata.obs['sampleID'].isin([\"Doublet\", \"Negative\"])]\n",
    "b6_adata = b6_adata[~b6_adata.obs['sampleID'].isin([\"Doublet\", \"Negative\"])]\n",
    "b7_adata = b7_adata[~b7_adata.obs['sampleID'].isin([\"Doublet\", \"Negative\"])]\n",
    "b8_adata = b8_adata[~b8_adata.obs['sampleID'].isin([\"Doublet\", \"Negative\"])]\n",
    "b10_adata = b10_adata[~b10_adata.obs['sampleID'].isin([\"Doublet\", \"Negative\"])]\n",
    "\n",
    "d1_adata.var = d1_adata_var_meta \n",
    "e1_adata.var = e1_adata_var_meta\n",
    "f1_adata.var = f1_adata_var_meta \n",
    "g1_adata.var = g1_adata_var_meta \n",
    "h1_adata.var = h1_adata_var_meta \n",
    "c2_adata.var = c2_adata_var_meta \n",
    "d2_adata.var = d2_adata_var_meta\n",
    "e2_adata.var = e2_adata_var_meta\n",
    "f2_adata.var = f2_adata_var_meta \n",
    "g2_adata.var = g2_adata_var_meta\n",
    "h2_adata.var = h2_adata_var_meta\n",
    "\n",
    "a6_adata.var = a6_adata_var_meta \n",
    "a7_adata.var = a7_adata_var_meta\n",
    "a9_adata.var = a9_adata_var_meta \n",
    "a11_adata.var = a11_adata_var_meta \n",
    "b5_adata.var = b5_adata_var_meta \n",
    "b6_adata.var = b6_adata_var_meta \n",
    "b7_adata.var = b7_adata_var_meta\n",
    "b8_adata.var = b8_adata_var_meta\n",
    "b10_adata.var = b10_adata_var_meta "
   ]
  },
  {
   "cell_type": "code",
   "execution_count": null,
   "id": "87c22187",
   "metadata": {},
   "outputs": [],
   "source": [
    "adatas = {'D1':d1_adata, 'E1':e1_adata, 'F1':f1_adata, 'G1':g1_adata, 'H1':h1_adata, 'C2':c2_adata, \n",
    "          'D2':d2_adata, 'E2':e2_adata, 'F2':f2_adata, 'G2':g2_adata, 'H2':h2_adata,'A6':a6_adata, \n",
    "          'A7':a7_adata, 'A9':a9_adata, 'A11':a11_adata, 'B5':b5_adata, 'B6':b6_adata, \n",
    "          'B7':b7_adata, 'B8':b8_adata, 'B10':b10_adata}\n",
    "\n",
    "for key, adata in adatas.items():\n",
    "\n",
    "    print(key)\n",
    "    adata.obs['reactionID'] = key\n",
    "    \n",
    "    # add reaction pattern to cell barcode\n",
    "    adata.obs.index = [index + '-' + key for index in adata.obs.index]\n",
    "    \n",
    "    # remove th hashtag from the sample id\n",
    "    adata.obs['sampleID'] = adata.obs['sampleID'].map(lambda x:x[0:x.rfind('-')])\n",
    "    \n",
    "    # Add diff protocol, timepoint, and condition to pandas df\n",
    "    adata.obs['diff_batch'] = adata.obs['sampleID'].map(lambda x:x[0:x.find('-')]).values\n",
    "    adata.obs['day'] = adata.obs['sampleID'].map(lambda x:x[x.find('-')+1:x.find('-')+4]).values\n",
    "    adata.obs['condition'] = adata.obs['sampleID'].map(lambda x:x[x.rfind('-')+1:]).values\n",
    "    \n",
    "    # Remove ZA57 batch were patterning went wrong\n",
    "    #adata = adata[adata.obs.diff_batch.isin(['ZA58','ZA59','ZA60'])].copy()\n",
    "    #print(set(adata.obs.diff_batch.values))\n",
    "    \n",
    "    # Rename the protocols \n",
    "    protocol_dict = {'ZA58':'batch-1', 'ZA59': 'batch-2', 'ZA60': 'batch-3'}\n",
    "    adata.obs['diff_batch_2'] = adata.obs['diff_batch'].map(protocol_dict)\n",
    "    \n",
    "    # Set the condition to control if no condition applied\n",
    "    control_loc = pd.Series(list(adata[adata.obs[\"condition\"].isin(['D25','D50','D70'])].obs.index), dtype=\"category\")\n",
    "    adata.obs[\"condition\"].loc[control_loc] = 'CNT'\n",
    "    adata.obs['condition'] = adata.obs['condition'].astype(\"category\")\n",
    "    adata.obs['condition'] = adata.obs['condition'].cat.rename_categories({'CNT':'control'})\n",
    "    \n",
    "    adata.obs['dimensionality'] = '2D'\n",
    "    #2D vs Spheroid\n",
    "    organoids = pd.Series(list(adata[adata.obs[\"condition\"].isin([\"organoid\"])].obs.index), dtype=\"category\")\n",
    "    adata.obs[\"dimensionality\"].loc[organoids] = \"spheroid\"\n",
    "    adata.obs['condition'] = adata.obs['condition'].cat.rename_categories({'organoid':'spheroid'})\n",
    "    \n",
    "    \n",
    "    # Remove unnecessary df from adata\n",
    "    del adata.obsm\n",
    "    adata.obs = adata.obs[['sampleID','reactionID','diff_batch','diff_batch_2', 'dimensionality', 'day', 'condition', 'nCount_originalexp', 'nFeature_originalexp', 'nCount_HTO',\n",
    "       'nFeature_HTO']]\n",
    "    #print(adata)"
   ]
  },
  {
   "cell_type": "code",
   "execution_count": null,
   "id": "2a8b673b",
   "metadata": {},
   "outputs": [],
   "source": [
    "\n",
    "d1_adata = d1_adata[~d1_adata.obs['diff_batch'].isin([\"ZA57\"])]\n",
    "e1_adata = e1_adata[~e1_adata.obs['diff_batch'].isin([\"ZA57\"])]\n",
    "f1_adata = f1_adata[~f1_adata.obs['diff_batch'].isin([\"ZA57\"])]\n",
    "g1_adata = g1_adata[~g1_adata.obs['diff_batch'].isin([\"ZA57\"])]\n",
    "h1_adata = h1_adata[~h1_adata.obs['diff_batch'].isin([\"ZA57\"])]\n",
    "c2_adata = c2_adata[~c2_adata.obs['diff_batch'].isin([\"ZA57\"])]\n",
    "d2_adata = d2_adata[~d2_adata.obs['diff_batch'].isin([\"ZA57\"])]\n",
    "e2_adata = e2_adata[~e2_adata.obs['diff_batch'].isin([\"ZA57\"])]\n",
    "f2_adata = f2_adata[~f2_adata.obs['diff_batch'].isin([\"ZA57\"])]\n",
    "g2_adata = g2_adata[~g2_adata.obs['diff_batch'].isin([\"ZA57\"])]\n",
    "h2_adata = h2_adata[~h2_adata.obs['diff_batch'].isin([\"ZA57\"])]\n",
    "\n",
    "a6_adata = a6_adata[~a6_adata.obs['diff_batch'].isin([\"ZA57\"])]\n",
    "a7_adata = a7_adata[~a7_adata.obs['diff_batch'].isin([\"ZA57\"])]\n",
    "a9_adata = a9_adata[~a9_adata.obs['diff_batch'].isin([\"ZA57\"])]\n",
    "a11_adata = a11_adata[~a11_adata.obs['diff_batch'].isin([\"ZA57\"])]\n",
    "b5_adata = b5_adata[~b5_adata.obs['diff_batch'].isin([\"ZA57\"])]\n",
    "b6_adata = b6_adata[~b6_adata.obs['diff_batch'].isin([\"ZA57\"])]\n",
    "b7_adata = b7_adata[~b7_adata.obs['diff_batch'].isin([\"ZA57\"])]\n",
    "b8_adata = b8_adata[~b8_adata.obs['diff_batch'].isin([\"ZA57\"])]\n",
    "b10_adata = b10_adata[~b10_adata.obs['diff_batch'].isin([\"ZA57\"])]\n"
   ]
  },
  {
   "cell_type": "code",
   "execution_count": null,
   "id": "b6d73f51",
   "metadata": {},
   "outputs": [],
   "source": [
    "adata_tmp = d1_adata.concatenate(e1_adata, f1_adata, g1_adata,h1_adata,c2_adata,d2_adata,\n",
    "                                    e2_adata, f2_adata, g2_adata,h2_adata,a6_adata,a7_adata, a9_adata, a11_adata, b5_adata,\n",
    "                                 b6_adata, b7_adata, b8_adata, b10_adata, batch_key=None, join='outer')"
   ]
  },
  {
   "cell_type": "code",
   "execution_count": null,
   "id": "5443b339",
   "metadata": {},
   "outputs": [],
   "source": [
    "adata_tmp.var['ribo'] = adata_tmp.var_names.str.startswith((\"RPS\",\"RPL\"))\n",
    "adata_tmp.var['mt'] = adata_tmp.var_names.str.startswith('MT-') "
   ]
  },
  {
   "cell_type": "code",
   "execution_count": null,
   "id": "1e57d313",
   "metadata": {},
   "outputs": [],
   "source": [
    "sc.pp.calculate_qc_metrics(adata_tmp, qc_vars=['ribo', 'mt'], percent_top=None, log1p=False, inplace=True)\n"
   ]
  },
  {
   "cell_type": "markdown",
   "id": "3bb401ea",
   "metadata": {},
   "source": [
    "# D1"
   ]
  },
  {
   "cell_type": "code",
   "execution_count": null,
   "id": "114c6181",
   "metadata": {},
   "outputs": [],
   "source": [
    "# Compute qc metrix\n",
    "d1_adata.var['mt'] = d1_adata.var_names.str.startswith('MT-')  # annotate the group of mitochondrial genes as 'mt'\n",
    "sc.pp.calculate_qc_metrics(d1_adata, qc_vars=['mt'], percent_top=None, log1p=False, inplace=True)\n",
    "fig, (ax0, ax1, ax2, ax3, ax4, ax5) = plt.subplots(1, 6,  figsize=(20,4), gridspec_kw={'wspace':0.5})\n",
    "ax0_dict = sc.pl.violin(d1_adata,[\"pct_counts_mt\"], jitter=0.5, show=False, ax=ax0, stripplot=False)\n",
    "ax1_dict = sc.pl.violin(d1_adata,['n_genes_by_counts'], jitter=0.5, show=False, ax = ax1, stripplot=False) \n",
    "ax2_dict = sc.pl.violin(d1_adata,['total_counts'], jitter=0.5, show=False, ax = ax2, stripplot=False)\n",
    "ax3_dict = sns.histplot(d1_adata.obs[\"n_genes_by_counts\"],  ax = ax3)\n",
    "ax4_dict = sns.histplot(d1_adata.obs[\"total_counts\"], ax = ax4)\n",
    "ax5_dict = sc.pl.scatter(d1_adata, x='total_counts', y='n_genes_by_counts', show=False, ax=ax5)"
   ]
  },
  {
   "cell_type": "code",
   "execution_count": null,
   "id": "da8d87cc",
   "metadata": {},
   "outputs": [],
   "source": [
    "# perform fitering\n",
    "sc.pp.filter_genes(d1_adata, min_cells=3)\n",
    "sc.pp.filter_cells(d1_adata, min_counts=800)\n",
    "sc.pp.filter_cells(d1_adata, max_counts=19000)\n",
    "sc.pp.filter_cells(d1_adata, min_genes=800)\n",
    "sc.pp.filter_cells(d1_adata, max_genes=6600)\n",
    "d1_adata = d1_adata[d1_adata.obs.pct_counts_mt <1.5, :] # Remove cells with high mito content"
   ]
  },
  {
   "cell_type": "code",
   "execution_count": null,
   "id": "2cae9405",
   "metadata": {},
   "outputs": [],
   "source": [
    "# Compute qc metrix\n",
    "d1_adata.var['mt'] = d1_adata.var_names.str.startswith('MT-')  # annotate the group of mitochondrial genes as 'mt'\n",
    "sc.pp.calculate_qc_metrics(d1_adata, qc_vars=['mt'], percent_top=None, log1p=False, inplace=True)\n",
    "fig, (ax0, ax1, ax2, ax3, ax4, ax5) = plt.subplots(1, 6,  figsize=(20,4), gridspec_kw={'wspace':0.5})\n",
    "ax0_dict = sc.pl.violin(d1_adata,[\"pct_counts_mt\"], jitter=0.5, show=False, ax=ax0, stripplot=False)\n",
    "ax1_dict = sc.pl.violin(d1_adata,['n_genes_by_counts'], jitter=0.5, show=False, ax = ax1, stripplot=False) \n",
    "ax2_dict = sc.pl.violin(d1_adata,['total_counts'], jitter=0.5, show=False, ax = ax2, stripplot=False)\n",
    "ax3_dict = sns.histplot(d1_adata.obs[\"n_genes_by_counts\"],  ax = ax3)\n",
    "ax4_dict = sns.histplot(d1_adata.obs[\"total_counts\"], ax = ax4)\n",
    "ax5_dict = sc.pl.scatter(d1_adata, x='total_counts', y='n_genes_by_counts', show=False, ax=ax5)"
   ]
  },
  {
   "cell_type": "code",
   "execution_count": null,
   "id": "9af2e554",
   "metadata": {},
   "outputs": [],
   "source": [
    "# Remove mito and ribo genes\n",
    "ribo = d1_adata.var_names.str.startswith(('RPL', \"RPS\"))\n",
    "mito = d1_adata.var_names.str.startswith('MT-')\n",
    "remove = np.add(mito, ribo)\n",
    "keep = np.invert(remove)\n",
    "d1_adata = d1_adata[:,keep]\n",
    "\n",
    "d1_adata.layers[\"counts\"] = d1_adata.X.copy()"
   ]
  },
  {
   "cell_type": "code",
   "execution_count": null,
   "id": "940a4eea",
   "metadata": {},
   "outputs": [],
   "source": [
    "d1_adata.shape"
   ]
  },
  {
   "cell_type": "markdown",
   "id": "0946b389",
   "metadata": {},
   "source": [
    "# E1"
   ]
  },
  {
   "cell_type": "code",
   "execution_count": null,
   "id": "cef17966",
   "metadata": {},
   "outputs": [],
   "source": [
    "# Compute qc metrix\n",
    "e1_adata.var['mt'] = e1_adata.var_names.str.startswith('MT-')  # annotate the group of mitochondrial genes as 'mt'\n",
    "sc.pp.calculate_qc_metrics(e1_adata, qc_vars=['mt'], percent_top=None, log1p=False, inplace=True)\n",
    "fig, (ax0, ax1, ax2, ax3, ax4, ax5) = plt.subplots(1, 6,  figsize=(20,4), gridspec_kw={'wspace':0.5})\n",
    "ax0_dict = sc.pl.violin(e1_adata,[\"pct_counts_mt\"], jitter=0.5, show=False, ax=ax0, stripplot=False)\n",
    "ax1_dict = sc.pl.violin(e1_adata,['n_genes_by_counts'], jitter=0.5, show=False, ax = ax1, stripplot=False) \n",
    "ax2_dict = sc.pl.violin(e1_adata,['total_counts'], jitter=0.5, show=False, ax = ax2, stripplot=False)\n",
    "ax3_dict = sns.histplot(e1_adata.obs[\"n_genes_by_counts\"],  ax = ax3)\n",
    "ax4_dict = sns.histplot(e1_adata.obs[\"total_counts\"], ax = ax4)\n",
    "ax5_dict = sc.pl.scatter(e1_adata, x='total_counts', y='n_genes_by_counts', show=False, ax=ax5)"
   ]
  },
  {
   "cell_type": "code",
   "execution_count": null,
   "id": "39fad749",
   "metadata": {},
   "outputs": [],
   "source": [
    "# perform fitering\n",
    "sc.pp.filter_genes(e1_adata, min_cells=3)\n",
    "sc.pp.filter_cells(e1_adata, min_counts=1000)\n",
    "sc.pp.filter_cells(e1_adata, max_counts=21000)\n",
    "sc.pp.filter_cells(e1_adata, min_genes=800)\n",
    "sc.pp.filter_cells(e1_adata, max_genes=7000)\n",
    "e1_adata = e1_adata[e1_adata.obs.pct_counts_mt <1.5, :] # Remove cells with high mito content"
   ]
  },
  {
   "cell_type": "code",
   "execution_count": null,
   "id": "5044493a",
   "metadata": {},
   "outputs": [],
   "source": [
    "# Compute qc metrix\n",
    "e1_adata.var['mt'] = e1_adata.var_names.str.startswith('MT-')  # annotate the group of mitochondrial genes as 'mt'\n",
    "sc.pp.calculate_qc_metrics(e1_adata, qc_vars=['mt'], percent_top=None, log1p=False, inplace=True)\n",
    "fig, (ax0, ax1, ax2, ax3, ax4, ax5) = plt.subplots(1, 6,  figsize=(20,4), gridspec_kw={'wspace':0.5})\n",
    "ax0_dict = sc.pl.violin(e1_adata,[\"pct_counts_mt\"], jitter=0.5, show=False, ax=ax0, stripplot=False)\n",
    "ax1_dict = sc.pl.violin(e1_adata,['n_genes_by_counts'], jitter=0.5, show=False, ax = ax1, stripplot=False) \n",
    "ax2_dict = sc.pl.violin(e1_adata,['total_counts'], jitter=0.5, show=False, ax = ax2, stripplot=False)\n",
    "ax3_dict = sns.histplot(e1_adata.obs[\"n_genes_by_counts\"],  ax = ax3)\n",
    "ax4_dict = sns.histplot(e1_adata.obs[\"total_counts\"], ax = ax4)\n",
    "ax5_dict = sc.pl.scatter(e1_adata, x='total_counts', y='n_genes_by_counts', show=False, ax=ax5)"
   ]
  },
  {
   "cell_type": "code",
   "execution_count": null,
   "id": "ec4fbf2c",
   "metadata": {},
   "outputs": [],
   "source": [
    "# Remove mito and ribo genes\n",
    "ribo = e1_adata.var_names.str.startswith(('RPL', \"RPS\"))\n",
    "mito = e1_adata.var_names.str.startswith('MT-')\n",
    "remove = np.add(mito, ribo)\n",
    "keep = np.invert(remove)\n",
    "e1_adata = e1_adata[:,keep]\n",
    "\n",
    "e1_adata.layers[\"counts\"] = e1_adata.X.copy()"
   ]
  },
  {
   "cell_type": "code",
   "execution_count": null,
   "id": "ce942361",
   "metadata": {},
   "outputs": [],
   "source": [
    "e1_adata.shape"
   ]
  },
  {
   "cell_type": "markdown",
   "id": "e5bb3501",
   "metadata": {},
   "source": [
    "# F1"
   ]
  },
  {
   "cell_type": "code",
   "execution_count": null,
   "id": "1b5febff",
   "metadata": {},
   "outputs": [],
   "source": [
    "# Compute qc metrix\n",
    "f1_adata.var['mt'] = f1_adata.var_names.str.startswith('MT-')  # annotate the group of mitochondrial genes as 'mt'\n",
    "sc.pp.calculate_qc_metrics(f1_adata, qc_vars=['mt'], percent_top=None, log1p=False, inplace=True)\n",
    "fig, (ax0, ax1, ax2, ax3, ax4, ax5) = plt.subplots(1, 6,  figsize=(20,4), gridspec_kw={'wspace':0.5})\n",
    "ax0_dict = sc.pl.violin(f1_adata,[\"pct_counts_mt\"], jitter=0.5, show=False, ax=ax0, stripplot=False)\n",
    "ax1_dict = sc.pl.violin(f1_adata,['n_genes_by_counts'], jitter=0.5, show=False, ax = ax1, stripplot=False) \n",
    "ax2_dict = sc.pl.violin(f1_adata,['total_counts'], jitter=0.5, show=False, ax = ax2, stripplot=False)\n",
    "ax3_dict = sns.histplot(f1_adata.obs[\"n_genes_by_counts\"],  ax = ax3)\n",
    "ax4_dict = sns.histplot(f1_adata.obs[\"total_counts\"], ax = ax4)\n",
    "ax5_dict = sc.pl.scatter(f1_adata, x='total_counts', y='n_genes_by_counts', show=False, ax=ax5)"
   ]
  },
  {
   "cell_type": "code",
   "execution_count": null,
   "id": "73b32e5c",
   "metadata": {},
   "outputs": [],
   "source": [
    "# perform fitering\n",
    "sc.pp.filter_genes(f1_adata, min_cells=3)\n",
    "sc.pp.filter_cells(f1_adata, min_counts=1000)\n",
    "sc.pp.filter_cells(f1_adata, max_counts=18000)\n",
    "sc.pp.filter_cells(f1_adata, min_genes=800)\n",
    "sc.pp.filter_cells(f1_adata, max_genes=6700)\n",
    "f1_adata = f1_adata[f1_adata.obs.pct_counts_mt <1.5, :] # Remove cells with high mito content"
   ]
  },
  {
   "cell_type": "code",
   "execution_count": null,
   "id": "2881f5eb",
   "metadata": {},
   "outputs": [],
   "source": [
    "# Compute qc metrix\n",
    "f1_adata.var['mt'] = f1_adata.var_names.str.startswith('MT-')  # annotate the group of mitochondrial genes as 'mt'\n",
    "sc.pp.calculate_qc_metrics(f1_adata, qc_vars=['mt'], percent_top=None, log1p=False, inplace=True)\n",
    "fig, (ax0, ax1, ax2, ax3, ax4, ax5) = plt.subplots(1, 6,  figsize=(20,4), gridspec_kw={'wspace':0.5})\n",
    "ax0_dict = sc.pl.violin(f1_adata,[\"pct_counts_mt\"], jitter=0.5, show=False, ax=ax0, stripplot=False)\n",
    "ax1_dict = sc.pl.violin(f1_adata,['n_genes_by_counts'], jitter=0.5, show=False, ax = ax1, stripplot=False) \n",
    "ax2_dict = sc.pl.violin(f1_adata,['total_counts'], jitter=0.5, show=False, ax = ax2, stripplot=False)\n",
    "ax3_dict = sns.histplot(f1_adata.obs[\"n_genes_by_counts\"],  ax = ax3)\n",
    "ax4_dict = sns.histplot(f1_adata.obs[\"total_counts\"], ax = ax4)\n",
    "ax5_dict = sc.pl.scatter(f1_adata, x='total_counts', y='n_genes_by_counts', show=False, ax=ax5)"
   ]
  },
  {
   "cell_type": "code",
   "execution_count": null,
   "id": "3be8b217",
   "metadata": {},
   "outputs": [],
   "source": [
    "# Remove mito and ribo genes\n",
    "ribo = f1_adata.var_names.str.startswith(('RPL', \"RPS\"))\n",
    "mito = f1_adata.var_names.str.startswith('MT-')\n",
    "remove = np.add(mito, ribo)\n",
    "keep = np.invert(remove)\n",
    "f1_adata = f1_adata[:,keep]\n",
    "\n",
    "f1_adata.layers[\"counts\"] = f1_adata.X.copy()"
   ]
  },
  {
   "cell_type": "code",
   "execution_count": null,
   "id": "8ebe668b",
   "metadata": {},
   "outputs": [],
   "source": [
    "f1_adata.shape"
   ]
  },
  {
   "cell_type": "markdown",
   "id": "568a2199",
   "metadata": {},
   "source": [
    "# G1"
   ]
  },
  {
   "cell_type": "code",
   "execution_count": null,
   "id": "118f0414",
   "metadata": {},
   "outputs": [],
   "source": [
    "# Compute qc metrix\n",
    "g1_adata.var['mt'] = g1_adata.var_names.str.startswith('MT-')  # annotate the group of mitochondrial genes as 'mt'\n",
    "sc.pp.calculate_qc_metrics(g1_adata, qc_vars=['mt'], percent_top=None, log1p=False, inplace=True)\n",
    "fig, (ax0, ax1, ax2, ax3, ax4, ax5) = plt.subplots(1, 6,  figsize=(20,4), gridspec_kw={'wspace':0.5})\n",
    "ax0_dict = sc.pl.violin(g1_adata,[\"pct_counts_mt\"], jitter=0.5, show=False, ax=ax0, stripplot=False)\n",
    "ax1_dict = sc.pl.violin(g1_adata,['n_genes_by_counts'], jitter=0.5, show=False, ax = ax1, stripplot=False) \n",
    "ax2_dict = sc.pl.violin(g1_adata,['total_counts'], jitter=0.5, show=False, ax = ax2, stripplot=False)\n",
    "ax3_dict = sns.histplot(g1_adata.obs[\"n_genes_by_counts\"],  ax = ax3)\n",
    "ax4_dict = sns.histplot(g1_adata.obs[\"total_counts\"], ax = ax4)\n",
    "ax5_dict = sc.pl.scatter(g1_adata, x='total_counts', y='n_genes_by_counts', show=False, ax=ax5)"
   ]
  },
  {
   "cell_type": "code",
   "execution_count": null,
   "id": "58c798d0",
   "metadata": {},
   "outputs": [],
   "source": [
    "# perform fitering\n",
    "sc.pp.filter_genes(g1_adata, min_cells=3)\n",
    "sc.pp.filter_cells(g1_adata, min_counts=800)\n",
    "sc.pp.filter_cells(g1_adata, max_counts=25000)\n",
    "sc.pp.filter_cells(g1_adata, min_genes=1100)\n",
    "sc.pp.filter_cells(g1_adata, max_genes=7900)\n",
    "g1_adata = g1_adata[g1_adata.obs.pct_counts_mt <3.5, :] # Remove cells with high mito content"
   ]
  },
  {
   "cell_type": "code",
   "execution_count": null,
   "id": "cb85e9c7",
   "metadata": {},
   "outputs": [],
   "source": [
    "# Compute qc metrix\n",
    "g1_adata.var['mt'] = g1_adata.var_names.str.startswith('MT-')  # annotate the group of mitochondrial genes as 'mt'\n",
    "sc.pp.calculate_qc_metrics(g1_adata, qc_vars=['mt'], percent_top=None, log1p=False, inplace=True)\n",
    "fig, (ax0, ax1, ax2, ax3, ax4, ax5) = plt.subplots(1, 6,  figsize=(20,4), gridspec_kw={'wspace':0.5})\n",
    "ax0_dict = sc.pl.violin(g1_adata,[\"pct_counts_mt\"], jitter=0.5, show=False, ax=ax0, stripplot=False)\n",
    "ax1_dict = sc.pl.violin(g1_adata,['n_genes_by_counts'], jitter=0.5, show=False, ax = ax1, stripplot=False) \n",
    "ax2_dict = sc.pl.violin(g1_adata,['total_counts'], jitter=0.5, show=False, ax = ax2, stripplot=False)\n",
    "ax3_dict = sns.histplot(g1_adata.obs[\"n_genes_by_counts\"],  ax = ax3)\n",
    "ax4_dict = sns.histplot(g1_adata.obs[\"total_counts\"], ax = ax4)\n",
    "ax5_dict = sc.pl.scatter(g1_adata, x='total_counts', y='n_genes_by_counts', show=False, ax=ax5)"
   ]
  },
  {
   "cell_type": "code",
   "execution_count": null,
   "id": "9d9166ce",
   "metadata": {},
   "outputs": [],
   "source": [
    "# Remove mito and ribo genes\n",
    "ribo = g1_adata.var_names.str.startswith(('RPL', \"RPS\"))\n",
    "mito = g1_adata.var_names.str.startswith('MT-')\n",
    "remove = np.add(mito, ribo)\n",
    "keep = np.invert(remove)\n",
    "g1_adata = g1_adata[:,keep]\n",
    "\n",
    "g1_adata.layers[\"counts\"] = g1_adata.X.copy()"
   ]
  },
  {
   "cell_type": "code",
   "execution_count": null,
   "id": "f32349e2",
   "metadata": {},
   "outputs": [],
   "source": [
    "g1_adata.shape"
   ]
  },
  {
   "cell_type": "markdown",
   "id": "51ef8d5a",
   "metadata": {},
   "source": [
    "# H1"
   ]
  },
  {
   "cell_type": "code",
   "execution_count": null,
   "id": "5965f353",
   "metadata": {},
   "outputs": [],
   "source": [
    "# Compute qc metrix\n",
    "h1_adata.var['mt'] = h1_adata.var_names.str.startswith('MT-')  # annotate the group of mitochondrial genes as 'mt'\n",
    "sc.pp.calculate_qc_metrics(h1_adata, qc_vars=['mt'], percent_top=None, log1p=False, inplace=True)\n",
    "fig, (ax0, ax1, ax2, ax3, ax4, ax5) = plt.subplots(1, 6,  figsize=(20,4), gridspec_kw={'wspace':0.5})\n",
    "ax0_dict = sc.pl.violin(h1_adata,[\"pct_counts_mt\"], jitter=0.5, show=False, ax=ax0, stripplot=False)\n",
    "ax1_dict = sc.pl.violin(h1_adata,['n_genes_by_counts'], jitter=0.5, show=False, ax = ax1, stripplot=False) \n",
    "ax2_dict = sc.pl.violin(h1_adata,['total_counts'], jitter=0.5, show=False, ax = ax2, stripplot=False)\n",
    "ax3_dict = sns.histplot(h1_adata.obs[\"n_genes_by_counts\"],  ax = ax3)\n",
    "ax4_dict = sns.histplot(h1_adata.obs[\"total_counts\"], ax = ax4)\n",
    "ax5_dict = sc.pl.scatter(h1_adata, x='total_counts', y='n_genes_by_counts', show=False, ax=ax5)"
   ]
  },
  {
   "cell_type": "code",
   "execution_count": null,
   "id": "d50c32d5",
   "metadata": {},
   "outputs": [],
   "source": [
    "# perform fitering\n",
    "sc.pp.filter_genes(h1_adata, min_cells=3)\n",
    "sc.pp.filter_cells(h1_adata, min_counts=800)\n",
    "sc.pp.filter_cells(h1_adata, max_counts=26000)\n",
    "sc.pp.filter_cells(h1_adata, min_genes=1100)\n",
    "sc.pp.filter_cells(h1_adata, max_genes=8000)\n",
    "h1_adata = h1_adata[h1_adata.obs.pct_counts_mt <3.5, :] # Remove cells with high mito content"
   ]
  },
  {
   "cell_type": "code",
   "execution_count": null,
   "id": "0dbe6525",
   "metadata": {},
   "outputs": [],
   "source": [
    "# Compute qc metrix\n",
    "h1_adata.var['mt'] = h1_adata.var_names.str.startswith('MT-')  # annotate the group of mitochondrial genes as 'mt'\n",
    "sc.pp.calculate_qc_metrics(h1_adata, qc_vars=['mt'], percent_top=None, log1p=False, inplace=True)\n",
    "fig, (ax0, ax1, ax2, ax3, ax4, ax5) = plt.subplots(1, 6,  figsize=(20,4), gridspec_kw={'wspace':0.5})\n",
    "ax0_dict = sc.pl.violin(h1_adata,[\"pct_counts_mt\"], jitter=0.5, show=False, ax=ax0, stripplot=False)\n",
    "ax1_dict = sc.pl.violin(h1_adata,['n_genes_by_counts'], jitter=0.5, show=False, ax = ax1, stripplot=False) \n",
    "ax2_dict = sc.pl.violin(h1_adata,['total_counts'], jitter=0.5, show=False, ax = ax2, stripplot=False)\n",
    "ax3_dict = sns.histplot(h1_adata.obs[\"n_genes_by_counts\"],  ax = ax3)\n",
    "ax4_dict = sns.histplot(h1_adata.obs[\"total_counts\"], ax = ax4)\n",
    "ax5_dict = sc.pl.scatter(h1_adata, x='total_counts', y='n_genes_by_counts', show=False, ax=ax5)"
   ]
  },
  {
   "cell_type": "code",
   "execution_count": null,
   "id": "7ef6f7bb",
   "metadata": {},
   "outputs": [],
   "source": [
    "# Remove mito and ribo genes\n",
    "ribo = h1_adata.var_names.str.startswith(('RPL', \"RPS\"))\n",
    "mito = h1_adata.var_names.str.startswith('MT-')\n",
    "remove = np.add(mito, ribo)\n",
    "keep = np.invert(remove)\n",
    "h1_adata = h1_adata[:,keep]\n",
    "\n",
    "h1_adata.layers[\"counts\"] = h1_adata.X.copy()"
   ]
  },
  {
   "cell_type": "code",
   "execution_count": null,
   "id": "e0cb5e10",
   "metadata": {},
   "outputs": [],
   "source": [
    "h1_adata.shape"
   ]
  },
  {
   "cell_type": "markdown",
   "id": "c690a85b",
   "metadata": {},
   "source": [
    "# C2"
   ]
  },
  {
   "cell_type": "code",
   "execution_count": null,
   "id": "84557657",
   "metadata": {},
   "outputs": [],
   "source": [
    "# Compute qc metrix\n",
    "c2_adata.var['mt'] = c2_adata.var_names.str.startswith('MT-')  # annotate the group of mitochondrial genes as 'mt'\n",
    "sc.pp.calculate_qc_metrics(c2_adata, qc_vars=['mt'], percent_top=None, log1p=False, inplace=True)\n",
    "fig, (ax0, ax1, ax2, ax3, ax4, ax5) = plt.subplots(1, 6,  figsize=(20,4), gridspec_kw={'wspace':0.5})\n",
    "ax0_dict = sc.pl.violin(c2_adata,[\"pct_counts_mt\"], jitter=0.5, show=False, ax=ax0, stripplot=False)\n",
    "ax1_dict = sc.pl.violin(c2_adata,['n_genes_by_counts'], jitter=0.5, show=False, ax = ax1, stripplot=False) \n",
    "ax2_dict = sc.pl.violin(c2_adata,['total_counts'], jitter=0.5, show=False, ax = ax2, stripplot=False)\n",
    "ax3_dict = sns.histplot(c2_adata.obs[\"n_genes_by_counts\"],  ax = ax3)\n",
    "ax4_dict = sns.histplot(c2_adata.obs[\"total_counts\"], ax = ax4)\n",
    "ax5_dict = sc.pl.scatter(c2_adata, x='total_counts', y='n_genes_by_counts', show=False, ax=ax5)"
   ]
  },
  {
   "cell_type": "code",
   "execution_count": null,
   "id": "f12455ab",
   "metadata": {},
   "outputs": [],
   "source": [
    "# perform fitering\n",
    "sc.pp.filter_genes(c2_adata, min_cells=3)\n",
    "sc.pp.filter_cells(c2_adata, min_counts=800)\n",
    "sc.pp.filter_cells(c2_adata, max_counts=21000)\n",
    "sc.pp.filter_cells(c2_adata, min_genes=1100)\n",
    "sc.pp.filter_cells(c2_adata, max_genes=8000)\n",
    "c2_adata = c2_adata[c2_adata.obs.pct_counts_mt <3.5, :] # Remove cells with high mito content"
   ]
  },
  {
   "cell_type": "code",
   "execution_count": null,
   "id": "27facbca",
   "metadata": {},
   "outputs": [],
   "source": [
    "# Compute qc metrix\n",
    "c2_adata.var['mt'] = c2_adata.var_names.str.startswith('MT-')  # annotate the group of mitochondrial genes as 'mt'\n",
    "sc.pp.calculate_qc_metrics(c2_adata, qc_vars=['mt'], percent_top=None, log1p=False, inplace=True)\n",
    "fig, (ax0, ax1, ax2, ax3, ax4, ax5) = plt.subplots(1, 6,  figsize=(20,4), gridspec_kw={'wspace':0.5})\n",
    "ax0_dict = sc.pl.violin(c2_adata,[\"pct_counts_mt\"], jitter=0.5, show=False, ax=ax0, stripplot=False)\n",
    "ax1_dict = sc.pl.violin(c2_adata,['n_genes_by_counts'], jitter=0.5, show=False, ax = ax1, stripplot=False) \n",
    "ax2_dict = sc.pl.violin(c2_adata,['total_counts'], jitter=0.5, show=False, ax = ax2, stripplot=False)\n",
    "ax3_dict = sns.histplot(c2_adata.obs[\"n_genes_by_counts\"],  ax = ax3)\n",
    "ax4_dict = sns.histplot(c2_adata.obs[\"total_counts\"], ax = ax4)\n",
    "ax5_dict = sc.pl.scatter(c2_adata, x='total_counts', y='n_genes_by_counts', show=False, ax=ax5)"
   ]
  },
  {
   "cell_type": "code",
   "execution_count": null,
   "id": "82cfafb3",
   "metadata": {},
   "outputs": [],
   "source": [
    "# Remove mito and ribo genes\n",
    "ribo = c2_adata.var_names.str.startswith(('RPL', \"RPS\"))\n",
    "mito = c2_adata.var_names.str.startswith('MT-')\n",
    "remove = np.add(mito, ribo)\n",
    "keep = np.invert(remove)\n",
    "c2_adata = c2_adata[:,keep]\n",
    "\n",
    "c2_adata.layers[\"counts\"] = c2_adata.X.copy()"
   ]
  },
  {
   "cell_type": "code",
   "execution_count": null,
   "id": "d61b489d",
   "metadata": {},
   "outputs": [],
   "source": [
    "c2_adata.shape"
   ]
  },
  {
   "cell_type": "markdown",
   "id": "e3e1dad9",
   "metadata": {},
   "source": [
    "# D2"
   ]
  },
  {
   "cell_type": "code",
   "execution_count": null,
   "id": "f25aeca2",
   "metadata": {},
   "outputs": [],
   "source": [
    "# Compute qc metrix\n",
    "d2_adata.var['mt'] = d2_adata.var_names.str.startswith('MT-')  # annotate the group of mitochondrial genes as 'mt'\n",
    "sc.pp.calculate_qc_metrics(d2_adata, qc_vars=['mt'], percent_top=None, log1p=False, inplace=True)\n",
    "fig, (ax0, ax1, ax2, ax3, ax4, ax5) = plt.subplots(1, 6,  figsize=(20,4), gridspec_kw={'wspace':0.5})\n",
    "ax0_dict = sc.pl.violin(d2_adata,[\"pct_counts_mt\"], jitter=0.5, show=False, ax=ax0, stripplot=False)\n",
    "ax1_dict = sc.pl.violin(d2_adata,['n_genes_by_counts'], jitter=0.5, show=False, ax = ax1, stripplot=False) \n",
    "ax2_dict = sc.pl.violin(d2_adata,['total_counts'], jitter=0.5, show=False, ax = ax2, stripplot=False)\n",
    "ax3_dict = sns.histplot(d2_adata.obs[\"n_genes_by_counts\"],  ax = ax3)\n",
    "ax4_dict = sns.histplot(d2_adata.obs[\"total_counts\"], ax = ax4)\n",
    "ax5_dict = sc.pl.scatter(d2_adata, x='total_counts', y='n_genes_by_counts', show=False, ax=ax5)"
   ]
  },
  {
   "cell_type": "code",
   "execution_count": null,
   "id": "62d2cebe",
   "metadata": {},
   "outputs": [],
   "source": [
    "# perform fitering\n",
    "sc.pp.filter_genes(d2_adata, min_cells=3)\n",
    "sc.pp.filter_cells(d2_adata, min_counts=1100)\n",
    "sc.pp.filter_cells(d2_adata, max_counts=42000)\n",
    "sc.pp.filter_cells(d2_adata, min_genes=2500)\n",
    "sc.pp.filter_cells(d2_adata, max_genes=12000)\n",
    "d2_adata = d2_adata[d2_adata.obs.pct_counts_mt <1.6, :] # Remove cells with high mito content"
   ]
  },
  {
   "cell_type": "code",
   "execution_count": null,
   "id": "9b01f783",
   "metadata": {},
   "outputs": [],
   "source": [
    "# Compute qc metrix\n",
    "d2_adata.var['mt'] = d2_adata.var_names.str.startswith('MT-')  # annotate the group of mitochondrial genes as 'mt'\n",
    "sc.pp.calculate_qc_metrics(d2_adata, qc_vars=['mt'], percent_top=None, log1p=False, inplace=True)\n",
    "fig, (ax0, ax1, ax2, ax3, ax4, ax5) = plt.subplots(1, 6,  figsize=(20,4), gridspec_kw={'wspace':0.5})\n",
    "ax0_dict = sc.pl.violin(d2_adata,[\"pct_counts_mt\"], jitter=0.5, show=False, ax=ax0, stripplot=False)\n",
    "ax1_dict = sc.pl.violin(d2_adata,['n_genes_by_counts'], jitter=0.5, show=False, ax = ax1, stripplot=False) \n",
    "ax2_dict = sc.pl.violin(d2_adata,['total_counts'], jitter=0.5, show=False, ax = ax2, stripplot=False)\n",
    "ax3_dict = sns.histplot(d2_adata.obs[\"n_genes_by_counts\"],  ax = ax3)\n",
    "ax4_dict = sns.histplot(d2_adata.obs[\"total_counts\"], ax = ax4)\n",
    "ax5_dict = sc.pl.scatter(d2_adata, x='total_counts', y='n_genes_by_counts', show=False, ax=ax5)"
   ]
  },
  {
   "cell_type": "code",
   "execution_count": null,
   "id": "f133eb5e",
   "metadata": {},
   "outputs": [],
   "source": [
    "# Remove mito and ribo genes\n",
    "ribo = d2_adata.var_names.str.startswith(('RPL', \"RPS\"))\n",
    "mito = d2_adata.var_names.str.startswith('MT-')\n",
    "remove = np.add(mito, ribo)\n",
    "keep = np.invert(remove)\n",
    "d2_adata = d2_adata[:,keep]\n",
    "\n",
    "d2_adata.layers[\"counts\"] = d2_adata.X.copy()"
   ]
  },
  {
   "cell_type": "code",
   "execution_count": null,
   "id": "883f0446",
   "metadata": {},
   "outputs": [],
   "source": [
    "d2_adata.shape"
   ]
  },
  {
   "cell_type": "markdown",
   "id": "6cac86eb",
   "metadata": {},
   "source": [
    "# E2"
   ]
  },
  {
   "cell_type": "code",
   "execution_count": null,
   "id": "e4ab723f",
   "metadata": {},
   "outputs": [],
   "source": [
    "# Compute qc metrix\n",
    "e2_adata.var['mt'] = e2_adata.var_names.str.startswith('MT-')  # annotate the group of mitochondrial genes as 'mt'\n",
    "sc.pp.calculate_qc_metrics(e2_adata, qc_vars=['mt'], percent_top=None, log1p=False, inplace=True)\n",
    "fig, (ax0, ax1, ax2, ax3, ax4, ax5) = plt.subplots(1, 6,  figsize=(20,4), gridspec_kw={'wspace':0.5})\n",
    "ax0_dict = sc.pl.violin(e2_adata,[\"pct_counts_mt\"], jitter=0.5, show=False, ax=ax0, stripplot=False)\n",
    "ax1_dict = sc.pl.violin(e2_adata,['n_genes_by_counts'], jitter=0.5, show=False, ax = ax1, stripplot=False) \n",
    "ax2_dict = sc.pl.violin(e2_adata,['total_counts'], jitter=0.5, show=False, ax = ax2, stripplot=False)\n",
    "ax3_dict = sns.histplot(e2_adata.obs[\"n_genes_by_counts\"],  ax = ax3)\n",
    "ax4_dict = sns.histplot(e2_adata.obs[\"total_counts\"], ax = ax4)\n",
    "ax5_dict = sc.pl.scatter(e2_adata, x='total_counts', y='n_genes_by_counts', show=False, ax=ax5)"
   ]
  },
  {
   "cell_type": "code",
   "execution_count": null,
   "id": "78f04896",
   "metadata": {},
   "outputs": [],
   "source": [
    "# perform fitering\n",
    "sc.pp.filter_genes(e2_adata, min_cells=3)\n",
    "sc.pp.filter_cells(e2_adata, min_counts=1100)\n",
    "sc.pp.filter_cells(e2_adata, max_counts=39000)\n",
    "sc.pp.filter_cells(e2_adata, min_genes=2000)\n",
    "sc.pp.filter_cells(e2_adata, max_genes=12000)\n",
    "e2_adata = e2_adata[e2_adata.obs.pct_counts_mt <1.5, :] # Remove cells with high mito content"
   ]
  },
  {
   "cell_type": "code",
   "execution_count": null,
   "id": "938c2acb",
   "metadata": {},
   "outputs": [],
   "source": [
    "# Compute qc metrix\n",
    "e2_adata.var['mt'] = e2_adata.var_names.str.startswith('MT-')  # annotate the group of mitochondrial genes as 'mt'\n",
    "sc.pp.calculate_qc_metrics(e2_adata, qc_vars=['mt'], percent_top=None, log1p=False, inplace=True)\n",
    "fig, (ax0, ax1, ax2, ax3, ax4, ax5) = plt.subplots(1, 6,  figsize=(20,4), gridspec_kw={'wspace':0.5})\n",
    "ax0_dict = sc.pl.violin(e2_adata,[\"pct_counts_mt\"], jitter=0.5, show=False, ax=ax0, stripplot=False)\n",
    "ax1_dict = sc.pl.violin(e2_adata,['n_genes_by_counts'], jitter=0.5, show=False, ax = ax1, stripplot=False) \n",
    "ax2_dict = sc.pl.violin(e2_adata,['total_counts'], jitter=0.5, show=False, ax = ax2, stripplot=False)\n",
    "ax3_dict = sns.histplot(e2_adata.obs[\"n_genes_by_counts\"],  ax = ax3)\n",
    "ax4_dict = sns.histplot(e2_adata.obs[\"total_counts\"], ax = ax4)\n",
    "ax5_dict = sc.pl.scatter(e2_adata, x='total_counts', y='n_genes_by_counts', show=False, ax=ax5)"
   ]
  },
  {
   "cell_type": "code",
   "execution_count": null,
   "id": "0d8b120d",
   "metadata": {},
   "outputs": [],
   "source": [
    "# Remove mito and ribo genes\n",
    "ribo = e2_adata.var_names.str.startswith(('RPL', \"RPS\"))\n",
    "mito = e2_adata.var_names.str.startswith('MT-')\n",
    "remove = np.add(mito, ribo)\n",
    "keep = np.invert(remove)\n",
    "e2_adata = e2_adata[:,keep]\n",
    "\n",
    "e2_adata.layers[\"counts\"] = e2_adata.X.copy()"
   ]
  },
  {
   "cell_type": "code",
   "execution_count": null,
   "id": "8a2b53b2",
   "metadata": {},
   "outputs": [],
   "source": [
    "e2_adata.shape"
   ]
  },
  {
   "cell_type": "markdown",
   "id": "712a0efa",
   "metadata": {},
   "source": [
    "# F2"
   ]
  },
  {
   "cell_type": "code",
   "execution_count": null,
   "id": "de8a6bf2",
   "metadata": {},
   "outputs": [],
   "source": [
    "# Compute qc metrix\n",
    "f2_adata.var['mt'] = f2_adata.var_names.str.startswith('MT-')  # annotate the group of mitochondrial genes as 'mt'\n",
    "sc.pp.calculate_qc_metrics(f2_adata, qc_vars=['mt'], percent_top=None, log1p=False, inplace=True)\n",
    "fig, (ax0, ax1, ax2, ax3, ax4, ax5) = plt.subplots(1, 6,  figsize=(20,4), gridspec_kw={'wspace':0.5})\n",
    "ax0_dict = sc.pl.violin(f2_adata,[\"pct_counts_mt\"], jitter=0.5, show=False, ax=ax0, stripplot=False)\n",
    "ax1_dict = sc.pl.violin(f2_adata,['n_genes_by_counts'], jitter=0.5, show=False, ax = ax1, stripplot=False) \n",
    "ax2_dict = sc.pl.violin(f2_adata,['total_counts'], jitter=0.5, show=False, ax = ax2, stripplot=False)\n",
    "ax3_dict = sns.histplot(f2_adata.obs[\"n_genes_by_counts\"],  ax = ax3)\n",
    "ax4_dict = sns.histplot(f2_adata.obs[\"total_counts\"], ax = ax4)\n",
    "ax5_dict = sc.pl.scatter(f2_adata, x='total_counts', y='n_genes_by_counts', show=False, ax=ax5)"
   ]
  },
  {
   "cell_type": "code",
   "execution_count": null,
   "id": "e4d56720",
   "metadata": {},
   "outputs": [],
   "source": [
    "# perform fitering\n",
    "sc.pp.filter_genes(f2_adata, min_cells=3)\n",
    "sc.pp.filter_cells(f2_adata, min_counts=1500)\n",
    "sc.pp.filter_cells(f2_adata, max_counts=40000)\n",
    "sc.pp.filter_cells(f2_adata, min_genes=1500)\n",
    "sc.pp.filter_cells(f2_adata, max_genes=9600)\n",
    "f2_adata = f2_adata[f2_adata.obs.pct_counts_mt <1.6, :] # Remove cells with high mito content"
   ]
  },
  {
   "cell_type": "code",
   "execution_count": null,
   "id": "3a3fb8d3",
   "metadata": {},
   "outputs": [],
   "source": [
    "# Compute qc metrix\n",
    "f2_adata.var['mt'] = f2_adata.var_names.str.startswith('MT-')  # annotate the group of mitochondrial genes as 'mt'\n",
    "sc.pp.calculate_qc_metrics(f2_adata, qc_vars=['mt'], percent_top=None, log1p=False, inplace=True)\n",
    "fig, (ax0, ax1, ax2, ax3, ax4, ax5) = plt.subplots(1, 6,  figsize=(20,4), gridspec_kw={'wspace':0.5})\n",
    "ax0_dict = sc.pl.violin(f2_adata,[\"pct_counts_mt\"], jitter=0.5, show=False, ax=ax0, stripplot=False)\n",
    "ax1_dict = sc.pl.violin(f2_adata,['n_genes_by_counts'], jitter=0.5, show=False, ax = ax1, stripplot=False) \n",
    "ax2_dict = sc.pl.violin(f2_adata,['total_counts'], jitter=0.5, show=False, ax = ax2, stripplot=False)\n",
    "ax3_dict = sns.histplot(f2_adata.obs[\"n_genes_by_counts\"],  ax = ax3)\n",
    "ax4_dict = sns.histplot(f2_adata.obs[\"total_counts\"], ax = ax4)\n",
    "ax5_dict = sc.pl.scatter(f2_adata, x='total_counts', y='n_genes_by_counts', show=False, ax=ax5)"
   ]
  },
  {
   "cell_type": "code",
   "execution_count": null,
   "id": "1cdaa4dc",
   "metadata": {},
   "outputs": [],
   "source": [
    "# Remove mito and ribo genes\n",
    "ribo = f2_adata.var_names.str.startswith(('RPL', \"RPS\"))\n",
    "mito = f2_adata.var_names.str.startswith('MT-')\n",
    "remove = np.add(mito, ribo)\n",
    "keep = np.invert(remove)\n",
    "f2_adata = f2_adata[:,keep]\n",
    "\n",
    "f2_adata.layers[\"counts\"] = f2_adata.X.copy()"
   ]
  },
  {
   "cell_type": "code",
   "execution_count": null,
   "id": "9c04ea5d",
   "metadata": {},
   "outputs": [],
   "source": [
    "f2_adata.shape"
   ]
  },
  {
   "cell_type": "markdown",
   "id": "dca45513",
   "metadata": {},
   "source": [
    "# G2"
   ]
  },
  {
   "cell_type": "code",
   "execution_count": null,
   "id": "a94ce42f",
   "metadata": {},
   "outputs": [],
   "source": [
    "# Compute qc metrix\n",
    "g2_adata.var['mt'] = g2_adata.var_names.str.startswith('MT-')  # annotate the group of mitochondrial genes as 'mt'\n",
    "sc.pp.calculate_qc_metrics(g2_adata, qc_vars=['mt'], percent_top=None, log1p=False, inplace=True)\n",
    "fig, (ax0, ax1, ax2, ax3, ax4, ax5) = plt.subplots(1, 6,  figsize=(20,4), gridspec_kw={'wspace':0.5})\n",
    "ax0_dict = sc.pl.violin(g2_adata,[\"pct_counts_mt\"], jitter=0.5, show=False, ax=ax0, stripplot=False)\n",
    "ax1_dict = sc.pl.violin(g2_adata,['n_genes_by_counts'], jitter=0.5, show=False, ax = ax1, stripplot=False) \n",
    "ax2_dict = sc.pl.violin(g2_adata,['total_counts'], jitter=0.5, show=False, ax = ax2, stripplot=False)\n",
    "ax3_dict = sns.histplot(g2_adata.obs[\"n_genes_by_counts\"],  ax = ax3)\n",
    "ax4_dict = sns.histplot(g2_adata.obs[\"total_counts\"], ax = ax4)\n",
    "ax5_dict = sc.pl.scatter(g2_adata, x='total_counts', y='n_genes_by_counts', show=False, ax=ax5)"
   ]
  },
  {
   "cell_type": "code",
   "execution_count": null,
   "id": "a40e7825",
   "metadata": {},
   "outputs": [],
   "source": [
    "# perform fitering\n",
    "sc.pp.filter_genes(g2_adata, min_cells=3)\n",
    "sc.pp.filter_cells(g2_adata, min_counts=1200)\n",
    "sc.pp.filter_cells(g2_adata, max_counts=56000)\n",
    "sc.pp.filter_cells(g2_adata, min_genes=1700)\n",
    "sc.pp.filter_cells(g2_adata, max_genes=11000)\n",
    "g2_adata = g2_adata[g2_adata.obs.pct_counts_mt <1.5, :] # Remove cells with high mito content"
   ]
  },
  {
   "cell_type": "code",
   "execution_count": null,
   "id": "d2fd2b84",
   "metadata": {},
   "outputs": [],
   "source": [
    "# Compute qc metrix\n",
    "g2_adata.var['mt'] = g2_adata.var_names.str.startswith('MT-')  # annotate the group of mitochondrial genes as 'mt'\n",
    "sc.pp.calculate_qc_metrics(g2_adata, qc_vars=['mt'], percent_top=None, log1p=False, inplace=True)\n",
    "fig, (ax0, ax1, ax2, ax3, ax4, ax5) = plt.subplots(1, 6,  figsize=(20,4), gridspec_kw={'wspace':0.5})\n",
    "ax0_dict = sc.pl.violin(g2_adata,[\"pct_counts_mt\"], jitter=0.5, show=False, ax=ax0, stripplot=False)\n",
    "ax1_dict = sc.pl.violin(g2_adata,['n_genes_by_counts'], jitter=0.5, show=False, ax = ax1, stripplot=False) \n",
    "ax2_dict = sc.pl.violin(g2_adata,['total_counts'], jitter=0.5, show=False, ax = ax2, stripplot=False)\n",
    "ax3_dict = sns.histplot(g2_adata.obs[\"n_genes_by_counts\"],  ax = ax3)\n",
    "ax4_dict = sns.histplot(g2_adata.obs[\"total_counts\"], ax = ax4)\n",
    "ax5_dict = sc.pl.scatter(g2_adata, x='total_counts', y='n_genes_by_counts', show=False, ax=ax5)"
   ]
  },
  {
   "cell_type": "code",
   "execution_count": null,
   "id": "96d5d85d",
   "metadata": {},
   "outputs": [],
   "source": [
    "# Remove mito and ribo genes\n",
    "ribo = g2_adata.var_names.str.startswith(('RPL', \"RPS\"))\n",
    "mito = g2_adata.var_names.str.startswith('MT-')\n",
    "remove = np.add(mito, ribo)\n",
    "keep = np.invert(remove)\n",
    "g2_adata = g2_adata[:,keep]\n",
    "\n",
    "g2_adata.layers[\"counts\"] = g2_adata.X.copy()"
   ]
  },
  {
   "cell_type": "code",
   "execution_count": null,
   "id": "c34b1086",
   "metadata": {},
   "outputs": [],
   "source": [
    "g2_adata.shape"
   ]
  },
  {
   "cell_type": "markdown",
   "id": "dad59952",
   "metadata": {},
   "source": [
    "# H2"
   ]
  },
  {
   "cell_type": "code",
   "execution_count": null,
   "id": "24473301",
   "metadata": {},
   "outputs": [],
   "source": [
    "# Compute qc metrix\n",
    "h2_adata.var['mt'] = h2_adata.var_names.str.startswith('MT-')  # annotate the group of mitochondrial genes as 'mt'\n",
    "sc.pp.calculate_qc_metrics(h2_adata, qc_vars=['mt'], percent_top=None, log1p=False, inplace=True)\n",
    "fig, (ax0, ax1, ax2, ax3, ax4, ax5) = plt.subplots(1, 6,  figsize=(20,4), gridspec_kw={'wspace':0.5})\n",
    "ax0_dict = sc.pl.violin(h2_adata,[\"pct_counts_mt\"], jitter=0.5, show=False, ax=ax0, stripplot=False)\n",
    "ax1_dict = sc.pl.violin(h2_adata,['n_genes_by_counts'], jitter=0.5, show=False, ax = ax1, stripplot=False) \n",
    "ax2_dict = sc.pl.violin(h2_adata,['total_counts'], jitter=0.5, show=False, ax = ax2, stripplot=False)\n",
    "ax3_dict = sns.histplot(h2_adata.obs[\"n_genes_by_counts\"],  ax = ax3)\n",
    "ax4_dict = sns.histplot(h2_adata.obs[\"total_counts\"], ax = ax4)\n",
    "ax5_dict = sc.pl.scatter(h2_adata, x='total_counts', y='n_genes_by_counts', show=False, ax=ax5)"
   ]
  },
  {
   "cell_type": "code",
   "execution_count": null,
   "id": "ad7cc425",
   "metadata": {},
   "outputs": [],
   "source": [
    "# perform fitering\n",
    "sc.pp.filter_genes(h2_adata, min_cells=3)\n",
    "sc.pp.filter_cells(h2_adata, min_counts=1200)\n",
    "sc.pp.filter_cells(h2_adata, max_counts=51000)\n",
    "sc.pp.filter_cells(h2_adata, min_genes=2600)\n",
    "sc.pp.filter_cells(h2_adata, max_genes=12000)\n",
    "h2_adata = h2_adata[h2_adata.obs.pct_counts_mt <2, :] # Remove cells with high mito content"
   ]
  },
  {
   "cell_type": "code",
   "execution_count": null,
   "id": "8cdb07d8",
   "metadata": {},
   "outputs": [],
   "source": [
    "# Compute qc metrix\n",
    "h2_adata.var['mt'] = h2_adata.var_names.str.startswith('MT-')  # annotate the group of mitochondrial genes as 'mt'\n",
    "sc.pp.calculate_qc_metrics(h2_adata, qc_vars=['mt'], percent_top=None, log1p=False, inplace=True)\n",
    "fig, (ax0, ax1, ax2, ax3, ax4, ax5) = plt.subplots(1, 6,  figsize=(20,4), gridspec_kw={'wspace':0.5})\n",
    "ax0_dict = sc.pl.violin(h2_adata,[\"pct_counts_mt\"], jitter=0.5, show=False, ax=ax0, stripplot=False)\n",
    "ax1_dict = sc.pl.violin(h2_adata,['n_genes_by_counts'], jitter=0.5, show=False, ax = ax1, stripplot=False) \n",
    "ax2_dict = sc.pl.violin(h2_adata,['total_counts'], jitter=0.5, show=False, ax = ax2, stripplot=False)\n",
    "ax3_dict = sns.histplot(h2_adata.obs[\"n_genes_by_counts\"],  ax = ax3)\n",
    "ax4_dict = sns.histplot(h2_adata.obs[\"total_counts\"], ax = ax4)\n",
    "ax5_dict = sc.pl.scatter(h2_adata, x='total_counts', y='n_genes_by_counts', show=False, ax=ax5)"
   ]
  },
  {
   "cell_type": "code",
   "execution_count": null,
   "id": "e8985408",
   "metadata": {},
   "outputs": [],
   "source": [
    "# Remove mito and ribo genes\n",
    "ribo = h2_adata.var_names.str.startswith(('RPL', \"RPS\"))\n",
    "mito = h2_adata.var_names.str.startswith('MT-')\n",
    "remove = np.add(mito, ribo)\n",
    "keep = np.invert(remove)\n",
    "h2_adata = h2_adata[:,keep]\n",
    "\n",
    "h2_adata.layers[\"counts\"] = h2_adata.X.copy()"
   ]
  },
  {
   "cell_type": "code",
   "execution_count": null,
   "id": "d1051cde",
   "metadata": {},
   "outputs": [],
   "source": [
    "h2_adata.shape"
   ]
  },
  {
   "cell_type": "markdown",
   "id": "0a915c07",
   "metadata": {},
   "source": [
    "# A6"
   ]
  },
  {
   "cell_type": "code",
   "execution_count": null,
   "id": "cdb6c8eb",
   "metadata": {},
   "outputs": [],
   "source": [
    "# Compute qc metrix\n",
    "a6_adata.var['mt'] = a6_adata.var_names.str.startswith('MT-')  # annotate the group of mitochondrial genes as 'mt'\n",
    "sc.pp.calculate_qc_metrics(a6_adata, qc_vars=['mt'], percent_top=None, log1p=False, inplace=True)\n",
    "fig, (ax0, ax1, ax2, ax3, ax4, ax5) = plt.subplots(1, 6,  figsize=(20,4), gridspec_kw={'wspace':0.5})\n",
    "ax0_dict = sc.pl.violin(a6_adata,[\"pct_counts_mt\"], jitter=0.5, show=False, ax=ax0, stripplot=False)\n",
    "ax1_dict = sc.pl.violin(a6_adata,['n_genes_by_counts'], jitter=0.5, show=False, ax = ax1, stripplot=False) \n",
    "ax2_dict = sc.pl.violin(a6_adata,['total_counts'], jitter=0.5, show=False, ax = ax2, stripplot=False)\n",
    "ax3_dict = sns.histplot(a6_adata.obs[\"n_genes_by_counts\"],  ax = ax3)\n",
    "ax4_dict = sns.histplot(a6_adata.obs[\"total_counts\"], ax = ax4)\n",
    "ax5_dict = sc.pl.scatter(a6_adata, x='total_counts', y='n_genes_by_counts', show=False, ax=ax5)"
   ]
  },
  {
   "cell_type": "code",
   "execution_count": null,
   "id": "d7751a7a",
   "metadata": {},
   "outputs": [],
   "source": [
    "# perform fitering\n",
    "sc.pp.filter_genes(a6_adata, min_cells=3)\n",
    "sc.pp.filter_cells(a6_adata, min_counts=1800)\n",
    "sc.pp.filter_cells(a6_adata, max_counts=38000)\n",
    "sc.pp.filter_cells(a6_adata, min_genes=2900)\n",
    "sc.pp.filter_cells(a6_adata, max_genes=8800)\n",
    "a6_adata = a6_adata[a6_adata.obs.pct_counts_mt <3, :] # Remove cells with high mito content"
   ]
  },
  {
   "cell_type": "code",
   "execution_count": null,
   "id": "fbca22d8",
   "metadata": {},
   "outputs": [],
   "source": [
    "# Compute qc metrix\n",
    "a6_adata.var['mt'] = a6_adata.var_names.str.startswith('MT-')  # annotate the group of mitochondrial genes as 'mt'\n",
    "sc.pp.calculate_qc_metrics(a6_adata, qc_vars=['mt'], percent_top=None, log1p=False, inplace=True)\n",
    "fig, (ax0, ax1, ax2, ax3, ax4, ax5) = plt.subplots(1, 6,  figsize=(20,4), gridspec_kw={'wspace':0.5})\n",
    "ax0_dict = sc.pl.violin(a6_adata,[\"pct_counts_mt\"], jitter=0.5, show=False, ax=ax0, stripplot=False)\n",
    "ax1_dict = sc.pl.violin(a6_adata,['n_genes_by_counts'], jitter=0.5, show=False, ax = ax1, stripplot=False) \n",
    "ax2_dict = sc.pl.violin(a6_adata,['total_counts'], jitter=0.5, show=False, ax = ax2, stripplot=False)\n",
    "ax3_dict = sns.histplot(a6_adata.obs[\"n_genes_by_counts\"],  ax = ax3)\n",
    "ax4_dict = sns.histplot(a6_adata.obs[\"total_counts\"], ax = ax4)\n",
    "ax5_dict = sc.pl.scatter(a6_adata, x='total_counts', y='n_genes_by_counts', show=False, ax=ax5)"
   ]
  },
  {
   "cell_type": "code",
   "execution_count": null,
   "id": "87127cba",
   "metadata": {},
   "outputs": [],
   "source": [
    "# Remove mito and ribo genes\n",
    "ribo = a6_adata.var_names.str.startswith(('RPL', \"RPS\"))\n",
    "mito = a6_adata.var_names.str.startswith('MT-')\n",
    "remove = np.add(mito, ribo)\n",
    "keep = np.invert(remove)\n",
    "a6_adata = a6_adata[:,keep]\n",
    "\n",
    "a6_adata.layers[\"counts\"] = a6_adata.X.copy()"
   ]
  },
  {
   "cell_type": "code",
   "execution_count": null,
   "id": "c2d8e6a4",
   "metadata": {},
   "outputs": [],
   "source": [
    "a6_adata.shape"
   ]
  },
  {
   "cell_type": "markdown",
   "id": "072f17b1",
   "metadata": {},
   "source": [
    "# A7"
   ]
  },
  {
   "cell_type": "code",
   "execution_count": null,
   "id": "df8af1de",
   "metadata": {},
   "outputs": [],
   "source": [
    "# Compute qc metrix\n",
    "a7_adata.var['mt'] = a7_adata.var_names.str.startswith('MT-')  # annotate the group of mitochondrial genes as 'mt'\n",
    "sc.pp.calculate_qc_metrics(a7_adata, qc_vars=['mt'], percent_top=None, log1p=False, inplace=True)\n",
    "fig, (ax0, ax1, ax2, ax3, ax4, ax5) = plt.subplots(1, 6,  figsize=(20,4), gridspec_kw={'wspace':0.5})\n",
    "ax0_dict = sc.pl.violin(a7_adata,[\"pct_counts_mt\"], jitter=0.5, show=False, ax=ax0, stripplot=False)\n",
    "ax1_dict = sc.pl.violin(a7_adata,['n_genes_by_counts'], jitter=0.5, show=False, ax = ax1, stripplot=False) \n",
    "ax2_dict = sc.pl.violin(a7_adata,['total_counts'], jitter=0.5, show=False, ax = ax2, stripplot=False)\n",
    "ax3_dict = sns.histplot(a7_adata.obs[\"n_genes_by_counts\"],  ax = ax3)\n",
    "ax4_dict = sns.histplot(a7_adata.obs[\"total_counts\"], ax = ax4)\n",
    "ax5_dict = sc.pl.scatter(a7_adata, x='total_counts', y='n_genes_by_counts', show=False, ax=ax5)"
   ]
  },
  {
   "cell_type": "code",
   "execution_count": null,
   "id": "5c341616",
   "metadata": {},
   "outputs": [],
   "source": [
    "# perform fitering\n",
    "sc.pp.filter_genes(a7_adata, min_cells=3)\n",
    "sc.pp.filter_cells(a7_adata, min_counts=2000)\n",
    "sc.pp.filter_cells(a7_adata, max_counts=37000)\n",
    "sc.pp.filter_cells(a7_adata, min_genes=2500)\n",
    "sc.pp.filter_cells(a7_adata, max_genes=8800)\n",
    "a7_adata = a7_adata[a7_adata.obs.pct_counts_mt <3.5, :] # Remove cells with high mito content"
   ]
  },
  {
   "cell_type": "code",
   "execution_count": null,
   "id": "2f128935",
   "metadata": {},
   "outputs": [],
   "source": [
    "# Compute qc metrix\n",
    "a7_adata.var['mt'] = a7_adata.var_names.str.startswith('MT-')  # annotate the group of mitochondrial genes as 'mt'\n",
    "sc.pp.calculate_qc_metrics(a7_adata, qc_vars=['mt'], percent_top=None, log1p=False, inplace=True)\n",
    "fig, (ax0, ax1, ax2, ax3, ax4, ax5) = plt.subplots(1, 6,  figsize=(20,4), gridspec_kw={'wspace':0.5})\n",
    "ax0_dict = sc.pl.violin(a7_adata,[\"pct_counts_mt\"], jitter=0.5, show=False, ax=ax0, stripplot=False)\n",
    "ax1_dict = sc.pl.violin(a7_adata,['n_genes_by_counts'], jitter=0.5, show=False, ax = ax1, stripplot=False) \n",
    "ax2_dict = sc.pl.violin(a7_adata,['total_counts'], jitter=0.5, show=False, ax = ax2, stripplot=False)\n",
    "ax3_dict = sns.histplot(a7_adata.obs[\"n_genes_by_counts\"],  ax = ax3)\n",
    "ax4_dict = sns.histplot(a7_adata.obs[\"total_counts\"], ax = ax4)\n",
    "ax5_dict = sc.pl.scatter(a7_adata, x='total_counts', y='n_genes_by_counts', show=False, ax=ax5)"
   ]
  },
  {
   "cell_type": "code",
   "execution_count": null,
   "id": "1fddc119",
   "metadata": {},
   "outputs": [],
   "source": [
    "# Remove mito and ribo genes\n",
    "ribo = a7_adata.var_names.str.startswith(('RPL', \"RPS\"))\n",
    "mito = a7_adata.var_names.str.startswith('MT-')\n",
    "remove = np.add(mito, ribo)\n",
    "keep = np.invert(remove)\n",
    "a7_adata = a7_adata[:,keep]\n",
    "\n",
    "a7_adata.layers[\"counts\"] = a7_adata.X.copy()"
   ]
  },
  {
   "cell_type": "code",
   "execution_count": null,
   "id": "96612a1f",
   "metadata": {},
   "outputs": [],
   "source": [
    "a7_adata.shape"
   ]
  },
  {
   "cell_type": "markdown",
   "id": "561337fb",
   "metadata": {},
   "source": [
    "# A9"
   ]
  },
  {
   "cell_type": "code",
   "execution_count": null,
   "id": "f1ad692c",
   "metadata": {},
   "outputs": [],
   "source": [
    "# Compute qc metrix\n",
    "a9_adata.var['mt'] = a9_adata.var_names.str.startswith('MT-')  # annotate the group of mitochondrial genes as 'mt'\n",
    "sc.pp.calculate_qc_metrics(a9_adata, qc_vars=['mt'], percent_top=None, log1p=False, inplace=True)\n",
    "fig, (ax0, ax1, ax2, ax3, ax4, ax5) = plt.subplots(1, 6,  figsize=(20,4), gridspec_kw={'wspace':0.5})\n",
    "ax0_dict = sc.pl.violin(a9_adata,[\"pct_counts_mt\"], jitter=0.5, show=False, ax=ax0, stripplot=False)\n",
    "ax1_dict = sc.pl.violin(a9_adata,['n_genes_by_counts'], jitter=0.5, show=False, ax = ax1, stripplot=False) \n",
    "ax2_dict = sc.pl.violin(a9_adata,['total_counts'], jitter=0.5, show=False, ax = ax2, stripplot=False)\n",
    "ax3_dict = sns.histplot(a9_adata.obs[\"n_genes_by_counts\"],  ax = ax3)\n",
    "ax4_dict = sns.histplot(a9_adata.obs[\"total_counts\"], ax = ax4)\n",
    "ax5_dict = sc.pl.scatter(a9_adata, x='total_counts', y='n_genes_by_counts', show=False, ax=ax5)"
   ]
  },
  {
   "cell_type": "code",
   "execution_count": null,
   "id": "f96d3eb9",
   "metadata": {},
   "outputs": [],
   "source": [
    "# perform fitering\n",
    "sc.pp.filter_genes(a9_adata, min_cells=3)\n",
    "sc.pp.filter_cells(a9_adata, min_counts=2000)\n",
    "sc.pp.filter_cells(a9_adata, max_counts=39000)\n",
    "sc.pp.filter_cells(a9_adata, min_genes=2500)\n",
    "sc.pp.filter_cells(a9_adata, max_genes=9100)\n",
    "a9_adata = a9_adata[a9_adata.obs.pct_counts_mt <4, :] # Remove cells with high mito content"
   ]
  },
  {
   "cell_type": "code",
   "execution_count": null,
   "id": "634552bc",
   "metadata": {},
   "outputs": [],
   "source": [
    "# Compute qc metrix\n",
    "a9_adata.var['mt'] = a9_adata.var_names.str.startswith('MT-')  # annotate the group of mitochondrial genes as 'mt'\n",
    "sc.pp.calculate_qc_metrics(a9_adata, qc_vars=['mt'], percent_top=None, log1p=False, inplace=True)\n",
    "fig, (ax0, ax1, ax2, ax3, ax4, ax5) = plt.subplots(1, 6,  figsize=(20,4), gridspec_kw={'wspace':0.5})\n",
    "ax0_dict = sc.pl.violin(a9_adata,[\"pct_counts_mt\"], jitter=0.5, show=False, ax=ax0, stripplot=False)\n",
    "ax1_dict = sc.pl.violin(a9_adata,['n_genes_by_counts'], jitter=0.5, show=False, ax = ax1, stripplot=False) \n",
    "ax2_dict = sc.pl.violin(a9_adata,['total_counts'], jitter=0.5, show=False, ax = ax2, stripplot=False)\n",
    "ax3_dict = sns.histplot(a9_adata.obs[\"n_genes_by_counts\"],  ax = ax3)\n",
    "ax4_dict = sns.histplot(a9_adata.obs[\"total_counts\"], ax = ax4)\n",
    "ax5_dict = sc.pl.scatter(a9_adata, x='total_counts', y='n_genes_by_counts', show=False, ax=ax5)"
   ]
  },
  {
   "cell_type": "code",
   "execution_count": null,
   "id": "3fee40a6",
   "metadata": {},
   "outputs": [],
   "source": [
    "# Remove mito and ribo genes\n",
    "ribo = a9_adata.var_names.str.startswith(('RPL', \"RPS\"))\n",
    "mito = a9_adata.var_names.str.startswith('MT-')\n",
    "remove = np.add(mito, ribo)\n",
    "keep = np.invert(remove)\n",
    "a9_adata = a9_adata[:,keep]\n",
    "\n",
    "a9_adata.layers[\"counts\"] = a9_adata.X.copy()"
   ]
  },
  {
   "cell_type": "code",
   "execution_count": null,
   "id": "1459b04e",
   "metadata": {},
   "outputs": [],
   "source": [
    "a9_adata.shape"
   ]
  },
  {
   "cell_type": "markdown",
   "id": "3e68c62a",
   "metadata": {},
   "source": [
    "# A11"
   ]
  },
  {
   "cell_type": "code",
   "execution_count": null,
   "id": "ba6e784a",
   "metadata": {},
   "outputs": [],
   "source": [
    "# Compute qc metrix\n",
    "a11_adata.var['mt'] = a11_adata.var_names.str.startswith('MT-')  # annotate the group of mitochondrial genes as 'mt'\n",
    "sc.pp.calculate_qc_metrics(a11_adata, qc_vars=['mt'], percent_top=None, log1p=False, inplace=True)\n",
    "fig, (ax0, ax1, ax2, ax3, ax4, ax5) = plt.subplots(1, 6,  figsize=(20,4), gridspec_kw={'wspace':0.5})\n",
    "ax0_dict = sc.pl.violin(a11_adata,[\"pct_counts_mt\"], jitter=0.5, show=False, ax=ax0, stripplot=False)\n",
    "ax1_dict = sc.pl.violin(a11_adata,['n_genes_by_counts'], jitter=0.5, show=False, ax = ax1, stripplot=False) \n",
    "ax2_dict = sc.pl.violin(a11_adata,['total_counts'], jitter=0.5, show=False, ax = ax2, stripplot=False)\n",
    "ax3_dict = sns.histplot(a11_adata.obs[\"n_genes_by_counts\"],  ax = ax3)\n",
    "ax4_dict = sns.histplot(a11_adata.obs[\"total_counts\"], ax = ax4)\n",
    "ax5_dict = sc.pl.scatter(a11_adata, x='total_counts', y='n_genes_by_counts', show=False, ax=ax5)"
   ]
  },
  {
   "cell_type": "code",
   "execution_count": null,
   "id": "2e155197",
   "metadata": {},
   "outputs": [],
   "source": [
    "# perform fitering\n",
    "sc.pp.filter_genes(a11_adata, min_cells=3)\n",
    "sc.pp.filter_cells(a11_adata, min_counts=2000)\n",
    "sc.pp.filter_cells(a11_adata, max_counts=38000)\n",
    "sc.pp.filter_cells(a11_adata, min_genes=2800)\n",
    "sc.pp.filter_cells(a11_adata, max_genes=9500)\n",
    "a11_adata = a11_adata[a11_adata.obs.pct_counts_mt <2, :] # Remove cells with high mito content"
   ]
  },
  {
   "cell_type": "code",
   "execution_count": null,
   "id": "6b77e975",
   "metadata": {},
   "outputs": [],
   "source": [
    "# Compute qc metrix\n",
    "a11_adata.var['mt'] = a11_adata.var_names.str.startswith('MT-')  # annotate the group of mitochondrial genes as 'mt'\n",
    "sc.pp.calculate_qc_metrics(a11_adata, qc_vars=['mt'], percent_top=None, log1p=False, inplace=True)\n",
    "fig, (ax0, ax1, ax2, ax3, ax4, ax5) = plt.subplots(1, 6,  figsize=(20,4), gridspec_kw={'wspace':0.5})\n",
    "ax0_dict = sc.pl.violin(a11_adata,[\"pct_counts_mt\"], jitter=0.5, show=False, ax=ax0, stripplot=False)\n",
    "ax1_dict = sc.pl.violin(a11_adata,['n_genes_by_counts'], jitter=0.5, show=False, ax = ax1, stripplot=False) \n",
    "ax2_dict = sc.pl.violin(a11_adata,['total_counts'], jitter=0.5, show=False, ax = ax2, stripplot=False)\n",
    "ax3_dict = sns.histplot(a11_adata.obs[\"n_genes_by_counts\"],  ax = ax3)\n",
    "ax4_dict = sns.histplot(a11_adata.obs[\"total_counts\"], ax = ax4)\n",
    "ax5_dict = sc.pl.scatter(a11_adata, x='total_counts', y='n_genes_by_counts', show=False, ax=ax5)"
   ]
  },
  {
   "cell_type": "code",
   "execution_count": null,
   "id": "62ef1087",
   "metadata": {},
   "outputs": [],
   "source": [
    "# Remove mito and ribo genes\n",
    "ribo = a11_adata.var_names.str.startswith(('RPL', \"RPS\"))\n",
    "mito = a11_adata.var_names.str.startswith('MT-')\n",
    "remove = np.add(mito, ribo)\n",
    "keep = np.invert(remove)\n",
    "a11_adata = a11_adata[:,keep]\n",
    "\n",
    "a11_adata.layers[\"counts\"] = a11_adata.X.copy()"
   ]
  },
  {
   "cell_type": "code",
   "execution_count": null,
   "id": "6ee88f83",
   "metadata": {},
   "outputs": [],
   "source": [
    "a11_adata.shape"
   ]
  },
  {
   "cell_type": "markdown",
   "id": "6fd910ae",
   "metadata": {},
   "source": [
    "# B5"
   ]
  },
  {
   "cell_type": "code",
   "execution_count": null,
   "id": "1d860944",
   "metadata": {},
   "outputs": [],
   "source": [
    "# Compute qc metrix\n",
    "b5_adata.var['mt'] = b5_adata.var_names.str.startswith('MT-')  # annotate the group of mitochondrial genes as 'mt'\n",
    "sc.pp.calculate_qc_metrics(b5_adata, qc_vars=['mt'], percent_top=None, log1p=False, inplace=True)\n",
    "fig, (ax0, ax1, ax2, ax3, ax4, ax5) = plt.subplots(1, 6,  figsize=(20,4), gridspec_kw={'wspace':0.5})\n",
    "ax0_dict = sc.pl.violin(b5_adata,[\"pct_counts_mt\"], jitter=0.5, show=False, ax=ax0, stripplot=False)\n",
    "ax1_dict = sc.pl.violin(b5_adata,['n_genes_by_counts'], jitter=0.5, show=False, ax = ax1, stripplot=False) \n",
    "ax2_dict = sc.pl.violin(b5_adata,['total_counts'], jitter=0.5, show=False, ax = ax2, stripplot=False)\n",
    "ax3_dict = sns.histplot(b5_adata.obs[\"n_genes_by_counts\"],  ax = ax3)\n",
    "ax4_dict = sns.histplot(b5_adata.obs[\"total_counts\"], ax = ax4)\n",
    "ax5_dict = sc.pl.scatter(b5_adata, x='total_counts', y='n_genes_by_counts', show=False, ax=ax5)"
   ]
  },
  {
   "cell_type": "code",
   "execution_count": null,
   "id": "79e18ff9",
   "metadata": {},
   "outputs": [],
   "source": [
    "# perform fitering\n",
    "sc.pp.filter_genes(b5_adata, min_cells=3)\n",
    "sc.pp.filter_cells(b5_adata, min_counts=2000)\n",
    "sc.pp.filter_cells(b5_adata, max_counts=40000)\n",
    "sc.pp.filter_cells(b5_adata, min_genes=2550)\n",
    "sc.pp.filter_cells(b5_adata, max_genes=12000)\n",
    "b5_adata = b5_adata[b5_adata.obs.pct_counts_mt <2, :] # Remove cells with high mito content"
   ]
  },
  {
   "cell_type": "code",
   "execution_count": null,
   "id": "f2e17822",
   "metadata": {},
   "outputs": [],
   "source": [
    "# Compute qc metrix\n",
    "b5_adata.var['mt'] = b5_adata.var_names.str.startswith('MT-')  # annotate the group of mitochondrial genes as 'mt'\n",
    "sc.pp.calculate_qc_metrics(b5_adata, qc_vars=['mt'], percent_top=None, log1p=False, inplace=True)\n",
    "fig, (ax0, ax1, ax2, ax3, ax4, ax5) = plt.subplots(1, 6,  figsize=(20,4), gridspec_kw={'wspace':0.5})\n",
    "ax0_dict = sc.pl.violin(b5_adata,[\"pct_counts_mt\"], jitter=0.5, show=False, ax=ax0, stripplot=False)\n",
    "ax1_dict = sc.pl.violin(b5_adata,['n_genes_by_counts'], jitter=0.5, show=False, ax = ax1, stripplot=False) \n",
    "ax2_dict = sc.pl.violin(b5_adata,['total_counts'], jitter=0.5, show=False, ax = ax2, stripplot=False)\n",
    "ax3_dict = sns.histplot(b5_adata.obs[\"n_genes_by_counts\"],  ax = ax3)\n",
    "ax4_dict = sns.histplot(b5_adata.obs[\"total_counts\"], ax = ax4)\n",
    "ax5_dict = sc.pl.scatter(b5_adata, x='total_counts', y='n_genes_by_counts', show=False, ax=ax5)"
   ]
  },
  {
   "cell_type": "code",
   "execution_count": null,
   "id": "61864029",
   "metadata": {},
   "outputs": [],
   "source": [
    "# Remove mito and ribo genes\n",
    "ribo = b5_adata.var_names.str.startswith(('RPL', \"RPS\"))\n",
    "mito = b5_adata.var_names.str.startswith('MT-')\n",
    "remove = np.add(mito, ribo)\n",
    "keep = np.invert(remove)\n",
    "b5_adata = b5_adata[:,keep]\n",
    "\n",
    "b5_adata.layers[\"counts\"] = b5_adata.X.copy()"
   ]
  },
  {
   "cell_type": "code",
   "execution_count": null,
   "id": "907e219b",
   "metadata": {},
   "outputs": [],
   "source": [
    "b5_adata.shape"
   ]
  },
  {
   "cell_type": "markdown",
   "id": "fbfb5fd6",
   "metadata": {},
   "source": [
    "# B6"
   ]
  },
  {
   "cell_type": "code",
   "execution_count": null,
   "id": "34b32441",
   "metadata": {},
   "outputs": [],
   "source": [
    "# Compute qc metrix\n",
    "b6_adata.var['mt'] = b6_adata.var_names.str.startswith('MT-')  # annotate the group of mitochondrial genes as 'mt'\n",
    "sc.pp.calculate_qc_metrics(b6_adata, qc_vars=['mt'], percent_top=None, log1p=False, inplace=True)\n",
    "fig, (ax0, ax1, ax2, ax3, ax4, ax5) = plt.subplots(1, 6,  figsize=(20,4), gridspec_kw={'wspace':0.5})\n",
    "ax0_dict = sc.pl.violin(b6_adata,[\"pct_counts_mt\"], jitter=0.5, show=False, ax=ax0, stripplot=False)\n",
    "ax1_dict = sc.pl.violin(b6_adata,['n_genes_by_counts'], jitter=0.5, show=False, ax = ax1, stripplot=False) \n",
    "ax2_dict = sc.pl.violin(b6_adata,['total_counts'], jitter=0.5, show=False, ax = ax2, stripplot=False)\n",
    "ax3_dict = sns.histplot(b6_adata.obs[\"n_genes_by_counts\"],  ax = ax3)\n",
    "ax4_dict = sns.histplot(b6_adata.obs[\"total_counts\"], ax = ax4)\n",
    "ax5_dict = sc.pl.scatter(b6_adata, x='total_counts', y='n_genes_by_counts', show=False, ax=ax5)"
   ]
  },
  {
   "cell_type": "code",
   "execution_count": null,
   "id": "e218d5d5",
   "metadata": {},
   "outputs": [],
   "source": [
    "# perform fitering\n",
    "sc.pp.filter_genes(b6_adata, min_cells=3)\n",
    "sc.pp.filter_cells(b6_adata, min_counts=2000)\n",
    "sc.pp.filter_cells(b6_adata, max_counts=36000)\n",
    "sc.pp.filter_cells(b6_adata, min_genes=2800)\n",
    "sc.pp.filter_cells(b6_adata, max_genes=8800)\n",
    "b6_adata = b6_adata[b6_adata.obs.pct_counts_mt <2, :] # Remove cells with high mito content"
   ]
  },
  {
   "cell_type": "code",
   "execution_count": null,
   "id": "bf4f4e16",
   "metadata": {},
   "outputs": [],
   "source": [
    "# Compute qc metrix\n",
    "b6_adata.var['mt'] = b6_adata.var_names.str.startswith('MT-')  # annotate the group of mitochondrial genes as 'mt'\n",
    "sc.pp.calculate_qc_metrics(b6_adata, qc_vars=['mt'], percent_top=None, log1p=False, inplace=True)\n",
    "fig, (ax0, ax1, ax2, ax3, ax4, ax5) = plt.subplots(1, 6,  figsize=(20,4), gridspec_kw={'wspace':0.5})\n",
    "ax0_dict = sc.pl.violin(b6_adata,[\"pct_counts_mt\"], jitter=0.5, show=False, ax=ax0, stripplot=False)\n",
    "ax1_dict = sc.pl.violin(b6_adata,['n_genes_by_counts'], jitter=0.5, show=False, ax = ax1, stripplot=False) \n",
    "ax2_dict = sc.pl.violin(b6_adata,['total_counts'], jitter=0.5, show=False, ax = ax2, stripplot=False)\n",
    "ax3_dict = sns.histplot(b6_adata.obs[\"n_genes_by_counts\"],  ax = ax3)\n",
    "ax4_dict = sns.histplot(b6_adata.obs[\"total_counts\"], ax = ax4)\n",
    "ax5_dict = sc.pl.scatter(b6_adata, x='total_counts', y='n_genes_by_counts', show=False, ax=ax5)"
   ]
  },
  {
   "cell_type": "code",
   "execution_count": null,
   "id": "1154748e",
   "metadata": {},
   "outputs": [],
   "source": [
    "# Remove mito and ribo genes\n",
    "ribo = b6_adata.var_names.str.startswith(('RPL', \"RPS\"))\n",
    "mito = b6_adata.var_names.str.startswith('MT-')\n",
    "remove = np.add(mito, ribo)\n",
    "keep = np.invert(remove)\n",
    "b6_adata = b6_adata[:,keep]\n",
    "\n",
    "b6_adata.layers[\"counts\"] = b6_adata.X.copy()"
   ]
  },
  {
   "cell_type": "code",
   "execution_count": null,
   "id": "bdff7de7",
   "metadata": {},
   "outputs": [],
   "source": [
    "b6_adata.shape"
   ]
  },
  {
   "cell_type": "markdown",
   "id": "86a301ed",
   "metadata": {},
   "source": [
    "# B7"
   ]
  },
  {
   "cell_type": "code",
   "execution_count": null,
   "id": "a36b545b",
   "metadata": {},
   "outputs": [],
   "source": [
    "# Compute qc metrix\n",
    "b7_adata.var['mt'] = b7_adata.var_names.str.startswith('MT-')  # annotate the group of mitochondrial genes as 'mt'\n",
    "sc.pp.calculate_qc_metrics(b7_adata, qc_vars=['mt'], percent_top=None, log1p=False, inplace=True)\n",
    "fig, (ax0, ax1, ax2, ax3, ax4, ax5) = plt.subplots(1, 6,  figsize=(20,4), gridspec_kw={'wspace':0.5})\n",
    "ax0_dict = sc.pl.violin(b7_adata,[\"pct_counts_mt\"], jitter=0.5, show=False, ax=ax0, stripplot=False)\n",
    "ax1_dict = sc.pl.violin(b7_adata,['n_genes_by_counts'], jitter=0.5, show=False, ax = ax1, stripplot=False) \n",
    "ax2_dict = sc.pl.violin(b7_adata,['total_counts'], jitter=0.5, show=False, ax = ax2, stripplot=False)\n",
    "ax3_dict = sns.histplot(b7_adata.obs[\"n_genes_by_counts\"],  ax = ax3)\n",
    "ax4_dict = sns.histplot(b7_adata.obs[\"total_counts\"], ax = ax4)\n",
    "ax5_dict = sc.pl.scatter(b7_adata, x='total_counts', y='n_genes_by_counts', show=False, ax=ax5)"
   ]
  },
  {
   "cell_type": "code",
   "execution_count": null,
   "id": "d87c77e4",
   "metadata": {},
   "outputs": [],
   "source": [
    "# perform fitering\n",
    "sc.pp.filter_genes(b7_adata, min_cells=3)\n",
    "sc.pp.filter_cells(b7_adata, min_counts=1600)\n",
    "sc.pp.filter_cells(b7_adata, max_counts=43000)\n",
    "sc.pp.filter_cells(b7_adata, min_genes=2100)\n",
    "sc.pp.filter_cells(b7_adata, max_genes=12000)\n",
    "b7_adata = b7_adata[b7_adata.obs.pct_counts_mt <1, :] # Remove cells with high mito content"
   ]
  },
  {
   "cell_type": "code",
   "execution_count": null,
   "id": "f0ac26e7",
   "metadata": {},
   "outputs": [],
   "source": [
    "# Compute qc metrix\n",
    "b7_adata.var['mt'] = b7_adata.var_names.str.startswith('MT-')  # annotate the group of mitochondrial genes as 'mt'\n",
    "sc.pp.calculate_qc_metrics(b7_adata, qc_vars=['mt'], percent_top=None, log1p=False, inplace=True)\n",
    "fig, (ax0, ax1, ax2, ax3, ax4, ax5) = plt.subplots(1, 6,  figsize=(20,4), gridspec_kw={'wspace':0.5})\n",
    "ax0_dict = sc.pl.violin(b7_adata,[\"pct_counts_mt\"], jitter=0.5, show=False, ax=ax0, stripplot=False)\n",
    "ax1_dict = sc.pl.violin(b7_adata,['n_genes_by_counts'], jitter=0.5, show=False, ax = ax1, stripplot=False) \n",
    "ax2_dict = sc.pl.violin(b7_adata,['total_counts'], jitter=0.5, show=False, ax = ax2, stripplot=False)\n",
    "ax3_dict = sns.histplot(b7_adata.obs[\"n_genes_by_counts\"],  ax = ax3)\n",
    "ax4_dict = sns.histplot(b7_adata.obs[\"total_counts\"], ax = ax4)\n",
    "ax5_dict = sc.pl.scatter(b7_adata, x='total_counts', y='n_genes_by_counts', show=False, ax=ax5)"
   ]
  },
  {
   "cell_type": "code",
   "execution_count": null,
   "id": "ff97a1f3",
   "metadata": {},
   "outputs": [],
   "source": [
    "# Remove mito and ribo genes\n",
    "ribo = b7_adata.var_names.str.startswith(('RPL', \"RPS\"))\n",
    "mito = b7_adata.var_names.str.startswith('MT-')\n",
    "remove = np.add(mito, ribo)\n",
    "keep = np.invert(remove)\n",
    "b7_adata = b7_adata[:,keep]\n",
    "\n",
    "b7_adata.layers[\"counts\"] = b7_adata.X.copy()"
   ]
  },
  {
   "cell_type": "code",
   "execution_count": null,
   "id": "656bb157",
   "metadata": {},
   "outputs": [],
   "source": [
    "b7_adata.shape"
   ]
  },
  {
   "cell_type": "markdown",
   "id": "fc67a9e7",
   "metadata": {},
   "source": [
    "# b8"
   ]
  },
  {
   "cell_type": "code",
   "execution_count": null,
   "id": "a0462ee1",
   "metadata": {},
   "outputs": [],
   "source": [
    "# Compute qc metrix\n",
    "b8_adata.var['mt'] = b8_adata.var_names.str.startswith('MT-')  # annotate the group of mitochondrial genes as 'mt'\n",
    "sc.pp.calculate_qc_metrics(b8_adata, qc_vars=['mt'], percent_top=None, log1p=False, inplace=True)\n",
    "fig, (ax0, ax1, ax2, ax3, ax4, ax5) = plt.subplots(1, 6,  figsize=(20,4), gridspec_kw={'wspace':0.5})\n",
    "ax0_dict = sc.pl.violin(b8_adata,[\"pct_counts_mt\"], jitter=0.5, show=False, ax=ax0, stripplot=False)\n",
    "ax1_dict = sc.pl.violin(b8_adata,['n_genes_by_counts'], jitter=0.5, show=False, ax = ax1, stripplot=False) \n",
    "ax2_dict = sc.pl.violin(b8_adata,['total_counts'], jitter=0.5, show=False, ax = ax2, stripplot=False)\n",
    "ax3_dict = sns.histplot(b8_adata.obs[\"n_genes_by_counts\"],  ax = ax3)\n",
    "ax4_dict = sns.histplot(b8_adata.obs[\"total_counts\"], ax = ax4)\n",
    "ax5_dict = sc.pl.scatter(b8_adata, x='total_counts', y='n_genes_by_counts', show=False, ax=ax5)"
   ]
  },
  {
   "cell_type": "code",
   "execution_count": null,
   "id": "fb770393",
   "metadata": {},
   "outputs": [],
   "source": [
    "# perform fitering\n",
    "sc.pp.filter_genes(b8_adata, min_cells=3)\n",
    "sc.pp.filter_cells(b8_adata, min_counts=1000)\n",
    "sc.pp.filter_cells(b8_adata, max_counts=45000)\n",
    "sc.pp.filter_cells(b8_adata, min_genes=3000)\n",
    "sc.pp.filter_cells(b8_adata, max_genes=10000)\n",
    "b8_adata = b8_adata[b8_adata.obs.pct_counts_mt <1.7, :] # Remove cells with high mito content"
   ]
  },
  {
   "cell_type": "code",
   "execution_count": null,
   "id": "aebcf4ec",
   "metadata": {},
   "outputs": [],
   "source": [
    "# Compute qc metrix\n",
    "b8_adata.var['mt'] = b8_adata.var_names.str.startswith('MT-')  # annotate the group of mitochondrial genes as 'mt'\n",
    "sc.pp.calculate_qc_metrics(b8_adata, qc_vars=['mt'], percent_top=None, log1p=False, inplace=True)\n",
    "fig, (ax0, ax1, ax2, ax3, ax4, ax5) = plt.subplots(1, 6,  figsize=(20,4), gridspec_kw={'wspace':0.5})\n",
    "ax0_dict = sc.pl.violin(b8_adata,[\"pct_counts_mt\"], jitter=0.5, show=False, ax=ax0, stripplot=False)\n",
    "ax1_dict = sc.pl.violin(b8_adata,['n_genes_by_counts'], jitter=0.5, show=False, ax = ax1, stripplot=False) \n",
    "ax2_dict = sc.pl.violin(b8_adata,['total_counts'], jitter=0.5, show=False, ax = ax2, stripplot=False)\n",
    "ax3_dict = sns.histplot(b8_adata.obs[\"n_genes_by_counts\"],  ax = ax3)\n",
    "ax4_dict = sns.histplot(b8_adata.obs[\"total_counts\"], ax = ax4)\n",
    "ax5_dict = sc.pl.scatter(b8_adata, x='total_counts', y='n_genes_by_counts', show=False, ax=ax5)"
   ]
  },
  {
   "cell_type": "code",
   "execution_count": null,
   "id": "d06fb092",
   "metadata": {},
   "outputs": [],
   "source": [
    "# Remove mito and ribo genes\n",
    "ribo = b8_adata.var_names.str.startswith(('RPL', \"RPS\"))\n",
    "mito = b8_adata.var_names.str.startswith('MT-')\n",
    "remove = np.add(mito, ribo)\n",
    "keep = np.invert(remove)\n",
    "b8_adata = b8_adata[:,keep]\n",
    "\n",
    "b8_adata.layers[\"counts\"] = b8_adata.X.copy()"
   ]
  },
  {
   "cell_type": "code",
   "execution_count": null,
   "id": "8465f5f8",
   "metadata": {},
   "outputs": [],
   "source": [
    "b8_adata.shape"
   ]
  },
  {
   "cell_type": "markdown",
   "id": "3d0b771a",
   "metadata": {},
   "source": [
    "# B10"
   ]
  },
  {
   "cell_type": "code",
   "execution_count": null,
   "id": "df1c9fab",
   "metadata": {},
   "outputs": [],
   "source": [
    "# Compute qc metrix\n",
    "b10_adata.var['mt'] = b10_adata.var_names.str.startswith('MT-')  # annotate the group of mitochondrial genes as 'mt'\n",
    "sc.pp.calculate_qc_metrics(b10_adata, qc_vars=['mt'], percent_top=None, log1p=False, inplace=True)\n",
    "fig, (ax0, ax1, ax2, ax3, ax4, ax5) = plt.subplots(1, 6,  figsize=(20,4), gridspec_kw={'wspace':0.5})\n",
    "ax0_dict = sc.pl.violin(b10_adata,[\"pct_counts_mt\"], jitter=0.5, show=False, ax=ax0, stripplot=False)\n",
    "ax1_dict = sc.pl.violin(b10_adata,['n_genes_by_counts'], jitter=0.5, show=False, ax = ax1, stripplot=False) \n",
    "ax2_dict = sc.pl.violin(b10_adata,['total_counts'], jitter=0.5, show=False, ax = ax2, stripplot=False)\n",
    "ax3_dict = sns.histplot(b10_adata.obs[\"n_genes_by_counts\"],  ax = ax3)\n",
    "ax4_dict = sns.histplot(b10_adata.obs[\"total_counts\"], ax = ax4)\n",
    "ax5_dict = sc.pl.scatter(b10_adata, x='total_counts', y='n_genes_by_counts', show=False, ax=ax5)"
   ]
  },
  {
   "cell_type": "code",
   "execution_count": null,
   "id": "56a945c0",
   "metadata": {},
   "outputs": [],
   "source": [
    "# perform fitering\n",
    "sc.pp.filter_genes(b10_adata, min_cells=3)\n",
    "sc.pp.filter_cells(b10_adata, min_counts=1000)\n",
    "sc.pp.filter_cells(b10_adata, max_counts=43000)\n",
    "sc.pp.filter_cells(b10_adata, min_genes=4000)\n",
    "sc.pp.filter_cells(b10_adata, max_genes=12000)\n",
    "b10_adata = b10_adata[b10_adata.obs.pct_counts_mt <1, :] # Remove cells with high mito content"
   ]
  },
  {
   "cell_type": "code",
   "execution_count": null,
   "id": "17e2387e",
   "metadata": {},
   "outputs": [],
   "source": [
    "# Compute qc metrix\n",
    "b10_adata.var['mt'] = b10_adata.var_names.str.startswith('MT-')  # annotate the group of mitochondrial genes as 'mt'\n",
    "sc.pp.calculate_qc_metrics(b10_adata, qc_vars=['mt'], percent_top=None, log1p=False, inplace=True)\n",
    "fig, (ax0, ax1, ax2, ax3, ax4, ax5) = plt.subplots(1, 6,  figsize=(20,4), gridspec_kw={'wspace':0.5})\n",
    "ax0_dict = sc.pl.violin(b10_adata,[\"pct_counts_mt\"], jitter=0.5, show=False, ax=ax0, stripplot=False)\n",
    "ax1_dict = sc.pl.violin(b10_adata,['n_genes_by_counts'], jitter=0.5, show=False, ax = ax1, stripplot=False) \n",
    "ax2_dict = sc.pl.violin(b10_adata,['total_counts'], jitter=0.5, show=False, ax = ax2, stripplot=False)\n",
    "ax3_dict = sns.histplot(b10_adata.obs[\"n_genes_by_counts\"],  ax = ax3)\n",
    "ax4_dict = sns.histplot(b10_adata.obs[\"total_counts\"], ax = ax4)\n",
    "ax5_dict = sc.pl.scatter(b10_adata, x='total_counts', y='n_genes_by_counts', show=False, ax=ax5)"
   ]
  },
  {
   "cell_type": "code",
   "execution_count": null,
   "id": "fdd7ecce",
   "metadata": {},
   "outputs": [],
   "source": [
    "# Remove mito and ribo genes\n",
    "ribo = b10_adata.var_names.str.startswith(('RPL', \"RPS\"))\n",
    "mito = b10_adata.var_names.str.startswith('MT-')\n",
    "remove = np.add(mito, ribo)\n",
    "keep = np.invert(remove)\n",
    "b10_adata = b10_adata[:,keep]\n",
    "\n",
    "b10_adata.layers[\"counts\"] = b10_adata.X.copy()"
   ]
  },
  {
   "cell_type": "code",
   "execution_count": null,
   "id": "b982eab9",
   "metadata": {},
   "outputs": [],
   "source": [
    "b10_adata.shape"
   ]
  },
  {
   "cell_type": "markdown",
   "id": "a11040b4",
   "metadata": {},
   "source": [
    "# Normalize and concatenate data"
   ]
  },
  {
   "cell_type": "code",
   "execution_count": null,
   "id": "73a3671c",
   "metadata": {},
   "outputs": [],
   "source": [
    "sc.pp.normalize_total(d1_adata, target_sum=1e4)\n",
    "sc.pp.log1p(d1_adata)\n",
    "\n",
    "sc.pp.normalize_total(e1_adata, target_sum=1e4)\n",
    "sc.pp.log1p(e1_adata)\n",
    "\n",
    "sc.pp.normalize_total(f1_adata, target_sum=1e4)\n",
    "sc.pp.log1p(f1_adata)\n",
    "\n",
    "sc.pp.normalize_total(g1_adata, target_sum=1e4)\n",
    "sc.pp.log1p(g1_adata)\n",
    "\n",
    "sc.pp.normalize_total(h1_adata, target_sum=1e4)\n",
    "sc.pp.log1p(h1_adata)\n",
    "\n",
    "sc.pp.normalize_total(c2_adata, target_sum=1e4)\n",
    "sc.pp.log1p(c2_adata)\n",
    "\n",
    "sc.pp.normalize_total(d2_adata, target_sum=1e4)\n",
    "sc.pp.log1p(d2_adata)\n",
    "\n",
    "sc.pp.normalize_total(e2_adata, target_sum=1e4)\n",
    "sc.pp.log1p(e2_adata)\n",
    "\n",
    "sc.pp.normalize_total(f2_adata, target_sum=1e4)\n",
    "sc.pp.log1p(f2_adata)\n",
    "\n",
    "sc.pp.normalize_total(g2_adata, target_sum=1e4)\n",
    "sc.pp.log1p(g2_adata)\n",
    "\n",
    "sc.pp.normalize_total(h2_adata, target_sum=1e4)\n",
    "sc.pp.log1p(h2_adata)\n",
    "\n",
    "sc.pp.normalize_total(a6_adata, target_sum=1e4)\n",
    "sc.pp.log1p(a6_adata)\n",
    "\n",
    "sc.pp.normalize_total(a7_adata, target_sum=1e4)\n",
    "sc.pp.log1p(a7_adata)\n",
    "\n",
    "sc.pp.normalize_total(a9_adata, target_sum=1e4)\n",
    "sc.pp.log1p(a9_adata)\n",
    "\n",
    "sc.pp.normalize_total(a11_adata, target_sum=1e4)\n",
    "sc.pp.log1p(a11_adata)\n",
    "\n",
    "sc.pp.normalize_total(b5_adata, target_sum=1e4)\n",
    "sc.pp.log1p(b5_adata)\n",
    "\n",
    "sc.pp.normalize_total(b6_adata, target_sum=1e4)\n",
    "sc.pp.log1p(b6_adata)\n",
    "\n",
    "sc.pp.normalize_total(b7_adata, target_sum=1e4)\n",
    "sc.pp.log1p(b7_adata)\n",
    "\n",
    "sc.pp.normalize_total(b8_adata, target_sum=1e4)\n",
    "sc.pp.log1p(b8_adata)\n",
    "\n",
    "sc.pp.normalize_total(b10_adata, target_sum=1e4)\n",
    "sc.pp.log1p(b10_adata)\n",
    "\n",
    "\n"
   ]
  },
  {
   "cell_type": "code",
   "execution_count": null,
   "id": "2a6c811a",
   "metadata": {},
   "outputs": [],
   "source": [
    "adata_concat = d1_adata.concatenate(e1_adata, f1_adata, g1_adata, h1_adata, c2_adata,d2_adata, e2_adata, f2_adata, \n",
    "                                    g2_adata, h2_adata, a6_adata, a7_adata, a9_adata, a11_adata, b5_adata, \n",
    "                                    b6_adata, b7_adata, b8_adata, b10_adata,batch_key=None, join='outer')\n",
    "\n",
    "del adata_concat.layers['logcounts']\n",
    "adata_concat.layers['log_transformed'] = adata_concat.X.copy()\n",
    "adata_concat.var = adata_concat.var[[]]"
   ]
  },
  {
   "cell_type": "code",
   "execution_count": null,
   "id": "4c0a919d",
   "metadata": {},
   "outputs": [],
   "source": [
    "adata_concat.write('Data/adata_concat.h5ad')"
   ]
  }
 ],
 "metadata": {
  "kernelspec": {
   "display_name": "Python [conda env:.conda-PYenv]",
   "language": "python",
   "name": "conda-env-.conda-PYenv-py"
  },
  "language_info": {
   "codemirror_mode": {
    "name": "ipython",
    "version": 3
   },
   "file_extension": ".py",
   "mimetype": "text/x-python",
   "name": "python",
   "nbconvert_exporter": "python",
   "pygments_lexer": "ipython3",
   "version": "3.9.19"
  }
 },
 "nbformat": 4,
 "nbformat_minor": 5
}
