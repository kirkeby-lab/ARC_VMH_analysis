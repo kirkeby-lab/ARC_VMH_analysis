{
 "cells": [
  {
   "cell_type": "code",
   "execution_count": null,
   "id": "f6b2e3db",
   "metadata": {},
   "outputs": [],
   "source": [
    "import scanpy as sc\n",
    "import matplotlib.pyplot as plt\n",
    "import pandas as pd\n",
    "import seaborn as sns\n",
    "import numpy as np\n",
    "import os, scipy\n",
    "import scipy.sparse as sp\n",
    "import warnings\n",
    "import anndata\n",
    "warnings.filterwarnings(\"ignore\")\n",
    "\n",
    "# R interface\n",
    "from rpy2.robjects import pandas2ri\n",
    "from rpy2.robjects import r\n",
    "import rpy2.rinterface_lib.callbacks\n",
    "import anndata2ri\n",
    "#import numpy2ri\n",
    "\n",
    "pandas2ri.activate()\n",
    "anndata2ri.activate()\n",
    "\n",
    "plt.rcParams.update({\n",
    "    'font.family': 'Arial'\n",
    "})\n",
    "\n",
    "%load_ext rpy2.ipython"
   ]
  },
  {
   "cell_type": "code",
   "execution_count": null,
   "id": "ebc39656",
   "metadata": {},
   "outputs": [],
   "source": [
    "adata_concat = sc.read('Data/adata_concat.h5ad')\n",
    "adata_D25 = adata_concat[adata_concat.obs['day'].isin(['D25'])]"
   ]
  },
  {
   "cell_type": "markdown",
   "id": "ac182a94-2b7e-4ab3-a89c-c25017ab5191",
   "metadata": {},
   "source": [
    "# Integration and annotation"
   ]
  },
  {
   "cell_type": "code",
   "execution_count": null,
   "id": "6f52c0ff",
   "metadata": {
    "collapsed": true,
    "jupyter": {
     "outputs_hidden": true
    },
    "tags": []
   },
   "outputs": [],
   "source": [
    "%%R -i adata_D25 -o adata_integrated -o umap_emb -o pca_emb -o hvg_list\n",
    "\n",
    "Csparse_validate = \"CsparseMatrix_validate\"\n",
    "library(Seurat)\n",
    "library(dplyr)\n",
    "\n",
    "sobj <- as.Seurat(adata_D25, counts = \"counts\", data = NULL)\n",
    "\n",
    "sobj_list <- SplitObject(sobj, split.by = 'reactionID')\n",
    "\n",
    "sobj_list <- lapply(X = sobj_list, FUN = function(x) {\n",
    "    x <- NormalizeData(x)\n",
    "    x <- FindVariableFeatures(x, selection.method = \"vst\", nfeatures = 2000)\n",
    "})\n",
    "\n",
    "features <- SelectIntegrationFeatures(object.list = sobj_list,nfeatures = 2000)\n",
    "\n",
    "sobj_list <- lapply(X = sobj_list, FUN = function(x) {\n",
    "    x <- ScaleData(x, features = features, verbose = FALSE)\n",
    "    x <- RunPCA(x, features = features, verbose = FALSE)\n",
    "  })\n",
    "\n",
    "anchors <- FindIntegrationAnchors(object.list = sobj_list, anchor.features = features, reduction = \"rpca\")\n",
    "sobj <- IntegrateData(anchorset = anchors,k.weight=80)\n",
    "DefaultAssay(sobj) <- \"integrated\"\n",
    "sobj <- ScaleData(sobj) %>% RunPCA(.)\n",
    "sobj <- RunUMAP(sobj, dims = 1:40)\n",
    "sobj <- FindNeighbors(sobj, dims = 1:40)\n",
    "sobj <- FindClusters(sobj,resolution=0.85)\n",
    "sobj <- FindClusters(sobj,resolution=1)\n",
    "sobj <- FindClusters(sobj,resolution=1.2)\n",
    "\n",
    "pca_emb = Embeddings(object = sobj, reduction = \"pca\")\n",
    "hvg_list = rownames(sobj)\n",
    "\n",
    "DefaultAssay(sobj) <- \"originalexp\"\n",
    "\n",
    "umap_emb = Embeddings(object = sobj, reduction = \"umap\")\n",
    "adata_integrated = as.SingleCellExperiment(sobj) \n",
    "\n",
    "saveRDS(sobj,'Data/d25_seurat.rds')"
   ]
  },
  {
   "cell_type": "code",
   "execution_count": null,
   "id": "3c24c58e",
   "metadata": {},
   "outputs": [],
   "source": [
    "adata_D25.obsm['X_umap'] = umap_emb\n",
    "adata_D25.obsm['X_pca'] = umap_emb\n",
    "adata_D25.var['highly_variable'] = adata_D25.var.index.isin(hvg_list)\n",
    "\n",
    "adata_D25.obs['integrated_snn_res.0.85'] = adata_integrated.obs['integrated_snn_res.0.85']\n",
    "\n",
    "adata_D25.obs['integrated_snn_res.1'] = adata_integrated.obs['integrated_snn_res.1']\n",
    "adata_D25.obs['integrated_snn_res.1.2'] = adata_integrated.obs['integrated_snn_res.1.2']\n",
    "\n",
    "\n",
    "\n"
   ]
  },
  {
   "cell_type": "markdown",
   "id": "5e629265",
   "metadata": {},
   "source": [
    "#with plt.rc_context({ \"figure.dpi\": 250, \"figure.figsize\": (4,4)}):\n",
    "with plt.rc_context({ \"figure.dpi\": 250}):\n",
    "    sc.pl.umap(adata_D25, color=['integrated_snn_res.0.5','integrated_snn_res.0.55','integrated_snn_res.0.6',\n",
    "                                'integrated_snn_res.0.65','integrated_snn_res.0.7','integrated_snn_res.0.75',\n",
    "                                'integrated_snn_res.0.8','integrated_snn_res.0.85'],legend_loc='on data',\n",
    "    use_raw=False, size=10,frameon=False,  ncols=2,cmap='jet', colorbar_loc=None,wspace=-0.05)"
   ]
  },
  {
   "cell_type": "code",
   "execution_count": null,
   "id": "9aec0450",
   "metadata": {},
   "outputs": [],
   "source": [
    "#with plt.rc_context({ \"figure.dpi\": 250, \"figure.figsize\": (4,4)}):\n",
    "with plt.rc_context({ \"figure.dpi\": 250}):\n",
    "    sc.pl.umap(adata_D25, color=['integrated_snn_res.0.85','integrated_snn_res.1.2'],legend_loc='on data',\n",
    "    use_raw=False, size=10,frameon=False,  ncols=2,cmap='jet', colorbar_loc=None,wspace=-0.05)"
   ]
  },
  {
   "cell_type": "code",
   "execution_count": null,
   "id": "d4fa0528",
   "metadata": {},
   "outputs": [],
   "source": [
    "adata_D25.obs['Cell_types'] = 'Unassigned'\n",
    "\n",
    "pomc = pd.Series(list(adata_D25[adata_D25.obs[\"integrated_snn_res.0.85\"].isin(['3'])].obs.index), dtype=\"category\")\n",
    "adata_D25.obs[\"Cell_types\"].loc[pomc] = \"POMC+ neurons\"\n",
    "\n",
    "dlx = pd.Series(list(adata_D25[adata_D25.obs[\"integrated_snn_res.0.85\"].isin(['6','14'])].obs.index), dtype=\"category\")\n",
    "adata_D25.obs[\"Cell_types\"].loc[dlx] = \"DLX6-AS1+ neurons\"\n",
    "\n",
    "otp = pd.Series(list(adata_D25[adata_D25.obs[\"integrated_snn_res.0.85\"].isin(['10','8'])].obs.index), dtype=\"category\")\n",
    "adata_D25.obs[\"Cell_types\"].loc[otp] = \"OTP+ neurons\"\n",
    "\n",
    "nr5a2 = pd.Series(list(adata_D25[adata_D25.obs[\"integrated_snn_res.0.85\"].isin(['15'])].obs.index), dtype=\"category\")\n",
    "adata_D25.obs[\"Cell_types\"].loc[nr5a2] = \"NR5A2/ONECUT1/3+ neurons\"\n",
    "\n",
    "tele = pd.Series(list(adata_D25[adata_D25.obs[\"integrated_snn_res.0.85\"].isin(['17','21'])].obs.index), dtype=\"category\")\n",
    "adata_D25.obs[\"Cell_types\"].loc[tele] = \"Telencephalic neurons\"\n",
    "\n",
    "arc_imm = pd.Series(list(adata_D25[adata_D25.obs[\"integrated_snn_res.0.85\"].isin(['7','5','19','16'])].obs.index), dtype=\"category\")\n",
    "adata_D25.obs[\"Cell_types\"].loc[arc_imm] = \"Posterior tuberal precursors\"\n",
    "\n",
    "optic = pd.Series(list(adata_D25[adata_D25.obs[\"integrated_snn_res.0.85\"].isin(['18','13','22'])].obs.index), dtype=\"category\")\n",
    "adata_D25.obs[\"Cell_types\"].loc[optic] = \"Optic area progenitors\"\n",
    "\n",
    "tany = pd.Series(list(adata_D25[adata_D25.obs[\"integrated_snn_res.0.85\"].isin(['12','4','1','0', '9','2','11','20'])].obs.index), dtype=\"category\")\n",
    "adata_D25.obs[\"Cell_types\"].loc[tany] = \"Tanycytes\"\n",
    "\n",
    "vlmc = pd.Series(list(adata_D25[adata_D25.obs['integrated_snn_res.1.2'].isin(['21'])].obs.index), dtype=\"category\")\n",
    "adata_D25.obs[\"Cell_types\"].loc[vlmc] = \"Unassigned\""
   ]
  },
  {
   "cell_type": "markdown",
   "id": "e1bf21fd-6a9d-49a2-83af-a5fc1d7ee75f",
   "metadata": {},
   "source": [
    "POMC = '#eddb7e'\n",
    "OTP/AGRP = '#3586bd'\n",
    "Tele = '#d0a9b7'\n",
    "Tany = '#faaa4e'"
   ]
  },
  {
   "cell_type": "code",
   "execution_count": null,
   "id": "41e6ea9a",
   "metadata": {},
   "outputs": [],
   "source": [
    "palette_cell_types = ['#bb9c8a','#f4a989','#3586bd','#4F9E46','#eddb7e','#e85b3d','#FAAA4E','#d0a9b7','#a4cde0']\n",
    "with plt.rc_context({ \"figure.dpi\": 300, \"figure.figsize\": (4.2,4) }):\n",
    "    sc.pl.umap(adata_D25, color=['Cell_types'],palette=palette_cell_types, ncols=2, use_raw=False, cmap='jet', frameon=False, colorbar_loc=None,size=14, save='_d25_matched_colors.pdf')\n",
    "    \n",
    "#palette_batch=['#ff7f0eff', '#8c564bff', '#279e68ff']\n",
    "#with plt.rc_context({ \"figure.dpi\": 300, \"figure.figsize\": (4.2,4) }):\n",
    "#    sc.pl.umap(adata_D25, color=['diff_batch'],palette=palette_batch, ncols=2, use_raw=False, cmap='jet', frameon=False, colorbar_loc=None,size=14)\n"
   ]
  },
  {
   "cell_type": "code",
   "execution_count": null,
   "id": "aab3b83a",
   "metadata": {},
   "outputs": [],
   "source": [
    "adata_D25.write('../Data/adata_d25_annotated.h5ad')"
   ]
  },
  {
   "cell_type": "markdown",
   "id": "54ea1493",
   "metadata": {},
   "source": [
    "# Dotplot"
   ]
  },
  {
   "cell_type": "code",
   "execution_count": null,
   "id": "fd19fc45-6643-4eb8-b637-1873e8b91238",
   "metadata": {},
   "outputs": [],
   "source": [
    "adata_D25 = sc.read('../Data/adata_d25_annotated.h5ad')\n"
   ]
  },
  {
   "cell_type": "code",
   "execution_count": null,
   "id": "6d9c8f4d-f453-4cd4-a7f0-5c48f77fb685",
   "metadata": {},
   "outputs": [],
   "source": [
    "with plt.rc_context({\"figure.dpi\": 300}): \n",
    "    plt.rcParams.update({'font.size': 12})\n",
    "    dp = sc.pl.dotplot(adata_D25, ['DLX6-AS1','DLX6', 'DLX1','DLX2', 'NR5A2','ONECUT1','ONECUT3','OTP','BSX', 'NR2F1', 'VSX2', 'POMC', 'PRDM12', 'DLL1','NFIA', 'DIO2','LHX8', 'FOXG1'], \"Cell_types\",\n",
    "                       show=False, cmap='Blues')\n",
    "    ax = dp[\"mainplot_ax\"]\n",
    "    ax.xaxis.set_tick_params(labelsize=16)\n",
    "    ax.yaxis.set_tick_params(labelsize=16)\n",
    "    \n",
    "    # Add a color strip next to the y-ticks\n",
    "    ytick_positions = ax.get_yticks()\n",
    "    cell_type_colors = dict(zip(list(adata_D25.obs.Cell_types.cat.categories), list(adata_D25.uns['Cell_types_colors'])))\n",
    "    \n",
    "    # Assuming df_flipped has the \"Cell_Type\" and cell_type_colors is a dictionary with colors for each cell type\n",
    "    #cell_type_colors = {'cell_type_1': 'red', 'cell_type_2': 'green', 'cell_type_3': 'blue'}  # Example color map\n",
    "    from matplotlib.patches import Circle\n",
    "    \n",
    "    for y_pos, cell_type in zip(ytick_positions, list(adata_D25.obs.Cell_types.cat.categories)):\n",
    "        color = cell_type_colors.get(cell_type, \"black\")  # Default to black if no match\n",
    "\n",
    "        # Add a circle at the left of the plot (adjust -9.4 and radius as needed)\n",
    "        circle = Circle((-12.4, y_pos), radius=0.3, color=color, transform=ax.transData, clip_on=False)\n",
    "        ax.add_patch(circle)\n",
    "    \n",
    "    #ax.tick_params(axis='y', pad=11)\n",
    "    #ax.tick_params(axis='y', length=3.5, width=2)\n",
    "\n",
    "    plt.tight_layout()\n",
    "    plt.savefig('figures/d25_marker_dotplot.pdf', bbox_inches='tight')\n",
    "    plt.show()"
   ]
  },
  {
   "cell_type": "markdown",
   "id": "eb011f6e-83ea-4b97-8ac5-0e580398a16a",
   "metadata": {},
   "source": [
    "# Cluster percentage"
   ]
  },
  {
   "cell_type": "code",
   "execution_count": null,
   "id": "fe5c1fde-ad3a-43f0-97ec-4ec9d9bf8dba",
   "metadata": {},
   "outputs": [],
   "source": [
    "# Group by 'diff_batch' and 'Cell_types' and count the number of occurrences\n",
    "counts = adata_D25.obs.groupby(['diff_batch_2', 'Cell_types']).size().reset_index(name='counts')\n",
    "\n",
    "# Calculate the total counts per batch\n",
    "totals = adata_D25.obs.groupby('diff_batch_2').size().reset_index(name='total_counts')\n",
    "\n",
    "# Merge the counts with the totals\n",
    "counts = counts.merge(totals, on='diff_batch_2')\n",
    "\n",
    "# Normalize the counts\n",
    "counts['normalized_counts'] = counts['counts'] / counts['total_counts']\n",
    "counts['normalized_counts'] = counts['normalized_counts'].mul(100)\n",
    "\n",
    "\n",
    "# Print the result\n",
    "counts"
   ]
  },
  {
   "cell_type": "code",
   "execution_count": null,
   "id": "c914745c-180e-429f-8e75-2aa1e9a67c9a",
   "metadata": {},
   "outputs": [],
   "source": [
    "df = counts.groupby(['Cell_types'])['normalized_counts'].agg(\n",
    "    mean='mean',\n",
    "    std=lambda x: x.std(ddof=0)\n",
    ").reset_index()\n",
    "\n",
    "df['mean'] = df['mean'].round(2)\n",
    "df['std'] = df['std'].round(2)\n",
    "\n",
    "df"
   ]
  },
  {
   "cell_type": "code",
   "execution_count": null,
   "id": "f0f89c90-8f43-49be-b8e2-dbe5e3205089",
   "metadata": {},
   "outputs": [],
   "source": [
    "import matplotlib.pyplot as plt\n",
    "import numpy as np\n",
    "import matplotlib.lines as mlines\n",
    "\n",
    "category_names = list(adata_D25.obs['Cell_types'].cat.categories)\n",
    "\n",
    "\n",
    "# Create a dictionary with the percentage lists for each dataset\n",
    "results = {\n",
    "    'batch-3': list(adata_D25[adata_D25.obs.diff_batch_2.isin(['batch-3'])].obs['Cell_types'].value_counts(normalize=True).mul(100).round(1).sort_index(ascending=True).values),\n",
    "    'batch-2': list(adata_D25[adata_D25.obs.diff_batch_2.isin(['batch-2'])].obs['Cell_types'].value_counts(normalize=True).mul(100).round(1).sort_index(ascending=True).values),\n",
    "    'batch-1': list(adata_D25[adata_D25.obs.diff_batch_2.isin(['batch-1'])].obs['Cell_types'].value_counts(normalize=True).mul(100).round(1).sort_index(ascending=True).values),\n",
    "    \n",
    "}\n",
    "\n",
    "\n",
    "\n",
    "def survey_horizontal(results, category_names):\n",
    "    category_names = category_names[::-1]\n",
    "    labels = list(results.keys())\n",
    "    data = np.array(list(results.values()))[:, ::-1]\n",
    "    data_cum = data.cumsum(axis=1)\n",
    "    category_colors = list(reversed(['#bb9c8a', '#f4a989', '#3586bd', '#4f9e46', '#eddb7e', '#e85b3d',\n",
    "       '#faaa4e', '#d0a9b7', '#a4cde0']))\n",
    "\n",
    "    with plt.rc_context({\"figure.dpi\": 250}):\n",
    "        fig, ax = plt.subplots(figsize=(3.5, 2.5))\n",
    "        ax.set_xlim(0, np.sum(data, axis=1).max())\n",
    "        ax.set_ylim(-0.5, len(labels) - 0.5)\n",
    "\n",
    "        for i, (colname, color) in enumerate(zip(category_names, category_colors)):\n",
    "            widths = data[:, i]\n",
    "            starts = data_cum[:, i] - widths\n",
    "            rects = ax.barh(labels, widths, left=starts, height=0.7,\n",
    "                            label=colname, color=color)\n",
    "\n",
    "        #ax.spines['top'].set_visible(False)\n",
    "        #ax.spines['right'].set_visible(False)\n",
    "        \n",
    "        # Optional: Adjust or customize legend\n",
    "        line1 = mlines.Line2D([], [], color=\"white\", marker='o',label='Optic area progenitors', markersize=8, markerfacecolor='#4F9E46')\n",
    "        line2 = mlines.Line2D([], [], color=\"white\", marker='o',label='STMN2+ neurons', markersize=8, markerfacecolor='#4a95c8')\n",
    "        line3 = mlines.Line2D([], [], color=\"white\", marker='o',label='Telencephalic progenitors', markersize=8,  markerfacecolor='#EDDB7E')\n",
    "        line4 = mlines.Line2D([], [], color=\"white\", marker='o',label='Tuberal progenitors', markersize=8, markerfacecolor='#ED9892')\n",
    "        line5 = mlines.Line2D([], [], color=\"white\", marker='o',label='Unassigned', markersize=8, markerfacecolor='#a79098')\n",
    "\n",
    "        # Uncomment below to add custom legend\n",
    "        # ax.legend(handles=[line1, line2, line3, line4, line5], loc='lower right', fontsize='small', frameon=False)\n",
    "\n",
    "        ax.set_xlabel('% of cells', fontsize=11)\n",
    "        ax.set_ylabel('')\n",
    "        ax.set_yticks(range(len(labels)))\n",
    "        ax.set_yticklabels(labels, fontsize=11)\n",
    "        ax.set_xticks(np.linspace(0, 100, 5))\n",
    "        ax.tick_params(axis='x', labelsize=8)\n",
    "\n",
    "    return fig, ax\n",
    "\n",
    "survey_horizontal(results, category_names)\n",
    "plt.xticks(fontsize=9)\n",
    "plt.yticks(fontsize=11)\n",
    "plt.savefig('figures/cluster_percentages_d25.pdf', bbox_inches='tight')\n",
    "plt.show()\n",
    "#plt.ylabel('% of cells', fontsize=11, labelpad=-1)\n"
   ]
  },
  {
   "cell_type": "markdown",
   "id": "b58864bd-afc4-4582-9d93-450ade2c0b78",
   "metadata": {},
   "source": [
    "# Featureplots"
   ]
  },
  {
   "cell_type": "code",
   "execution_count": null,
   "id": "3e4f0aa0-e0af-476e-9008-60637850d2d8",
   "metadata": {},
   "outputs": [],
   "source": [
    "adata = sc.read('Data/adata_d25_annotated.h5ad')"
   ]
  },
  {
   "cell_type": "code",
   "execution_count": null,
   "id": "9c02fadc-ff0a-4e19-bcda-b193d37b9d1f",
   "metadata": {},
   "outputs": [],
   "source": [
    "#RAX, TBX3 and NKX2-1\n",
    "for color in ['CRYM']:\n",
    "    with plt.rc_context({ \"figure.dpi\": 300, \"figure.figsize\": (4.2,4) }):\n",
    "        sc.pl.umap(adata, color=color, ncols=2, use_raw=False, cmap='jet', frameon=False, colorbar_loc=None,size=18, save=f'd25_{color}.pdf', show=False,layer='log_transformed')\n",
    "        #sc.pl.umap(adata, color=color, ncols=2, use_raw=False, cmap='jet', frameon=False, colorbar_loc=None,size=18)"
   ]
  },
  {
   "cell_type": "markdown",
   "id": "f4b67f0e-ccde-490b-8127-9c400b80e80e",
   "metadata": {},
   "source": [
    "# DGE list"
   ]
  },
  {
   "cell_type": "code",
   "execution_count": null,
   "id": "a168cbfa",
   "metadata": {},
   "outputs": [],
   "source": [
    "adata_D25 = sc.read('../Data/adata_d25_annotated.h5ad')"
   ]
  },
  {
   "cell_type": "code",
   "execution_count": null,
   "id": "020b1a32",
   "metadata": {},
   "outputs": [],
   "source": [
    "%%R -i adata_D25\n",
    "\n",
    "Csparse_validate = \"CsparseMatrix_validate\"\n",
    "library(Seurat)\n",
    "library(edgeR)\n",
    "\n",
    "seur <- as.Seurat(adata_D25, counts = \"counts\", data = NULL)\n",
    "\n",
    "#seur <- readRDS(\"Data/d50_d70_neurons_seurat.rds\")\n",
    "seur <- RenameAssays(seur, originalexp=\"RNA\")\n",
    "\n",
    "y <- Seurat2PB(seur, sample = \"diff_batch_2\", cluster = \"Cell_types\")\n",
    "keep.samples <- y$samples$lib.size > 5e4\n",
    "y <- y[, keep.samples]\n",
    "keep.genes <- filterByExpr(y, group=y$samples$cluster)\n",
    "y <- y[keep.genes, , keep=FALSE]\n",
    "y <- normLibSizes(y)\n",
    "\n",
    "cluster <- as.factor(y$samples$cluster)\n",
    "\n",
    "batch <- factor(y$samples$sample)\n",
    "design <- model.matrix(~ cluster + batch)\n",
    "colnames(design) <- gsub(\"batch\", \"\", colnames(design))\n",
    "colnames(design)[1] <- \"Int\"\n",
    "\n",
    "y <- estimateDisp(y, design, robust=TRUE)\n",
    "fit <- glmQLFit(y, design, robust=TRUE)\n",
    "\n",
    "ncls <- nlevels(cluster)\n",
    "contr <- rbind( matrix(1/(1-ncls), ncls, ncls), matrix(0, ncol(design)-ncls, ncls) )\n",
    "diag(contr) <- 1\n",
    "contr[1,] <- 0\n",
    "rownames(contr) <- colnames(design)\n",
    "colnames(contr) <- paste0(\"cluster\", levels(cluster))\n",
    "\n",
    "qlf <- list()\n",
    "for(i in 1:ncls){\n",
    " qlf[[i]] <- glmQLFTest(fit, contrast=contr[,i])\n",
    " qlf[[i]]$comparison <- paste0(\"cluster\", levels(cluster)[i], \"_vs_others\")\n",
    "}\n",
    "\n",
    "top <- 500\n",
    "topMarkers <- list()\n",
    "\n",
    "de_df = data.frame(matrix( \n",
    "  vector(), 0, 7, dimnames=list(c(), c(\"gene\",\"logFC\",\"logCPM\",\"F\",\"PValue\",\"FDR\",'comparison'))), \n",
    "                stringsAsFactors=F)\n",
    "\n",
    "for(i in 1:ncls) {\n",
    "    #print(head(qlf[[i]])$comparison)\n",
    "    ord <- order(qlf[[i]]$table$PValue, decreasing=FALSE)\n",
    "    up <- qlf[[i]]$table$logFC[ord] > 0\n",
    "    topMarkers[[i]] <- rownames(y)[ord[up][1:top]]\n",
    "    #genes = \n",
    "    df = as.data.frame(topTags(qlf[[i]], n='all'))\n",
    "    df =df[rownames(df) %in% rownames(y)[ord[up][1:top]], ]  \n",
    "    df$comparison <- head(qlf[[i]])$comparison\n",
    "    de_df = rbind(de_df, df)\n",
    "}\n",
    "print(dim(de_df))\n",
    "\n",
    "write.csv(de_df, \"DE_lists/d25_arc_de_list.csv\")"
   ]
  },
  {
   "cell_type": "code",
   "execution_count": null,
   "id": "5f707d46-4573-475b-97e2-5e9447e4d751",
   "metadata": {},
   "outputs": [],
   "source": [
    "de_genes = pd.read_csv(\"DE_lists/d25_arc_de_list.csv\",index_col=0)\n",
    "de_genes['cluster'] = de_genes['comparison'].str.extract(r'cluster(.*?)_vs_others')\n",
    "de_genes = de_genes[['gene','logFC','logCPM','F','PValue','FDR','comparison','cluster']]\n",
    "de_genes = de_genes[(de_genes.FDR < 0.05) & (de_genes.logFC > 1)]\n",
    "de_genes.to_excel(\"DE_lists/d25_arc_de_list.xlsx\")  \n",
    "de_genes"
   ]
  },
  {
   "cell_type": "code",
   "execution_count": null,
   "id": "4cf0c51f-16a9-4f44-a35e-90ecb2865e1d",
   "metadata": {},
   "outputs": [],
   "source": [
    "de_dict = {}\n",
    "for cluster in list(de_genes.cluster.unique()):\n",
    "    de_dict[str(cluster)] = list(de_genes.groupby('cluster').get_group(cluster).gene)[0:8]\n",
    "#de_dict\n",
    "de_genes['cluster'].value_counts()"
   ]
  },
  {
   "cell_type": "code",
   "execution_count": null,
   "id": "a6fa3c73-60ea-4f7f-9b36-f90e5517cb4f",
   "metadata": {},
   "outputs": [],
   "source": [
    "with plt.rc_context({ \"figure.dpi\": 600, \"figure.figsize\": (100,10)}):\n",
    "    sc.pl.heatmap(adata_D25,de_dict, groupby='Cell_types', show_gene_labels=True, layer='log_transformed', \n",
    "                        cmap='jet')"
   ]
  }
 ],
 "metadata": {
  "kernelspec": {
   "display_name": "Python [conda env:.conda-PYenv]",
   "language": "python",
   "name": "conda-env-.conda-PYenv-py"
  },
  "language_info": {
   "codemirror_mode": {
    "name": "ipython",
    "version": 3
   },
   "file_extension": ".py",
   "mimetype": "text/x-python",
   "name": "python",
   "nbconvert_exporter": "python",
   "pygments_lexer": "ipython3",
   "version": "3.9.19"
  }
 },
 "nbformat": 4,
 "nbformat_minor": 5
}
