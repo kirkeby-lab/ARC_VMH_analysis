{
 "cells": [
  {
   "cell_type": "code",
   "execution_count": null,
   "id": "543ed8af",
   "metadata": {},
   "outputs": [],
   "source": [
    "import scanpy as sc\n",
    "import scvelo as scv\n",
    "import pandas as pd\n",
    "import numpy as np\n",
    "import loompy as lp\n",
    "import warnings\n",
    "import matplotlib as mpl\n",
    "from copy import copy\n",
    "warnings.filterwarnings(\"ignore\")\n",
    "import seaborn as sns\n",
    "\n",
    "# R interface\n",
    "#from rpy2.robjects import pandas2ri\n",
    "from rpy2.robjects import r\n",
    "\n",
    "import rpy2.rinterface_lib.callbacks\n",
    "import anndata2ri\n",
    "from scipy import sparse\n",
    "import matplotlib.pyplot as plt\n",
    "\n",
    "import numpy as np\n",
    "from matplotlib.colors import LogNorm\n",
    "from sklearn.mixture import GaussianMixture as GMM\n",
    "\n",
    "anndata2ri.activate()\n",
    "\n",
    "plt.rcParams.update({\n",
    "    'font.family': 'Arial'\n",
    "})\n",
    "\n",
    "\n",
    "%load_ext rpy2.ipython"
   ]
  },
  {
   "cell_type": "code",
   "execution_count": null,
   "id": "c93298fe-7868-4606-a497-9e586378c0ed",
   "metadata": {},
   "outputs": [],
   "source": [
    "adata = sc.read('../Data/adata_d16_annotated.h5ad')\n",
    "\n"
   ]
  },
  {
   "cell_type": "code",
   "execution_count": null,
   "id": "0ebee29c-a9e7-40cb-80ff-0755f86a26ea",
   "metadata": {},
   "outputs": [],
   "source": [
    "with plt.rc_context({ \"figure.dpi\": 300, \"figure.figsize\": (4.5,4) }):\n",
    "\n",
    "    sc.pl.umap(adata, size=20,color='Cell_types', frameon=False,  )\n"
   ]
  },
  {
   "cell_type": "code",
   "execution_count": null,
   "id": "0b7753c9-940b-41ac-a0f5-305389a7bef3",
   "metadata": {},
   "outputs": [],
   "source": [
    "with plt.rc_context({\"figure.dpi\": 300}): \n",
    "    plt.rcParams.update({'font.size': 12})\n",
    "    dp = sc.pl.dotplot(adata, ['DLX6-AS1', 'DLX1','DLX2', 'DLX6', 'OTP', 'NR2F1', 'VSX2', 'POMC', 'PRDM12','ASCL1','DLL1', 'FGF10','FOXG1'], \"Cell_types\",\n",
    "                       show=False, cmap='Blues')\n",
    "    ax = dp[\"mainplot_ax\"]\n",
    "    ax.xaxis.set_tick_params(labelsize=12)\n",
    "    ax.yaxis.set_tick_params(labelsize=12)\n",
    "    \n",
    "    # Add a color strip next to the y-ticks\n",
    "    ytick_positions = ax.get_yticks()\n",
    "    cell_type_colors = dict(zip(list(adata.obs.Cell_types.cat.categories), list(adata.uns['Cell_types_colors'])))\n",
    "    \n",
    "    # Assuming df_flipped has the \"Cell_Type\" and cell_type_colors is a dictionary with colors for each cell type\n",
    "    #cell_type_colors = {'cell_type_1': 'red', 'cell_type_2': 'green', 'cell_type_3': 'blue'}  # Example color map\n",
    "    from matplotlib.patches import Circle\n",
    "    \n",
    "    for y_pos, cell_type in zip(ytick_positions, list(adata.obs.Cell_types.cat.categories)):\n",
    "        color = cell_type_colors.get(cell_type, \"black\")  # Default to black if no match\n",
    "\n",
    "        # Add a circle at the left of the plot (adjust -9.4 and radius as needed)\n",
    "        circle = Circle((-9.2, y_pos), radius=0.3, color=color, transform=ax.transData, clip_on=False)\n",
    "        ax.add_patch(circle)\n",
    "    \n",
    "    #ax.tick_params(axis='y', pad=11)\n",
    "    #ax.tick_params(axis='y', length=3.5, width=2)\n",
    "\n",
    "    plt.tight_layout()\n",
    "    plt.savefig('figures/d16_marker_dotplot.pdf', bbox_inches='tight')\n",
    "    plt.show()"
   ]
  },
  {
   "cell_type": "markdown",
   "id": "841baba4-4154-4356-a49e-72585ba80661",
   "metadata": {},
   "source": [
    "# Compute cluster precentages"
   ]
  },
  {
   "cell_type": "code",
   "execution_count": null,
   "id": "f5dd6255-e9f6-465a-af3e-de2c82d80652",
   "metadata": {},
   "outputs": [],
   "source": [
    "# Group by 'diff_batch' and 'Cell_types' and count the number of occurrences\n",
    "counts = adata.obs.groupby(['diff_batch_2', 'Cell_types']).size().reset_index(name='counts')\n",
    "\n",
    "# Calculate the total counts per batch\n",
    "totals = adata.obs.groupby('diff_batch_2').size().reset_index(name='total_counts')\n",
    "\n",
    "# Merge the counts with the totals\n",
    "counts = counts.merge(totals, on='diff_batch_2')\n",
    "\n",
    "# Normalize the counts\n",
    "counts['normalized_counts'] = counts['counts'] / counts['total_counts']\n",
    "counts['normalized_counts'] = counts['normalized_counts'].mul(100)\n",
    "# Print the result\n",
    "counts"
   ]
  },
  {
   "cell_type": "code",
   "execution_count": null,
   "id": "dfa79634-9244-4e78-a59d-48abec612ca6",
   "metadata": {},
   "outputs": [],
   "source": [
    "df = counts.groupby(['Cell_types'])['normalized_counts'].agg(\n",
    "    mean='mean',\n",
    "    std=lambda x: x.std(ddof=0)\n",
    ").reset_index()\n",
    "\n",
    "df['mean'] = df['mean'].round(2)\n",
    "df['std'] = df['std'].round(2)\n",
    "\n",
    "df"
   ]
  },
  {
   "cell_type": "code",
   "execution_count": null,
   "id": "fe662ce0-e1a0-484c-ac94-6f71646f67fd",
   "metadata": {},
   "outputs": [],
   "source": [
    "import matplotlib.pyplot as plt\n",
    "import numpy as np\n",
    "import matplotlib.lines as mlines\n",
    "\n",
    "category_names = list(adata.obs['Cell_types'].cat.categories)\n",
    "\n",
    "\n",
    "# Create a dictionary with the percentage lists for each dataset\n",
    "results = {\n",
    "    'batch-3': list(adata[adata.obs.diff_batch_2.isin(['batch-3'])].obs['Cell_types'].value_counts(normalize=True).mul(100).round(1).sort_index(ascending=True).values),\n",
    "    'batch-2': list(adata[adata.obs.diff_batch_2.isin(['batch-2'])].obs['Cell_types'].value_counts(normalize=True).mul(100).round(1).sort_index(ascending=True).values),\n",
    "    'batch-1': list(adata[adata.obs.diff_batch_2.isin(['batch-1'])].obs['Cell_types'].value_counts(normalize=True).mul(100).round(1).sort_index(ascending=True).values),\n",
    "    \n",
    "}\n",
    "\n",
    "\n",
    "\n",
    "def survey_horizontal(results, category_names):\n",
    "    category_names = category_names[::-1]\n",
    "    labels = list(results.keys())\n",
    "    data = np.array(list(results.values()))[:, ::-1]\n",
    "    data_cum = data.cumsum(axis=1)\n",
    "    category_colors = list(reversed(['#bb9c8a', '#3586bd', '#4f9e46', '#eddb7e', '#e85b3d', '#ed9892',\n",
    "        '#fac384', '#a4cde0']))\n",
    "\n",
    "    with plt.rc_context({\"figure.dpi\": 250}):\n",
    "        fig, ax = plt.subplots(figsize=(3.5, 2.5))\n",
    "        ax.set_xlim(0, np.sum(data, axis=1).max())\n",
    "        ax.set_ylim(-0.5, len(labels) - 0.5)\n",
    "\n",
    "        for i, (colname, color) in enumerate(zip(category_names, category_colors)):\n",
    "            widths = data[:, i]\n",
    "            starts = data_cum[:, i] - widths\n",
    "            rects = ax.barh(labels, widths, left=starts, height=0.7,\n",
    "                            label=colname, color=color)\n",
    "\n",
    "        #ax.spines['top'].set_visible(False)\n",
    "        #ax.spines['right'].set_visible(False)\n",
    "        \n",
    "        # Optional: Adjust or customize legend\n",
    "        line1 = mlines.Line2D([], [], color=\"white\", marker='o',label='Optic area progenitors', markersize=8, markerfacecolor='#4F9E46')\n",
    "        line2 = mlines.Line2D([], [], color=\"white\", marker='o',label='STMN2+ neurons', markersize=8, markerfacecolor='#4a95c8')\n",
    "        line3 = mlines.Line2D([], [], color=\"white\", marker='o',label='Telencephalic progenitors', markersize=8,  markerfacecolor='#EDDB7E')\n",
    "        line4 = mlines.Line2D([], [], color=\"white\", marker='o',label='Tuberal progenitors', markersize=8, markerfacecolor='#ED9892')\n",
    "        line5 = mlines.Line2D([], [], color=\"white\", marker='o',label='Unassigned', markersize=8, markerfacecolor='#a79098')\n",
    "\n",
    "        # Uncomment below to add custom legend\n",
    "        # ax.legend(handles=[line1, line2, line3, line4, line5], loc='lower right', fontsize='small', frameon=False)\n",
    "\n",
    "        ax.set_xlabel('% of cells', fontsize=11)\n",
    "        ax.set_ylabel('')\n",
    "        ax.set_yticks(range(len(labels)))\n",
    "        ax.set_yticklabels(labels, fontsize=11)\n",
    "        ax.set_xticks(np.linspace(0, 100, 5))\n",
    "        ax.tick_params(axis='x', labelsize=8)\n",
    "\n",
    "    return fig, ax\n",
    "\n",
    "survey_horizontal(results, category_names)\n",
    "plt.xticks(fontsize=9)\n",
    "plt.yticks(fontsize=11)\n",
    "#plt.ylabel('% of cells', fontsize=11, labelpad=-1)\n",
    "\n",
    "\n",
    "\n",
    "plt.savefig('figures/cluster_percentages_d16.pdf', bbox_inches='tight')\n",
    "plt.show()"
   ]
  },
  {
   "cell_type": "markdown",
   "id": "32357516-8d11-4efe-8b15-951fd716fc37",
   "metadata": {},
   "source": [
    "## Velocity"
   ]
  },
  {
   "cell_type": "code",
   "execution_count": null,
   "id": "4258e136-d6a4-4a5e-8ae4-22f9f0d972e0",
   "metadata": {},
   "outputs": [],
   "source": [
    "adata = sc.read('../Data/adata_d16_annotated.h5ad')"
   ]
  },
  {
   "cell_type": "code",
   "execution_count": null,
   "id": "ee68f485",
   "metadata": {},
   "outputs": [],
   "source": [
    "scv.pp.moments(adata)\n",
    "scv.tl.velocity(adata)\n",
    "scv.tl.velocity_graph(adata, n_jobs=1)"
   ]
  },
  {
   "cell_type": "code",
   "execution_count": null,
   "id": "01f0046c",
   "metadata": {},
   "outputs": [],
   "source": [
    "with plt.rc_context({ \"figure.dpi\": 300}):\n",
    "    scv.pl.velocity_embedding_stream(adata, basis='umap', color='Cell_types', legend_loc='right', save='d16_velocity.png')\n"
   ]
  },
  {
   "cell_type": "markdown",
   "id": "f0125fe5",
   "metadata": {},
   "source": [
    "# Featureplots"
   ]
  },
  {
   "cell_type": "code",
   "execution_count": null,
   "id": "3d9759ee-3e0f-4f61-9af0-79ff3c894943",
   "metadata": {},
   "outputs": [],
   "source": [
    "for color in ['VSX2','NR2F1']:\n",
    "    with plt.rc_context({ \"figure.dpi\": 300, \"figure.figsize\": (5.1,4) }):\n",
    "        sc.pl.umap(adata, color=color, ncols=2, use_raw=False, cmap='jet', frameon=False, colorbar_loc=None,size=18, save=f'd16_{color}.pdf', show=False,layer='log_transformed')\n",
    "        #sc.pl.umap(adata, color=color, ncols=2, use_raw=False, cmap='jet', frameon=False, colorbar_loc=None,size=18)\n",
    "    "
   ]
  },
  {
   "cell_type": "markdown",
   "id": "16e0c571-e767-403a-8a8a-87e66c0f6dc7",
   "metadata": {},
   "source": [
    "# DGE list"
   ]
  },
  {
   "cell_type": "code",
   "execution_count": null,
   "id": "6e61b8dc-c493-4a94-a5d4-bbb44bb3d5c4",
   "metadata": {
    "tags": []
   },
   "outputs": [],
   "source": [
    "adata = sc.read('../Data/adata_d16_annotated.h5ad')\n"
   ]
  },
  {
   "cell_type": "code",
   "execution_count": null,
   "id": "fa81d2eb",
   "metadata": {},
   "outputs": [],
   "source": [
    "%%R -i adata\n",
    "\n",
    "Csparse_validate = \"CsparseMatrix_validate\"\n",
    "library(Seurat)\n",
    "library(edgeR)\n",
    "\n",
    "seur <- as.Seurat(adata, counts = \"counts\", data = NULL)\n",
    "\n",
    "seur <- RenameAssays(seur, originalexp=\"RNA\")\n",
    "\n",
    "y <- Seurat2PB(seur, sample = \"diff_batch_2\", cluster = \"Cell_types\")\n",
    "keep.samples <- y$samples$lib.size > 5e4\n",
    "y <- y[, keep.samples]\n",
    "keep.genes <- filterByExpr(y, group=y$samples$cluster)\n",
    "y <- y[keep.genes, , keep=FALSE]\n",
    "y <- normLibSizes(y)\n",
    "\n",
    "cluster <- as.factor(y$samples$cluster)\n",
    "\n",
    "batch <- factor(y$samples$sample)\n",
    "design <- model.matrix(~ cluster + batch)\n",
    "colnames(design) <- gsub(\"batch\", \"\", colnames(design))\n",
    "colnames(design)[1] <- \"Int\"\n",
    "\n",
    "y <- estimateDisp(y, design, robust=TRUE)\n",
    "fit <- glmQLFit(y, design, robust=TRUE)\n",
    "\n",
    "ncls <- nlevels(cluster)\n",
    "contr <- rbind( matrix(1/(1-ncls), ncls, ncls), matrix(0, ncol(design)-ncls, ncls) )\n",
    "diag(contr) <- 1\n",
    "contr[1,] <- 0\n",
    "rownames(contr) <- colnames(design)\n",
    "colnames(contr) <- paste0(\"cluster\", levels(cluster))\n",
    "\n",
    "qlf <- list()\n",
    "for(i in 1:ncls){\n",
    " qlf[[i]] <- glmQLFTest(fit, contrast=contr[,i])\n",
    " qlf[[i]]$comparison <- paste0(\"cluster\", levels(cluster)[i], \"_vs_others\")\n",
    "}\n",
    "\n",
    "top <- 500\n",
    "topMarkers <- list()\n",
    "\n",
    "de_df = data.frame(matrix( \n",
    "  vector(), 0, 7, dimnames=list(c(), c(\"gene\",\"logFC\",\"logCPM\",\"F\",\"PValue\",\"FDR\",'comparison'))), \n",
    "                stringsAsFactors=F)\n",
    "\n",
    "for(i in 1:ncls) {\n",
    "    ord <- order(qlf[[i]]$table$PValue, decreasing=FALSE)\n",
    "    up <- qlf[[i]]$table$logFC[ord] > 0\n",
    "    topMarkers[[i]] <- rownames(y)[ord[up][1:top]]\n",
    "    df = as.data.frame(topTags(qlf[[i]], n='all'))\n",
    "    df =df[rownames(df) %in% rownames(y)[ord[up][1:top]], ]  \n",
    "    df$comparison <- head(qlf[[i]])$comparison\n",
    "    de_df = rbind(de_df, df)\n",
    "}\n",
    "print(dim(de_df))\n",
    "\n",
    "write.csv(de_df, \"DE_lists/d16_arc_de_list.csv\")"
   ]
  },
  {
   "cell_type": "code",
   "execution_count": null,
   "id": "527abbbd-315b-4d6c-8411-79bb3a397618",
   "metadata": {},
   "outputs": [],
   "source": [
    "de_genes = pd.read_csv(\"DE_lists/d16_arc_de_list.csv\",index_col=0)\n",
    "de_genes['cluster'] = de_genes['comparison'].str.extract(r'cluster(.*?)_vs_others')\n",
    "de_genes = de_genes[['gene','logFC','logCPM','F','PValue','FDR','comparison','cluster']]\n",
    "de_genes = de_genes[(de_genes.FDR < 0.05) & (de_genes.logFC > 1)]\n",
    "de_genes.to_excel(\"DE_lists/d16_arc_de_list.xlsx\")  \n",
    "de_genes"
   ]
  },
  {
   "cell_type": "code",
   "execution_count": null,
   "id": "f8021c61-4fd0-4db4-a22b-f9eed169027b",
   "metadata": {},
   "outputs": [],
   "source": [
    "de_dict = {}\n",
    "for cluster in list(de_genes.cluster.unique()):\n",
    "    de_dict[str(cluster)] = list(de_genes.groupby('cluster').get_group(cluster).gene)[0:8]\n",
    "#de_dict\n",
    "de_genes['cluster'].value_counts()"
   ]
  },
  {
   "cell_type": "code",
   "execution_count": null,
   "id": "49697ac5-89e4-4e3a-a455-ef9a09f34e64",
   "metadata": {},
   "outputs": [],
   "source": [
    "with plt.rc_context({ \"figure.dpi\": 600, \"figure.figsize\": (100,10)}):\n",
    "    sc.pl.heatmap(adata,de_dict, groupby='Cell_types', show_gene_labels=True, layer='log_transformed', \n",
    "                        cmap='jet')"
   ]
  },
  {
   "cell_type": "code",
   "execution_count": null,
   "id": "3fd114c0-a973-48d7-a2be-e3e0d98c9664",
   "metadata": {},
   "outputs": [],
   "source": []
  }
 ],
 "metadata": {
  "kernelspec": {
   "display_name": "Python [conda env:.conda-PYenv]",
   "language": "python",
   "name": "conda-env-.conda-PYenv-py"
  },
  "language_info": {
   "codemirror_mode": {
    "name": "ipython",
    "version": 3
   },
   "file_extension": ".py",
   "mimetype": "text/x-python",
   "name": "python",
   "nbconvert_exporter": "python",
   "pygments_lexer": "ipython3",
   "version": "3.9.19"
  }
 },
 "nbformat": 4,
 "nbformat_minor": 5
}
