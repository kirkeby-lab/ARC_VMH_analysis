{
 "cells": [
  {
   "cell_type": "code",
   "execution_count": null,
   "id": "219901cf",
   "metadata": {},
   "outputs": [],
   "source": [
    "import scanpy as sc\n",
    "import matplotlib.pyplot as plt\n",
    "import pandas as pd\n",
    "import seaborn as sns\n",
    "import numpy as np\n",
    "import os, scipy\n",
    "import warnings\n",
    "warnings.filterwarnings(\"ignore\")\n",
    "import matplotlib.pyplot as pyplot\n",
    "# R interface\n",
    "from rpy2.robjects import pandas2ri\n",
    "from rpy2.robjects import r\n",
    "import rpy2.rinterface_lib.callbacks\n",
    "import anndata2ri\n",
    "import rpy2.robjects.numpy2ri\n",
    "import loompy as lp\n",
    "#import numpy2ri\n",
    "\n",
    "pandas2ri.activate()\n",
    "anndata2ri.activate()\n",
    "rpy2.robjects.numpy2ri.activate()\n",
    "\n",
    "%load_ext rpy2.ipython"
   ]
  },
  {
   "cell_type": "code",
   "execution_count": null,
   "id": "f825b9a5",
   "metadata": {},
   "outputs": [],
   "source": [
    "adata = sc.read('Data/adata_d50_d70.h5ad')"
   ]
  },
  {
   "cell_type": "code",
   "execution_count": null,
   "id": "7c7c79f7",
   "metadata": {},
   "outputs": [],
   "source": [
    "%%R -i adata\n",
    "\n",
    "Csparse_validate = \"CsparseMatrix_validate\"\n",
    "library(Seurat)\n",
    "library(edgeR)\n",
    "library(tidyverse)\n",
    "\n",
    "seurobj <- as.Seurat(adata, counts = \"counts\", data = NULL)\n",
    "\n",
    "#seur <- readRDS(\"Data/d50_d70_neurons_seurat.rds\")\n",
    "seurobj <- RenameAssays(seurobj, originalexp=\"RNA\")\n",
    "\n",
    "seurobj[[]] %>% \n",
    "  group_by(diff_batch, dimensionality,Cell_types_2) %>% \n",
    "  dplyr::count() %>% \n",
    "  group_by(diff_batch, dimensionality) %>% \n",
    "  mutate(tot = sum(n), pct = n/tot) %>% \n",
    "  ggplot() +\n",
    "  aes(pct, dimensionality, color=dimensionality) +\n",
    "  geom_line(aes(group = diff_batch), color=\"grey80\") +\n",
    "  geom_point() +\n",
    "  scale_x_continuous(labels=scales::percent) +\n",
    "  facet_wrap(~(Cell_types_2), scales=\"free_y\", ncol=1, strip.position = \"left\") +\n",
    "  theme_bw() +\n",
    "  theme(strip.background = element_blank(), legend.position = \"top\",  axis.title.y = element_blank(),\n",
    "    axis.text.y = element_blank(),\n",
    "    axis.ticks.y = element_blank(),\n",
    "    axis.line.y = element_blank(),\n",
    "    strip.text.y.left = element_text(angle = 0)) +\n",
    "  labs(y=NULL, x=NULL, color=NULL)"
   ]
  },
  {
   "cell_type": "code",
   "execution_count": null,
   "id": "0bd34d13-d8a4-47b7-803d-d779ac2f74bc",
   "metadata": {
    "collapsed": true,
    "jupyter": {
     "outputs_hidden": true
    },
    "tags": []
   },
   "outputs": [],
   "source": [
    "%%R\n",
    "seur <- SplitObject(seurobj, split.by = \"Cell_types_2\")\n",
    "table(seur[[1]]$reactionID,seur[[1]]$condition,seur[[1]]$diff_batch)\n",
    "pb_list <- lapply(seur, function(x) {\n",
    "  x[[\"group\"]] <- interaction(x$reactionID,x$sampleID)\n",
    "  y <- Seurat2PB(x, sample = \"group\", cluster = \"condition\")\n",
    "  keep.samples <- y$samples$lib.size > 5e4\n",
    "  keep.genes <- filterByExpr(y, group=y$samples$cluster)\n",
    "  y <- y[keep.genes, , keep=FALSE]\n",
    "  y <- normLibSizes(y)\n",
    "  y$samples$rep <- gsub(\"[.].*\",\"\",y$samples$sample)\n",
    "  y$samples$batch <- gsub(\"-.*\",\"\",gsub(\".*[.]\",\"\",y$samples$sample))\n",
    "  y$samples$day <- sub(\".*-(.*)-.*\", \"\\\\1\", y$samples$sample)\n",
    "  return(y)\n",
    "})\n",
    "\n",
    "pb_list[[1]]$samples"
   ]
  },
  {
   "cell_type": "code",
   "execution_count": null,
   "id": "3c8e66b3-cba1-44b3-9e2e-48c82b6c7c43",
   "metadata": {},
   "outputs": [],
   "source": [
    "%%R\n",
    "design_list <- lapply(pb_list, function(x) {\n",
    "  condition <- relevel(factor(x$samples$cluster), ref=\"control\")\n",
    "  donor <- factor(x$samples$batch)\n",
    "  day <- factor(x$samples$day)\n",
    "  design <- model.matrix(~ condition+donor)\n",
    "  colnames(design) <- gsub(\"donor\", \"\", colnames(design))\n",
    "  colnames(design)[1] <- \"control\"\n",
    "  return(design)\n",
    "})"
   ]
  },
  {
   "cell_type": "code",
   "execution_count": null,
   "id": "f2d20eb6-c42a-47e3-8d90-824af1e759f3",
   "metadata": {
    "collapsed": true,
    "jupyter": {
     "outputs_hidden": true
    },
    "tags": []
   },
   "outputs": [],
   "source": [
    "%%R\n",
    "library(ggplot2)\n",
    "#library(tidyverse)\n",
    "head(colnames(design))\n",
    "out <- voomLmFit(pb_list[[5]]$counts, design = design_list[[5]], block = pb_list[[5]]$samples$rep)\n",
    "fit<- eBayes(out)\n",
    "\n",
    "vplot <- topTable(fit,coef=3, n=Inf,adjust=\"BH\", sort.by = \"logFC\") %>% rownames_to_column(\"gene\") %>% \n",
    "  ggplot() + aes(logFC,-log10(P.Value)) + geom_point(aes(color=I(ifelse(adj.P.Val<0.05, \"red\",\"grey80\")))) +\n",
    "  ggrepel::geom_text_repel(aes(label = ifelse(abs(logFC)>1&adj.P.Val<0.05, gene, NA_character_))) +\n",
    "  ggthemes::theme_clean()+ theme(plot.background = element_blank())\n",
    "\n",
    "res <- purrr::map2_dfr(pb_list, design_list, function(x,y) {\n",
    "  out <- voomLmFit(x$counts, design = y, block = x$samples$rep)\n",
    "  fit<- eBayes(out)\n",
    "  topTable(fit,coef=3, n=Inf,adjust=\"BH\", sort.by = \"logFC\") %>% rownames_to_column(\"gene\") %>% filter(gene %in% c(\"EGR1\",\"FOS\"))\n",
    "}, .id=\"idx\")"
   ]
  },
  {
   "cell_type": "code",
   "execution_count": null,
   "id": "5ce28f07-8c43-409c-a4f5-620471bb49d6",
   "metadata": {},
   "outputs": [],
   "source": [
    "%%R\n",
    "lfcplot <- res %>% \n",
    "  mutate(idx = factor(idx)) %>% \n",
    "  ggplot() +\n",
    "  aes(x=logFC, y=fct_rev(idx), color=I(ifelse(adj.P.Val<0.05, \"red\",\"grey80\"))) +\n",
    "  geom_point() +\n",
    "  geom_vline(xintercept = 0, lty=2) +\n",
    "  facet_wrap(~gene) +\n",
    "  ggthemes::theme_few() +\n",
    "  geom_rect(aes(xmin = -Inf, \n",
    "                xmax = Inf,\n",
    "                ymax = 2.7,\n",
    "                ymin = 3.3), fill = \"red\", alpha=1e-2)+\n",
    "  scale_x_continuous(breaks = seq(-2, 2, by = 1)) +\n",
    "  labs(y=NULL)\n",
    "\n",
    "library(patchwork)\n",
    "vplot+lfcplot+plot_layout(widths=c(2,1))\n",
    "ggsave(\"tany.pdf\", h=4, w=8, dpi = 320)"
   ]
  },
  {
   "cell_type": "code",
   "execution_count": null,
   "id": "5e601a77-1cb7-4b13-ad4b-505d816bc965",
   "metadata": {},
   "outputs": [],
   "source": []
  },
  {
   "cell_type": "code",
   "execution_count": null,
   "id": "bd244f15-a828-4f1e-b91d-329f2acc4b7d",
   "metadata": {},
   "outputs": [],
   "source": []
  },
  {
   "cell_type": "code",
   "execution_count": null,
   "id": "ec771bdf-3c6c-42de-a6f3-8a668078a45f",
   "metadata": {},
   "outputs": [],
   "source": []
  },
  {
   "cell_type": "code",
   "execution_count": null,
   "id": "3acf62b6-24a4-435e-ac90-2b25af4e93d0",
   "metadata": {},
   "outputs": [],
   "source": []
  },
  {
   "cell_type": "code",
   "execution_count": null,
   "id": "e4178c36-8a99-4ad8-881e-0852f0a30981",
   "metadata": {},
   "outputs": [],
   "source": []
  },
  {
   "cell_type": "code",
   "execution_count": null,
   "id": "1c7ac156-b3ff-4b2f-b494-dcfe1fb789de",
   "metadata": {},
   "outputs": [],
   "source": []
  },
  {
   "cell_type": "code",
   "execution_count": null,
   "id": "c490f40f-e834-4663-b753-525d54681ca6",
   "metadata": {},
   "outputs": [],
   "source": []
  }
 ],
 "metadata": {
  "kernelspec": {
   "display_name": "Python [conda env:.conda-PYenv]",
   "language": "python",
   "name": "conda-env-.conda-PYenv-py"
  },
  "language_info": {
   "codemirror_mode": {
    "name": "ipython",
    "version": 3
   },
   "file_extension": ".py",
   "mimetype": "text/x-python",
   "name": "python",
   "nbconvert_exporter": "python",
   "pygments_lexer": "ipython3",
   "version": "3.9.19"
  }
 },
 "nbformat": 4,
 "nbformat_minor": 5
}
