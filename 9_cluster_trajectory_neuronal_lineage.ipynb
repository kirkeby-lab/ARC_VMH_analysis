{
 "cells": [
  {
   "cell_type": "code",
   "execution_count": null,
   "id": "6be9456f-1cf6-4244-812e-63d4199823d2",
   "metadata": {},
   "outputs": [],
   "source": [
    "import scanpy as sc\n",
    "import matplotlib.pyplot as plt\n",
    "import warnings\n",
    "import anndata\n",
    "import pandas as pd\n",
    "import numpy as np\n",
    "from scipy.stats import pearsonr\n",
    "from scipy.stats import spearmanr\n",
    "import seaborn as sns\n",
    "import decoupler as dc\n",
    "warnings.filterwarnings(\"ignore\")\n",
    "import matplotlib.colors as mcolors\n",
    "\n",
    "pd.set_option('display.max_columns', 500)\n",
    "from pysankey2 import Sankey\n",
    "from sklearn.preprocessing import MinMaxScaler\n",
    "# R interface\n",
    "from rpy2.robjects import pandas2ri\n",
    "from rpy2.robjects import r\n",
    "import rpy2.rinterface_lib.callbacks\n",
    "import anndata2ri\n",
    "\n",
    "plt.rcParams.update({\n",
    "    'font.family': 'Arial'\n",
    "})\n",
    "\n",
    "pandas2ri.activate()\n",
    "anndata2ri.activate()\n",
    "\n",
    "%load_ext rpy2.ipython"
   ]
  },
  {
   "cell_type": "code",
   "execution_count": null,
   "id": "25878593-f87d-4303-b488-33386f079b3a",
   "metadata": {},
   "outputs": [],
   "source": [
    "adata16 = sc.read('Data/adata_d16_annotated.h5ad')\n",
    "print('16')\n",
    "print('X: ', adata16.X.min(), adata16.X.max())\n",
    "print('log_transformed: ',adata16.layers['log_transformed'].min(), adata16.layers['log_transformed'].max())\n",
    "print('counts: ',adata16.layers['counts'].min(), adata16.layers['counts'].max())\n",
    "\n",
    "adata25 = sc.read('Data/adata_d25_annotated.h5ad')\n",
    "print('25')\n",
    "print('X: ',adata25.X.min(), adata25.X.max())\n",
    "print('log_transformed: ',adata25.layers['log_transformed'].min(), adata25.layers['log_transformed'].max())\n",
    "print('counts: ',adata25.layers['counts'].min(), adata25.layers['counts'].max())\n",
    "\n",
    "adata_d50_d70 = sc.read('Data/adata_d50_d70_neurons.h5ad')\n",
    "print('50 70')\n",
    "print('X: ',adata_d50_d70.X.min(), adata_d50_d70.X.max())\n",
    "print('log_transformed: ',adata_d50_d70.layers['log_transformed'].min(), adata_d50_d70.layers['log_transformed'].max())\n",
    "print('counts: ',adata_d50_d70.layers['counts'].min(), adata_d50_d70.layers['counts'].max())\n"
   ]
  },
  {
   "cell_type": "code",
   "execution_count": null,
   "id": "31acd842-0389-4aa5-99e4-bf7a2ac3be1d",
   "metadata": {
    "tags": []
   },
   "outputs": [],
   "source": [
    "\n",
    "with plt.rc_context({ \"figure.dpi\": 300, \"figure.figsize\": (4,4) }):\n",
    "\n",
    "    sc.pl.umap(adata16, color=['Cell_types'], ncols=4, use_raw=False, cmap='jet', frameon=False,size=18, layer='log_transformed')\n",
    "    sc.pl.umap(adata16, color=['POMC','OTP','DLX6-AS1','STMN2'], ncols=4, use_raw=False, cmap='jet', frameon=False,size=18, layer='log_transformed')   "
   ]
  },
  {
   "cell_type": "code",
   "execution_count": null,
   "id": "1b2cdef1-a692-4a67-99e7-3e919aae6ded",
   "metadata": {
    "tags": []
   },
   "outputs": [],
   "source": [
    "adata25.obs['Cell_types'] = adata25.obs['Cell_types'].astype(str)\n",
    "cycling = pd.Series(list(adata25[adata25.obs['integrated_snn_res.0.85'].isin(['4','12'])].obs.index), dtype=\"string\")\n",
    "adata25.obs['Cell_types'].loc[cycling] = \"Cycling\"\n",
    "\n",
    "with plt.rc_context({ \"figure.dpi\": 300, \"figure.figsize\": (4,4) }):\n",
    "\n",
    "    sc.pl.umap(adata25, color=['Cell_types'], ncols=4, use_raw=False, cmap='jet', frameon=False,size=18, layer='log_transformed')\n",
    "    sc.pl.umap(adata25, color=['STMN2','DIO2'], ncols=4, use_raw=False, cmap='jet', frameon=False,size=18, layer='log_transformed')"
   ]
  },
  {
   "cell_type": "code",
   "execution_count": null,
   "id": "660c1662-02c4-477f-80f3-56852b5cc09e",
   "metadata": {},
   "outputs": [],
   "source": [
    "# Get the cells of interest\n",
    "adata16 = adata16[adata16.obs.Cell_types.isin(['OTP+ neurons', 'POMC+ neurons','DLX6-AS1+ neurons'])]\n",
    "adata16.obs['reactionID'] =  adata16.obs['diff_batch_2'].astype(str) + '|D16' \n",
    "adata16.obs['Cell_types'] = adata16.obs['Cell_types'].replace({'DLX6-AS1+ neurons': 'DLX6-AS1+','OTP+ neurons': 'OTP+', 'POMC+ neurons': 'POMC+'})\n",
    "\n",
    "adata25 = adata25[adata25.obs.Cell_types.isin(['DLX6-AS1+ neurons','NR5A2/ONECUT1/3+ neurons', 'OTP+ neurons','POMC+ neurons'])]\n",
    "adata25.obs['reactionID'] =  adata25.obs['reactionID'].astype(str) + '|D25' \n",
    "adata25.obs['Cell_types'] = adata25.obs['Cell_types'].replace({'DLX6-AS1+ neurons': 'DLX6-AS1+','OTP+ neurons': 'OTP+', 'POMC+ neurons': 'POMC+', 'NR5A2/ONECUT1/3+ neurons': 'NR5A2/ONECUT1/3+'})\n",
    "\n",
    "\n",
    "adata_d50_d70.obs['reactionID'] =  adata_d50_d70.obs['reactionID'].astype(str) + '|D50_70' \n"
   ]
  },
  {
   "cell_type": "code",
   "execution_count": null,
   "id": "f2b5b717-74a9-4b19-b1da-8685217a85e5",
   "metadata": {
    "tags": []
   },
   "outputs": [],
   "source": [
    "with plt.rc_context({ \"figure.dpi\": 300, \"figure.figsize\": (4,4) }):\n",
    "\n",
    "    sc.pl.umap(adata16, color=['Cell_types'], ncols=4, use_raw=False, cmap='jet', frameon=False,size=18, layer='log_transformed', wspace=0.5)\n",
    "    sc.pl.umap(adata25, color=['Cell_types'], ncols=4, use_raw=False, cmap='jet', frameon=False,size=18, layer='log_transformed', wspace=0.5)\n",
    "    sc.pl.umap(adata_d50_d70, color=['Cell_types',], ncols=4, use_raw=False, cmap='jet', frameon=False,size=18, layer='log_transformed', wspace=0.5)\n",
    "    \n"
   ]
  },
  {
   "cell_type": "code",
   "execution_count": null,
   "id": "314b204b-29a5-49cd-a73e-74387a131f10",
   "metadata": {},
   "outputs": [],
   "source": [
    "adata_concat = adata16.concatenate([adata25, adata_d50_d70], batch_key=None, join='inner')\n",
    "adata_concat.obs = adata_concat.obs[[i for i in list(adata_concat.obs.columns) if i not in adata_concat.obs.columns[adata_concat.obs.isna().any()].tolist()]] # Keep columns present in both datasets\n",
    "\n",
    "sc.pp.highly_variable_genes(adata_concat, n_top_genes=1500, inplace=True, batch_key='reactionID')\n",
    "features = list(adata_concat[:, adata_concat.var.highly_variable].var_names)"
   ]
  },
  {
   "cell_type": "code",
   "execution_count": null,
   "id": "d457e2ef-9b67-4950-a3fb-fa77b135f760",
   "metadata": {},
   "outputs": [],
   "source": [
    "%%R -i adata_concat -i features -o auroc -o auroc_col -o auroc_row\n",
    "Csparse_validate = \"CsparseMatrix_validate\"\n",
    "\n",
    "library(MetaNeighbor)\n",
    "library(SummarizedExperiment)\n",
    "library(Seurat)\n",
    "\n",
    "sobj <- as.Seurat(adata_concat, counts = \"counts\", data = NULL)\n",
    "\n",
    "sce_data = as.SingleCellExperiment(sobj)\n",
    "\n",
    "auroc = MetaNeighborUS(var_genes = features, dat = sce_data, i = 'counts',fast_version=T,\n",
    "                      study_id=sce_data$reactionID, cell_type = sce_data$Cell_types)\n",
    "\n",
    "auroc_col = colnames(auroc)\n",
    "auroc_row = rownames(auroc)"
   ]
  },
  {
   "cell_type": "code",
   "execution_count": null,
   "id": "afed5fd5-5396-48e0-8bcd-bec3a681ff59",
   "metadata": {},
   "outputs": [],
   "source": [
    "auroc_df = pd.DataFrame(auroc, index=auroc_row, columns=auroc_col)\n",
    "\n",
    "group_rows = pd.Series(auroc_row).str.extract(r'^[^.]*\\.(.*)')[0].values\n",
    "group_cols = pd.Series(auroc_row).str.extract(r'^[^.]*\\.(.*)')[0].values\n",
    "\n",
    "# Group rows and columns and compute the mean\n",
    "mean_auroc_df = (auroc_df.groupby(group_rows, axis=0).mean().groupby(group_cols, axis=1).mean())\n",
    "\n",
    "mean_auroc_df.columns = [column.replace('.', '|') for column in mean_auroc_df.columns]\n",
    "mean_auroc_df.index = [column.replace('.', '|') for column in mean_auroc_df.index]\n",
    "\n",
    "mean_auroc_df"
   ]
  },
  {
   "cell_type": "code",
   "execution_count": null,
   "id": "f9bb61a1-9dc5-4f37-8d43-98f0a68ab964",
   "metadata": {},
   "outputs": [],
   "source": [
    "labels = mean_auroc_df.columns\n",
    "\n",
    "with plt.rc_context({ \"figure.dpi\": 300 }):\n",
    "\n",
    "    plt.rcParams[\"image.cmap\"] = \"coolwarm\"\n",
    "\n",
    "    fig, ax = plt.subplots()\n",
    "    im = ax.imshow(mean_auroc_df)\n",
    "\n",
    "    # Show all ticks and label them with the respective list entries\n",
    "    ax.set_xticks(np.arange(len(labels)), labels=labels, size=6)\n",
    "    ax.set_yticks(np.arange(len(labels)), labels=labels, size=6)\n",
    "\n",
    "    # Rotate the tick labels and set their alignment.\n",
    "    plt.setp(ax.get_xticklabels(), rotation=45, ha=\"right\",\n",
    "             rotation_mode=\"anchor\")\n",
    "\n",
    "\n",
    "    #ax.set_title(\"Harvest of local farmers (in tons/year)\")\n",
    "    fig.tight_layout()\n",
    "    plt.show()"
   ]
  },
  {
   "cell_type": "code",
   "execution_count": null,
   "id": "5cb1d56d-135e-42b1-82ff-5498c29319e3",
   "metadata": {},
   "outputs": [],
   "source": [
    "# Formulate the data for sankey plot\n",
    "d16_cell_types = [cell_type for cell_type in mean_auroc_df.columns if 'D16' in cell_type]\n",
    "d25_cell_types = [cell_type for cell_type in mean_auroc_df.columns if 'D25' in cell_type]\n",
    "d50_70_cell_types = [cell_type for cell_type in mean_auroc_df.columns if 'D50_70' in cell_type]\n",
    "\n",
    "d16_vs_d25 = mean_auroc_df[d16_cell_types].T[d25_cell_types].applymap(lambda x: 0 if x < 0.7 else x)\n",
    "d25_vs_d50_70 = mean_auroc_df[d25_cell_types].T[d50_70_cell_types].applymap(lambda x: 0 if x < 0.7 else x)\n",
    "d25_vs_d50_70 = mean_auroc_df[d25_cell_types].T[d50_70_cell_types].applymap(lambda x: 0 if x < 0.7 else x)\n",
    "\n"
   ]
  },
  {
   "cell_type": "code",
   "execution_count": null,
   "id": "b66fd9fd-81db-437b-a2e9-75f2b8b4a525",
   "metadata": {},
   "outputs": [],
   "source": [
    "d16_vs_d25"
   ]
  },
  {
   "cell_type": "code",
   "execution_count": null,
   "id": "6ad8757d-4455-448f-a56f-4cf55e2c0822",
   "metadata": {},
   "outputs": [],
   "source": [
    "d16_vs_d25"
   ]
  },
  {
   "cell_type": "code",
   "execution_count": null,
   "id": "0eadf957-df4a-4f64-967b-2f77a9f49dd2",
   "metadata": {},
   "outputs": [],
   "source": [
    "d25_vs_d50_70"
   ]
  },
  {
   "cell_type": "markdown",
   "id": "73f788ee-ae3b-49fe-b9a3-2020e1d03a56",
   "metadata": {},
   "source": [
    "# Reorder the columns\n",
    "mean_auroc_df = mean_auroc_df[['D16|DLX6-AS1+ neurons', 'D16|OTP+ neurons', 'D16|POMC+ neurons',\n",
    "       'D25|DLX6-AS1+ neurons', 'D25|NR5A2/ONECUT1/3+ neurons',\n",
    "       'D25|OTP+ neurons', 'D25|POMC+ neurons', 'D50_70|DLX6-AS1+/FOXP2+','D50_70|GHRH+/PNOC+','D50_70|PNOC+/TAC3+','D50_70|NR5A2+/ONECUT1/3+','D50_70|AGRP+/SST+','D50_70|PCSK1+/ADGRL4+','D50_70|UNC13C+/OTP+','D50_70|POMC+/PRDM12+/LEPR+','D50_70|POMC+/CRABP1+/TRH+']]\n",
    "\n",
    "d25_vs_d50_70 = d25_vs_d50_70[['D50_70|DLX6-AS1+/FOXP2+','D50_70|GHRH+/PNOC+','D50_70|PNOC+/TAC3+','D50_70|NR5A2+/ONECUT1/3+','D50_70|AGRP+/SST+','D50_70|PCSK1+/ADGRL4+','D50_70|UNC13C+/OTP+','D50_70|POMC+/PRDM12+/LEPR+','D50_70|POMC+/CRABP1+/TRH+']]\n"
   ]
  },
  {
   "cell_type": "code",
   "execution_count": null,
   "id": "3121bf17-504f-4113-bd3e-64b9b0228337",
   "metadata": {},
   "outputs": [],
   "source": [
    "# Reorder the columns\n",
    "mean_auroc_df = mean_auroc_df[['D16|DLX6-AS1+', 'D16|OTP+', 'D16|POMC+','D25|DLX6-AS1+', 'D25|NR5A2/ONECUT1/3+',\n",
    "       'D25|OTP+', 'D25|POMC+', 'D50_70|Unassigned', 'D50_70|DLX6-AS1+/FOXP2+','D50_70|GHRH+/PNOC+','D50_70|PNOC+/NPFFR2+','D50_70|NR5A2+/ONECUT1/3+','D50_70|AGRP+/OTP+','D50_70|PCSK1+/ADGRL4+','D50_70|UNC13C+/OTP+','D50_70|POMC+/TBX3+/NR5A2+','D50_70|CRABP1+/TRH+']]\n",
    "\n",
    "d25_vs_d50_70 = d25_vs_d50_70[['D50_70|Unassigned', 'D50_70|DLX6-AS1+/FOXP2+','D50_70|GHRH+/PNOC+','D50_70|PNOC+/NPFFR2+','D50_70|NR5A2+/ONECUT1/3+','D50_70|AGRP+/OTP+','D50_70|PCSK1+/ADGRL4+','D50_70|UNC13C+/OTP+','D50_70|POMC+/TBX3+/NR5A2+','D50_70|CRABP1+/TRH+']]\n",
    "\n",
    "# Reformat data for sankey\n",
    "celltype_index_dict =  dict(zip(mean_auroc_df.columns, list(range(len(mean_auroc_df.columns)))))\n",
    "\n",
    "d16_vs_d25.index = [str(celltype_index_dict.get(item, item)) for item in d16_vs_d25.index]\n",
    "d16_vs_d25.columns = [str(celltype_index_dict.get(item, item)) for item in d16_vs_d25.columns]\n",
    "d25_vs_d50_70.index = [str(celltype_index_dict.get(item, item)) for item in d25_vs_d50_70.index]\n",
    "d25_vs_d50_70.columns = [str(celltype_index_dict.get(item, item)) for item in d25_vs_d50_70.columns]\n",
    "\n",
    "d16_vs_d25.index.name = \"source\"\n",
    "d16_vs_d25.columns.name = \"target\"\n",
    "\n",
    "d25_vs_d50_70.index.name = \"source\"\n",
    "d25_vs_d50_70.columns.name = \"target\"\n",
    "\n",
    "df = pd.concat([d16_vs_d25.stack().reset_index(name=\"value\"),d25_vs_d50_70.stack().reset_index(name=\"value\")]).reset_index(drop=True)\n",
    "\n",
    "df = df[df.value>0]\n",
    "df['boolean_value'] = 1\n",
    "\n",
    "# Generate colors for correlation\n",
    "norm = plt.Normalize(vmin=0.70, vmax=1.0)\n",
    "cmap = plt.cm.coolwarm\n",
    "df['color'] = [mcolors.to_hex(cmap(norm(value))) for value in df.value]\n",
    "\n",
    "df"
   ]
  },
  {
   "cell_type": "code",
   "execution_count": null,
   "id": "c2eed548-9e5b-4c8d-bb0a-7ce0b4f822ea",
   "metadata": {},
   "outputs": [],
   "source": [
    "import plotly.graph_objs as go\n",
    "with plt.rc_context({ \"figure.dpi\": 500, }):\n",
    "    \n",
    "\n",
    "    x = [0.1, 0.1, 0.1, 0.25, 0.250, 0.25, 0.25, 0.65, 0.65, 0.65,  0.65, 0.65, 0.65, 0.65, 0.65, 0.65, 0.65, 0.65,0.65] # 0.6\n",
    "    y = [0, 0.1, 0.2, 0, 0.05, 0.1, 0.15, 0, 0.05, 0.1, 0.15, 0.2, 0.25, 0.3, 0.35, 0.4, 0.45, 0.5, 0.55]\n",
    "    \n",
    "    x = [.001 if v==0 else .999 if v==1 else v for v in x]\n",
    "    y = [.001 if v==0 else .999 if v==1 else v for v in y]\n",
    "\n",
    "    link = dict(source=df.source.values.tolist(), target=df.target.values.tolist(), value=df.boolean_value.values.tolist(),\n",
    "    color=df.color)\n",
    "    node = dict(label=['' for item in list(celltype_index_dict.keys())], pad=25,thickness=1.2,\n",
    "                    line=dict(color=\"black\", width=2), x=x, y=y)\n",
    "\n",
    "\n",
    "    chart = go.Sankey(link=link, node=node, arrangement=\"snap\")\n",
    "    fig = go.Figure(chart)\n",
    "    fig.update_layout(font=dict(size=24, weight=600, color='black' , shadow='black'))\n",
    "    fig.show()"
   ]
  },
  {
   "cell_type": "code",
   "execution_count": null,
   "id": "4bdea71f-daf4-4df9-b6ad-ae67391153a4",
   "metadata": {},
   "outputs": [],
   "source": [
    "from IPython.display import Image\n",
    "fig.write_image(\"d16_25_50_cluster_trajectory1.pdf\", format=\"pdf\", width=1300, height=500, scale=10)\n"
   ]
  },
  {
   "cell_type": "code",
   "execution_count": null,
   "id": "cc0ac497-38d5-49a9-8dce-05a757e380d8",
   "metadata": {},
   "outputs": [],
   "source": [
    "import plotly.graph_objs as go\n",
    "with plt.rc_context({ \"figure.dpi\": 500, }):\n",
    "    \n",
    "\n",
    "    x = [0.1, 0.1, 0.1, 0.25, 0.250, 0.25, 0.25, 0.65, 0.65, 0.65,  0.65, 0.65, 0.65, 0.65, 0.65, 0.65, 0.65, 0.65,0.65] # 0.6\n",
    "    y = [0, 0.1, 0.2, 0, 0.35, 0.62, 0.85, 0, 0.05, 0.1, 0.15, 0.2, 0.25, 0.3, 0.35, 0.4, 0.45, 0.5, 0.55]\n",
    "    \n",
    "    x = [.001 if v==0 else .999 if v==1 else v for v in x]\n",
    "    y = [.001 if v==0 else .999 if v==1 else v for v in y]\n",
    "\n",
    "    link = dict(source=df.source.values.tolist(), target=df.target.values.tolist(), value=df.boolean_value.values.tolist(),\n",
    "    color=df.color)\n",
    "    node = dict(label=['' for item in list(celltype_index_dict.keys())], pad=25,thickness=1.2,\n",
    "                    line=dict(color=\"black\", width=2), x=x, y=y)\n",
    "\n",
    "\n",
    "    chart = go.Sankey(link=link, node=node, arrangement=\"snap\")\n",
    "    fig = go.Figure(chart)\n",
    "    fig.update_layout(font=dict(size=24, weight=600, color='black' , shadow='black'))\n",
    "    fig.show()"
   ]
  },
  {
   "cell_type": "code",
   "execution_count": null,
   "id": "b1841dac-c50d-416c-a268-7a01819c98a4",
   "metadata": {},
   "outputs": [],
   "source": [
    "from IPython.display import Image\n",
    "fig.write_image(\"d16_25_50_cluster_trajectory.pdf\", format=\"pdf\", width=1300, height=500, scale=10)\n"
   ]
  },
  {
   "cell_type": "code",
   "execution_count": null,
   "id": "19ba6fda-b6d2-49da-bfb3-cbf19133f937",
   "metadata": {},
   "outputs": [],
   "source": []
  },
  {
   "cell_type": "code",
   "execution_count": null,
   "id": "43a468e0-cede-4af5-a175-bc9b67c81851",
   "metadata": {},
   "outputs": [],
   "source": []
  },
  {
   "cell_type": "code",
   "execution_count": null,
   "id": "0e90d62a-fcdf-409c-956f-dcc2b9af2eea",
   "metadata": {},
   "outputs": [],
   "source": [
    "import plotly.graph_objs as go\n",
    "with plt.rc_context({ \"figure.dpi\": 500, }):\n",
    "    \n",
    "\n",
    "    x = [0.1, 0.1, 0.1, 0.25, 0.250, 0.25, 0.25, 0.65, 0.65, 0.65,  0.65, 0.65, 0.65, 0.65, 0.65, 0.65, 0.65, 0.65,0.65] # 0.6\n",
    "    y = [0, 0.1, 0.2, 0, 0.05, 0.1, 0.15, 0, 0.05, 0.1, 0.15, 0.2, 0.25, 0.3, 0.35, 0.4, 0.45, 0.5, 0.55]\n",
    "    \n",
    "    x = [.001 if v==0 else .999 if v==1 else v for v in x]\n",
    "    y = [.001 if v==0 else .999 if v==1 else v for v in y]\n",
    "\n",
    "    link = dict(source=df.source.values.tolist(), target=df.target.values.tolist(), value=df.boolean_value.values.tolist(),\n",
    "    color=df.color)\n",
    "    node = dict(label=[item.split('|', 1)[1] for item in list(celltype_index_dict.keys())], pad=25,thickness=1.2,\n",
    "                    line=dict(color=\"black\", width=2), x=x, y=y)\n",
    "\n",
    "\n",
    "    chart = go.Sankey(link=link, node=node, arrangement=\"snap\")\n",
    "    fig = go.Figure(chart)\n",
    "    fig.update_layout(font=dict(size=24, weight=600, color='black' , shadow='black'))\n",
    "    fig.show()"
   ]
  },
  {
   "cell_type": "code",
   "execution_count": null,
   "id": "4fbe144c-55a1-496b-930f-6d282ea8ee7c",
   "metadata": {},
   "outputs": [],
   "source": [
    "from IPython.display import Image\n",
    "fig.write_image(\"d16_25_50_cluster_trajectory.pdf\", format=\"pdf\", width=1300, height=500, scale=10)\n"
   ]
  },
  {
   "cell_type": "code",
   "execution_count": null,
   "id": "c744544c-c8da-4d5d-a458-0ddb205af374",
   "metadata": {},
   "outputs": [],
   "source": []
  }
 ],
 "metadata": {
  "kernelspec": {
   "display_name": "Python [conda env:.conda-PYenv]",
   "language": "python",
   "name": "conda-env-.conda-PYenv-py"
  },
  "language_info": {
   "codemirror_mode": {
    "name": "ipython",
    "version": 3
   },
   "file_extension": ".py",
   "mimetype": "text/x-python",
   "name": "python",
   "nbconvert_exporter": "python",
   "pygments_lexer": "ipython3",
   "version": "3.9.19"
  }
 },
 "nbformat": 4,
 "nbformat_minor": 5
}
