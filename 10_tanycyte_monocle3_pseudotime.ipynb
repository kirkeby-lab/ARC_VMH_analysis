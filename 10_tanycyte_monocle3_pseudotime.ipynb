{
 "cells": [
  {
   "cell_type": "code",
   "execution_count": null,
   "id": "56d5527e",
   "metadata": {},
   "outputs": [],
   "source": [
    "import scanpy as sc\n",
    "import pandas as pd\n",
    "import numpy as np\n",
    "import warnings\n",
    "from copy import copy\n",
    "warnings.filterwarnings(\"ignore\")\n",
    "import seaborn as sns\n",
    "import matplotlib.pyplot as plt\n",
    "\n",
    "from rpy2.robjects import r\n",
    "\n",
    "import rpy2.rinterface_lib.callbacks\n",
    "import anndata2ri\n",
    "from sklearn.preprocessing import minmax_scale\n",
    "\n",
    "anndata2ri.activate()\n",
    "plt.rcParams.update({\n",
    "    'font.family': 'Arial'\n",
    "})\n",
    "\n",
    "%load_ext rpy2.ipython"
   ]
  },
  {
   "cell_type": "markdown",
   "id": "fdad9e18-25fa-46e8-97d4-f5858abfdc81",
   "metadata": {},
   "source": [
    "# Get all d16 cells and d25 and d50_d70 tanycytes, integrate with FastMNN"
   ]
  },
  {
   "cell_type": "code",
   "execution_count": null,
   "id": "961b4952",
   "metadata": {
    "tags": []
   },
   "outputs": [],
   "source": [
    "adata_d16 = sc.read('../Data/adata_d16_annotated.h5ad')\n",
    "adata_d25 = sc.read('../Data/adata_d25_annotated.h5ad')\n",
    "adata_d50_d70 = sc.read('../Data/adata_d50_d70.h5ad')"
   ]
  },
  {
   "cell_type": "code",
   "execution_count": null,
   "id": "7e20090c",
   "metadata": {},
   "outputs": [],
   "source": [
    "adata_d16.obs['reactionID'] = 'd16'\n",
    "adata_d25 = adata_d25[adata_d25.obs['Cell_types'].isin(['Tanycytes'])]\n",
    "adata_d50_d70 = adata_d50_d70[adata_d50_d70.obs['Cell_types'].isin(['Tanycytes'])]\n",
    "\n",
    "del adata_d16.var\n",
    "del adata_d25.var\n",
    "del adata_d50_d70.var\n",
    "\n",
    "adata = adata_d50_d70.concatenate(adata_d16,adata_d25, batch_key=None, join='outer')\n",
    "\n",
    "adata.obs.dimensionality = adata.obs.dimensionality.fillna('2D')\n",
    "\n",
    "del adata.obsm\n",
    "\n",
    "sc.pp.highly_variable_genes(adata, n_top_genes=2000, batch_key='reactionID')\n",
    "hvg = adata.var[adata.var['highly_variable'] == True].index.to_list()\n",
    "\n",
    "adata"
   ]
  },
  {
   "cell_type": "code",
   "execution_count": null,
   "id": "5ac6c327-3928-40b1-b1e9-58619c3b6e63",
   "metadata": {},
   "outputs": [],
   "source": [
    "%%R -i adata -i hvg -o fastmnn_embed\n",
    "\n",
    "Csparse_validate = \"CsparseMatrix_validate\"\n",
    "library(Seurat)\n",
    "library(batchelor)\n",
    "\n",
    "sobj <- as.Seurat(adata, counts = \"counts\", data = \"log_transformed\")\n",
    "\n",
    "sobj <- subset(sobj, features=hvg)\n",
    "print(sobj)\n",
    "expr <- GetAssayData(sobj, slot = \"data\")\n",
    "\n",
    "sce <- fastMNN(expr, batch = sobj@meta.data[['reactionID']])\n",
    "\n",
    "sobj@reductions['fastmnn'] <- CreateDimReducObject(reducedDim(sce, \"corrected\"), key = 'fastmnn_')\n",
    "\n",
    "fastmnn_embed = Embeddings(object = sobj, reduction = \"fastmnn\")"
   ]
  },
  {
   "cell_type": "code",
   "execution_count": null,
   "id": "7346c03c-6ca3-4c0e-ae18-33adcef57244",
   "metadata": {},
   "outputs": [],
   "source": [
    "adata.obsm['fastmnn'] = fastmnn_embed\n",
    "sc.pp.neighbors(adata, use_rep=\"fastmnn\",n_neighbors=20)\n",
    "sc.tl.umap(adata)\n",
    "sc.tl.leiden(adata, resolution=1)"
   ]
  },
  {
   "cell_type": "code",
   "execution_count": null,
   "id": "6405fe80-000c-468d-b1e4-50854a6eb948",
   "metadata": {},
   "outputs": [],
   "source": [
    "adata.write('../Data/tanycyte_pseudotime.h5ad')"
   ]
  },
  {
   "cell_type": "markdown",
   "id": "c13dd9dc-a1a9-40a7-bc43-d95402a51e94",
   "metadata": {},
   "source": [
    "# Monocle3 analysis"
   ]
  },
  {
   "cell_type": "code",
   "execution_count": null,
   "id": "7badd90f-7a56-4e29-8810-21e857b9410f",
   "metadata": {},
   "outputs": [],
   "source": [
    "adata = sc.read('../Data/tanycyte_pseudotime.h5ad')\n",
    "hvg = adata.var[adata.var['highly_variable'] == True].index.to_list()\n",
    "len(hvg)"
   ]
  },
  {
   "cell_type": "code",
   "execution_count": null,
   "id": "80986ec8-5cf3-45f0-acbf-436c724b15a5",
   "metadata": {},
   "outputs": [],
   "source": [
    "%%R -i adata -i hvg\n",
    "\n",
    "library(Seurat)\n",
    "library(monocle3)\n",
    "\n",
    "sobj <- as.Seurat(adata, counts = \"counts\", data = \"log_transformed\")\n",
    "sobj_subset = subset(sobj, features = hvg)"
   ]
  },
  {
   "cell_type": "code",
   "execution_count": null,
   "id": "31a94500-7c3e-4277-95f4-39f34090ec39",
   "metadata": {},
   "outputs": [],
   "source": [
    "%%R\n",
    "AssociatedDimReducs <- function(\n",
    "  object,\n",
    "  assay = DefaultAssay(object = object),\n",
    "  global = TRUE\n",
    ") {\n",
    "  return(Filter(\n",
    "    f = function(x) {\n",
    "      check <- DefaultAssay(object = object[[x]]) == assay\n",
    "      if (global) {\n",
    "        check <- c(check, IsGlobal(object = object[[x]]))\n",
    "      }\n",
    "      return(any(check))\n",
    "    },\n",
    "    x = Reductions(object = object)\n",
    "  ))\n",
    "}\n",
    "\n",
    "\n",
    "convert_to_cds <- function(\n",
    "  x,\n",
    "  assay = DefaultAssay(object = x),\n",
    "  reductions = AssociatedDimReducs(object = x, assay = assay),\n",
    "  default.reduction = DefaultDimReduc(object = x, assay = assay),\n",
    "  graph = paste0(assay, '_snn'),\n",
    "  group.by = NULL,\n",
    "  ...\n",
    ") {\n",
    "  clusters.key <- 'monocle3_clusters' \n",
    "  partitions.key <- 'monocle3_partitions'\n",
    "  # Add assay data\n",
    "  # Cheat and use as.SingleCellExperiment\n",
    "  cds <- as(\n",
    "    object = as.SingleCellExperiment(x = x, assay = assay),\n",
    "    Class = 'cell_data_set'\n",
    "  )\n",
    "  # Ensure we have a counts assay\n",
    "  if (is.null(x = SummarizedExperiment::assays(x = cds)$counts)) {\n",
    "    SummarizedExperiment::assays(x = cds)$counts <- SummarizedExperiment::assays(x = cds)[[1]]\n",
    "  }\n",
    "  # Add Size_factor\n",
    "  if (!\"Size_Factor\" %in% colnames(x = SummarizedExperiment::colData(x = cds))) {\n",
    "    size.factor <- paste0('nCount_', assay)\n",
    "    if (size.factor %in% colnames(x = x[[]])) {\n",
    "      SummarizedExperiment::colData(x = cds)$Size_Factor <- x[[size.factor, drop = TRUE]]\n",
    "    }\n",
    "  }\n",
    "  # Add DimReducs: Embeddings become a reduced dim, Loadings go to\n",
    "  # reduce_dim_aux$gene_loadings, Stdev goes go reduce_dim_aux$prop_var_expl\n",
    "  # First, reset the ones from as.SingleCellExperiment\n",
    "  SingleCellExperiment::reducedDims(x = cds)[SingleCellExperiment::reducedDimNames(x = cds)] <- NULL\n",
    "  reductions <- intersect(\n",
    "    x = reductions,\n",
    "    y = AssociatedDimReducs(object = x, assay = assay)\n",
    "  )\n",
    "  for (reduc in reductions) {\n",
    "    SingleCellExperiment::reducedDims(x = cds)[[toupper(x = reduc)]] <- Embeddings(object = x[[reduc]])\n",
    "    loadings <- Loadings(object = x[[reduc]])\n",
    "    if (!IsMatrixEmpty(x = loadings)) {\n",
    "      slot(object = cds, name = 'reduce_dim_aux')[['gene_loadings']] <- loadings\n",
    "    }\n",
    "    stdev <- Stdev(object = x[[reduc]])\n",
    "    if (length(x = stdev)) {\n",
    "      slot(object = cds, name = 'reduce_dim_aux')[['prop_var_expl']] <- stdev\n",
    "    }\n",
    "  }\n",
    "  # Add clustering information\n",
    "  # TODO: Figure out if I need to add relations, distMatrix, or clusters/partitions\n",
    "  if (!is.null(x = group.by)) {\n",
    "    Idents(object = x) <- group.by\n",
    "  }\n",
    "  # if (clusters.key %in% colnames(x = x[[]])) {\n",
    "  clusters.list <- if (is.null(x = group.by) && all(c(clusters.key, partitions.key) %in% colnames(x = x[[]]))) {\n",
    "    message(\"Using existing Monocle 3 cluster membership and partitions\")\n",
    "    list(\n",
    "      partitions = factor(x = x[[partitions.key, drop = TRUE]]),\n",
    "      clusters = factor(x = x[[clusters.key, drop = TRUE]])\n",
    "    )\n",
    "  } else if (graph %in% names(x = x)) {\n",
    "    g <- igraph::graph_from_adjacency_matrix(\n",
    "      adjmatrix = x[[graph]],\n",
    "      weighted = TRUE\n",
    "    )\n",
    "    # TODO: figure out proper partitioning scheme\n",
    "    # partitions <- igraph::components(graph = g)$membership[colnames(x = x)]\n",
    "    warning(\n",
    "      \"Monocle 3 trajectories require cluster partitions, which Seurat does not calculate. Please run 'cluster_cells' on your cell_data_set object\",\n",
    "      call. = FALSE,\n",
    "      immediate. = TRUE\n",
    "    )\n",
    "    partitions <- rep_len(x = 1, length.out = ncol(x = x))\n",
    "    list(\n",
    "      cluster_result = list(\n",
    "        g = g,\n",
    "        relations = NULL,\n",
    "        distMatrix = 'matrix',\n",
    "        coord = NULL,\n",
    "        edge_links = NULL,\n",
    "        optim_res = list(\n",
    "          membership = as.integer(x = Idents(object = x)),\n",
    "          modularity = NA_real_\n",
    "        )\n",
    "      ),\n",
    "      partitions = factor(x = partitions),\n",
    "      clusters = Idents(object = x)\n",
    "    )\n",
    "  } else {\n",
    "    list()\n",
    "  }\n",
    "  if (length(x = clusters.list)) {\n",
    "    slot(object = cds, name = 'clusters')[[toupper(x = default.reduction)]] <- clusters.list\n",
    "  }\n",
    "  # TODO: Add translated results from learn_graph\n",
    "  return(cds)\n",
    "}\n",
    "\n",
    "cds = convert_to_cds(sobj_subset)"
   ]
  },
  {
   "cell_type": "code",
   "execution_count": null,
   "id": "e8fb5921-fdc2-4dca-b20b-55d85d02e7aa",
   "metadata": {},
   "outputs": [],
   "source": [
    "%%R\n",
    "cds <- cluster_cells(cds, resolution=0.00007)\n",
    "\n",
    "cds <- learn_graph(cds, use_partition = FALSE) #graph learned across all partitions\n",
    "umap = plot_cells(cds, show_trajectory_graph = TRUE,\n",
    "           label_principal_points = TRUE,label_branch_points=FALSE)\n",
    "png('monocle3_plots/umap_final.png', res=280, width=1550, height=1300)\n",
    "print(umap)"
   ]
  },
  {
   "cell_type": "code",
   "execution_count": null,
   "id": "aa566bc1-3e3d-476a-99ac-4d297ea84890",
   "metadata": {},
   "outputs": [],
   "source": [
    "%%R\n",
    "cds <- order_cells(cds,root_pr_nodes='Y_76')\n",
    "umap = plot_cells(cds, color_cells_by = \"pseudotime\", label_branch_points=F, label_leaves=FALSE)\n",
    "png('monocle3_plots/umap_pseudotime_final.png', res=350, width=1300, height=1000)\n",
    "print(umap)"
   ]
  },
  {
   "cell_type": "code",
   "execution_count": null,
   "id": "a29022b0-37af-4f98-ad2b-066612e572de",
   "metadata": {},
   "outputs": [],
   "source": [
    "%%R\n",
    "cds_tany <- choose_graph_segments(cds,starting_pr_node='Y_76', ending_pr_nodes = c('Y_116','Y_103','Y_91','Y_92','Y_2','Y_16','Y_84','Y_96','Y_128','Y_112'),clear_cds=F)\n",
    "cds_neurons <- choose_graph_segments(cds,starting_pr_node='Y_76', ending_pr_nodes = c('Y_27','Y_48','Y_55'),clear_cds=F)\n",
    "\n",
    "saveRDS(cds_tany,'monocle_cds_tany.RDS')\n",
    "saveRDS(cds_neurons,'monocle_cds_neurons.RDS')\n",
    "saveRDS(cds,'monocle_cds_all.RDS')"
   ]
  },
  {
   "cell_type": "code",
   "execution_count": null,
   "id": "dded9a80-9a4f-4829-ab0d-b27d25e00f38",
   "metadata": {
    "tags": []
   },
   "outputs": [],
   "source": [
    "%%R -o pseudotime_values_tany -o pseudotime_values_neurons -o pseudotime_values_all -o tany_lineage_cells -o neurons_lineage_cells\n",
    "library(monocle3)\n",
    "cds_tany = readRDS('../monocle_cds_tany.RDS')\n",
    "cds_neurons = readRDS('../monocle_cds_neurons.RDS')\n",
    "cds = readRDS('../monocle_cds_all.RDS')\n",
    "\n",
    "tany_lineage_cells = colnames(cds_tany)\n",
    "neurons_lineage_cells = colnames(cds_neurons)\n",
    "#all_cells = colnames(cds_tany)\n",
    "\n",
    "\n",
    "pseudotime_values_tany = pseudotime(cds_tany, reduction_method = \"UMAP\")\n",
    "pseudotime_values_neurons = pseudotime(cds_neurons, reduction_method = \"UMAP\")\n",
    "pseudotime_values_all = pseudotime(cds, reduction_method = \"UMAP\")\n",
    "\n"
   ]
  },
  {
   "cell_type": "code",
   "execution_count": null,
   "id": "76edd2e2-b68c-42a3-b3c8-a75137f8143d",
   "metadata": {},
   "outputs": [],
   "source": [
    "adata_tanycyte_lineage = adata[tany_lineage_cells]\n",
    "adata_neurons_lineage = adata[neurons_lineage_cells]"
   ]
  },
  {
   "cell_type": "markdown",
   "id": "63e8ae7b-070b-4da8-afe5-cd5daeb2e114",
   "metadata": {},
   "source": [
    "# Temporal gene expression analysis over the identified tanycyte lineage"
   ]
  },
  {
   "cell_type": "code",
   "execution_count": null,
   "id": "aab1030b-c9f8-43bb-a130-8f2ceba81c22",
   "metadata": {},
   "outputs": [],
   "source": [
    "adata_tany = adata[tany_lineage_cells]\n",
    "adata_neurons = adata[neurons_lineage_cells]\n",
    "\n",
    "adata_tany.obs['monocle3_pseudotime'] = pseudotime_values_tany\n",
    "adata_neurons.obs['monocle3_pseudotime'] = pseudotime_values_neurons\n",
    "\n",
    "\n",
    "    \n",
    "gene_list = ['RAX', 'HIGD2A', 'SOX2', 'PTTG1', 'CCNB1', 'NOSTRIN', 'RORB', 'SPRY1', 'INPP4B', 'NFIB', 'COL25A1', 'GFPT1', 'MATR3-1', 'SLC3A2', \n",
    "             'PTGDS', 'HTR2C', 'NFIA', 'NRP1', 'DIO2', 'PIP5K1B', 'CPNE8', 'CRYM']\n",
    "\n",
    "# Function that fits gene expression with pseudotime\n",
    "def assign_polyfit(adata):\n",
    "    df=pd.DataFrame(adata[:,gene_list].copy().X.toarray(),columns=gene_list)\n",
    "    df['pseudotime']=adata.obs['monocle3_pseudotime'].values\n",
    "    \n",
    "    df=df.sort_values(by='pseudotime',ascending=True)\n",
    "    df_fit=df\n",
    "    for i,gene in enumerate(gene_list):\n",
    "\n",
    "        fit=np.polyfit(df['pseudotime'].values,df[gene].values,deg=6)\n",
    "        f = np.poly1d(fit)\n",
    "        df_fit[gene]=f(df['pseudotime'])\n",
    "        \n",
    "        rowix=df_fit.T.idxmax(axis=1)\n",
    "        pseudo=pd.DataFrame(df_fit['pseudotime'][rowix].values,index=df_fit.columns[0:df_fit.shape[1]])\n",
    "        pseudo=pseudo.sort_values(by=0,ascending=True)\n",
    "        df_fit=df_fit[pseudo.index]\n",
    "\n",
    "    \n",
    "    return df_fit\n",
    "    \n",
    "    \n",
    "# Call polynomial fit function\n",
    "df_fit_tany = assign_polyfit(adata_tany)\n",
    "df_fit_neurons = assign_polyfit(adata_neurons)  \n",
    "neurons_column_order = list(df_fit_neurons.columns[:-2])\n",
    "\n",
    "\n",
    "#df_fit_neurons.iloc[:,:-1] = minmax_scale(df_fit_neurons.iloc[:,:-1], axis=0)\n",
    "\n",
    "# Concat gene X cell dataframes\n",
    "df_fit_tany['source'] = 'tanycytes'\n",
    "df_fit_neurons['source'] = 'neurons'\n",
    "\n",
    "\n",
    "df_concat = pd.concat([df_fit_tany,df_fit_neurons ])\n",
    "\n",
    "# Scale merged dataframe\n",
    "df_concat.iloc[:,:-2] = minmax_scale(df_concat.iloc[:,:-2], axis=0)\n",
    "\n",
    "# Split gene X cell dataframe \n",
    "df_fit_tany=df_concat[df_concat.source.isin(['tanycytes'])]\n",
    "df_fit_neurons=df_concat[df_concat.source.isin(['neurons'])]\n",
    "df_fit_neurons = df_fit_neurons[neurons_column_order]"
   ]
  },
  {
   "cell_type": "code",
   "execution_count": null,
   "id": "e85756c0-6699-45c9-896a-632e618de3a7",
   "metadata": {},
   "outputs": [],
   "source": [
    "#sns.set_palette(sns.color_palette(colors))\n",
    "\n",
    "with plt.rc_context({ \"figure.dpi\": 350}):\n",
    "    cm = sns.clustermap(df_fit_tany.iloc[:,:-2].T,col_cluster=False,row_cluster=False,standard_scale=None, \n",
    "                        figsize=(15,10),xticklabels=False, cmap='viridis')\n",
    "    cm.cax.set_visible(False)\n",
    "    cm.ax_row_dendrogram.set_visible(False)\n",
    "    cm.ax_col_dendrogram.set_visible(False)\n",
    "    cm.tick_params(labelsize=12)\n",
    "    plt.show()\n",
    "    cm.savefig('monocle3_plots/tanycytes_temporal_gene_expression.pdf')\n"
   ]
  },
  {
   "cell_type": "markdown",
   "id": "f1416e45-2be6-40cb-86fc-be0014e98899",
   "metadata": {},
   "source": [
    "# Plotting umaps"
   ]
  },
  {
   "cell_type": "code",
   "execution_count": null,
   "id": "3ef054de-2f90-4823-a233-fcc2ea2215a2",
   "metadata": {},
   "outputs": [],
   "source": [
    "\n",
    "from pandas.api.types import CategoricalDtype\n",
    "adata.obs.day = adata.obs.day.replace('d16','D16')\n",
    "cat_type = CategoricalDtype(categories=['D16', 'D25', 'D50', 'D70'], ordered=True)\n",
    "adata.obs.day = adata.obs.day.astype(cat_type)\n",
    "adata.uns['Cell_types_colors'] = ['#bb9c8a', '#3586bd', '#4f9e46', '#eddb7e', '#e85b3d', '#ed9892',    '#faaa4e','#c96b00', '#a4cde0']\n"
   ]
  },
  {
   "cell_type": "code",
   "execution_count": null,
   "id": "452391c1-2605-4c48-b077-e04eaac8fab8",
   "metadata": {},
   "outputs": [],
   "source": [
    "for color in ['GPC3','S100B']:\n",
    "    with plt.rc_context({ \"figure.dpi\": 300 }):\n",
    "        sc.pl.umap(adata, color=color, ncols=2, use_raw=False, cmap='jet', frameon=False, colorbar_loc=None,size=18, save=f'tanycytes_{color}.pdf', show=False,layer='log_transformed')\n",
    "        \n",
    "        #sc.pl.umap(adata, color=color, )\n",
    "        #sc.pl.umap(adata, color=color, ncols=2, use_raw=False, cmap='jet', frameon=False, colorbar_loc=None,size=18)"
   ]
  },
  {
   "cell_type": "code",
   "execution_count": null,
   "id": "1efd5255-6bfe-4d36-aa15-0d61fae10848",
   "metadata": {},
   "outputs": [],
   "source": [
    "for color in ['Cell_types']:\n",
    "    with plt.rc_context({ \"figure.dpi\": 300 }):\n",
    "        sc.pl.umap(adata, color=color, ncols=2, use_raw=False, cmap='jet', frameon=False, colorbar_loc=None,size=18,layer='log_transformed')\n",
    "        "
   ]
  },
  {
   "cell_type": "code",
   "execution_count": null,
   "id": "73f511c4-0bc4-4135-907c-1801fbbf1c45",
   "metadata": {},
   "outputs": [],
   "source": [
    "adata_d16.obs.Cell_types = adata_d16.obs.Cell_types.astype(str)\n",
    "adata.obs.Cell_types = adata.obs.Cell_types.astype(str)\n",
    "\n",
    "\n",
    "cells = pd.Series(list(adata[adata.obs.day.isin(['d16'])].obs.index), dtype=\"category\")\n",
    "adata.obs[\"Cell_types\"].loc[cells] = list(adata_d16.obs.Cell_types.values)\n"
   ]
  },
  {
   "cell_type": "code",
   "execution_count": null,
   "id": "738d4af7-06ca-41d9-abc5-88ec6af86d95",
   "metadata": {},
   "outputs": [],
   "source": [
    "adata.obs['monocle3_pseudotime'] = pseudotime_values_all\n",
    "neuron_series = pd.Series(list(adata[adata.obs_names.isin(neurons_lineage_cells)].obs.index), dtype=\"category\")\n",
    "adata.obs[\"monocle3_pseudotime\"].loc[neuron_series] = -1.0"
   ]
  },
  {
   "cell_type": "code",
   "execution_count": null,
   "id": "56a5e26a-b352-4b8b-8d15-1e4941d51fa7",
   "metadata": {},
   "outputs": [],
   "source": [
    "%%R -i adata\n",
    "\n",
    "sobj <- as.Seurat(adata, counts = \"counts\", data = \"log_transformed\")"
   ]
  },
  {
   "cell_type": "code",
   "execution_count": null,
   "id": "b625b8b8-ecce-4f5b-a1ae-a9c37f2707a7",
   "metadata": {},
   "outputs": [],
   "source": [
    "%%R\n",
    "library(ggplot2)\n",
    "#FeaturePlot(object = sobj,  order = TRUE, features='monocle3_pseudotime',cmap)\n",
    "umap = FeaturePlot_scCustom(seurat_object = sobj, features = \"monocle3_pseudotime\",colors_use=viridis_plasma_light_high) + labs(title = \"Tanycyte lineage\")\n",
    "\n",
    "png('monocle3_plots/umap_tany_lineage.png', res=170, width=1000, height=1000)\n",
    "print(umap)"
   ]
  }
 ],
 "metadata": {
  "kernelspec": {
   "display_name": "Python [conda env:.conda-PYenv]",
   "language": "python",
   "name": "conda-env-.conda-PYenv-py"
  },
  "language_info": {
   "codemirror_mode": {
    "name": "ipython",
    "version": 3
   },
   "file_extension": ".py",
   "mimetype": "text/x-python",
   "name": "python",
   "nbconvert_exporter": "python",
   "pygments_lexer": "ipython3",
   "version": "3.9.19"
  }
 },
 "nbformat": 4,
 "nbformat_minor": 5
}
