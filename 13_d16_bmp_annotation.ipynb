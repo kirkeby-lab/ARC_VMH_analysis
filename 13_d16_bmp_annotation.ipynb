{
 "cells": [
  {
   "cell_type": "code",
   "execution_count": null,
   "id": "94f879b8-27c7-4202-964c-8d670bb386e5",
   "metadata": {},
   "outputs": [],
   "source": [
    "import scanpy as sc\n",
    "import pandas as pd\n",
    "import numpy as np\n",
    "import matplotlib.pyplot as plt\n",
    "import seaborn as sns\n",
    "pd.set_option('display.max_columns', 500)\n",
    "import warnings\n",
    "warnings.filterwarnings(\"ignore\")\n",
    "from sklearn.neighbors import KNeighborsClassifier\n",
    "import scanpy.external as sce\n",
    "\n",
    "from rpy2.robjects import pandas2ri\n",
    "from rpy2.robjects import r\n",
    "import rpy2.rinterface_lib.callbacks\n",
    "import anndata2ri\n",
    "import rpy2.robjects.numpy2ri\n",
    "#import numpy2ri\n",
    "import anndata\n",
    "pandas2ri.activate()\n",
    "anndata2ri.activate()\n",
    "rpy2.robjects.numpy2ri.activate()\n",
    "\n",
    "plt.rcParams.update({\n",
    "    'font.family': 'Arial'\n",
    "})\n",
    "\n",
    "\n",
    "%load_ext rpy2.ipython"
   ]
  },
  {
   "cell_type": "code",
   "execution_count": null,
   "id": "0baf182a-6a3a-4d59-a967-dbe34637c72d",
   "metadata": {},
   "outputs": [],
   "source": [
    "adata = sc.read('../Data/SC/processed_bmp_timing_exp.h5ad')\n",
    "adata = adata[adata.obs.day == 'd16']"
   ]
  },
  {
   "cell_type": "code",
   "execution_count": null,
   "id": "06347a29-6042-4135-af45-1f9558f057c8",
   "metadata": {
    "collapsed": true,
    "jupyter": {
     "outputs_hidden": true
    },
    "tags": []
   },
   "outputs": [],
   "source": [
    "%%R -i adata -o adata_integrated -o umap_emb -o pca_emb -o hvg_list\n",
    "\n",
    "Csparse_validate = \"CsparseMatrix_validate\"\n",
    "library(Seurat)\n",
    "library(dplyr)\n",
    "\n",
    "sobj <- as.Seurat(adata, counts = \"counts\", data = NULL)\n",
    "\n",
    "sobj_list <- SplitObject(sobj, split.by = 'cell_line')\n",
    "\n",
    "sobj_list <- lapply(X = sobj_list, FUN = function(x) {\n",
    "    x <- NormalizeData(x)\n",
    "    x <- FindVariableFeatures(x, selection.method = \"vst\", nfeatures = 3000)\n",
    "})\n",
    "\n",
    "features <- SelectIntegrationFeatures(object.list = sobj_list,nfeatures = 3000)\n",
    "\n",
    "sobj_list <- lapply(X = sobj_list, FUN = function(x) {\n",
    "    x <- ScaleData(x, features = features, verbose = FALSE)\n",
    "    x <- RunPCA(x, features = features, verbose = FALSE)\n",
    "  })\n",
    "\n",
    "anchors <- FindIntegrationAnchors(object.list = sobj_list, anchor.features = features, reduction = \"rpca\")\n",
    "sobj <- IntegrateData(anchorset = anchors, k.weight=70)\n",
    "DefaultAssay(sobj) <- \"integrated\"\n",
    "sobj <- ScaleData(sobj) %>% RunPCA(.)\n",
    "sobj <- RunUMAP(sobj, dims = 1:50)\n",
    "sobj <- FindNeighbors(sobj, dims = 1:50)\n",
    "\n",
    "\n",
    "sobj <- FindClusters(sobj,resolution=1.2)\n",
    "sobj <- FindClusters(sobj,resolution=1.3)\n",
    "sobj <- FindClusters(sobj,resolution=1.6)\n",
    "\n",
    "pca_emb = Embeddings(object = sobj, reduction = \"pca\")\n",
    "hvg_list = rownames(sobj)\n",
    "\n",
    "DefaultAssay(sobj) <- \"originalexp\"\n",
    "\n",
    "umap_emb = Embeddings(object = sobj, reduction = \"umap\")\n",
    "adata_integrated = as.SingleCellExperiment(sobj)  \n",
    "\n",
    "saveRDS(sobj,'../Data/SC/d16_parse_seurat.rds')"
   ]
  },
  {
   "cell_type": "code",
   "execution_count": null,
   "id": "16015492-50f5-4db6-b583-ab3f4bde4bf3",
   "metadata": {},
   "outputs": [],
   "source": [
    "adata.obsm['X_umap'] = umap_emb\n",
    "adata.obsm['X_pca'] = pca_emb\n",
    "adata.var['highly_variable'] = adata.var.index.isin(hvg_list)\n",
    "\n",
    "\n",
    "adata.obs['integrated_snn_res.1.2'] = adata_integrated.obs['integrated_snn_res.1.2']\n",
    "adata.obs['integrated_snn_res.1.3'] = adata_integrated.obs['integrated_snn_res.1.3']\n",
    "adata.obs['integrated_snn_res.1.6'] = adata_integrated.obs['integrated_snn_res.1.6']\n"
   ]
  },
  {
   "cell_type": "code",
   "execution_count": null,
   "id": "471a79a2-0fff-47cb-b191-faadd2d8d76f",
   "metadata": {},
   "outputs": [],
   "source": [
    "adata.write('../Data/SC/parse_integrated_early_stage.h5ad')"
   ]
  },
  {
   "cell_type": "code",
   "execution_count": null,
   "id": "2a0baf69-dfe3-41a6-8db9-ca5f7afba208",
   "metadata": {},
   "outputs": [],
   "source": [
    "adata = sc.read('../Data/SC/parse_integrated_early_stage.h5ad')"
   ]
  },
  {
   "cell_type": "code",
   "execution_count": null,
   "id": "c384c9c0-1265-42a5-b55d-a1b1ead7da52",
   "metadata": {},
   "outputs": [],
   "source": [
    "#with plt.rc_context({ \"figure.dpi\": 250, \"figure.figsize\": (4,4)}):\n",
    "with plt.rc_context({ \"figure.dpi\": 250}):\n",
    "    sc.pl.umap(adata, color=['bmp_treatment','cell_line'],\n",
    "    use_raw=False, size=10,frameon=False,  ncols=2,cmap='jet', colorbar_loc=None,wspace=0.1)\n",
    "\n",
    "    sc.pl.umap(adata, color=[\"integrated_snn_res.1.3\",\"integrated_snn_res.1.6\"],legend_loc='on data',\n",
    "    use_raw=False, size=10,frameon=False,  ncols=2,cmap='jet', colorbar_loc=None,wspace=0.1)\n"
   ]
  },
  {
   "cell_type": "code",
   "execution_count": null,
   "id": "4c3deef6-b74e-44ad-b1de-af245b103546",
   "metadata": {},
   "outputs": [],
   "source": [
    "adata.obs['Cell_types'] = 'Unassigned'\n",
    "\n",
    "ant_prog = pd.Series(list(adata[adata.obs[\"integrated_snn_res.1.3\"].isin(['3', '0','8','2','26','19','10', '15'])].obs.index), dtype=\"category\")\n",
    "adata.obs[\"Cell_types\"].loc[ant_prog] = \"Anterior tuberal progenitors\"\n",
    "\n",
    "tel_prog = pd.Series(list(adata[adata.obs[\"integrated_snn_res.1.3\"].isin(['1','7','30'])].obs.index), dtype=\"category\")\n",
    "adata.obs[\"Cell_types\"].loc[tel_prog] = \"Telencephalic progenitors\"\n",
    "\n",
    "post_prog = pd.Series(list(adata[adata.obs[\"integrated_snn_res.1.3\"].isin(['4','5', '9','20','21','27','23'])].obs.index), dtype=\"category\")\n",
    "adata.obs[\"Cell_types\"].loc[post_prog] = \"Posterior tuberal progenitors\"\n",
    "\n",
    "ant_pre = pd.Series(list(adata[adata.obs[\"integrated_snn_res.1.3\"].isin(['11'])].obs.index), dtype=\"category\")\n",
    "adata.obs[\"Cell_types\"].loc[ant_pre] = \"Anterior tuberal precursors\"\n",
    "\n",
    "tel_pre = pd.Series(list(adata[adata.obs[\"integrated_snn_res.1.3\"].isin(['16'])].obs.index), dtype=\"category\")\n",
    "adata.obs[\"Cell_types\"].loc[tel_pre] = \"Telencephalic precursors\"\n",
    "\n",
    "post_pre = pd.Series(list(adata[adata.obs[\"integrated_snn_res.1.3\"].isin(['23'])].obs.index), dtype=\"category\")\n",
    "adata.obs[\"Cell_types\"].loc[post_pre] = \"Posterior tuberal precursors\"\n",
    "\n",
    "dev_eye = pd.Series(list(adata[adata.obs[\"integrated_snn_res.1.3\"].isin(['17','18'])].obs.index), dtype=\"category\")\n",
    "adata.obs[\"Cell_types\"].loc[dev_eye] = \"Optic area progenitors\"\n",
    "\n",
    "prdm12_nptx2 = pd.Series(list(adata[adata.obs[\"integrated_snn_res.1.3\"].isin(['12','25','24'])].obs.index), dtype=\"category\")\n",
    "adata.obs[\"Cell_types\"].loc[prdm12_nptx2] = \"PRDM12+/NPTX2+ neurons\"\n",
    "\n",
    "pomc_prdm12 = pd.Series(list(adata[adata.obs[\"integrated_snn_res.1.3\"].isin(['6'])].obs.index), dtype=\"category\")\n",
    "adata.obs[\"Cell_types\"].loc[pomc_prdm12] = \"POMC+ neurons\"\n",
    "\n",
    "\n",
    "nr5a1_sox14_nptx2 = pd.Series(list(adata[adata.obs[\"integrated_snn_res.1.3\"].isin(['14'])].obs.index), dtype=\"category\")\n",
    "adata.obs[\"Cell_types\"].loc[nr5a1_sox14_nptx2] = \"NR5A1+/SOX14+ neurons\"\n",
    "\n",
    "otp_sst = pd.Series(list(adata[adata.obs[\"integrated_snn_res.1.3\"].isin(['22','29'])].obs.index), dtype=\"category\")\n",
    "adata.obs[\"Cell_types\"].loc[otp_sst] = \"OTP+ neurons\"\n",
    "\n",
    "otp_sst = pd.Series(list(adata[adata.obs[\"integrated_snn_res.1.6\"].isin(['21'])].obs.index), dtype=\"category\")\n",
    "adata.obs[\"Cell_types\"].loc[otp_sst] = \"OTP+ neurons\"\n",
    "\n",
    "tele_neurons = pd.Series(list(adata[adata.obs[\"integrated_snn_res.1.3\"].isin(['13'])].obs.index), dtype=\"category\")\n",
    "adata.obs[\"Cell_types\"].loc[tele_neurons] = \"Telencephalic neurons\"\n",
    "\n",
    "lhx1 = pd.Series(list(adata[adata.obs[\"integrated_snn_res.1.3\"].isin(['31'])].obs.index), dtype=\"category\")\n",
    "adata.obs[\"Cell_types\"].loc[lhx1] = \"LHX1+/ARX+ neurons\"\n",
    "\n",
    "vm = pd.Series(list(adata[adata.obs[\"integrated_snn_res.1.3\"].isin(['28'])].obs.index), dtype=\"category\")\n",
    "adata.obs[\"Cell_types\"].loc[vm] = \"Ventral midbrain progenitors\"\n"
   ]
  },
  {
   "cell_type": "code",
   "execution_count": null,
   "id": "d6e9599e-0823-415b-a953-433242ad4468",
   "metadata": {},
   "outputs": [],
   "source": [
    "#palette_cell_types = ['#bb9c8a','#faaa4e','#d0a9b7','#8B67AD','#e85b3d','#4f9e46','#85c668','#929bfc','#3586bd','#ed9892','#fa8016','#71B09B','#eddb7e','#a4cde0','#b15a27']\n",
    "palette_cell_types = ['#bb9c8a','#85c668','#8ebfaf','#b15a27','#3586bd','#4f9e46','#eddb7e','#929bfc','#e85b3d','#ed9892','#d0a9b7','#fa8016','#fac384','#a4cde0','#8B67AD']\n",
    "\n",
    "\n",
    "with plt.rc_context({ \"figure.dpi\": 300}):\n",
    "    sc.pl.umap(adata, color=['Cell_types'],\n",
    "    use_raw=False, size=15,palette=palette_cell_types,frameon=False,  ncols=3,cmap='jet', colorbar_loc=None, save='_d16_parse_annotations.pdf')\n",
    "    \n"
   ]
  },
  {
   "cell_type": "code",
   "execution_count": null,
   "id": "76e78e50-b520-4445-8814-f745d5468a36",
   "metadata": {},
   "outputs": [],
   "source": [
    "adata.write('../Data/SC/parse_annotated_early_stage.h5ad')"
   ]
  },
  {
   "cell_type": "code",
   "execution_count": null,
   "id": "0c9f7612-fd5c-42ab-a87d-c965063c6894",
   "metadata": {},
   "outputs": [],
   "source": [
    "adata = adata[adata.obs.sample(frac=1, random_state=42).index]"
   ]
  },
  {
   "cell_type": "code",
   "execution_count": null,
   "id": "4ac5a255-9107-4a3f-9e83-44ed77c8c55f",
   "metadata": {},
   "outputs": [],
   "source": [
    "#palette_cell_types = ['#bb9c8a','#faaa4e','#d0a9b7','#8B67AD','#e85b3d','#4f9e46','#85c668','#8690fc','#3b89bf','#ed9892','#F7831F','#71B09B','#eddb7e','#a4cde0','#b15a27']\n",
    "palette=['#8B67AD','#32A02D','#B2DF8A','#2078B4','#A6CEE3']\n",
    "\n",
    "with plt.rc_context({ \"figure.dpi\": 300}):\n",
    "    sc.pl.umap(adata, color=['bmp_treatment'],palette = palette,\n",
    "    use_raw=False, size=15,frameon=False,  ncols=3,cmap='jet', colorbar_loc=None, save='_d16_bmp_timing.pdf')\n",
    "    \n"
   ]
  },
  {
   "cell_type": "code",
   "execution_count": null,
   "id": "4e0a7eff-4c3c-4d5e-97cc-b5b73a351583",
   "metadata": {},
   "outputs": [],
   "source": [
    "adata.obs['cell_line'] = adata.obs['cell_line'].cat.reorder_categories( ['KOLF','RC17','Bio-N'])\n",
    "palette = ['#CDBD6F','#9CA99F','#B58379']\n",
    "\n",
    "with plt.rc_context({ \"figure.dpi\": 300}):\n",
    "    sc.pl.umap(adata, color=['cell_line'],palette = palette,\n",
    "    use_raw=False, size=15,frameon=False,  ncols=3,cmap='jet', colorbar_loc=None, save='_d16_cell_line.pdf')"
   ]
  },
  {
   "cell_type": "code",
   "execution_count": null,
   "id": "cf34fc49-5a7a-4d11-bb1b-412f79e6a866",
   "metadata": {},
   "outputs": [],
   "source": [
    "adata = sc.read('../Data/SC/parse_annotated_early_stage.h5ad')"
   ]
  },
  {
   "cell_type": "code",
   "execution_count": null,
   "id": "902352c2-a352-46a8-9967-3d347a0ae453",
   "metadata": {},
   "outputs": [],
   "source": []
  }
 ],
 "metadata": {
  "kernelspec": {
   "display_name": "Python [conda env:.conda-PYenv]",
   "language": "python",
   "name": "conda-env-.conda-PYenv-py"
  },
  "language_info": {
   "codemirror_mode": {
    "name": "ipython",
    "version": 3
   },
   "file_extension": ".py",
   "mimetype": "text/x-python",
   "name": "python",
   "nbconvert_exporter": "python",
   "pygments_lexer": "ipython3",
   "version": "3.9.19"
  }
 },
 "nbformat": 4,
 "nbformat_minor": 5
}
