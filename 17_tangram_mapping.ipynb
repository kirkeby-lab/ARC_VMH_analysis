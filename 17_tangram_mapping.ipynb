{
 "cells": [
  {
   "cell_type": "code",
   "execution_count": null,
   "id": "9d939d27",
   "metadata": {},
   "outputs": [],
   "source": [
    "import scanpy as sc\n",
    "import squidpy as sq\n",
    "import numpy as np\n",
    "import pandas as pd\n",
    "from anndata import AnnData\n",
    "import pathlib\n",
    "import matplotlib.pyplot as plt\n",
    "import matplotlib as mpl\n",
    "#import skimage\n",
    "import seaborn as sns\n",
    "import tangram as tg\n",
    "#from scipy.spatial import KDTree\n",
    "\n",
    "sc.logging.print_header()\n",
    "print(f\"squidpy=={sq.__version__}\")\n",
    "\n",
    "%load_ext autoreload\n",
    "%autoreload 2\n",
    "%matplotlib inline"
   ]
  },
  {
   "cell_type": "code",
   "execution_count": null,
   "id": "b593707b",
   "metadata": {},
   "outputs": [],
   "source": [
    "adata_spatial = sq.read.visium('Spatial_data/HYPOMAPErno/B2/',  counts_file='filtered_feature_bc_matrix.h5', library_id=None, load_images=True)\n",
    "adata_spatial"
   ]
  },
  {
   "cell_type": "code",
   "execution_count": null,
   "id": "cac81259",
   "metadata": {},
   "outputs": [],
   "source": [
    "spatial_meta = pd.read_csv('Data/hypomap_spatial_metadata.csv', index_col=0)\n",
    "spatial_meta.index = [barcode.rsplit('_', 1)[0] for barcode in spatial_meta.index]\n",
    "temp_df = spatial_meta[spatial_meta.captureArea == 'b2']\n",
    "\n",
    "adata_spatial = adata_spatial[temp_df.index]\n",
    "adata_spatial.obs = pd.concat([adata_spatial.obs, temp_df], axis=1) \n",
    "\n",
    "adata_spatial.var_names_make_unique()\n",
    "\n",
    "adata_spatial.obsm['spatial'] = np.array([[y*-1, x] for x, y in adata_spatial.obsm['spatial']])\n",
    "\n",
    "sc.pp.normalize_total(adata_spatial)\n",
    "sc.pp.log1p(adata_spatial)\n",
    "\n",
    "adata_spatial"
   ]
  },
  {
   "cell_type": "code",
   "execution_count": null,
   "id": "0abf0b5e",
   "metadata": {},
   "outputs": [],
   "source": [
    "adata_bmp = sc.read('../Data/SC/parse_annotated_late_stage.h5ad')\n",
    "\n",
    "adata_spatial.obs['Cell_types'] = adata_spatial.obs['regional_clusters_grouped']\n",
    "adata_spatial.obs['bmp_treatment'] = '_'\n",
    "\n",
    "adata_spatial.obs['source'] = 'Hypomap'\n",
    "adata_bmp.obs['source'] = 'Zehra'\n",
    "adata_bmp = adata_bmp[adata_bmp.obs.Cell_types != 'Telencephalic neurons']\n",
    "print(adata_bmp)\n"
   ]
  },
  {
   "cell_type": "code",
   "execution_count": null,
   "id": "7cf80117",
   "metadata": {},
   "outputs": [],
   "source": [
    "gene_df = pd.read_excel(\"DE_genes/parse_late_deg_annotations.xlsx\", index_col=0)\n",
    "gene_df = gene_df[gene_df.cluster != 'Telencephalic neurons']\n",
    "\n",
    "genes = gene_df.gene.values\n",
    "\n",
    "gene_df"
   ]
  },
  {
   "cell_type": "code",
   "execution_count": null,
   "id": "d80ee178",
   "metadata": {},
   "outputs": [],
   "source": [
    "tg.pp_adatas(adata_bmp, adata_spatial, genes=genes)\n",
    "\n",
    "ad_map = tg.map_cells_to_space(adata_bmp, adata_spatial,\n",
    "    mode=\"clusters\",\n",
    "    cluster_label='Cell_types',\n",
    "    density_prior='rna_count_based',\n",
    "    num_epochs=500,\n",
    "    device='cuda',\n",
    ")\n",
    "\n",
    "tg.project_cell_annotations(ad_map, adata_spatial, annotation='Cell_types')"
   ]
  },
  {
   "cell_type": "code",
   "execution_count": null,
   "id": "031c0879-c7fe-4dca-b266-a14ec1ce7907",
   "metadata": {},
   "outputs": [],
   "source": [
    "pred_matrix = adata_spatial.obsm['tangram_ct_pred'].values\n",
    "\n",
    "thresholds = np.percentile(pred_matrix, 80, axis=0)\n",
    "\n",
    "\n",
    "mask = pred_matrix >= thresholds\n",
    "\n",
    "\n",
    "filtered_matrix = np.where(mask, pred_matrix, 0)\n",
    "\n",
    "adata_spatial.obsm['filtered_ct_pred'] = pd.DataFrame(filtered_matrix, index = adata_spatial.obsm['tangram_ct_pred'].index, columns= adata_spatial.obsm['tangram_ct_pred'].columns)\n",
    "\n",
    "                                        "
   ]
  },
  {
   "cell_type": "code",
   "execution_count": null,
   "id": "835f1047",
   "metadata": {},
   "outputs": [],
   "source": [
    "from sklearn.preprocessing import minmax_scale\n",
    "scaled_values = minmax_scale(adata_spatial.obsm['filtered_ct_pred'].values)\n",
    "\n",
    "# Put the scaled values back into a DataFrame with original column names and index\n",
    "adata_spatial.obsm['filtered_ct_pred'] = pd.DataFrame(scaled_values, index=adata_spatial.obs.index, columns=adata_spatial.obsm['filtered_ct_pred'].columns)\n",
    "\n",
    "adata_spatial.obs = pd.concat([adata_spatial.obs, adata_spatial.obsm['filtered_ct_pred']], axis=1)"
   ]
  },
  {
   "cell_type": "code",
   "execution_count": null,
   "id": "27228d8e-a94f-4a97-a1ed-318c20643691",
   "metadata": {
    "collapsed": true,
    "jupyter": {
     "outputs_hidden": true
    },
    "tags": []
   },
   "outputs": [],
   "source": [
    "with plt.rc_context({\"figure.dpi\": 300}):\n",
    "\n",
    "\n",
    "    # Create 4x4 subplot (i.e., up to 16 cell types)\n",
    "    for cell_type in list(pd.unique(adata_bmp.obs['Cell_types'])):\n",
    "        sq.pl.spatial_scatter(\n",
    "                adata_spatial,\n",
    "                shape=None,\n",
    "                frameon=False,\n",
    "                color=cell_type,\n",
    "                size=6,\n",
    "                cmap='jet',\n",
    "                #ax = axes[i]\n",
    "                colorbar=False,\n",
    "                #save=f'{cell_type}_spatial.png'\n",
    "            )\n",
    "        plt.tight_layout()\n",
    "        plt.savefig(f'figures/Spatial/{cell_type.replace(\"/\",\"-\")}_spatial.pdf')\n",
    "        plt.show()\n",
    "    \n"
   ]
  },
  {
   "cell_type": "code",
   "execution_count": null,
   "id": "963a18de-b169-4912-996a-e5f0bdcfbe00",
   "metadata": {},
   "outputs": [],
   "source": [
    "import numpy as np\n",
    "import matplotlib.pyplot as plt\n",
    "with plt.rc_context({\"figure.dpi\": 300}):\n",
    "\n",
    "    a = np.array([[0, 1]])\n",
    "    plt.figure(figsize=(0.3, 2))\n",
    "    \n",
    "    # Show the image\n",
    "    img = plt.imshow(a, cmap=\"jet\")\n",
    "    \n",
    "    # Hide the main axis\n",
    "    plt.gca().set_visible(False)\n",
    "    \n",
    "    # Add colorbar with ticks at 0 and 1\n",
    "    cax = plt.axes([0.1, 0.2, 0.8, 0.6])\n",
    "    cbar = plt.colorbar(img, orientation=\"vertical\", cax=cax)\n",
    "    cbar.set_ticks([0, 1])\n",
    "    cbar.set_ticklabels([\"0\", \"1\"], size=15)\n",
    "    \n",
    "    # Save figure\n",
    "    plt.savefig(\"figures/jet_colorbar.pdf\", dpi=450, bbox_inches='tight')"
   ]
  },
  {
   "cell_type": "code",
   "execution_count": null,
   "id": "f62ddd19",
   "metadata": {},
   "outputs": [],
   "source": []
  },
  {
   "cell_type": "code",
   "execution_count": null,
   "id": "f9e00d5d",
   "metadata": {},
   "outputs": [],
   "source": []
  },
  {
   "cell_type": "code",
   "execution_count": null,
   "id": "cfb28d5a",
   "metadata": {},
   "outputs": [],
   "source": []
  },
  {
   "cell_type": "code",
   "execution_count": null,
   "id": "d613f09c",
   "metadata": {},
   "outputs": [],
   "source": []
  },
  {
   "cell_type": "code",
   "execution_count": null,
   "id": "c938173c",
   "metadata": {},
   "outputs": [],
   "source": []
  }
 ],
 "metadata": {
  "kernelspec": {
   "display_name": "Python [conda env:.conda-PYenv]",
   "language": "python",
   "name": "conda-env-.conda-PYenv-py"
  },
  "language_info": {
   "codemirror_mode": {
    "name": "ipython",
    "version": 3
   },
   "file_extension": ".py",
   "mimetype": "text/x-python",
   "name": "python",
   "nbconvert_exporter": "python",
   "pygments_lexer": "ipython3",
   "version": "3.9.19"
  }
 },
 "nbformat": 4,
 "nbformat_minor": 5
}
