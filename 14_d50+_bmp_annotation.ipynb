{
 "cells": [
  {
   "cell_type": "code",
   "execution_count": null,
   "id": "94f879b8-27c7-4202-964c-8d670bb386e5",
   "metadata": {},
   "outputs": [],
   "source": [
    "import scanpy as sc\n",
    "import pandas as pd\n",
    "import numpy as np\n",
    "import matplotlib.pyplot as plt\n",
    "import seaborn as sns\n",
    "pd.set_option('display.max_columns', 500)\n",
    "\n",
    "import warnings\n",
    "warnings.filterwarnings(\"ignore\")\n",
    "from sklearn.neighbors import KNeighborsClassifier\n",
    "\n",
    "\n",
    "from rpy2.robjects import pandas2ri\n",
    "from rpy2.robjects import r\n",
    "import rpy2.rinterface_lib.callbacks\n",
    "import anndata2ri\n",
    "import rpy2.robjects.numpy2ri\n",
    "#import numpy2ri\n",
    "import anndata\n",
    "pandas2ri.activate()\n",
    "anndata2ri.activate()\n",
    "rpy2.robjects.numpy2ri.activate()\n",
    "\n",
    "plt.rcParams.update({\n",
    "    'font.family': 'Arial'\n",
    "})\n",
    "\n",
    "\n",
    "%load_ext rpy2.ipython"
   ]
  },
  {
   "cell_type": "code",
   "execution_count": null,
   "id": "2b27db4b-a7c0-4a92-be3c-0c87a0f3e6e9",
   "metadata": {},
   "outputs": [],
   "source": [
    "adata = sc.read('../Data/SC/processed_bmp_timing_exp.h5ad')\n",
    "adata = adata[adata.obs.day != 'd16']\n",
    "adata.obs.day.value_counts()"
   ]
  },
  {
   "cell_type": "code",
   "execution_count": null,
   "id": "d0a24e68-361e-4008-8adf-dffa65c48473",
   "metadata": {
    "collapsed": true,
    "jupyter": {
     "outputs_hidden": true
    },
    "tags": []
   },
   "outputs": [],
   "source": [
    "%%R -i adata -o adata_integrated -o umap_emb -o pca_emb -o hvg_list\n",
    "\n",
    "Csparse_validate = \"CsparseMatrix_validate\"\n",
    "library(Seurat)\n",
    "library(dplyr)\n",
    "\n",
    "sobj <- as.Seurat(adata, counts = \"counts\", data = NULL)\n",
    "\n",
    "sobj_list <- SplitObject(sobj, split.by = 'cell_line')\n",
    "\n",
    "sobj_list <- lapply(X = sobj_list, FUN = function(x) {\n",
    "    x <- NormalizeData(x)\n",
    "    x <- FindVariableFeatures(x, selection.method = \"vst\", nfeatures = 3000)\n",
    "})\n",
    "\n",
    "features <- SelectIntegrationFeatures(object.list = sobj_list,nfeatures = 3000)\n",
    "\n",
    "sobj_list <- lapply(X = sobj_list, FUN = function(x) {\n",
    "    x <- ScaleData(x, features = features, verbose = FALSE)\n",
    "    x <- RunPCA(x, features = features, verbose = FALSE)\n",
    "  })\n",
    "\n",
    "anchors <- FindIntegrationAnchors(object.list = sobj_list, anchor.features = features, reduction = \"rpca\")\n",
    "sobj <- IntegrateData(anchorset = anchors, k.weight=60)\n",
    "DefaultAssay(sobj) <- \"integrated\"\n",
    "sobj <- ScaleData(sobj) %>% RunPCA(.)\n",
    "sobj <- RunUMAP(sobj, dims = 1:50)\n",
    "sobj <- FindNeighbors(sobj, dims = 1:50)\n",
    "sobj <- FindClusters(sobj,resolution=0.5)\n",
    "sobj <- FindClusters(sobj,resolution=0.6)\n",
    "sobj <- FindClusters(sobj,resolution=0.7)\n",
    "sobj <- FindClusters(sobj,resolution=0.8)\n",
    "sobj <- FindClusters(sobj,resolution=1.2)\n",
    "sobj <- FindClusters(sobj,resolution=1.4)\n",
    "\n",
    "\n",
    "\n",
    "\n",
    "\n",
    "pca_emb = Embeddings(object = sobj, reduction = \"pca\")\n",
    "hvg_list = rownames(sobj)\n",
    "\n",
    "DefaultAssay(sobj) <- \"originalexp\"\n",
    "\n",
    "umap_emb = Embeddings(object = sobj, reduction = \"umap\")\n",
    "adata_integrated = as.SingleCellExperiment(sobj)  \n",
    "\n",
    "saveRDS(sobj,'../Data/SC/late_stage_parse_seurat.rds')"
   ]
  },
  {
   "cell_type": "code",
   "execution_count": null,
   "id": "03d2fc19-35b9-4895-afb2-999722301a4e",
   "metadata": {},
   "outputs": [],
   "source": [
    "%%R\n",
    "dim(Embeddings(object = sobj, reduction = \"pca\"))"
   ]
  },
  {
   "cell_type": "code",
   "execution_count": null,
   "id": "dd93a8aa-85b3-4ae9-9433-ad6f10ef4a79",
   "metadata": {},
   "outputs": [],
   "source": [
    "adata.obsm['X_umap'] = umap_emb\n",
    "adata.obsm['X_pca'] = pca_emb\n",
    "adata.var['highly_variable'] = adata.var.index.isin(hvg_list)\n",
    "\n",
    "adata.obs['integrated_snn_res.0.5'] = adata_integrated.obs['integrated_snn_res.0.5']\n",
    "adata.obs['integrated_snn_res.0.6'] = adata_integrated.obs['integrated_snn_res.0.6']\n",
    "adata.obs['integrated_snn_res.0.7'] = adata_integrated.obs['integrated_snn_res.0.7']\n",
    "adata.obs['integrated_snn_res.0.8'] = adata_integrated.obs['integrated_snn_res.0.8']\n",
    "adata.obs['integrated_snn_res.1.2'] = adata_integrated.obs['integrated_snn_res.1.2']\n",
    "adata.obs['integrated_snn_res.1.4'] = adata_integrated.obs['integrated_snn_res.1.4']\n",
    "\n"
   ]
  },
  {
   "cell_type": "code",
   "execution_count": null,
   "id": "96e7b466-181f-4485-9ee3-3518a73f56bd",
   "metadata": {},
   "outputs": [],
   "source": [
    "adata.write('../Data/SC/parse_integrated_late_stage.h5ad')"
   ]
  },
  {
   "cell_type": "code",
   "execution_count": null,
   "id": "219cf80c-2401-447a-875e-48e9b33e92c9",
   "metadata": {},
   "outputs": [],
   "source": [
    "adata = sc.read('../Data/SC/parse_integrated_late_stage.h5ad')"
   ]
  },
  {
   "cell_type": "code",
   "execution_count": null,
   "id": "5f2cc474-e267-4872-a954-85716cc54b2c",
   "metadata": {},
   "outputs": [],
   "source": [
    "with plt.rc_context({ \"figure.dpi\": 600, }):\n",
    "    #sc.pl.umap(adata, color=['sampleID'], ncols=1)\n",
    "    sc.pl.umap(adata, color=['sample','bmp_treatment','cell_line'], ncols=3, use_raw=False,cmap='jet', frameon=False, colorbar_loc=None)"
   ]
  },
  {
   "cell_type": "code",
   "execution_count": null,
   "id": "458b52a4-ad74-43c5-847d-98891f10211b",
   "metadata": {},
   "outputs": [],
   "source": [
    "with plt.rc_context({ \"figure.dpi\": 250}):\n",
    "    sc.pl.umap(adata, color=['integrated_snn_res.0.5','integrated_snn_res.0.6', 'integrated_snn_res.0.7','integrated_snn_res.0.8', 'integrated_snn_res.1.2', 'integrated_snn_res.1.4'],legend_loc='on data',\n",
    "    use_raw=False, size=10,frameon=False,  ncols=3,cmap='jet', colorbar_loc=None,wspace=-0.05)"
   ]
  },
  {
   "cell_type": "code",
   "execution_count": null,
   "id": "a68e02e8-ed1a-49ac-9964-d51714e460bf",
   "metadata": {},
   "outputs": [],
   "source": [
    "adata10x = sc.read('Data/adata_d50_d70.h5ad')\n",
    "adata10x.obs['batch'] = adata10x.obs['reactionID'].copy()\n",
    "adata10x.obs['bmp_treatment'] = '-'\n",
    "adata10x.obs['cell_line'] = '-'\n",
    "adata10x.obs['source'] = 'ZA'\n",
    "\n",
    "adata.layers['log_transformed'] = adata.X.copy()\n",
    "adata.obs['batch'] = adata.obs['cell_line'].copy()\n",
    "adata.obs['Cell_types_2'] = '-'\n",
    "adata.obs['source'] = 'AM'\n",
    "\n",
    "adata.obs['clusters'] = adata.obs[\"integrated_snn_res.0.7\"]\n",
    "adata.obs['clusters2'] = adata.obs[\"integrated_snn_res.1.2\"]\n",
    "\n",
    "adata_concat = adata.concatenate(adata10x, batch_key=None, join='outer')\n",
    "adata_concat.obs = adata_concat.obs[['bmp_treatment','cell_line','batch','Cell_types','Cell_types_2','day', 'source','clusters']]\n",
    "del adata_concat.var"
   ]
  },
  {
   "cell_type": "code",
   "execution_count": null,
   "id": "8630089d-d46f-47de-b8c0-d6fa46462758",
   "metadata": {
    "collapsed": true,
    "jupyter": {
     "outputs_hidden": true
    },
    "tags": []
   },
   "outputs": [],
   "source": [
    "%%R -i adata_concat -o umap_emb -o pca_emb\n",
    "\n",
    "Csparse_validate = \"CsparseMatrix_validate\"\n",
    "library(Seurat)\n",
    "library(dplyr)\n",
    "\n",
    "sobj <- as.Seurat(adata_concat, counts = \"counts\", data = NULL)\n",
    "\n",
    "sobj_list <- SplitObject(sobj, split.by = 'batch')\n",
    "\n",
    "sobj_list <- lapply(X = sobj_list, FUN = function(x) {\n",
    "    x <- NormalizeData(x)\n",
    "    x <- FindVariableFeatures(x, selection.method = \"vst\", nfeatures = 3000)\n",
    "})\n",
    "\n",
    "features <- SelectIntegrationFeatures(object.list = sobj_list,nfeatures = 3000)\n",
    "\n",
    "sobj_list <- lapply(X = sobj_list, FUN = function(x) {\n",
    "    x <- ScaleData(x, features = features, verbose = FALSE)\n",
    "    x <- RunPCA(x, features = features, verbose = FALSE)\n",
    "  })\n",
    "\n",
    "anchors <- FindIntegrationAnchors(object.list = sobj_list, anchor.features = features, reduction = \"rpca\")\n",
    "sobj <- IntegrateData(anchorset = anchors, k.weight=60)\n",
    "DefaultAssay(sobj) <- \"integrated\"\n",
    "sobj <- ScaleData(sobj) %>% RunPCA(.)\n",
    "sobj <- RunUMAP(sobj, dims = 1:50)\n",
    "\n",
    "pca_emb = Embeddings(object = sobj, reduction = \"pca\")\n",
    "hvg_list = rownames(sobj)\n",
    "\n",
    "DefaultAssay(sobj) <- \"originalexp\"\n",
    "\n",
    "umap_emb = Embeddings(object = sobj, reduction = \"umap\")\n",
    "#adata_integrated = as.SingleCellExperiment(sobj)  \n",
    "\n",
    "saveRDS(sobj,'../Data/SC/late_stage_parse_10x_integration.rds')"
   ]
  },
  {
   "cell_type": "code",
   "execution_count": null,
   "id": "b9784b4d-44a9-4962-8c38-f14ae2e4e845",
   "metadata": {},
   "outputs": [],
   "source": [
    "#adata_integrated.obsm['X_pca'] = pca_emb\n",
    "#adata_integrated.obsm['X_umap'] = umap_emb\n",
    "from sklearn.metrics.pairwise import pairwise_distances\n",
    "\n",
    "adata_concat.obsm['X_umap'] = umap_emb\n",
    "adata_concat.obsm['X_pca'] = pca_emb\n",
    "\n",
    "\n",
    "ref_idx = adata_concat.obs[\"source\"] == \"ZA\"\n",
    "train_X = adata_concat[ref_idx].obsm[\"X_pca\"]\n",
    "query_X = adata_concat[adata_concat.obs[\"source\"] == \"AM\"].obsm[\"X_pca\"]\n",
    "\n",
    "train_Y = adata_concat[ref_idx].obs['Cell_types_2'].to_numpy()\n",
    "knn = KNeighborsClassifier(n_neighbors=100)\n",
    "knn.fit(train_X, train_Y)\n",
    "\n",
    "# Predict probabilities for fetal cells\n",
    "knn_probs = knn.predict_proba(query_X)\n",
    "knn_pred = knn.classes_[np.argmax(knn_probs, axis=1)]\n",
    "max_probs = np.max(knn_probs, axis=1)\n",
    "\n",
    "# Distances between query cells and reference cells\n",
    "distances = pairwise_distances(query_X, train_X, metric='euclidean')\n",
    "min_distances = distances.min(axis=1)\n",
    "distance_threshold = np.percentile(distances[:, :train_X.shape[0]].min(axis=1), 70)\n",
    "\n",
    "\n",
    "adata_concat.obs.loc[adata_concat.obs[\"source\"] == \"AM\", \"predicted_cell_types\"] = np.where((max_probs >= 0.5) \n",
    "                                                    & (min_distances <= distance_threshold), knn_pred, \"Unassigned\")\n",
    "\n",
    "adata.obs.loc[adata.obs[\"source\"] == \"AM\", \"predicted_cell_types\"] = np.where((max_probs >= 0.5) \n",
    "                                                    & (min_distances <= distance_threshold), knn_pred, \"Unassigned\")\n"
   ]
  },
  {
   "cell_type": "code",
   "execution_count": null,
   "id": "31182e6e-9de5-40e2-9bab-387d417dca25",
   "metadata": {},
   "outputs": [],
   "source": [
    "with plt.rc_context({ \"figure.dpi\": 250}):\n",
    "    sc.pl.umap(adata_concat, color=['source'], use_raw=False, size=10,frameon=False,  ncols=3,cmap='jet', colorbar_loc=None)"
   ]
  },
  {
   "cell_type": "code",
   "execution_count": null,
   "id": "9d602620-c7a4-4dc3-827f-6894d7f36d50",
   "metadata": {},
   "outputs": [],
   "source": [
    "\n",
    "fig, axes = plt.subplots(1, 3, figsize= (20,4))\n",
    "\n",
    "#axes = axes.flatten()\n",
    "with plt.rc_context({\"figure.dpi\": 400}):\n",
    "    #sc.pl.umap(adata_concat, color=['source'],\n",
    "               #frameon=False,ax=axes[0], size=15, show=False)\n",
    "        \n",
    "    sc.pl.umap(adata_concat[adata_concat.obs.source == 'AM'], color=['clusters'],\n",
    "               frameon=False,ax=axes[0], size=15, title='AM', show=False)\n",
    "    \n",
    "    sc.pl.umap(adata_concat[adata_concat.obs.source == 'AM'], color=['predicted_cell_types'],\n",
    "               frameon=False,ax=axes[1], size=15, title='AM', show=False)\n",
    "    \n",
    "    sc.pl.umap(adata_concat[adata_concat.obs.source == 'ZA'], color=['Cell_types_2'],\n",
    "               frameon=False,ax=axes[2], size=15, title='ZA', show=False)    \n",
    "    \n",
    "fig.tight_layout()\n",
    "plt.show()"
   ]
  },
  {
   "cell_type": "code",
   "execution_count": null,
   "id": "f568e137-f534-42a9-819e-805912ff719b",
   "metadata": {},
   "outputs": [],
   "source": [
    "fig, axes = plt.subplots(1, 3, figsize= (20,4))\n",
    "#axes = axes.flatten()\n",
    "with plt.rc_context({\"figure.dpi\": 400}):\n",
    "    #sc.pl.umap(adata_concat, color=['source'],\n",
    "               #frameon=False,ax=axes[0], size=15, show=False)\n",
    "    \n",
    "    sc.pl.umap(adata, color=['predicted_cell_types'],\n",
    "               frameon=False,ax=axes[0], size=15, show=False)\n",
    "    \n",
    "    sc.pl.umap(adata, color=['integrated_snn_res.0.7'],\n",
    "               frameon=False,ax=axes[1], size=15, show=False, legend_loc='on data')    \n",
    "    \n",
    "    sc.pl.umap(adata, color=['integrated_snn_res.1.2'],\n",
    "               frameon=False,ax=axes[2], size=15, show=False, legend_loc='on data')   \n",
    "    \n",
    "fig.tight_layout()\n",
    "plt.show()"
   ]
  },
  {
   "cell_type": "code",
   "execution_count": null,
   "id": "d69d3aa1-f2ba-4603-a84a-795683dcc172",
   "metadata": {},
   "outputs": [],
   "source": [
    "#adata_concat.write('../Data/SC/parse_10x_integration.h5ad')\n",
    "adata_concat = sc.read('../Data/SC/parse_10x_integration.h5ad')"
   ]
  },
  {
   "cell_type": "code",
   "execution_count": null,
   "id": "17fec97c-8679-4da2-8841-02d626422766",
   "metadata": {},
   "outputs": [],
   "source": [
    "adata.obs['Cell_types'] = 'Unassigned'\n",
    "\n",
    "tany = pd.Series(list(adata[adata.obs[\"integrated_snn_res.0.7\"].isin(['2','20'])].obs.index), dtype=\"category\")\n",
    "adata.obs[\"Cell_types\"].loc[tany] = \"Tanycytes\"\n",
    "\n",
    "unassigned = pd.Series(list(adata[adata.obs[\"integrated_snn_res.1.2\"].isin(['35'])].obs.index), dtype=\"category\")\n",
    "adata.obs[\"Cell_types\"].loc[unassigned] = \"Unassigned\"\n",
    "\n",
    "\n",
    "\n",
    "optic = pd.Series(list(adata[adata.obs[\"integrated_snn_res.0.7\"].isin(['26', '27'])].obs.index), dtype=\"category\")\n",
    "adata.obs[\"Cell_types\"].loc[optic] = \"Optic area neurons\"\n",
    "\n",
    "immature = pd.Series(list(adata[adata.obs[\"integrated_snn_res.0.7\"].isin(['1','15'])].obs.index), dtype=\"category\")\n",
    "adata.obs[\"Cell_types\"].loc[immature] = \"Immature ARC neurons\"\n",
    "\n",
    "tele = pd.Series(list(adata[adata.obs[\"integrated_snn_res.0.7\"].isin(['6', '8', '5', '18', '23', '9','16'])].obs.index), dtype=\"category\")\n",
    "adata.obs[\"Cell_types\"].loc[tele] = \"Telencephalic neurons\"\n",
    "\n",
    "pomc_nr5a1 = pd.Series(list(adata[adata.obs[\"integrated_snn_res.0.7\"].isin(['0','21'])].obs.index), dtype=\"category\")\n",
    "adata.obs[\"Cell_types\"].loc[pomc_nr5a1] = \"POMC+/SOX14+/NR5A1+\"\n",
    "\n",
    "\n",
    "pomc_prdm12 = pd.Series(list(adata[adata.obs[\"integrated_snn_res.0.7\"].isin(['4'])].obs.index), dtype=\"category\")\n",
    "adata.obs[\"Cell_types\"].loc[pomc_prdm12] = \"POMC+/TBX3+/NR5A2+\"\n",
    "\n",
    "otp_sst = pd.Series(list(adata[adata.obs[\"integrated_snn_res.0.7\"].isin(['7'])].obs.index), dtype=\"category\")\n",
    "adata.obs[\"Cell_types\"].loc[otp_sst] = \"OTP+/SST+/BNC2+\"\n",
    "\n",
    "dlx6_foxp2 = pd.Series(list(adata[adata.obs[\"integrated_snn_res.0.7\"].isin(['11'])].obs.index), dtype=\"category\")\n",
    "adata.obs[\"Cell_types\"].loc[dlx6_foxp2] = \"DLX6-AS1+/FOXP2+\"\n",
    "\n",
    "agrp_otp = pd.Series(list(adata[adata.obs[\"integrated_snn_res.0.7\"].isin(['12'])].obs.index), dtype=\"category\")\n",
    "adata.obs[\"Cell_types\"].loc[agrp_otp] = \"AGRP+/OTP+\"\n",
    "\n",
    "astro = pd.Series(list(adata[adata.obs[\"integrated_snn_res.0.7\"].isin(['13'])].obs.index), dtype=\"category\")\n",
    "adata.obs[\"Cell_types\"].loc[astro] = \"Astrocytes\"\n",
    "\n",
    "pnoc_npffr2 = pd.Series(list(adata[adata.obs[\"integrated_snn_res.0.7\"].isin(['14'])].obs.index), dtype=\"category\")\n",
    "adata.obs[\"Cell_types\"].loc[pnoc_npffr2] = \"PNOC+/NPFFR2+\"\n",
    "\n",
    "lhx1_arx = pd.Series(list(adata[adata.obs[\"integrated_snn_res.0.7\"].isin(['17'])].obs.index), dtype=\"category\")\n",
    "adata.obs[\"Cell_types\"].loc[lhx1_arx] = \"LHX1+/ARX+\"\n",
    "\n",
    "gpr149 = pd.Series(list(adata[adata.obs[\"integrated_snn_res.0.7\"].isin(['19'])].obs.index), dtype=\"category\")\n",
    "adata.obs[\"Cell_types\"].loc[gpr149] = \"GPR149+/LHX8+\"\n",
    "\n",
    "fezf1_sox14 = pd.Series(list(adata[adata.obs[\"integrated_snn_res.0.7\"].isin(['22'])].obs.index), dtype=\"category\")\n",
    "adata.obs[\"Cell_types\"].loc[fezf1_sox14] = \"FEZF1+/SOX14+\"\n",
    "\n",
    "ghrh_pnoc = pd.Series(list(adata[adata.obs[\"integrated_snn_res.0.7\"].isin(['24'])].obs.index), dtype=\"category\")\n",
    "adata.obs[\"Cell_types\"].loc[ghrh_pnoc] = \"GHRH+/PNOC+\"\n",
    "\n",
    "nr5a2_onecut = pd.Series(list(adata[adata.obs[\"integrated_snn_res.0.7\"].isin(['10'])].obs.index), dtype=\"category\")\n",
    "adata.obs[\"Cell_types\"].loc[nr5a2_onecut] = \"NR5A2+/ONECUT1/3+\"\n"
   ]
  },
  {
   "cell_type": "code",
   "execution_count": null,
   "id": "2bffc91a-d4f0-48cb-bdfe-5eb611568fbb",
   "metadata": {},
   "outputs": [],
   "source": [
    "#palette_cell_types = ['#bb9c8a','#','#d0a9b7','#8B67AD','#','#4f9e46','#','#8690fc','#','#','#F7831F','#','#','#a4cde0','#']\n",
    "palette_cell_types = ['#3b89bf','#bb9c8a','#ed9892','#d0a9b7','#b15a27','#8B67AD','#fa8016','#8690fc','#e85b3d','#71B09B','#a4cde0','#85c668','#a11d02','#eddb7e','#4f9e46','#faaa4e','#b281e6']\n",
    "\n",
    "\n",
    "\n",
    "    \n",
    "fig, axes = plt.subplots(1, 2, figsize= (24,8))\n",
    "#axes = axes.flatten()\n",
    "with plt.rc_context({\"figure.dpi\": 400}):\n",
    "\n",
    "    sc.pl.umap(adata, color=['Cell_types'],\n",
    "               frameon=False,ax=axes[0], size=25, show=False, legend_fontsize='x-large', palette=palette_cell_types)\n",
    "    \n",
    "    sc.pl.umap(adata, color=['integrated_snn_res.0.7'],\n",
    "               frameon=False,ax=axes[1], size=25, show=False, legend_loc='on data', legend_fontsize='xx-large')    \n",
    "    \n",
    "\n",
    "    \n",
    "fig.tight_layout()\n",
    "plt.show()"
   ]
  },
  {
   "cell_type": "markdown",
   "id": "965326a5-b278-40fd-8700-c576fa2c4427",
   "metadata": {},
   "source": [
    "POMC = '#eddb7e'\n",
    "OTP/AGRP = '#3586bd'\n",
    "Tele = '#d0a9b7'\n",
    "Tany = '#faaa4e'"
   ]
  },
  {
   "cell_type": "code",
   "execution_count": null,
   "id": "2164d8a4-0c0d-481d-9011-5c2e46ae6e46",
   "metadata": {},
   "outputs": [],
   "source": [
    "#palette_cell_types = ['#bb9c8a','#','#d0a9b7','#8B67AD','#','#4f9e46','#','#8690fc','#','#','#F7831F','#','#','#a4cde0','#']\n",
    "palette_cell_types = ['#3b89bf','#8B67AD','#bb9c8a','#fa8016','#b15a27','#71B09B','#e85b3d','#8690fc','#f4a989','#89969c','#4f9e46','#85c668','#a11d02','#eddb7e','#faaa4e','#d0a9b7','#a4cde0']\n",
    "\n",
    "#ed9892\n",
    "#axes = axes.flatten()\n",
    "with plt.rc_context({\"figure.dpi\": 400}):\n",
    "\n",
    "    sc.pl.umap(adata, color=['Cell_types'],\n",
    "               frameon=False, size=15, show=False,  palette=palette_cell_types, save='d50_parse_annotations.pdf')\n",
    "    \n",
    "\n",
    "    \n",
    "#fig.tight_layout()\n",
    "#plt.show()\n"
   ]
  },
  {
   "cell_type": "code",
   "execution_count": null,
   "id": "5ab1f965-31c5-4172-a5b1-a12f13c75ea0",
   "metadata": {},
   "outputs": [],
   "source": [
    "palette=['#32A02D','#B2DF8A','#2078B4','#A6CEE3']\n",
    "\n",
    "with plt.rc_context({ \"figure.dpi\": 300}):\n",
    "    sc.pl.umap(adata, color=['bmp_treatment'],palette=palette,\n",
    "    use_raw=False, size=15,frameon=False,  ncols=3,cmap='jet', colorbar_loc=None, na_in_legend=False, save='d50_bmp_treatment.pdf')"
   ]
  },
  {
   "cell_type": "code",
   "execution_count": null,
   "id": "0e53aa32-d016-49ef-a072-3926cba24948",
   "metadata": {},
   "outputs": [],
   "source": [
    "adata.obs['cell_line'] = adata.obs['cell_line'].cat.reorder_categories( ['KOLF','RC17','Bio-N'])\n",
    "palette = ['#CDBD6F','#9CA99F','#B58379']\n",
    "\n",
    "with plt.rc_context({ \"figure.dpi\": 300}):\n",
    "    sc.pl.umap(adata, color=['cell_line'],palette = palette,\n",
    "    use_raw=False, size=15,frameon=False,  ncols=3,cmap='jet', colorbar_loc=None, save='_d50_cell_line.pdf')"
   ]
  },
  {
   "cell_type": "code",
   "execution_count": null,
   "id": "d9dba438-385b-4f51-9d67-9818a97b7158",
   "metadata": {},
   "outputs": [],
   "source": [
    "adata.write('../Data/SC/parse_annotated_late_stage.h5ad')"
   ]
  },
  {
   "cell_type": "code",
   "execution_count": null,
   "id": "f8b2319b-723f-4a7f-acfa-027862af92b8",
   "metadata": {},
   "outputs": [],
   "source": [
    "adata = sc.read('../Data/SC/parse_annotated_late_stage.h5ad')"
   ]
  },
  {
   "cell_type": "code",
   "execution_count": null,
   "id": "5fcbdc15-75cb-4955-8185-739f25136476",
   "metadata": {},
   "outputs": [],
   "source": []
  },
  {
   "cell_type": "code",
   "execution_count": null,
   "id": "bf632eef-6412-4beb-8a8c-bbe2b48ff0e3",
   "metadata": {},
   "outputs": [],
   "source": []
  }
 ],
 "metadata": {
  "kernelspec": {
   "display_name": "Python [conda env:.conda-PYenv]",
   "language": "python",
   "name": "conda-env-.conda-PYenv-py"
  },
  "language_info": {
   "codemirror_mode": {
    "name": "ipython",
    "version": 3
   },
   "file_extension": ".py",
   "mimetype": "text/x-python",
   "name": "python",
   "nbconvert_exporter": "python",
   "pygments_lexer": "ipython3",
   "version": "3.9.19"
  }
 },
 "nbformat": 4,
 "nbformat_minor": 5
}
