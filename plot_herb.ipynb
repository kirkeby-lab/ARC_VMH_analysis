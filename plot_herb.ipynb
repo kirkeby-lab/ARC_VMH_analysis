{
 "cells": [
  {
   "cell_type": "code",
   "execution_count": 1,
   "id": "b2b14242-d230-471a-b3d9-f522413203bd",
   "metadata": {},
   "outputs": [],
   "source": [
    "import scanpy as sc\n",
    "import pandas as pd\n",
    "pd.set_option('display.max_columns', 500)\n",
    "import matplotlib.pyplot as plt\n",
    "\n",
    "import warnings\n",
    "warnings.filterwarnings(\"ignore\")\n",
    "# R interface\n",
    "#from rpy2.robjects import pandas2ri\n",
    "from rpy2.robjects import r\n",
    "\n",
    "import rpy2.rinterface_lib.callbacks\n",
    "import anndata2ri\n",
    "from scipy import sparse\n",
    "\n",
    "anndata2ri.activate()\n",
    "\n",
    "%load_ext rpy2.ipython"
   ]
  },
  {
   "cell_type": "code",
   "execution_count": 2,
   "id": "9a837314-bf83-421f-a721-8099e5d459d9",
   "metadata": {},
   "outputs": [],
   "source": [
    "adata_fetal = sc.read('Herb_neurons/adata_fetal.h5ad')"
   ]
  },
  {
   "cell_type": "code",
   "execution_count": null,
   "id": "7077ffcd-9c55-4d5f-a203-08a0f9406435",
   "metadata": {},
   "outputs": [],
   "source": [
    "for color in ['Timepoint','TBX3','RAX','NKX2-1','IGFBP3','BMP4','BMP7','SOX2','STMN2']:\n",
    "    with plt.rc_context({ \"figure.dpi\": 300}):\n",
    "        ax = sc.pl.umap(\n",
    "        adata_fetal,\n",
    "        frameon=False,\n",
    "        show=False,size=8\n",
    "        )\n",
    "        sc.pl.umap(\n",
    "            adata_fetal[adata_fetal.obs.Timepoint.isin(['GW6','GW7'])],\n",
    "            color=color,\n",
    "            frameon=False,colorbar_loc=None,\n",
    "            #title=\"Query predictions\",\n",
    "            ax=ax,cmap='jet', layer='logcounts',size=8, save=f'_{color}_gw6_gw7.png'\n",
    "            #alpha=0.7,\n",
    "            #size=8#, save='_pomc_clusters.pdf'\n",
    "        )"
   ]
  },
  {
   "cell_type": "markdown",
   "id": "06860758-345e-4304-9bf7-32dbbb48199b",
   "metadata": {},
   "source": [
    "# Plotting tanycyte markers"
   ]
  },
  {
   "cell_type": "code",
   "execution_count": null,
   "id": "03d18862-c54d-4db3-8585-cf5186b6de3c",
   "metadata": {},
   "outputs": [],
   "source": [
    "with plt.rc_context({ \"figure.dpi\": 250}):\n",
    "\n",
    "    for color in ['annotations','CRYM','NOSTRIN]:\n",
    "        sc.pl.umap(adata_fetal, color=color,ncols=1, cmap='jet',size=3,\n",
    "            frameon=False, layer='logcounts', save=f'_{color}.pdf')  "
   ]
  }
 ],
 "metadata": {
  "kernelspec": {
   "display_name": "Python [conda env:.conda-PYenv]",
   "language": "python",
   "name": "conda-env-.conda-PYenv-py"
  },
  "language_info": {
   "codemirror_mode": {
    "name": "ipython",
    "version": 3
   },
   "file_extension": ".py",
   "mimetype": "text/x-python",
   "name": "python",
   "nbconvert_exporter": "python",
   "pygments_lexer": "ipython3",
   "version": "3.9.19"
  }
 },
 "nbformat": 4,
 "nbformat_minor": 5
}
