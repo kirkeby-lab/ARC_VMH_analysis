{
 "cells": [
  {
   "cell_type": "code",
   "execution_count": null,
   "id": "4bc0e802-1041-4431-a5af-9b078870b2e3",
   "metadata": {},
   "outputs": [],
   "source": [
    "import scanpy as sc\n",
    "import pandas as pd\n",
    "import numpy as np\n",
    "import matplotlib.pyplot as plt\n",
    "import seaborn as sns\n",
    "pd.set_option('display.max_columns', 500)\n",
    "\n",
    "from rpy2.robjects import pandas2ri\n",
    "from rpy2.robjects import r\n",
    "import rpy2.rinterface_lib.callbacks\n",
    "import anndata2ri\n",
    "import rpy2.robjects.numpy2ri\n",
    "#import numpy2ri\n",
    "import anndata\n",
    "\n",
    "pandas2ri.activate()\n",
    "anndata2ri.activate()\n",
    "rpy2.robjects.numpy2ri.activate()\n",
    "\n",
    "%load_ext rpy2.ipython"
   ]
  },
  {
   "cell_type": "code",
   "execution_count": null,
   "id": "6133ae02-d2c9-4fda-9682-565e31b5ae11",
   "metadata": {},
   "outputs": [],
   "source": [
    "adata = sc.read_mtx('../Parse_alingment/Parse_hg38_aligned/output_combined/all-sample/DGE_filtered/count_matrix.mtx')\n",
    "gene_data = pd.read_csv('../Parse_alingment/Parse_hg38_aligned/output_combined/all-sample/DGE_filtered/all_genes.csv')\n",
    "cell_meta = pd.read_csv('../Parse_alingment/Parse_hg38_aligned/output_combined/all-sample/DGE_filtered/cell_metadata.csv')"
   ]
  },
  {
   "cell_type": "code",
   "execution_count": null,
   "id": "64a8cc4c-6b19-49b3-82de-17207233df00",
   "metadata": {},
   "outputs": [],
   "source": [
    "gene_data = gene_data[gene_data.gene_name.notnull()]\n",
    "notNa = gene_data.index\n",
    "notNa = notNa.to_list()\n",
    "\n",
    "# remove genes with nan values and assign gene names\n",
    "adata = adata[:,notNa]\n",
    "adata.var = gene_data\n",
    "adata.var.set_index('gene_name', inplace=True)\n",
    "adata.var.index.name = None\n",
    "adata.var_names_make_unique()\n",
    "\n",
    "# add cell meta data to anndata object\n",
    "adata.obs = cell_meta\n",
    "adata.obs.set_index('bc_wells', inplace=True)\n",
    "adata.obs.index.name = None\n",
    "adata.obs_names_make_unique()"
   ]
  },
  {
   "cell_type": "code",
   "execution_count": null,
   "id": "5583d190-6b0f-4233-becd-480874fa4d69",
   "metadata": {},
   "outputs": [],
   "source": [
    "adata.write('../Data/SC/parse.h5ad')"
   ]
  },
  {
   "cell_type": "code",
   "execution_count": null,
   "id": "3e6d4c86-5915-40da-b972-38e68875fff4",
   "metadata": {},
   "outputs": [],
   "source": [
    "adata = sc.read('../Data/SC/parse.h5ad')"
   ]
  },
  {
   "cell_type": "code",
   "execution_count": null,
   "id": "c747fc4a-955e-42cf-b3dd-9cca4b487ef2",
   "metadata": {
    "collapsed": true,
    "jupyter": {
     "outputs_hidden": true
    },
    "tags": []
   },
   "outputs": [],
   "source": [
    "from scipy.stats import median_abs_deviation\n",
    "\n",
    "def is_outlier(adata, metric: str, nmads: int):\n",
    "        M = adata.obs[metric]\n",
    "        outlier = (M < np.median(M) - nmads * median_abs_deviation(M)) | (\n",
    "            np.median(M) + nmads * median_abs_deviation(M) < M)\n",
    "        return outlier\n",
    "\n",
    "adata_dict_unfiltered ,adata_dict_filtered = {}, {}\n",
    "\n",
    "for batch in adata.obs['sample'].unique():\n",
    "    \n",
    "    print(batch)\n",
    "    \n",
    "    adata_temp = adata[adata.obs['sample'].isin([batch])].copy()\n",
    "    \n",
    "    # mitochondrial genes\n",
    "    adata_temp.var[\"mt\"] = adata_temp.var_names.str.startswith(\"MT-\")\n",
    "    # ribosomal genes\n",
    "    adata_temp.var[\"ribo\"] = adata_temp.var_names.str.startswith((\"RPS\", \"RPL\"))\n",
    "    \n",
    "    sc.pp.calculate_qc_metrics(adata_temp, qc_vars=[\"mt\", \"ribo\"], inplace=True, percent_top=[20], log1p=True)\n",
    "    \n",
    "    adata_temp.obs[\"outlier\"] = (is_outlier(adata_temp, \"log1p_total_counts\", 3) | is_outlier(adata_temp, \"log1p_n_genes_by_counts\", 5))\n",
    "       \n",
    "    adata_temp.obs[\"mt_outlier\"] = is_outlier(adata_temp, \"pct_counts_mt\", 5) | (adata_temp.obs[\"pct_counts_mt\"] > 8)\n",
    "    \n",
    "    adata_temp.obs['pass_qc'] = (~adata_temp.obs.outlier) & (~adata_temp.obs.mt_outlier)\n",
    "    adata_dict_unfiltered[batch] = adata_temp.copy()\n",
    "    \n",
    "    print(f\"Total number of cells: {adata_temp.n_obs}\")\n",
    "    adata_temp = adata_temp[(~adata_temp.obs.outlier) & (~adata_temp.obs.mt_outlier)].copy()\n",
    "    print(f\"Number of cells after filtering of low quality cells: {adata_temp.n_obs}\")\n",
    "    print('______________________________________________________________________')\n",
    "                                 \n",
    "    # Remove rare genes\n",
    "    sc.pp.filter_genes(adata_temp, min_cells=3)    \n",
    "\n",
    "    # Remove mito and ribo genes\n",
    "    ribo = adata_temp.var_names.str.startswith(('RPL', \"RPS\"))\n",
    "    mito = adata_temp.var_names.str.startswith('MT-')\n",
    "    remove = np.add(mito, ribo)\n",
    "    #keep = np.invert(ribo)\n",
    "    \n",
    "    keep = np.invert(remove)\n",
    "    adata_temp = adata_temp[:,np.array(keep)]\n",
    "    \n",
    "    \n",
    "    adata_dict_filtered[batch] = adata_temp.copy()"
   ]
  },
  {
   "cell_type": "code",
   "execution_count": null,
   "id": "d8857252-1fa8-44cb-b4a5-b000ff30d7ed",
   "metadata": {},
   "outputs": [],
   "source": [
    "# Check the results before and after filtering\n",
    "batch = 'AM34K_d50'\n",
    "\n",
    "with plt.rc_context({ \"figure.dpi\": 300}):\n",
    "    # Compute qc metrix\n",
    "    adata_dict_unfiltered[batch].var['mt'] = adata_dict_unfiltered[batch].var_names.str.startswith('MT-')  # annotate the group of mitochondrial genes as 'mt'\n",
    "    sc.pp.calculate_qc_metrics(adata_dict_unfiltered[batch], qc_vars=['mt'], percent_top=None, log1p=False, inplace=True)\n",
    "    fig, (ax0, ax1, ax2, ax3, ax4, ax5) = plt.subplots(1, 6,  figsize=(20,4), gridspec_kw={'wspace':0.5})\n",
    "    ax0_dict = sc.pl.violin(adata_dict_unfiltered[batch],[\"pct_counts_mt\"], jitter=0.5, show=False, ax=ax0, stripplot=False)\n",
    "    ax1_dict = sc.pl.violin(adata_dict_unfiltered[batch],['n_genes_by_counts'], jitter=0.5, show=False, ax = ax1, stripplot=False) \n",
    "    ax2_dict = sc.pl.violin(adata_dict_unfiltered[batch],['total_counts'], jitter=0.5, show=False, ax = ax2, stripplot=False)\n",
    "    ax3_dict = sns.histplot(adata_dict_unfiltered[batch].obs[\"n_genes_by_counts\"],  ax = ax3)\n",
    "    ax4_dict = sns.histplot(adata_dict_unfiltered[batch].obs[\"total_counts\"], ax = ax4)\n",
    "    ax5_dict = sc.pl.scatter(adata_dict_unfiltered[batch], x='total_counts', y='n_genes_by_counts', show=False, ax=ax5)    \n",
    "    plt.show()\n",
    "    plt.clf()\n",
    "\n",
    "    # Compute qc metrix\n",
    "    adata_dict_filtered[batch].var['mt'] = adata_dict_filtered[batch].var_names.str.startswith('MT-')  # annotate the group of mitochondrial genes as 'mt'\n",
    "    sc.pp.calculate_qc_metrics(adata_dict_filtered[batch], qc_vars=['mt'], percent_top=None, log1p=False, inplace=True)\n",
    "    fig, (ax0, ax1, ax2, ax3, ax4, ax5) = plt.subplots(1, 6,  figsize=(20,4), gridspec_kw={'wspace':0.5})\n",
    "    ax0_dict = sc.pl.violin(adata_dict_filtered[batch],[\"pct_counts_mt\"], jitter=0.5, show=False, ax=ax0, stripplot=False)\n",
    "    ax1_dict = sc.pl.violin(adata_dict_filtered[batch],['n_genes_by_counts'], jitter=0.5, show=False, ax = ax1, stripplot=False) \n",
    "    ax2_dict = sc.pl.violin(adata_dict_filtered[batch],['total_counts'], jitter=0.5, show=False, ax = ax2, stripplot=False)\n",
    "    ax3_dict = sns.histplot(adata_dict_filtered[batch].obs[\"n_genes_by_counts\"],  ax = ax3)\n",
    "    ax4_dict = sns.histplot(adata_dict_filtered[batch].obs[\"total_counts\"], ax = ax4)\n",
    "    ax5_dict = sc.pl.scatter(adata_dict_filtered[batch], x='total_counts', y='n_genes_by_counts', show=False, ax=ax5)\n",
    "    plt.show()\n",
    "    plt.clf()\n",
    "\n"
   ]
  },
  {
   "cell_type": "code",
   "execution_count": null,
   "id": "0249a986-2d19-4cf2-8450-9966a441ee0a",
   "metadata": {},
   "outputs": [],
   "source": [
    "# filter adata.var and adata.obs, and concatenate the objects and save to later use\n",
    "result_dict = {}\n",
    "\n",
    "for batch, adata_temp in adata_dict_filtered.items():\n",
    "    del adata_temp.var\n",
    "    result_dict[batch] = adata_temp.copy()\n",
    "    \n",
    "adata = list(result_dict.values())[0].concatenate(list(result_dict.values())[1:], batch_key=None, join='outer')\n"
   ]
  },
  {
   "cell_type": "code",
   "execution_count": null,
   "id": "1254c01b-032e-4b03-af88-0eefd53b4b91",
   "metadata": {},
   "outputs": [],
   "source": [
    "%%R \n",
    "# Detecting doublets\n",
    "\n",
    "library(Seurat)\n",
    "library(scater)\n",
    "library(scDblFinder)\n",
    "library(BiocParallel)"
   ]
  },
  {
   "cell_type": "code",
   "execution_count": null,
   "id": "cd58c057-e7f8-4e47-ad50-8138429f4c6b",
   "metadata": {},
   "outputs": [],
   "source": [
    "%%R -i adata -o doublet_score -o doublet_class\n",
    "# Detecting doublets\n",
    "\n",
    "library(Seurat)\n",
    "library(scater)\n",
    "library(scDblFinder)\n",
    "library(BiocParallel)\n",
    "\n",
    "set.seed(123)\n",
    "sce = adata\n",
    "names(assays(sce))=c(\"counts\")\n",
    "\n",
    "sce = scDblFinder(sce, samples='sample', BPPARAM=MulticoreParam(8))\n",
    "doublet_score = sce$scDblFinder.score\n",
    "doublet_class = sce$scDblFinder.class"
   ]
  },
  {
   "cell_type": "code",
   "execution_count": null,
   "id": "6f7f8670-4bb0-49a6-9056-28e13f419445",
   "metadata": {},
   "outputs": [],
   "source": [
    "# Add results from scDblFinder to adata and remove doublets\n",
    "adata.obs[\"scDblFinder_score\"] = doublet_score\n",
    "adata.obs[\"scDblFinder_class\"] = doublet_class\n",
    "print(adata.obs.scDblFinder_class.value_counts())\n",
    "\n",
    "adata = adata[adata.obs.scDblFinder_class=='singlet']"
   ]
  },
  {
   "cell_type": "code",
   "execution_count": null,
   "id": "205fd20c-7913-4445-8cc2-22e6c9b0ef8b",
   "metadata": {},
   "outputs": [],
   "source": [
    "adata.layers['counts'] = adata.X.copy()\n",
    "\n",
    "# Log-normalize\n",
    "sc.pp.normalize_total(adata, target_sum=1e4)\n",
    "sc.pp.log1p(adata)"
   ]
  },
  {
   "cell_type": "code",
   "execution_count": null,
   "id": "31dfdaad-299e-4a6e-8e12-d2772b79a5f4",
   "metadata": {},
   "outputs": [],
   "source": [
    "# Add cell line and bmp treatment columns to df\n",
    "adata.obs[['sample_temp','day']] = adata.obs['sample'].str.split('_', n=1, expand=True)\n",
    "\n",
    "adata.obs['cell_line'] = adata.obs['sample_temp'].map({'AM30A':'RC17','AM30B':'RC17','AM30C':'RC17','AM30D':'RC17', 'AM30E':'RC17',\n",
    "'AM34A': 'KOLF','AM34B':'KOLF','AM34C':'KOLF','AM34D':'KOLF','AM34E':'KOLF',\n",
    "'AM34F': 'Bio-N','AM34G':'Bio-N','AM34H':'Bio-N','AM34I':'Bio-N','AM34K':'Bio-N'})\n",
    "\n",
    "adata.obs['bmp_treatment'] = adata.obs['sample_temp'].map({'AM30A':'no BMP','AM30B':'BMP 5-14','AM30C':'BMP 5-11','AM30D':'BMP 5-9', 'AM30E':'BMP 5-7',\n",
    "'AM34A': 'no BMP','AM34B':'BMP 5-14','AM34C':'BMP 5-11','AM34D':'BMP 5-9','AM34E':'BMP 5-7',\n",
    "'AM34F': 'no BMP','AM34G':'BMP 5-14','AM34H':'BMP 5-11','AM34I':'BMP 5-9','AM34K':'BMP 5-7'})\n",
    "\n",
    "del adata.obs['sample_temp']\n",
    "\n",
    "adata.obs[['sample','day','cell_line','bmp_treatment']].drop_duplicates().reset_index(drop=True)"
   ]
  },
  {
   "cell_type": "code",
   "execution_count": null,
   "id": "ff116e82-a54a-480f-8a4e-277787fb650d",
   "metadata": {},
   "outputs": [],
   "source": [
    "adata.write('../Data/SC/processed_bmp_timing_exp.h5ad')"
   ]
  },
  {
   "cell_type": "code",
   "execution_count": null,
   "id": "597e643f-527b-4f47-ba22-946449fd3a1d",
   "metadata": {},
   "outputs": [],
   "source": []
  }
 ],
 "metadata": {
  "kernelspec": {
   "display_name": "Python [conda env:.conda-PYenv]",
   "language": "python",
   "name": "conda-env-.conda-PYenv-py"
  },
  "language_info": {
   "codemirror_mode": {
    "name": "ipython",
    "version": 3
   },
   "file_extension": ".py",
   "mimetype": "text/x-python",
   "name": "python",
   "nbconvert_exporter": "python",
   "pygments_lexer": "ipython3",
   "version": "3.9.19"
  }
 },
 "nbformat": 4,
 "nbformat_minor": 5
}
