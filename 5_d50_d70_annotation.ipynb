{
 "cells": [
  {
   "cell_type": "code",
   "execution_count": null,
   "id": "5e79fb14",
   "metadata": {},
   "outputs": [],
   "source": [
    "import scanpy as sc\n",
    "import matplotlib.pyplot as plt\n",
    "import pandas as pd\n",
    "import seaborn as sns\n",
    "import numpy as np\n",
    "import os, scipy\n",
    "import warnings\n",
    "pd.set_option('display.max_columns', 500)\n",
    "\n",
    "warnings.filterwarnings(\"ignore\")\n",
    "import matplotlib.pyplot as pyplot\n",
    "# R interface\n",
    "from rpy2.robjects import pandas2ri\n",
    "from rpy2.robjects import r\n",
    "import rpy2.rinterface_lib.callbacks\n",
    "import anndata2ri\n",
    "import rpy2.robjects.numpy2ri\n",
    "#import numpy2ri\n",
    "\n",
    "pandas2ri.activate()\n",
    "anndata2ri.activate()\n",
    "rpy2.robjects.numpy2ri.activate()\n",
    "\n",
    "plt.rcParams.update({\n",
    "    'font.family': 'Arial'\n",
    "})\n",
    "\n",
    "%load_ext rpy2.ipython"
   ]
  },
  {
   "cell_type": "markdown",
   "id": "9f8dd473-9ec6-48e5-96a2-078a0e2c18c2",
   "metadata": {},
   "source": [
    "# d50-70 all cells integration and annotation"
   ]
  },
  {
   "cell_type": "code",
   "execution_count": null,
   "id": "7182e9d4",
   "metadata": {},
   "outputs": [],
   "source": [
    "adata_concat = sc.read('Data/adata_concat.h5ad')\n",
    "adata_d50_d70 = adata_concat[adata_concat.obs['day'].isin(['D50','D70'])]"
   ]
  },
  {
   "cell_type": "code",
   "execution_count": null,
   "id": "c8fd6ad5",
   "metadata": {
    "collapsed": true,
    "jupyter": {
     "outputs_hidden": true
    },
    "tags": []
   },
   "outputs": [],
   "source": [
    "%%R -i adata_d50_d70 -o adata_integrated -o umap_emb -o pca_emb -o hvg_list\n",
    "\n",
    "Csparse_validate = \"CsparseMatrix_validate\"\n",
    "library(Seurat)\n",
    "library(dplyr)\n",
    "\n",
    "sobj <- as.Seurat(adata_d50_d70, counts = \"counts\", data = NULL)\n",
    "\n",
    "sobj_list <- SplitObject(sobj, split.by = 'reactionID')\n",
    "\n",
    "sobj_list <- lapply(X = sobj_list, FUN = function(x) {\n",
    "    x <- NormalizeData(x)\n",
    "    x <- FindVariableFeatures(x, selection.method = \"vst\", nfeatures = 3000)\n",
    "})\n",
    "\n",
    "features <- SelectIntegrationFeatures(object.list = sobj_list, nfeatures = 3000)\n",
    "\n",
    "sobj_list <- lapply(X = sobj_list, FUN = function(x) {\n",
    "    x <- ScaleData(x, features = features, verbose = FALSE)\n",
    "    x <- RunPCA(x, features = features, verbose = FALSE)\n",
    "  })\n",
    "\n",
    "anchors <- FindIntegrationAnchors(object.list = sobj_list, anchor.features = features, reduction = \"rpca\")\n",
    "sobj <- IntegrateData(anchorset = anchors,k.weight=60)\n",
    "DefaultAssay(sobj) <- \"integrated\"\n",
    "sobj <- ScaleData(sobj) %>% RunPCA(.)\n",
    "sobj <- RunUMAP(sobj, dims = 1:40)\n",
    "sobj <- FindNeighbors(sobj, dims = 1:40)\n",
    "sobj <- FindClusters(sobj,resolution=0.10)\n",
    "\n",
    "pca_emb = Embeddings(object = sobj, reduction = \"pca\")\n",
    "hvg_list = rownames(sobj)\n",
    "\n",
    "DefaultAssay(sobj) <- \"originalexp\"\n",
    "\n",
    "umap_emb = Embeddings(object = sobj, reduction = \"umap\")\n",
    "adata_integrated = as.SingleCellExperiment(sobj) \n",
    "\n",
    "saveRDS(sobj,'Data/d50_d70_global_seurat.rds')"
   ]
  },
  {
   "cell_type": "code",
   "execution_count": null,
   "id": "9fd57e33",
   "metadata": {},
   "outputs": [],
   "source": [
    "adata_d50_d70.obsm['X_umap'] = umap_emb\n",
    "adata_d50_d70.obsm['X_pca'] = pca_emb\n",
    "adata_d50_d70.var['highly_variable'] = adata_d50_d70.var.index.isin(hvg_list)\n",
    "\n",
    "adata_d50_d70.obs['integrated_snn_res.0.1'] = adata_integrated.obs['integrated_snn_res.0.1']\n"
   ]
  },
  {
   "cell_type": "code",
   "execution_count": null,
   "id": "16482632",
   "metadata": {},
   "outputs": [],
   "source": [
    "with plt.rc_context({ \"figure.dpi\": 250}):\n",
    "    sc.pl.umap(adata_d50_d70, color=['integrated_snn_res.0.1'],legend_loc='on data',\n",
    "    use_raw=False, size=10,frameon=False,  ncols=3,cmap='jet', colorbar_loc=None,wspace=-0.05)"
   ]
  },
  {
   "cell_type": "code",
   "execution_count": null,
   "id": "35ee7a57",
   "metadata": {},
   "outputs": [],
   "source": [
    "adata_d50_d70.obs['Cell_types'] = 'Unassigned'\n",
    "\n",
    "arc = pd.Series(list(adata_d50_d70[adata_d50_d70.obs[\"integrated_snn_res.0.1\"].isin(['0','1','2','4','6'])].obs.index), dtype=\"category\")\n",
    "adata_d50_d70.obs[\"Cell_types\"].loc[arc] = \"ARC neurons\"\n",
    "\n",
    "tele = pd.Series(list(adata_d50_d70[adata_d50_d70.obs[\"integrated_snn_res.0.1\"].isin(['7'])].obs.index), dtype=\"category\")\n",
    "adata_d50_d70.obs[\"Cell_types\"].loc[tele] = \"Telencephalic neurons\"\n",
    "\n",
    "arc_imm = pd.Series(list(adata_d50_d70[adata_d50_d70.obs[\"integrated_snn_res.0.1\"].isin(['5'])].obs.index), dtype=\"category\")\n",
    "adata_d50_d70.obs[\"Cell_types\"].loc[arc_imm] = \"Immature ARC neurons\"\n",
    "\n",
    "tany = pd.Series(list(adata_d50_d70[adata_d50_d70.obs[\"integrated_snn_res.0.1\"].isin(['3','8'])].obs.index), dtype=\"category\")\n",
    "adata_d50_d70.obs[\"Cell_types\"].loc[tany] = \"Tanycytes\"\n"
   ]
  },
  {
   "cell_type": "code",
   "execution_count": null,
   "id": "8fa13037",
   "metadata": {},
   "outputs": [],
   "source": [
    "with plt.rc_context({ \"figure.dpi\": 250, \"figure.figsize\": (4,4)}):\n",
    "    sc.pl.umap(adata_d50_d70, color=['Cell_types'], use_raw=False, size=8,frameon=False,\n",
    "               ncols=1,palette=['#EF6B46','#3A89BE','#FAAA4E','#EDDB7E','#E73F3F'], colorbar_loc=None)"
   ]
  },
  {
   "cell_type": "code",
   "execution_count": null,
   "id": "37849bb6",
   "metadata": {},
   "outputs": [],
   "source": [
    "adata_d50_d70.write('Data/adata_d50_d70.h5ad')"
   ]
  },
  {
   "cell_type": "markdown",
   "id": "933c79d2",
   "metadata": {},
   "source": [
    "# Neurons d50_d70 integration and annotation"
   ]
  },
  {
   "cell_type": "code",
   "execution_count": null,
   "id": "37ed6b01",
   "metadata": {},
   "outputs": [],
   "source": [
    "adata_d50_d70 = sc.read('Data/adata_d50_d70.h5ad')\n",
    "adata_neurons = adata_d50_d70[adata_d50_d70.obs['Cell_types'].isin(['ARC neurons'])]\n",
    "\n",
    "# Keep only batches with sufficient number of cells\n",
    "adata_neurons = adata_neurons[adata_neurons.obs['reactionID'].isin(['H1', 'G1', 'C2', 'F2', 'D2', 'E2', 'G2', 'H2', 'B6', 'A11',\n",
    "                  'A6', 'A7', 'B5', 'A9', 'B8', 'B7'])]"
   ]
  },
  {
   "cell_type": "code",
   "execution_count": null,
   "id": "580c9be0",
   "metadata": {
    "tags": []
   },
   "outputs": [],
   "source": [
    "%%R -i adata_neurons -o adata_integrated -o umap_emb -o pca_emb -o hvg_list\n",
    "\n",
    "Csparse_validate = \"CsparseMatrix_validate\"\n",
    "library(Seurat)\n",
    "library(dplyr)\n",
    "\n",
    "sobj <- as.Seurat(adata_neurons, counts = \"counts\", data = NULL)\n",
    "\n",
    "sobj_list <- SplitObject(sobj, split.by = 'reactionID')\n",
    "\n",
    "sobj_list <- lapply(X = sobj_list, FUN = function(x) {\n",
    "    x <- NormalizeData(x)\n",
    "    x <- FindVariableFeatures(x, selection.method = \"vst\", nfeatures = 3000)\n",
    "})\n",
    "\n",
    "features <- SelectIntegrationFeatures(object.list = sobj_list,nfeatures = 3000)\n",
    "\n",
    "sobj_list <- lapply(X = sobj_list, FUN = function(x) {\n",
    "    x <- ScaleData(x, features = features, verbose = FALSE)\n",
    "    x <- RunPCA(x, features = features, verbose = FALSE)\n",
    "  })\n",
    "\n",
    "anchors <- FindIntegrationAnchors(object.list = sobj_list, anchor.features = features, reduction = \"rpca\")\n",
    "sobj <- IntegrateData(anchorset = anchors,k.weight=60)\n",
    "DefaultAssay(sobj) <- \"integrated\"\n",
    "sobj <- ScaleData(sobj) %>% RunPCA(.)\n",
    "sobj <- RunUMAP(sobj, dims = 1:50)\n",
    "sobj <- FindNeighbors(sobj, dims = 1:50)\n",
    "sobj <- FindClusters(sobj,resolution=0.25)\n",
    "sobj <- FindClusters(sobj,resolution=0.75)\n",
    "\n",
    "pca_emb = Embeddings(object = sobj, reduction = \"pca\")\n",
    "hvg_list = rownames(sobj)\n",
    "\n",
    "DefaultAssay(sobj) <- \"originalexp\"\n",
    "\n",
    "umap_emb = Embeddings(object = sobj, reduction = \"umap\")\n",
    "adata_integrated = as.SingleCellExperiment(sobj) \n",
    "\n",
    "saveRDS(sobj,'Data/d50_d70_neurons_seurat.rds')"
   ]
  },
  {
   "cell_type": "code",
   "execution_count": null,
   "id": "5cd767e5",
   "metadata": {},
   "outputs": [],
   "source": [
    "adata_neurons.obsm['X_umap'] = umap_emb\n",
    "adata_neurons.obsm['X_pca'] = pca_emb\n",
    "adata_neurons.var['highly_variable'] = adata_neurons.var.index.isin(hvg_list)\n",
    "adata_neurons.obs['integrated_snn_res.0.25'] = adata_integrated.obs['integrated_snn_res.0.25']\n",
    "adata_neurons.obs['integrated_snn_res.0.75'] = adata_integrated.obs['integrated_snn_res.0.75']"
   ]
  },
  {
   "cell_type": "code",
   "execution_count": null,
   "id": "e7240703-0cfd-4f53-b12e-58ec79a33d79",
   "metadata": {},
   "outputs": [],
   "source": [
    "adata_neurons.obs['Cell_types'] = 'Unassigned'\n",
    "\n",
    "agrp_sst = pd.Series(list(adata_neurons[adata_neurons.obs[\"integrated_snn_res.0.25\"].isin(['4'])].obs.index), dtype=\"category\")\n",
    "adata_neurons.obs[\"Cell_types\"].loc[agrp_sst] = \"AGRP+/OTP+\"\n",
    "\n",
    "nr5a2_onecut = pd.Series(list(adata_neurons[adata_neurons.obs[\"integrated_snn_res.0.25\"].isin(['7'])].obs.index), dtype=\"category\")\n",
    "adata_neurons.obs[\"Cell_types\"].loc[nr5a2_onecut] = \"NR5A2+/ONECUT1/3+\"\n",
    "\n",
    "pomc_prdm12 = pd.Series(list(adata_neurons[adata_neurons.obs[\"integrated_snn_res.0.25\"].isin(['1','10'])].obs.index), dtype=\"category\")\n",
    "adata_neurons.obs[\"Cell_types\"].loc[pomc_prdm12] = \"POMC+/TBX3+/NR5A2+\"\n",
    "\n",
    "unc13c_otp = pd.Series(list(adata_neurons[adata_neurons.obs[\"integrated_snn_res.0.25\"].isin(['6'])].obs.index), dtype=\"category\")\n",
    "adata_neurons.obs[\"Cell_types\"].loc[unc13c_otp] = \"UNC13C+/OTP+\"\n",
    "\n",
    "##pomc_nr5a2 = pd.Series(list(adata_neurons[adata_neurons.obs[\"integrated_snn_res.0.25\"].isin(['10'])].obs.index), dtype=\"category\")\n",
    "##adata_neurons.obs[\"Cell_types\"].loc[pomc_nr5a2] = \"POMC+/NR5A2+/TRH+\"\n",
    "\n",
    "pcsk1_adgrl4 = pd.Series(list(adata_neurons[adata_neurons.obs[\"integrated_snn_res.0.25\"].isin(['0'])].obs.index), dtype=\"category\")\n",
    "adata_neurons.obs[\"Cell_types\"].loc[pcsk1_adgrl4] = \"PCSK1+/ADGRL4+\"\n",
    "\n",
    "pnoc_tac3 = pd.Series(list(adata_neurons[adata_neurons.obs[\"integrated_snn_res.0.25\"].isin(['5'])].obs.index), dtype=\"category\")\n",
    "adata_neurons.obs[\"Cell_types\"].loc[pnoc_tac3] = \"PNOC+/NPFFR2+\"\n",
    "\n",
    "pnoc_ghrh = pd.Series(list(adata_neurons[adata_neurons.obs[\"integrated_snn_res.0.25\"].isin(['13'])].obs.index), dtype=\"category\")\n",
    "adata_neurons.obs[\"Cell_types\"].loc[pnoc_ghrh] = \"GHRH+/PNOC+\"\n",
    "\n",
    "pomc_grabp1 = pd.Series(list(adata_neurons[adata_neurons.obs[\"integrated_snn_res.0.25\"].isin(['8','11'])].obs.index), dtype=\"category\")\n",
    "adata_neurons.obs[\"Cell_types\"].loc[pomc_grabp1] = \"CRABP1+/TRH+\"\n",
    "                                                                                              \n",
    "dlx6_foxp2 = pd.Series(list(adata_neurons[adata_neurons.obs[\"integrated_snn_res.0.25\"].isin(['2','12'])].obs.index), dtype=\"category\")\n",
    "adata_neurons.obs[\"Cell_types\"].loc[dlx6_foxp2] = \"DLX6-AS1+/FOXP2+\""
   ]
  },
  {
   "cell_type": "code",
   "execution_count": null,
   "id": "43692f8a-d8e8-44c2-8d75-b3c67a5fb2f3",
   "metadata": {},
   "outputs": [],
   "source": [
    "POMC = '#eddb7e'\n",
    "OTP/AGRP = '#3586bd'\n",
    "Tele = '#d0a9b7'\n",
    "Tany = '#faaa4e'"
   ]
  },
  {
   "cell_type": "code",
   "execution_count": null,
   "id": "49d9acc2-f6e2-4ae8-af2e-ddb0b3bdd3b1",
   "metadata": {},
   "outputs": [],
   "source": [
    "with plt.rc_context({ \"figure.dpi\": 250, \"figure.figsize\": (4,4)}):\n",
    "    sc.pl.umap(adata_neurons, color=['Cell_types'],frameon=False, use_raw=False, size=8,\n",
    "               ncols=4,cmap='jet', colorbar_loc=None,wspace=-0.02, palette=['#3586bd','#FAAA4E','#ED9892','#B15A27','#e85b3d','#51a148','#91cc6a','#EDDB7E','#91c2da','#D0A9B7','#a79098'], save='_d50_new_clusters.pdf')"
   ]
  },
  {
   "cell_type": "code",
   "execution_count": null,
   "id": "2f1af6e0-b193-4f24-89c3-e085ae354747",
   "metadata": {},
   "outputs": [],
   "source": [
    "adata_neurons.write('../Data/adata_d50_d70_neurons.h5ad')"
   ]
  },
  {
   "cell_type": "markdown",
   "id": "63350bae-40af-453e-960c-53eda562ffc3",
   "metadata": {},
   "source": [
    "# MErge metadata"
   ]
  },
  {
   "cell_type": "code",
   "execution_count": null,
   "id": "e573987c-75f7-49c1-b1ee-51d2d251347d",
   "metadata": {},
   "outputs": [],
   "source": [
    "adata_d50_d70 = sc.read('../Data/adata_d50_d70.h5ad')\n",
    "adata_neurons = sc.read('../Data/adata_d50_d70_neurons.h5ad')"
   ]
  },
  {
   "cell_type": "code",
   "execution_count": null,
   "id": "4008c0ca-89bc-4af0-8b80-0a6b9d6764af",
   "metadata": {},
   "outputs": [],
   "source": [
    "adata_d50_d70.obs['Cell_types_2'] = adata_d50_d70.obs['Cell_types'].astype(str)\n",
    "subtypes = pd.Series(list(adata_d50_d70[adata_d50_d70.obs_names.isin(adata_neurons.obs_names)].obs.index), dtype=\"category\")\n",
    "adata_d50_d70.obs['Cell_types_2'].loc[subtypes] = adata_neurons.obs['Cell_types'].astype(str)\n",
    "adata_d50_d70.obs['Cell_types_2'] = adata_d50_d70.obs['Cell_types_2'].replace('ARC neurons', 'Unassigned')"
   ]
  },
  {
   "cell_type": "code",
   "execution_count": null,
   "id": "249ba064-dfc0-4bc4-be05-eb135f291d45",
   "metadata": {},
   "outputs": [],
   "source": [
    "with plt.rc_context({ \"figure.dpi\": 250, \"figure.figsize\": (4,4)}):\n",
    "    sc.pl.umap(adata_d50_d70, color=['Cell_types_2'],frameon=False, use_raw=False, size=8,\n",
    "               ncols=4,cmap='jet', colorbar_loc=None,wspace=-0.02)"
   ]
  },
  {
   "cell_type": "code",
   "execution_count": null,
   "id": "35446f29-3a51-4900-8a93-df366ff1f284",
   "metadata": {},
   "outputs": [],
   "source": [
    "adata_d50_d70.write('../Data/adata_d50_d70.h5ad')"
   ]
  },
  {
   "cell_type": "code",
   "execution_count": null,
   "id": "9ada7cd9",
   "metadata": {},
   "outputs": [],
   "source": []
  }
 ],
 "metadata": {
  "kernelspec": {
   "display_name": "Python [conda env:.conda-PYenv]",
   "language": "python",
   "name": "conda-env-.conda-PYenv-py"
  },
  "language_info": {
   "codemirror_mode": {
    "name": "ipython",
    "version": 3
   },
   "file_extension": ".py",
   "mimetype": "text/x-python",
   "name": "python",
   "nbconvert_exporter": "python",
   "pygments_lexer": "ipython3",
   "version": "3.9.19"
  }
 },
 "nbformat": 4,
 "nbformat_minor": 5
}
